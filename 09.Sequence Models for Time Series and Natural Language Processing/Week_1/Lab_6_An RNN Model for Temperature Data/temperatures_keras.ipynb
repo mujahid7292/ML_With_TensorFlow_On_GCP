{
 "cells": [
  {
   "cell_type": "markdown",
   "metadata": {},
   "source": [
    "# An RNN model for temperature data\n",
    "This time we will be working with real data: daily (Tmin, Tmax) temperature series from 36 weather stations spanning 50 years. It is to be noted that a pretty good predictor model already exists for temperatures: the average of temperatures on the same day of the year in N previous years. It is not clear if RNNs can do better but we will se how far they can go."
   ]
  },
  {
   "cell_type": "code",
   "execution_count": 18,
   "metadata": {},
   "outputs": [
    {
     "name": "stdout",
     "output_type": "stream",
     "text": [
      "Tensorflow version: 2.1.0\n"
     ]
    }
   ],
   "source": [
    "import math\n",
    "import sys\n",
    "import time\n",
    "import numpy as np\n",
    "\n",
    "#sys.path.insert(0, 'temperatures/utils/') #so python can find the utils_ modules\n",
    "import utils_batching\n",
    "import utils_args\n",
    "\n",
    "import tensorflow as tf\n",
    "#from tensorflow.python.lib.io import file_io as gfile\n",
    "print(\"Tensorflow version: \" + tf.__version__)"
   ]
  },
  {
   "cell_type": "code",
   "execution_count": 12,
   "metadata": {
    "tags": [
     "display"
    ]
   },
   "outputs": [],
   "source": [
    "from matplotlib import pyplot as plt\n",
    "import utils_prettystyle\n",
    "import utils_display"
   ]
  },
  {
   "cell_type": "markdown",
   "metadata": {},
   "source": [
    "## Download Data"
   ]
  },
  {
   "cell_type": "code",
   "execution_count": 13,
   "metadata": {},
   "outputs": [
    {
     "name": "stderr",
     "output_type": "stream",
     "text": [
      "Copying gs://cloud-training-demos/courses/machine_learning/deepdive/09_sequence/temperatures/USC00025412.csv...\n",
      "Copying gs://cloud-training-demos/courses/machine_learning/deepdive/09_sequence/temperatures/USC00026132.csv...\n",
      "Copying gs://cloud-training-demos/courses/machine_learning/deepdive/09_sequence/temperatures/USC00049742.csv...\n",
      "/ [0/36 files][    0.0 B/ 14.2 MiB]   0% Done                                   \r",
      "/ [0/36 files][    0.0 B/ 14.2 MiB]   0% Done                                   \r",
      "/ [0/36 files][    0.0 B/ 14.2 MiB]   0% Done                                   \r",
      "Copying gs://cloud-training-demos/courses/machine_learning/deepdive/09_sequence/temperatures/USC00033862.csv...\n",
      "/ [0/36 files][    0.0 B/ 14.2 MiB]   0% Done                                   \r",
      "Copying gs://cloud-training-demos/courses/machine_learning/deepdive/09_sequence/temperatures/USW00014740.csv...\n",
      "Copying gs://cloud-training-demos/courses/machine_learning/deepdive/09_sequence/temperatures/USW00013970.csv...\n",
      "Copying gs://cloud-training-demos/courses/machine_learning/deepdive/09_sequence/temperatures/USW00014840.csv...\n",
      "Copying gs://cloud-training-demos/courses/machine_learning/deepdive/09_sequence/temperatures/USC00054452.csv...\n",
      "Copying gs://cloud-training-demos/courses/machine_learning/deepdive/09_sequence/temperatures/USW00013960.csv...\n",
      "Copying gs://cloud-training-demos/courses/machine_learning/deepdive/09_sequence/temperatures/USW00014860.csv...\n",
      "Copying gs://cloud-training-demos/courses/machine_learning/deepdive/09_sequence/temperatures/USW00003820.csv...\n",
      "Copying gs://cloud-training-demos/courses/machine_learning/deepdive/09_sequence/temperatures/USW00013870.csv...\n",
      "Copying gs://cloud-training-demos/courses/machine_learning/deepdive/09_sequence/temperatures/USW00013880.csv...\n",
      "Copying gs://cloud-training-demos/courses/machine_learning/deepdive/09_sequence/temperatures/USW00014850.csv...\n",
      "Copying gs://cloud-training-demos/courses/machine_learning/deepdive/09_sequence/temperatures/USC00091732.csv...\n",
      "Copying gs://cloud-training-demos/courses/machine_learning/deepdive/09_sequence/temperatures/USW00013740.csv...\n",
      "Copying gs://cloud-training-demos/courses/machine_learning/deepdive/09_sequence/temperatures/USC00055722.csv...\n",
      "Copying gs://cloud-training-demos/courses/machine_learning/deepdive/09_sequence/temperatures/USW00014750.csv...\n",
      "Copying gs://cloud-training-demos/courses/machine_learning/deepdive/09_sequence/temperatures/USC00087982.csv...\n",
      "Copying gs://cloud-training-demos/courses/machine_learning/deepdive/09_sequence/temperatures/USW00014820.csv...\n",
      "/ [0/36 files][    0.0 B/ 14.2 MiB]   0% Done                                   \r",
      "/ [0/36 files][    0.0 B/ 14.2 MiB]   0% Done                                   \r",
      "/ [0/36 files][    0.0 B/ 14.2 MiB]   0% Done                                   \r",
      "/ [0/36 files][    0.0 B/ 14.2 MiB]   0% Done                                   \r",
      "/ [0/36 files][    0.0 B/ 14.2 MiB]   0% Done                                   \r",
      "/ [0/36 files][    0.0 B/ 14.2 MiB]   0% Done                                   \r",
      "/ [0/36 files][    0.0 B/ 14.2 MiB]   0% Done                                   \r",
      "/ [0/36 files][    0.0 B/ 14.2 MiB]   0% Done                                   \r",
      "/ [0/36 files][    0.0 B/ 14.2 MiB]   0% Done                                   \r",
      "/ [0/36 files][    0.0 B/ 14.2 MiB]   0% Done                                   \r",
      "/ [0/36 files][    0.0 B/ 14.2 MiB]   0% Done                                   \r",
      "/ [0/36 files][    0.0 B/ 14.2 MiB]   0% Done                                   \r",
      "/ [0/36 files][    0.0 B/ 14.2 MiB]   0% Done                                   \r",
      "/ [0/36 files][    0.0 B/ 14.2 MiB]   0% Done                                   \r",
      "/ [0/36 files][    0.0 B/ 14.2 MiB]   0% Done                                   \r",
      "/ [0/36 files][    0.0 B/ 14.2 MiB]   0% Done                                   \r",
      "/ [0/36 files][264.0 KiB/ 14.2 MiB]   1% Done                                   \r",
      "-\r",
      "\\\r",
      "\\ [1/36 files][403.6 KiB/ 14.2 MiB]   2% Done                                   \r",
      "Copying gs://cloud-training-demos/courses/machine_learning/deepdive/09_sequence/temperatures/USW00014940.csv...\n",
      "\\ [1/36 files][403.6 KiB/ 14.2 MiB]   2% Done                                   \r",
      "|\r",
      "| [1/36 files][  1.2 MiB/ 14.2 MiB]   8% Done                                   \r",
      "/\r",
      "/ [1/36 files][  1.9 MiB/ 14.2 MiB]  13% Done                                   \r",
      "-\r",
      "- [2/36 files][  2.3 MiB/ 14.2 MiB]  16% Done                                   \r",
      "Copying gs://cloud-training-demos/courses/machine_learning/deepdive/09_sequence/temperatures/USW00014950.csv...\n",
      "- [2/36 files][  2.3 MiB/ 14.2 MiB]  16% Done                                   \r",
      "Copying gs://cloud-training-demos/courses/machine_learning/deepdive/09_sequence/temperatures/USW00023050.csv...\n",
      "- [3/36 files][  2.5 MiB/ 14.2 MiB]  17% Done                                   \r",
      "- [3/36 files][  2.5 MiB/ 14.2 MiB]  17% Done                                   \r",
      "Copying gs://cloud-training-demos/courses/machine_learning/deepdive/09_sequence/temperatures/USW00023070.csv...\n",
      "- [4/36 files][  2.9 MiB/ 14.2 MiB]  20% Done                                   \r",
      "- [4/36 files][  2.9 MiB/ 14.2 MiB]  20% Done                                   \r",
      "- [5/36 files][  3.0 MiB/ 14.2 MiB]  21% Done                                   \r",
      "Copying gs://cloud-training-demos/courses/machine_learning/deepdive/09_sequence/temperatures/USW00023160.csv...\n",
      "- [5/36 files][  3.0 MiB/ 14.2 MiB]  21% Done                                   \r",
      "\\\r",
      "Copying gs://cloud-training-demos/courses/machine_learning/deepdive/09_sequence/temperatures/USW00023170.csv...\n",
      "\\ [6/36 files][  4.4 MiB/ 14.2 MiB]  31% Done                                   \r",
      "\\ [6/36 files][  4.4 MiB/ 14.2 MiB]  31% Done                                   \r",
      "\\ [7/36 files][  4.6 MiB/ 14.2 MiB]  32% Done                                   \r",
      "Copying gs://cloud-training-demos/courses/machine_learning/deepdive/09_sequence/temperatures/USW00024090.csv...\n",
      "\\ [7/36 files][  4.6 MiB/ 14.2 MiB]  32% Done                                   \r",
      "\\ [8/36 files][  4.7 MiB/ 14.2 MiB]  33% Done                                   \r",
      "Copying gs://cloud-training-demos/courses/machine_learning/deepdive/09_sequence/temperatures/USW00024130.csv...\n",
      "\\ [8/36 files][  4.7 MiB/ 14.2 MiB]  33% Done                                   \r",
      "Copying gs://cloud-training-demos/courses/machine_learning/deepdive/09_sequence/temperatures/USW00024150.csv...\n",
      "|\r",
      "| [9/36 files][  5.1 MiB/ 14.2 MiB]  35% Done                                   \r",
      "| [9/36 files][  5.1 MiB/ 14.2 MiB]  35% Done                                   \r",
      "Copying gs://cloud-training-demos/courses/machine_learning/deepdive/09_sequence/temperatures/USW00026410.csv...\n",
      "| [10/36 files][  5.5 MiB/ 14.2 MiB]  38% Done                                  \r",
      "| [10/36 files][  5.5 MiB/ 14.2 MiB]  38% Done                                  \r",
      "| [11/36 files][  5.6 MiB/ 14.2 MiB]  39% Done                                  \r",
      "Copying gs://cloud-training-demos/courses/machine_learning/deepdive/09_sequence/temperatures/USW00026510.csv...\n",
      "| [11/36 files][  5.6 MiB/ 14.2 MiB]  39% Done                                  \r",
      "/\r",
      "Copying gs://cloud-training-demos/courses/machine_learning/deepdive/09_sequence/temperatures/USW00093720.csv...\n",
      "Copying gs://cloud-training-demos/courses/machine_learning/deepdive/09_sequence/temperatures/USW00093730.csv...\n",
      "/ [12/36 files][  6.9 MiB/ 14.2 MiB]  48% Done                                  \r",
      "/ [13/36 files][  6.9 MiB/ 14.2 MiB]  48% Done                                  \r",
      "/ [13/36 files][  6.9 MiB/ 14.2 MiB]  48% Done                                  \r",
      "-\r",
      "- [13/36 files][  6.9 MiB/ 14.2 MiB]  48% Done                                  \r",
      "- [14/36 files][  7.1 MiB/ 14.2 MiB]  49% Done                                  \r",
      "Copying gs://cloud-training-demos/courses/machine_learning/deepdive/09_sequence/temperatures/USW00093820.csv...\n",
      "- [14/36 files][  7.1 MiB/ 14.2 MiB]  49% Done                                  \r",
      "- [15/36 files][  7.2 MiB/ 14.2 MiB]  50% Done                                  \r",
      "Copying gs://cloud-training-demos/courses/machine_learning/deepdive/09_sequence/temperatures/USW00094830.csv...\n",
      "- [15/36 files][  7.5 MiB/ 14.2 MiB]  52% Done                                  \r",
      "Copying gs://cloud-training-demos/courses/machine_learning/deepdive/09_sequence/temperatures/USW00094910.csv...\n",
      "- [16/36 files][  7.6 MiB/ 14.2 MiB]  53% Done                                  \r",
      "- [16/36 files][  7.6 MiB/ 14.2 MiB]  53% Done                                  \r",
      "\\\r",
      "\\ [17/36 files][  8.0 MiB/ 14.2 MiB]  56% Done                                  \r",
      "\\ [18/36 files][  8.7 MiB/ 14.2 MiB]  60% Done                                  \r",
      "\\ [19/36 files][  9.3 MiB/ 14.2 MiB]  65% Done                                  \r",
      "|\r",
      "| [20/36 files][  9.7 MiB/ 14.2 MiB]  68% Done                                  \r",
      "| [21/36 files][ 10.0 MiB/ 14.2 MiB]  70% Done                                  \r",
      "| [22/36 files][ 10.0 MiB/ 14.2 MiB]  70% Done                                  \r",
      "| [23/36 files][ 10.1 MiB/ 14.2 MiB]  71% Done                                  \r",
      "| [24/36 files][ 10.5 MiB/ 14.2 MiB]  73% Done                                  \r",
      "/\r",
      "/ [25/36 files][ 10.6 MiB/ 14.2 MiB]  74% Done                                  \r",
      "/ [26/36 files][ 10.8 MiB/ 14.2 MiB]  75% Done   1.4 MiB/s ETA 00:00:02         \r",
      "-\r",
      "- [27/36 files][ 12.1 MiB/ 14.2 MiB]  84% Done   1.6 MiB/s ETA 00:00:01         \r",
      "- [28/36 files][ 12.1 MiB/ 14.2 MiB]  84% Done   1.6 MiB/s ETA 00:00:01         \r",
      "- [29/36 files][ 12.2 MiB/ 14.2 MiB]  85% Done   1.5 MiB/s ETA 00:00:01         \r",
      "- [30/36 files][ 12.7 MiB/ 14.2 MiB]  89% Done   1.5 MiB/s ETA 00:00:01         \r",
      "- [31/36 files][ 12.7 MiB/ 14.2 MiB]  89% Done   1.5 MiB/s ETA 00:00:01         \r",
      "\\\r",
      "\\ [32/36 files][ 13.1 MiB/ 14.2 MiB]  92% Done   1.6 MiB/s ETA 00:00:01         \r",
      "\\ [33/36 files][ 13.5 MiB/ 14.2 MiB]  95% Done   1.6 MiB/s ETA 00:00:00         \r",
      "|\r",
      "| [34/36 files][ 13.7 MiB/ 14.2 MiB]  96% Done   1.4 MiB/s ETA 00:00:00         \r",
      "| [34/36 files][ 13.9 MiB/ 14.2 MiB]  98% Done   1.3 MiB/s ETA 00:00:00         \r",
      "/\r",
      "/ [35/36 files][ 14.1 MiB/ 14.2 MiB]  99% Done   1.2 MiB/s ETA 00:00:00         \r",
      "/ [35/36 files][ 14.2 MiB/ 14.2 MiB]  99% Done 793.8 KiB/s ETA 00:00:00         \r",
      "-\r",
      "- [36/36 files][ 14.2 MiB/ 14.2 MiB] 100% Done 793.6 KiB/s ETA 00:00:00         \r\n",
      "Operation completed over 36 objects/14.2 MiB.                                    \n"
     ]
    }
   ],
   "source": [
    "%%bash\n",
    "DOWNLOAD_DIR=temperatures/data\n",
    "mkdir $DOWNLOAD_DIR\n",
    "gsutil -m cp gs://cloud-training-demos/courses/machine_learning/deepdive/09_sequence/temperatures/* $DOWNLOAD_DIR"
   ]
  },
  {
   "cell_type": "markdown",
   "metadata": {},
   "source": [
    "## Hyperparameters\n",
    "N_FORWARD = 1: works but model struggles to predict from some positions<br/>\n",
    "N_FORWARD = 4: better but still bad occasionnally<br/>\n",
    "N_FORWARD = 8: works perfectly "
   ]
  },
  {
   "cell_type": "code",
   "execution_count": 14,
   "metadata": {},
   "outputs": [
    {
     "name": "stdout",
     "output_type": "stream",
     "text": [
      "Reading data from \"temperatures/data\".\n",
      "Wrinting checkpoints to \"checkpoints\".\n"
     ]
    }
   ],
   "source": [
    "NB_EPOCHS = 5       # number of times the model sees all the data during training\n",
    "\n",
    "N_FORWARD = 8       # train the network to predict N in advance (traditionnally 1)\n",
    "RESAMPLE_BY = 5     # averaging period in days (training on daily data is too much)\n",
    "RNN_CELLSIZE = 128  # size of the RNN cells\n",
    "N_LAYERS = 2        # number of stacked RNN cells (needed for tensor shapes but code must be changed manually)\n",
    "SEQLEN = 128        # unrolled sequence length\n",
    "BATCHSIZE = 64      # mini-batch size\n",
    "DROPOUT_PKEEP = 0.7 # probability of neurons not being dropped (should be between 0.5 and 1)\n",
    "ACTIVATION = tf.nn.tanh # Activation function for GRU cells (tf.nn.relu or tf.nn.tanh)\n",
    "\n",
    "JOB_DIR  = \"checkpoints\"\n",
    "DATA_DIR = \"temperatures/data\"\n",
    "\n",
    "# potentially override some settings from command-line arguments\n",
    "if __name__ == '__main__':\n",
    "    JOB_DIR, DATA_DIR = utils_args.read_args1(JOB_DIR, DATA_DIR)\n",
    "\n",
    "ALL_FILEPATTERN = DATA_DIR + \"/*.csv\" # pattern matches all 1666 files  \n",
    "EVAL_FILEPATTERN = DATA_DIR + \"/USC000*2.csv\" # pattern matches 8 files\n",
    "# pattern USW*.csv -> 298 files, pattern USW*0.csv -> 28 files\n",
    "print('Reading data from \"{}\".\\nWrinting checkpoints to \"{}\".'.format(DATA_DIR, JOB_DIR))"
   ]
  },
  {
   "cell_type": "markdown",
   "metadata": {},
   "source": [
    "## Temperature data\n",
    "This is what our temperature datasets looks like: sequences of daily (Tmin, Tmax) from 1960 to 2010. They have been cleaned up and eventual missing values have been filled by interpolation. Interpolated regions of the dataset are marked in red on the graph."
   ]
  },
  {
   "cell_type": "code",
   "execution_count": 20,
   "metadata": {},
   "outputs": [
    {
     "ename": "AttributeError",
     "evalue": "type object 'GFile' has no attribute 'get_matching_files'",
     "output_type": "error",
     "traceback": [
      "\u001b[0;31m---------------------------------------------------------------------------\u001b[0m",
      "\u001b[0;31mAttributeError\u001b[0m                            Traceback (most recent call last)",
      "\u001b[0;32m<ipython-input-20-52d9096ac069>\u001b[0m in \u001b[0;36m<module>\u001b[0;34m\u001b[0m\n\u001b[0;32m----> 1\u001b[0;31m \u001b[0mall_filenames\u001b[0m \u001b[0;34m=\u001b[0m \u001b[0mtf\u001b[0m\u001b[0;34m.\u001b[0m\u001b[0mio\u001b[0m\u001b[0;34m.\u001b[0m\u001b[0mgfile\u001b[0m\u001b[0;34m.\u001b[0m\u001b[0mGFile\u001b[0m\u001b[0;34m.\u001b[0m\u001b[0mget_matching_files\u001b[0m\u001b[0;34m(\u001b[0m\u001b[0mALL_FILEPATTERN\u001b[0m\u001b[0;34m)\u001b[0m\u001b[0;34m\u001b[0m\u001b[0;34m\u001b[0m\u001b[0m\n\u001b[0m\u001b[1;32m      2\u001b[0m \u001b[0;31m#all_filenames = gfile.get_matching_files(ALL_FILEPATTERN)\u001b[0m\u001b[0;34m\u001b[0m\u001b[0;34m\u001b[0m\u001b[0;34m\u001b[0m\u001b[0m\n\u001b[1;32m      3\u001b[0m \u001b[0meval_filenames\u001b[0m \u001b[0;34m=\u001b[0m \u001b[0mgfile\u001b[0m\u001b[0;34m.\u001b[0m\u001b[0mget_matching_files\u001b[0m\u001b[0;34m(\u001b[0m\u001b[0mEVAL_FILEPATTERN\u001b[0m\u001b[0;34m)\u001b[0m\u001b[0;34m\u001b[0m\u001b[0;34m\u001b[0m\u001b[0m\n\u001b[1;32m      4\u001b[0m \u001b[0mtrain_filenames\u001b[0m \u001b[0;34m=\u001b[0m \u001b[0mlist\u001b[0m\u001b[0;34m(\u001b[0m\u001b[0mset\u001b[0m\u001b[0;34m(\u001b[0m\u001b[0mall_filenames\u001b[0m\u001b[0;34m)\u001b[0m \u001b[0;34m-\u001b[0m \u001b[0mset\u001b[0m\u001b[0;34m(\u001b[0m\u001b[0meval_filenames\u001b[0m\u001b[0;34m)\u001b[0m\u001b[0;34m)\u001b[0m\u001b[0;34m\u001b[0m\u001b[0;34m\u001b[0m\u001b[0m\n\u001b[1;32m      5\u001b[0m \u001b[0;34m\u001b[0m\u001b[0m\n",
      "\u001b[0;31mAttributeError\u001b[0m: type object 'GFile' has no attribute 'get_matching_files'"
     ]
    }
   ],
   "source": [
    "all_filenames = tf.io.gfile.GFile.get_matching_files(ALL_FILEPATTERN)\n",
    "#all_filenames = gfile.get_matching_files(ALL_FILEPATTERN)\n",
    "eval_filenames = gfile.get_matching_files(EVAL_FILEPATTERN)\n",
    "train_filenames = list(set(all_filenames) - set(eval_filenames))\n",
    "\n",
    "# By default, this utility function loads all the files and places data\n",
    "# from them as-is in an array, one file per line. Later, we will use it\n",
    "# to shape the dataset as needed for training.\n",
    "ite = utils_batching.rnn_multistation_sampling_temperature_sequencer(eval_filenames)\n",
    "evtemps, _, evdates, _, _ = next(ite) # gets everything\n",
    "\n",
    "print('Pattern \"{}\" matches {} files'.format(ALL_FILEPATTERN, len(all_filenames)))\n",
    "print('Pattern \"{}\" matches {} files'.format(EVAL_FILEPATTERN, len(eval_filenames)))\n",
    "print(\"Evaluation files: {}\".format(len(eval_filenames)))\n",
    "print(\"Training files: {}\".format(len(train_filenames)))\n",
    "print(\"Initial shape of the evaluation dataset: \" + str(evtemps.shape))\n",
    "print(\"{} files, {} data points per file, {} values per data point\"\n",
    "      \" (Tmin, Tmax, is_interpolated) \".format(evtemps.shape[0], evtemps.shape[1],evtemps.shape[2]))"
   ]
  },
  {
   "cell_type": "code",
   "execution_count": null,
   "metadata": {
    "tags": [
     "display"
    ]
   },
   "outputs": [],
   "source": [
    "# You can adjust the visualisation range and dataset here.\n",
    "# Interpolated regions of the dataset are marked in red.\n",
    "WEATHER_STATION = 0 # 0 to 7 in default eval dataset\n",
    "START_DATE = 0      # 0 = Jan 2nd 1950\n",
    "END_DATE = 18262    # 18262 = Dec 31st 2009\n",
    "visu_temperatures = evtemps[WEATHER_STATION,START_DATE:END_DATE]\n",
    "visu_dates = evdates[START_DATE:END_DATE]\n",
    "\n",
    "utils_display.picture_this_4(visu_temperatures, visu_dates)"
   ]
  },
  {
   "cell_type": "markdown",
   "metadata": {},
   "source": [
    "## Resampling\n",
    "Our RNN would need ot be unrolled across 365 steps to capture the yearly temperature cycles. That's a bit too much. We will resample the temparatures and work with 5-day averages for example. This is what resampled (Tmin, Tmax) temperatures look like."
   ]
  },
  {
   "cell_type": "code",
   "execution_count": null,
   "metadata": {},
   "outputs": [],
   "source": [
    "# This time we ask the utility function to average temperatures over 5-day periods (RESAMPLE_BY=5)\n",
    "ite = utils_batching.rnn_multistation_sampling_temperature_sequencer(eval_filenames, RESAMPLE_BY, tminmax=True)\n",
    "evaltemps, _, evaldates, _, _ = next(ite)"
   ]
  },
  {
   "cell_type": "code",
   "execution_count": null,
   "metadata": {
    "tags": [
     "display"
    ]
   },
   "outputs": [],
   "source": [
    "# display five years worth of data\n",
    "WEATHER_STATION = 0              # 0 to 7 in default eval dataset\n",
    "START_DATE = 0                   # 0 = Jan 2nd 1950\n",
    "END_DATE = 365*5//RESAMPLE_BY    # 5 years\n",
    "visu_temperatures = evaltemps[WEATHER_STATION, START_DATE:END_DATE]\n",
    "visu_dates = evaldates[START_DATE:END_DATE]\n",
    "plt.fill_between(visu_dates, visu_temperatures[:,0], visu_temperatures[:,1])\n",
    "plt.show()"
   ]
  },
  {
   "cell_type": "markdown",
   "metadata": {},
   "source": [
    "## Visualize training sequences\n",
    "This is what the neural network will see during training."
   ]
  },
  {
   "cell_type": "code",
   "execution_count": null,
   "metadata": {
    "tags": [
     "display"
    ]
   },
   "outputs": [],
   "source": [
    "# The function rnn_multistation_sampling_temperature_sequencer puts one weather station per line in\n",
    "# a batch and continues with data from the same station in corresponding lines in the next batch.\n",
    "# Features and labels are returned with shapes [BATCHSIZE, SEQLEN, 2]. The last dimension of size 2\n",
    "# contains (Tmin, Tmax).\n",
    "ite = utils_batching.rnn_multistation_sampling_temperature_sequencer(eval_filenames,\n",
    "                                                                     RESAMPLE_BY,\n",
    "                                                                     BATCHSIZE,\n",
    "                                                                     SEQLEN,\n",
    "                                                                     N_FORWARD,\n",
    "                                                                     nb_epochs=1,\n",
    "                                                                     tminmax=True)\n",
    "\n",
    "# load 6 training sequences (each one contains data for all weather stations)\n",
    "visu_data = [next(ite) for _ in range(6)]"
   ]
  },
  {
   "cell_type": "code",
   "execution_count": null,
   "metadata": {
    "tags": [
     "display"
    ]
   },
   "outputs": [],
   "source": [
    "# Check that consecutive training sequences from the same weather station are indeed consecutive\n",
    "WEATHER_STATION = 4\n",
    "utils_display.picture_this_5(visu_data, WEATHER_STATION)"
   ]
  },
  {
   "cell_type": "markdown",
   "metadata": {},
   "source": [
    "## The model definition\n",
    "![deep RNN schematic](temperatures/images/RNN2.svg)\n",
    "<div style=\"text-align: right; font-family: monospace\">\n",
    "  X shape [BATCHSIZE, SEQLEN, 2]<br/>\n",
    "  Y shape [BATCHSIZE, SEQLEN, 2]<br/>\n",
    "  H shape [BATCHSIZE, RNN_CELLSIZE*NLAYERS]\n",
    "</div>\n",
    "When executed, this function instantiates the Tensorflow graph for our model."
   ]
  },
  {
   "cell_type": "code",
   "execution_count": null,
   "metadata": {},
   "outputs": [],
   "source": [
    "def model_rnn_fn(features, Hin, labels, step, dropout_pkeep):\n",
    "    X = features  # shape [BATCHSIZE, SEQLEN, 2], 2 for (Tmin, Tmax)\n",
    "    batchsize = tf.shape(X)[0]\n",
    "    seqlen = tf.shape(X)[1]\n",
    "    pairlen = tf.shape(X)[2] # should be 2 (tmin, tmax)\n",
    "    \n",
    "    cells = [tf.nn.rnn_cell.GRUCell(RNN_CELLSIZE, activation=ACTIVATION) for _ in range(N_LAYERS)]\n",
    "    # dropout useful between cell layers only: no output dropout on last cell\n",
    "    cells = [tf.nn.rnn_cell.DropoutWrapper(cell, output_keep_prob = dropout_pkeep) for cell in cells]\n",
    "    # a stacked RNN cell still works like an RNN cell\n",
    "    cell = tf.nn.rnn_cell.MultiRNNCell(cells, state_is_tuple=False)\n",
    "    # X[BATCHSIZE, SEQLEN, 2], Hin[BATCHSIZE, RNN_CELLSIZE*N_LAYERS]\n",
    "    # the sequence unrolling happens here\n",
    "    Yn, H = tf.nn.dynamic_rnn(cell, X, initial_state=Hin, dtype=tf.float32)\n",
    "    # Yn[BATCHSIZE, SEQLEN, RNN_CELLSIZE]\n",
    "    Yn = tf.reshape(Yn, [batchsize*seqlen, RNN_CELLSIZE])\n",
    "    Yr = tf.layers.dense(Yn, 2) # Yr [BATCHSIZE*SEQLEN, 2]\n",
    "    Yr = tf.reshape(Yr, [batchsize, seqlen, 2]) # Yr [BATCHSIZE, SEQLEN, 2]\n",
    "    Yout = Yr[:,-N_FORWARD:,:] # Last N_FORWARD outputs Yout [BATCHSIZE, N_FORWARD, 2]\n",
    "    \n",
    "    loss = tf.losses.mean_squared_error(Yr, labels) # labels[BATCHSIZE, SEQLEN, 2]\n",
    "    \n",
    "    lr = 0.001 + tf.train.exponential_decay(0.01, step, 1000, 0.5)\n",
    "    optimizer = tf.train.AdamOptimizer(learning_rate=lr)\n",
    "    train_op = optimizer.minimize(loss)\n",
    "    \n",
    "    return Yout, H, loss, train_op, Yr"
   ]
  },
  {
   "cell_type": "markdown",
   "metadata": {},
   "source": [
    "## Instantiate the model"
   ]
  },
  {
   "cell_type": "code",
   "execution_count": null,
   "metadata": {},
   "outputs": [],
   "source": [
    "tf.reset_default_graph() # restart model graph from scratch\n",
    "\n",
    "# placeholder for inputs\n",
    "Hin = tf.placeholder(tf.float32, [None, RNN_CELLSIZE * N_LAYERS])\n",
    "features = tf.placeholder(tf.float32, [None, None, 2]) # [BATCHSIZE, SEQLEN, 2]\n",
    "labels = tf.placeholder(tf.float32, [None, None, 2]) # [BATCHSIZE, SEQLEN, 2]\n",
    "step = tf.placeholder(tf.int32)\n",
    "dropout_pkeep = tf.placeholder(tf.float32)\n",
    "\n",
    "# instantiate the model\n",
    "Yout, H, loss, train_op, Yr = model_rnn_fn(features, Hin, labels, step, dropout_pkeep)"
   ]
  },
  {
   "cell_type": "markdown",
   "metadata": {},
   "source": [
    "## Initialize Tensorflow session\n",
    "This resets all neuron weights and biases to initial random values"
   ]
  },
  {
   "cell_type": "code",
   "execution_count": null,
   "metadata": {},
   "outputs": [],
   "source": [
    "# variable initialization\n",
    "sess = tf.Session()\n",
    "init = tf.global_variables_initializer()\n",
    "sess.run([init])\n",
    "saver = tf.train.Saver(max_to_keep=1)"
   ]
  },
  {
   "cell_type": "markdown",
   "metadata": {},
   "source": [
    "## The training loop\n",
    "You can re-execute this cell to continue training. <br/>\n",
    "<br/>\n",
    "Training data must be batched correctly, one weather station per line, continued on the same line across batches. This way, output states computed from one batch are the correct input states for the next batch. The provided utility function `rnn_multistation_sampling_temperature_sequencer` does the right thing.\n",
    "![batching for RNNs](temperatures/images/batching.svg)"
   ]
  },
  {
   "cell_type": "code",
   "execution_count": null,
   "metadata": {},
   "outputs": [],
   "source": [
    "losses = []\n",
    "indices = []\n",
    "last_epoch = 99999\n",
    "last_fileid = 99999\n",
    "\n",
    "for i, (next_features, next_labels, dates, epoch, fileid) in enumerate(\n",
    "    utils_batching.rnn_multistation_sampling_temperature_sequencer(train_filenames,\n",
    "                                                                   RESAMPLE_BY,\n",
    "                                                                   BATCHSIZE,\n",
    "                                                                   SEQLEN,\n",
    "                                                                   N_FORWARD,\n",
    "                                                                   NB_EPOCHS, tminmax=True)):\n",
    "    \n",
    "    # reinintialize state between epochs or when starting on data from a new weather station\n",
    "    if epoch != last_epoch or fileid != last_fileid:\n",
    "        batchsize = next_features.shape[0]\n",
    "        H_ = np.zeros([batchsize, RNN_CELLSIZE * N_LAYERS])\n",
    "        print(\"State reset\")\n",
    "\n",
    "    #train\n",
    "    feed = {Hin: H_, features: next_features, labels: next_labels, step: i, dropout_pkeep: DROPOUT_PKEEP}\n",
    "    Yout_, H_, loss_, _, Yr_ = sess.run([Yout, H, loss, train_op, Yr], feed_dict=feed)\n",
    "    \n",
    "    # print progress\n",
    "    if i%20 == 0:\n",
    "        print(\"{}: epoch {} loss = {} ({} weather stations this epoch)\".format(i, epoch, np.mean(loss_), fileid+1))\n",
    "        sys.stdout.flush()\n",
    "    if i%10 == 0:\n",
    "        losses.append(np.mean(loss_))\n",
    "        indices.append(i)\n",
    "        \n",
    "    last_epoch = epoch\n",
    "    last_fileid = fileid\n",
    "    \n",
    "# save the trained model\n",
    "SAVEDMODEL = JOB_DIR + \"/ckpt\" + str(int(time.time()))\n",
    "tf.saved_model.simple_save(sess, SAVEDMODEL,\n",
    "                           inputs={\"features\":features, \"Hin\":Hin, \"dropout_pkeep\":dropout_pkeep},\n",
    "                           outputs={\"Yout\":Yout, \"H\":H})"
   ]
  },
  {
   "cell_type": "code",
   "execution_count": null,
   "metadata": {
    "tags": [
     "display"
    ]
   },
   "outputs": [],
   "source": [
    "plt.ylim(ymax=np.amax(losses[1:])) # ignore first value for scaling\n",
    "plt.plot(indices, losses)\n",
    "plt.show()"
   ]
  },
  {
   "cell_type": "markdown",
   "metadata": {},
   "source": [
    "## Inference\n",
    "This is a generative model: run an trained RNN cell in a loop"
   ]
  },
  {
   "cell_type": "code",
   "execution_count": null,
   "metadata": {},
   "outputs": [],
   "source": [
    "def prediction_run(predict_fn, prime_data, run_length):\n",
    "    H = np.zeros([1, RNN_CELLSIZE * N_LAYERS]) # zero state initially\n",
    "    Yout = np.zeros([1, N_FORWARD, 2])\n",
    "    data_len = prime_data.shape[0]-N_FORWARD\n",
    "\n",
    "    # prime the state from data\n",
    "    if data_len > 0:\n",
    "        Yin = np.array(prime_data[:-N_FORWARD])\n",
    "        Yin = np.reshape(Yin, [1, data_len, 2]) # reshape as one sequence of pairs (Tmin, Tmax)\n",
    "        r = predict_fn({'features': Yin, 'Hin':H, 'dropout_pkeep':1.0}) # no dropout during inference\n",
    "        Yout = r[\"Yout\"]\n",
    "        H = r[\"H\"]\n",
    "        \n",
    "        # initaily, put real data on the inputs, not predictions\n",
    "        Yout = np.expand_dims(prime_data[-N_FORWARD:], axis=0)\n",
    "        # Yout shape [1, N_FORWARD, 2]: batch of a single sequence of length N_FORWARD of (Tmin, Tmax) data pointa\n",
    "    \n",
    "    # run prediction\n",
    "    # To generate a sequence, run a trained cell in a loop passing as input and input state\n",
    "    # respectively the output and output state from the previous iteration.\n",
    "    results = []\n",
    "    for i in range(run_length//N_FORWARD+1):\n",
    "        r = predict_fn({'features': Yout, 'Hin':H, 'dropout_pkeep':1.0}) # no dropout during inference\n",
    "        Yout = r[\"Yout\"]\n",
    "        H = r[\"H\"]\n",
    "        results.append(Yout[0]) # shape [N_FORWARD, 2]\n",
    "        \n",
    "    return np.concatenate(results, axis=0)[:run_length]"
   ]
  },
  {
   "cell_type": "markdown",
   "metadata": {},
   "source": [
    "## Validation"
   ]
  },
  {
   "cell_type": "code",
   "execution_count": null,
   "metadata": {},
   "outputs": [],
   "source": [
    "QYEAR = 365//(RESAMPLE_BY*4)\n",
    "YEAR = 365//(RESAMPLE_BY)\n",
    "\n",
    "# Try starting predictions from January / March / July (resp. OFFSET = YEAR or YEAR+QYEAR or YEAR+2*QYEAR)\n",
    "# Some start dates are more challenging for the model than others.\n",
    "OFFSET = 30*YEAR+1*QYEAR\n",
    "\n",
    "PRIMELEN=5*YEAR\n",
    "RUNLEN=3*YEAR\n",
    "RMSELEN=3*365//(RESAMPLE_BY*2) # accuracy of predictions 1.5 years in advance"
   ]
  },
  {
   "cell_type": "code",
   "execution_count": null,
   "metadata": {},
   "outputs": [],
   "source": [
    "# Restore the model from the last checkpoint saved previously.\n",
    "\n",
    "# Alternative checkpoints:\n",
    "# Once you have trained on all 1666 weather stations on Google Cloud ML Engine, you can load the checkpoint from there.\n",
    "# SAVEDMODEL = \"gs://{BUCKET}/sinejobs/sines_XXXXXX_XXXXXX/ckptXXXXXXXX\"\n",
    "# A sample checkpoint is provided with the lab. You can try loading it for comparison.\n",
    "# SAVEDMODEL = \"temperatures_best_checkpoint\"\n",
    "\n",
    "predict_fn = tf.contrib.predictor.from_saved_model(SAVEDMODEL)"
   ]
  },
  {
   "cell_type": "code",
   "execution_count": null,
   "metadata": {
    "tags": [
     "display"
    ]
   },
   "outputs": [],
   "source": [
    "for evaldata in evaltemps:\n",
    "    prime_data = evaldata[OFFSET:OFFSET+PRIMELEN]\n",
    "    results = prediction_run(predict_fn, prime_data, RUNLEN)\n",
    "    utils_display.picture_this_6(evaldata, evaldates, prime_data, results, PRIMELEN, RUNLEN, OFFSET, RMSELEN)"
   ]
  },
  {
   "cell_type": "code",
   "execution_count": null,
   "metadata": {},
   "outputs": [],
   "source": [
    "rmses = []\n",
    "bad_ones = 0\n",
    "for offset in [YEAR, YEAR+QYEAR, YEAR+2*QYEAR]:\n",
    "    for evaldata in evaltemps:\n",
    "        prime_data = evaldata[offset:offset+PRIMELEN]\n",
    "        results = prediction_run(predict_fn, prime_data, RUNLEN)\n",
    "        rmse = math.sqrt(np.mean((evaldata[offset+PRIMELEN:offset+PRIMELEN+RMSELEN] - results[:RMSELEN])**2))\n",
    "        rmses.append(rmse)\n",
    "        if rmse>7: bad_ones += 1\n",
    "        print(\"RMSE on {} predictions (shaded area): {}\".format(RMSELEN, rmse))\n",
    "print(\"Average RMSE on {} weather stations: {} ({} really bad ones, i.e. >7.0)\".format(len(evaltemps), np.mean(rmses), bad_ones))\n",
    "sys.stdout.flush()"
   ]
  },
  {
   "cell_type": "markdown",
   "metadata": {},
   "source": [
    "## References\n",
    "\n",
    "- This notebook is taken from Google's *Tensorflow Without a PhD* series created by Martin Gorner.\n",
    "- Minor modifications were made. See the source notebooks [here](https://github.com/GoogleCloudPlatform/tensorflow-without-a-phd/tree/master/tensorflow-rnn-tutorial)"
   ]
  },
  {
   "cell_type": "markdown",
   "metadata": {},
   "source": [
    "Copyright 2018 Google LLC\n",
    "\n",
    "Licensed under the Apache License, Version 2.0 (the \"License\");\n",
    "you may not use this file except in compliance with the License.\n",
    "You may obtain a copy of the License at\n",
    "[http://www.apache.org/licenses/LICENSE-2.0](http://www.apache.org/licenses/LICENSE-2.0)\n",
    "Unless required by applicable law or agreed to in writing, software\n",
    "distributed under the License is distributed on an \"AS IS\" BASIS,\n",
    "WITHOUT WARRANTIES OR CONDITIONS OF ANY KIND, either express or implied.\n",
    "See the License for the specific language governing permissions and\n",
    "limitations under the License."
   ]
  }
 ],
 "metadata": {
  "celltoolbar": "Tags",
  "kernelspec": {
   "display_name": "Python 3",
   "language": "python",
   "name": "python3"
  },
  "language_info": {
   "codemirror_mode": {
    "name": "ipython",
    "version": 3
   },
   "file_extension": ".py",
   "mimetype": "text/x-python",
   "name": "python",
   "nbconvert_exporter": "python",
   "pygments_lexer": "ipython3",
   "version": "3.7.4"
  }
 },
 "nbformat": 4,
 "nbformat_minor": 2
}
