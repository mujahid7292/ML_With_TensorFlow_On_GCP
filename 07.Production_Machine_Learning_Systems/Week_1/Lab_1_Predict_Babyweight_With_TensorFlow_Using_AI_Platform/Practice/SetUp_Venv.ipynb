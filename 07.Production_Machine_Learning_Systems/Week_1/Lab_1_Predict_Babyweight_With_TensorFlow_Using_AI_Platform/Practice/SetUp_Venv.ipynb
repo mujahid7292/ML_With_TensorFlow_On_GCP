{
 "cells": [
  {
   "cell_type": "markdown",
   "metadata": {},
   "source": [
    "# Enable Virtual Environment For This Notebook."
   ]
  },
  {
   "cell_type": "markdown",
   "metadata": {},
   "source": [
    "### Activate Conda Environment"
   ]
  },
  {
   "cell_type": "markdown",
   "metadata": {},
   "source": [
    "<b>`$ conda activate`</b>"
   ]
  },
  {
   "cell_type": "markdown",
   "metadata": {},
   "source": [
    "### Install Or Upgrade necessary software for virtual environment."
   ]
  },
  {
   "cell_type": "markdown",
   "metadata": {},
   "source": [
    "<b>`$ sudo apt-get install --upgrade python3-pip`</b>"
   ]
  },
  {
   "cell_type": "markdown",
   "metadata": {},
   "source": [
    "<b>`$ sudo pip3 install --upgrade virtualenv`</b>"
   ]
  },
  {
   "cell_type": "markdown",
   "metadata": {},
   "source": [
    "<b>`$ sudo pip3 install --upgrade setuptools`</b>"
   ]
  },
  {
   "cell_type": "markdown",
   "metadata": {},
   "source": [
    "Now we will go to the location of the directory, where we will create our virtual environment."
   ]
  },
  {
   "cell_type": "markdown",
   "metadata": {},
   "source": [
    "<b>`$ cd /media/mujahid7292/Data/GoogleDriveSandCorp2014/ML_With_TensorFlow_On_GCP/06. End_To_End_ML_With_TensorFlow_On_GCP/Week_3/Lab_4_Preprocessing_with_Cloud_Dataflow/Practice`</b>"
   ]
  },
  {
   "cell_type": "markdown",
   "metadata": {},
   "source": [
    "### Deactivate conda environment"
   ]
  },
  {
   "cell_type": "markdown",
   "metadata": {},
   "source": [
    "<b>`$ conda deactivate`</b>"
   ]
  },
  {
   "cell_type": "markdown",
   "metadata": {},
   "source": [
    "### Create Virtual Environment"
   ]
  },
  {
   "cell_type": "markdown",
   "metadata": {},
   "source": [
    "<b>`$ virtualenv Venv`</b>"
   ]
  },
  {
   "cell_type": "markdown",
   "metadata": {},
   "source": [
    "### Activate newly created virtual environment"
   ]
  },
  {
   "cell_type": "markdown",
   "metadata": {},
   "source": [
    "<b>`$ source Venv/bin/activate`</b>"
   ]
  },
  {
   "cell_type": "markdown",
   "metadata": {},
   "source": [
    "<b>`$ (Venv) which python`</b>"
   ]
  },
  {
   "cell_type": "markdown",
   "metadata": {},
   "source": [
    "<b>`$ (Venv) pip list`</b>"
   ]
  },
  {
   "cell_type": "markdown",
   "metadata": {},
   "source": [
    "<b>`$ (Venv) pip3 install jupyter`</b>"
   ]
  },
  {
   "cell_type": "markdown",
   "metadata": {},
   "source": [
    "## <p style='color:red'>After installing jupyter notebook in the virtual environment, open this notebook from virtual environment.</p>"
   ]
  },
  {
   "cell_type": "code",
   "execution_count": 1,
   "metadata": {},
   "outputs": [
    {
     "name": "stdout",
     "output_type": "stream",
     "text": [
      "Overwriting requirements.txt\n"
     ]
    }
   ],
   "source": [
    "%%writefile requirements.txt\n",
    "numpy\n",
    "pandas\n",
    "absl-py==0.7\n",
    "pyarrow==0.15.1\n",
    "absl-py==0.7\n",
    "apache-beam[gcp]==2.20.0"
   ]
  },
  {
   "cell_type": "code",
   "execution_count": 2,
   "metadata": {},
   "outputs": [
    {
     "name": "stdout",
     "output_type": "stream",
     "text": [
      "Requirement already satisfied: numpy in ./Venv/lib/python3.6/site-packages (from -r requirements.txt (line 1)) (1.18.4)\n",
      "Requirement already satisfied: pandas in ./Venv/lib/python3.6/site-packages (from -r requirements.txt (line 2)) (1.0.4)\n",
      "Requirement already satisfied: absl-py==0.7 in ./Venv/lib/python3.6/site-packages (from -r requirements.txt (line 3)) (0.7.0)\n",
      "Requirement already satisfied: pyarrow==0.15.1 in ./Venv/lib/python3.6/site-packages (from -r requirements.txt (line 4)) (0.15.1)\n",
      "Requirement already satisfied: apache-beam[gcp]==2.20.0 in ./Venv/lib/python3.6/site-packages (from -r requirements.txt (line 6)) (2.20.0)\n",
      "Requirement already satisfied: python-dateutil>=2.6.1 in ./Venv/lib/python3.6/site-packages (from pandas->-r requirements.txt (line 2)) (2.8.1)\n",
      "Requirement already satisfied: pytz>=2017.2 in ./Venv/lib/python3.6/site-packages (from pandas->-r requirements.txt (line 2)) (2020.1)\n",
      "Requirement already satisfied: six in ./Venv/lib/python3.6/site-packages (from absl-py==0.7->-r requirements.txt (line 3)) (1.15.0)\n",
      "Requirement already satisfied: future<1.0.0,>=0.16.0 in ./Venv/lib/python3.6/site-packages (from apache-beam[gcp]==2.20.0->-r requirements.txt (line 6)) (0.18.2)\n",
      "Requirement already satisfied: protobuf<4,>=3.5.0.post1 in ./Venv/lib/python3.6/site-packages (from apache-beam[gcp]==2.20.0->-r requirements.txt (line 6)) (3.12.2)\n",
      "Requirement already satisfied: dill<0.3.2,>=0.3.1.1 in ./Venv/lib/python3.6/site-packages (from apache-beam[gcp]==2.20.0->-r requirements.txt (line 6)) (0.3.1.1)\n",
      "Requirement already satisfied: hdfs<3.0.0,>=2.1.0 in ./Venv/lib/python3.6/site-packages (from apache-beam[gcp]==2.20.0->-r requirements.txt (line 6)) (2.5.8)\n",
      "Requirement already satisfied: oauth2client<4,>=2.0.1 in ./Venv/lib/python3.6/site-packages (from apache-beam[gcp]==2.20.0->-r requirements.txt (line 6)) (3.0.0)\n",
      "Requirement already satisfied: pydot<2,>=1.2.0 in ./Venv/lib/python3.6/site-packages (from apache-beam[gcp]==2.20.0->-r requirements.txt (line 6)) (1.4.1)\n",
      "Requirement already satisfied: typing-extensions<3.8.0,>=3.7.0 in ./Venv/lib/python3.6/site-packages (from apache-beam[gcp]==2.20.0->-r requirements.txt (line 6)) (3.7.4.2)\n",
      "Requirement already satisfied: avro-python3!=1.9.2,<1.10.0,>=1.8.1; python_version >= \"3.0\" in ./Venv/lib/python3.6/site-packages (from apache-beam[gcp]==2.20.0->-r requirements.txt (line 6)) (1.9.2.1)\n",
      "Requirement already satisfied: grpcio<2,>=1.12.1 in ./Venv/lib/python3.6/site-packages (from apache-beam[gcp]==2.20.0->-r requirements.txt (line 6)) (1.29.0)\n",
      "Requirement already satisfied: crcmod<2.0,>=1.7 in ./Venv/lib/python3.6/site-packages (from apache-beam[gcp]==2.20.0->-r requirements.txt (line 6)) (1.7)\n",
      "Requirement already satisfied: fastavro<0.22,>=0.21.4 in ./Venv/lib/python3.6/site-packages (from apache-beam[gcp]==2.20.0->-r requirements.txt (line 6)) (0.21.24)\n",
      "Requirement already satisfied: mock<3.0.0,>=1.0.1 in ./Venv/lib/python3.6/site-packages (from apache-beam[gcp]==2.20.0->-r requirements.txt (line 6)) (2.0.0)\n",
      "Requirement already satisfied: httplib2<=0.12.0,>=0.8 in ./Venv/lib/python3.6/site-packages (from apache-beam[gcp]==2.20.0->-r requirements.txt (line 6)) (0.12.0)\n",
      "Requirement already satisfied: pymongo<4.0.0,>=3.8.0 in ./Venv/lib/python3.6/site-packages (from apache-beam[gcp]==2.20.0->-r requirements.txt (line 6)) (3.10.1)\n",
      "Requirement already satisfied: cachetools<4,>=3.1.0; extra == \"gcp\" in ./Venv/lib/python3.6/site-packages (from apache-beam[gcp]==2.20.0->-r requirements.txt (line 6)) (3.1.1)\n",
      "Requirement already satisfied: google-cloud-pubsub<1.1.0,>=0.39.0; extra == \"gcp\" in ./Venv/lib/python3.6/site-packages (from apache-beam[gcp]==2.20.0->-r requirements.txt (line 6)) (1.0.2)\n",
      "Requirement already satisfied: google-cloud-spanner<1.14.0,>=1.13.0; extra == \"gcp\" in ./Venv/lib/python3.6/site-packages (from apache-beam[gcp]==2.20.0->-r requirements.txt (line 6)) (1.13.0)\n",
      "Requirement already satisfied: google-cloud-bigquery<=1.24.0,>=1.6.0; extra == \"gcp\" in ./Venv/lib/python3.6/site-packages (from apache-beam[gcp]==2.20.0->-r requirements.txt (line 6)) (1.24.0)\n",
      "Requirement already satisfied: google-cloud-vision<0.43.0,>=0.38.0; extra == \"gcp\" in ./Venv/lib/python3.6/site-packages (from apache-beam[gcp]==2.20.0->-r requirements.txt (line 6)) (0.42.0)\n",
      "Requirement already satisfied: google-cloud-datastore<1.8.0,>=1.7.1; extra == \"gcp\" in ./Venv/lib/python3.6/site-packages (from apache-beam[gcp]==2.20.0->-r requirements.txt (line 6)) (1.7.4)\n",
      "Requirement already satisfied: google-cloud-bigtable<1.1.0,>=0.31.1; extra == \"gcp\" in ./Venv/lib/python3.6/site-packages (from apache-beam[gcp]==2.20.0->-r requirements.txt (line 6)) (1.0.0)\n",
      "Requirement already satisfied: google-apitools<0.5.29,>=0.5.28; extra == \"gcp\" in ./Venv/lib/python3.6/site-packages (from apache-beam[gcp]==2.20.0->-r requirements.txt (line 6)) (0.5.28)\n",
      "Requirement already satisfied: google-cloud-core<2,>=0.28.1; extra == \"gcp\" in ./Venv/lib/python3.6/site-packages (from apache-beam[gcp]==2.20.0->-r requirements.txt (line 6)) (1.3.0)\n",
      "Requirement already satisfied: google-cloud-videointelligence<1.14.0,>=1.8.0; extra == \"gcp\" in ./Venv/lib/python3.6/site-packages (from apache-beam[gcp]==2.20.0->-r requirements.txt (line 6)) (1.13.0)\n",
      "Requirement already satisfied: google-cloud-dlp<=0.13.0,>=0.12.0; extra == \"gcp\" in ./Venv/lib/python3.6/site-packages (from apache-beam[gcp]==2.20.0->-r requirements.txt (line 6)) (0.13.0)\n",
      "Requirement already satisfied: google-cloud-language<2,>=1.3.0; extra == \"gcp\" in ./Venv/lib/python3.6/site-packages (from apache-beam[gcp]==2.20.0->-r requirements.txt (line 6)) (1.3.0)\n",
      "Requirement already satisfied: grpcio-gcp<1,>=0.2.2; extra == \"gcp\" in ./Venv/lib/python3.6/site-packages (from apache-beam[gcp]==2.20.0->-r requirements.txt (line 6)) (0.2.2)\n",
      "Requirement already satisfied: setuptools in ./Venv/lib/python3.6/site-packages (from protobuf<4,>=3.5.0.post1->apache-beam[gcp]==2.20.0->-r requirements.txt (line 6)) (46.4.0)\n",
      "Requirement already satisfied: requests>=2.7.0 in ./Venv/lib/python3.6/site-packages (from hdfs<3.0.0,>=2.1.0->apache-beam[gcp]==2.20.0->-r requirements.txt (line 6)) (2.23.0)\n",
      "Requirement already satisfied: docopt in ./Venv/lib/python3.6/site-packages (from hdfs<3.0.0,>=2.1.0->apache-beam[gcp]==2.20.0->-r requirements.txt (line 6)) (0.6.2)\n",
      "Requirement already satisfied: pyasn1-modules>=0.0.5 in ./Venv/lib/python3.6/site-packages (from oauth2client<4,>=2.0.1->apache-beam[gcp]==2.20.0->-r requirements.txt (line 6)) (0.2.8)\n",
      "Requirement already satisfied: rsa>=3.1.4 in ./Venv/lib/python3.6/site-packages (from oauth2client<4,>=2.0.1->apache-beam[gcp]==2.20.0->-r requirements.txt (line 6)) (4.0)\n",
      "Requirement already satisfied: pyasn1>=0.1.7 in ./Venv/lib/python3.6/site-packages (from oauth2client<4,>=2.0.1->apache-beam[gcp]==2.20.0->-r requirements.txt (line 6)) (0.4.8)\n",
      "Requirement already satisfied: pyparsing>=2.1.4 in ./Venv/lib/python3.6/site-packages (from pydot<2,>=1.2.0->apache-beam[gcp]==2.20.0->-r requirements.txt (line 6)) (2.4.7)\n",
      "Requirement already satisfied: pbr>=0.11 in ./Venv/lib/python3.6/site-packages (from mock<3.0.0,>=1.0.1->apache-beam[gcp]==2.20.0->-r requirements.txt (line 6)) (5.4.5)\n",
      "Requirement already satisfied: google-api-core[grpc]<2.0.0dev,>=1.14.0 in ./Venv/lib/python3.6/site-packages (from google-cloud-pubsub<1.1.0,>=0.39.0; extra == \"gcp\"->apache-beam[gcp]==2.20.0->-r requirements.txt (line 6)) (1.17.0)\n",
      "Requirement already satisfied: grpc-google-iam-v1<0.13dev,>=0.12.3 in ./Venv/lib/python3.6/site-packages (from google-cloud-pubsub<1.1.0,>=0.39.0; extra == \"gcp\"->apache-beam[gcp]==2.20.0->-r requirements.txt (line 6)) (0.12.3)\n",
      "Requirement already satisfied: google-auth<2.0dev,>=1.9.0 in ./Venv/lib/python3.6/site-packages (from google-cloud-bigquery<=1.24.0,>=1.6.0; extra == \"gcp\"->apache-beam[gcp]==2.20.0->-r requirements.txt (line 6)) (1.16.0)\n",
      "Requirement already satisfied: google-resumable-media<0.6dev,>=0.5.0 in ./Venv/lib/python3.6/site-packages (from google-cloud-bigquery<=1.24.0,>=1.6.0; extra == \"gcp\"->apache-beam[gcp]==2.20.0->-r requirements.txt (line 6)) (0.5.0)\n",
      "Requirement already satisfied: fasteners>=0.14 in ./Venv/lib/python3.6/site-packages (from google-apitools<0.5.29,>=0.5.28; extra == \"gcp\"->apache-beam[gcp]==2.20.0->-r requirements.txt (line 6)) (0.15)\n",
      "Requirement already satisfied: urllib3!=1.25.0,!=1.25.1,<1.26,>=1.21.1 in ./Venv/lib/python3.6/site-packages (from requests>=2.7.0->hdfs<3.0.0,>=2.1.0->apache-beam[gcp]==2.20.0->-r requirements.txt (line 6)) (1.25.9)\n",
      "Requirement already satisfied: idna<3,>=2.5 in ./Venv/lib/python3.6/site-packages (from requests>=2.7.0->hdfs<3.0.0,>=2.1.0->apache-beam[gcp]==2.20.0->-r requirements.txt (line 6)) (2.9)\n",
      "Requirement already satisfied: certifi>=2017.4.17 in ./Venv/lib/python3.6/site-packages (from requests>=2.7.0->hdfs<3.0.0,>=2.1.0->apache-beam[gcp]==2.20.0->-r requirements.txt (line 6)) (2020.4.5.1)\n",
      "Requirement already satisfied: chardet<4,>=3.0.2 in ./Venv/lib/python3.6/site-packages (from requests>=2.7.0->hdfs<3.0.0,>=2.1.0->apache-beam[gcp]==2.20.0->-r requirements.txt (line 6)) (3.0.4)\n",
      "Requirement already satisfied: googleapis-common-protos<2.0dev,>=1.6.0 in ./Venv/lib/python3.6/site-packages (from google-api-core[grpc]<2.0.0dev,>=1.14.0->google-cloud-pubsub<1.1.0,>=0.39.0; extra == \"gcp\"->apache-beam[gcp]==2.20.0->-r requirements.txt (line 6)) (1.51.0)\n",
      "Requirement already satisfied: monotonic>=0.1 in ./Venv/lib/python3.6/site-packages (from fasteners>=0.14->google-apitools<0.5.29,>=0.5.28; extra == \"gcp\"->apache-beam[gcp]==2.20.0->-r requirements.txt (line 6)) (1.5)\n"
     ]
    }
   ],
   "source": [
    "%%bash\n",
    "pip3 install -r requirements.txt"
   ]
  },
  {
   "cell_type": "code",
   "execution_count": null,
   "metadata": {},
   "outputs": [],
   "source": [
    "%%bash\n",
    "pip3 list"
   ]
  },
  {
   "cell_type": "code",
   "execution_count": null,
   "metadata": {},
   "outputs": [],
   "source": [
    "%%bash\n",
    "which python"
   ]
  },
  {
   "cell_type": "code",
   "execution_count": null,
   "metadata": {},
   "outputs": [],
   "source": [
    "%%bash\n",
    "python --version"
   ]
  },
  {
   "cell_type": "markdown",
   "metadata": {},
   "source": [
    "# Notebook <a href=\"https://github.com/GoogleCloudPlatform/training-data-analyst/blob/master/courses/machine_learning/deepdive/06_structured/\">Link</a>"
   ]
  },
  {
   "cell_type": "markdown",
   "metadata": {},
   "source": [
    "# Necessary import of python package"
   ]
  },
  {
   "cell_type": "code",
   "execution_count": 3,
   "metadata": {},
   "outputs": [
    {
     "name": "stdout",
     "output_type": "stream",
     "text": [
      "Tensorflow: 2.2.0\n",
      "Tensorflow Transform: 0.22.0\n",
      "Apache beam: 2.20.0\n"
     ]
    }
   ],
   "source": [
    "import os\n",
    "import tensorflow as tf\n",
    "import tensorflow_transform as tft\n",
    "import apache_beam as beam\n",
    "print('Tensorflow: {}'.format(tf.__version__))\n",
    "print('Tensorflow Transform: {}'.format(tft.__version__))\n",
    "print('Apache beam: {}'.format(beam.__version__))"
   ]
  },
  {
   "cell_type": "markdown",
   "metadata": {},
   "source": [
    "Those above version which ran successfully in this notebook."
   ]
  },
  {
   "cell_type": "markdown",
   "metadata": {},
   "source": [
    "* Tensorflow: 2.1.0\n",
    "* Tensorflow Transform: 0.21.2\n",
    "* Apache beam: 2.20.0"
   ]
  },
  {
   "cell_type": "markdown",
   "metadata": {},
   "source": [
    "# Python Variable"
   ]
  },
  {
   "cell_type": "code",
   "execution_count": 4,
   "metadata": {},
   "outputs": [],
   "source": [
    "# change these to try this notebook out\n",
    "ACCOUNT = 'student-00-b4ae67740424@qwiklabs.net'\n",
    "SAC = 'qwick-jupyter-notebook-sac-e'\n",
    "SAC_KEY_DESTINATION = '/media/mujahid7292/Data/Gcloud_Tem_SAC'\n",
    "BUCKET = 'qwiklabs-gcp-00-008dc3c1bc37'\n",
    "PROJECT = 'qwiklabs-gcp-00-008dc3c1bc37'\n",
    "REGION = 'us-central1'"
   ]
  },
  {
   "cell_type": "markdown",
   "metadata": {},
   "source": [
    "# Bash Variable"
   ]
  },
  {
   "cell_type": "code",
   "execution_count": 5,
   "metadata": {},
   "outputs": [],
   "source": [
    "os.environ['ACCOUNT'] = ACCOUNT\n",
    "os.environ['SAC'] = SAC\n",
    "os.environ['SAC_KEY_DESTINATION'] = SAC_KEY_DESTINATION\n",
    "os.environ['BUCKET'] = BUCKET\n",
    "os.environ['PROJECT'] = PROJECT\n",
    "os.environ['REGION'] = REGION"
   ]
  },
  {
   "cell_type": "markdown",
   "metadata": {},
   "source": [
    "# LogIn To Google Cloud"
   ]
  },
  {
   "cell_type": "code",
   "execution_count": 8,
   "metadata": {},
   "outputs": [
    {
     "name": "stdout",
     "output_type": "stream",
     "text": [
      "Opening in existing browser session.\n"
     ]
    },
    {
     "name": "stderr",
     "output_type": "stream",
     "text": [
      "Your browser has been opened to visit:\n",
      "\n",
      "    https://accounts.google.com/o/oauth2/auth?code_challenge=AdmmEQACviKMuKsVNUi5efvDwj55-ZZ8ncLA5Mzv0Ak&prompt=select_account&code_challenge_method=S256&access_type=offline&redirect_uri=http%3A%2F%2Flocalhost%3A8085%2F&response_type=code&client_id=32555940559.apps.googleusercontent.com&scope=openid+https%3A%2F%2Fwww.googleapis.com%2Fauth%2Fuserinfo.email+https%3A%2F%2Fwww.googleapis.com%2Fauth%2Fcloud-platform+https%3A%2F%2Fwww.googleapis.com%2Fauth%2Fappengine.admin+https%3A%2F%2Fwww.googleapis.com%2Fauth%2Fcompute+https%3A%2F%2Fwww.googleapis.com%2Fauth%2Faccounts.reauth\n",
      "\n",
      "\n",
      "[0601/181040.922576:ERROR:nacl_helper_linux.cc(308)] NaCl helper process running without a sandbox!\n",
      "Most likely you need to configure your SUID sandbox correctly\n",
      "\n",
      "You are now logged in as [student-00-b4ae67740424@qwiklabs.net].\n",
      "Your current project is [qwiklabs-gcp-04-7e2ebaba2884].  You can change this setting by running:\n",
      "  $ gcloud config set project PROJECT_ID\n"
     ]
    }
   ],
   "source": [
    "%%bash\n",
    "gcloud auth login $ACCOUNT --force"
   ]
  },
  {
   "cell_type": "markdown",
   "metadata": {},
   "source": [
    "# Set Current Project"
   ]
  },
  {
   "cell_type": "code",
   "execution_count": 9,
   "metadata": {},
   "outputs": [
    {
     "name": "stderr",
     "output_type": "stream",
     "text": [
      "Updated property [core/project].\n"
     ]
    }
   ],
   "source": [
    "%%bash\n",
    "gcloud config set project $PROJECT"
   ]
  },
  {
   "cell_type": "markdown",
   "metadata": {},
   "source": [
    "# Create Servic Account For Jupyter Notebook"
   ]
  },
  {
   "cell_type": "code",
   "execution_count": 10,
   "metadata": {},
   "outputs": [
    {
     "name": "stderr",
     "output_type": "stream",
     "text": [
      "Created service account [qwick-jupyter-notebook-sac-e].\n"
     ]
    }
   ],
   "source": [
    "%%bash\n",
    "gcloud iam service-accounts create $SAC \\\n",
    "    --description \"This service account will help us to connect local jupyter notebook with server\" \\\n",
    "    --display-name \"jupyter-sac\""
   ]
  },
  {
   "cell_type": "markdown",
   "metadata": {},
   "source": [
    "# See the list of service account"
   ]
  },
  {
   "cell_type": "code",
   "execution_count": 11,
   "metadata": {},
   "outputs": [
    {
     "name": "stdout",
     "output_type": "stream",
     "text": [
      "NAME                                    EMAIL                                                                              DISABLED\n",
      "jupyter-sac                             qwick-jupyter-notebook-sac-e@qwiklabs-gcp-00-008dc3c1bc37.iam.gserviceaccount.com  False\n",
      "Compute Engine default service account  438107741394-compute@developer.gserviceaccount.com                                 False\n",
      "App Engine default service account      qwiklabs-gcp-00-008dc3c1bc37@appspot.gserviceaccount.com                           False\n",
      "Qwiklabs User Service Account           qwiklabs-gcp-00-008dc3c1bc37@qwiklabs-gcp-00-008dc3c1bc37.iam.gserviceaccount.com  False\n"
     ]
    }
   ],
   "source": [
    "%%bash\n",
    "gcloud iam service-accounts list"
   ]
  },
  {
   "cell_type": "markdown",
   "metadata": {},
   "source": [
    "# Enabling The Service Account"
   ]
  },
  {
   "cell_type": "code",
   "execution_count": 12,
   "metadata": {},
   "outputs": [
    {
     "name": "stderr",
     "output_type": "stream",
     "text": [
      "Enabled service account [qwick-jupyter-notebook-sac-e@qwiklabs-gcp-00-008dc3c1bc37.iam.gserviceaccount.com].\n"
     ]
    }
   ],
   "source": [
    "%%bash\n",
    "gcloud iam service-accounts enable $SAC@$PROJECT.iam.gserviceaccount.com --project $PROJECT"
   ]
  },
  {
   "cell_type": "markdown",
   "metadata": {},
   "source": [
    "# Create New Key For Above Service Account"
   ]
  },
  {
   "cell_type": "code",
   "execution_count": 13,
   "metadata": {},
   "outputs": [
    {
     "name": "stderr",
     "output_type": "stream",
     "text": [
      "created key [4d50de1e1514aa65265b61e5da0451fb5ccc1652] of type [json] as [/media/mujahid7292/Data/Gcloud_Tem_SAC/qwick-jupyter-notebook-sac-e.json] for [qwick-jupyter-notebook-sac-e@qwiklabs-gcp-00-008dc3c1bc37.iam.gserviceaccount.com]\n"
     ]
    }
   ],
   "source": [
    "%%bash\n",
    "gcloud iam service-accounts keys create $SAC_KEY_DESTINATION/$SAC.json \\\n",
    "  --iam-account $SAC@$PROJECT.iam.gserviceaccount.com \\\n",
    "  --project $PROJECT"
   ]
  },
  {
   "cell_type": "markdown",
   "metadata": {},
   "source": [
    "It may take up to 60 seconds before a newly created key can be used for authentication. If you experience authentication failures immediately after creating a new key, ensure that 60 seconds have elapsed before trying again."
   ]
  },
  {
   "cell_type": "markdown",
   "metadata": {},
   "source": [
    "# Activate the service account with above key"
   ]
  },
  {
   "cell_type": "code",
   "execution_count": 14,
   "metadata": {},
   "outputs": [
    {
     "name": "stderr",
     "output_type": "stream",
     "text": [
      "Activated service account credentials for: [qwick-jupyter-notebook-sac-e@qwiklabs-gcp-00-008dc3c1bc37.iam.gserviceaccount.com]\n"
     ]
    }
   ],
   "source": [
    "%%bash\n",
    "gcloud auth activate-service-account \\\n",
    "--key-file=${SAC_KEY_DESTINATION}/${SAC}.json"
   ]
  },
  {
   "cell_type": "markdown",
   "metadata": {},
   "source": [
    "# Set Google Application Credentials"
   ]
  },
  {
   "cell_type": "code",
   "execution_count": 15,
   "metadata": {},
   "outputs": [],
   "source": [
    "os.environ[\"GOOGLE_APPLICATION_CREDENTIALS\"]='{}/{}.json'.format(SAC_KEY_DESTINATION,SAC)"
   ]
  },
  {
   "cell_type": "markdown",
   "metadata": {},
   "source": [
    "Check Whether Google Application Credential Was Set Successfully Outside Virtual Environment"
   ]
  },
  {
   "cell_type": "code",
   "execution_count": 16,
   "metadata": {},
   "outputs": [
    {
     "name": "stdout",
     "output_type": "stream",
     "text": [
      "GOOGLE_APPLICATION_CREDENTIALS=/media/mujahid7292/Data/Gcloud_Tem_SAC/qwick-jupyter-notebook-sac-e.json\n"
     ]
    }
   ],
   "source": [
    "%%bash\n",
    "set | grep GOOGLE_APPLICATION_CREDENTIALS "
   ]
  },
  {
   "cell_type": "markdown",
   "metadata": {},
   "source": [
    "# Set Default Project And Region"
   ]
  },
  {
   "cell_type": "code",
   "execution_count": 17,
   "metadata": {},
   "outputs": [
    {
     "name": "stderr",
     "output_type": "stream",
     "text": [
      "Updated property [core/account].\n",
      "Updated property [core/project].\n",
      "Updated property [compute/region].\n"
     ]
    }
   ],
   "source": [
    "%%bash\n",
    "gcloud config set account $ACCOUNT\n",
    "gcloud config set project $PROJECT\n",
    "gcloud config set compute/region $REGION"
   ]
  },
  {
   "cell_type": "markdown",
   "metadata": {},
   "source": [
    "# Give BigQuery Access Permision To This Service Account"
   ]
  },
  {
   "cell_type": "code",
   "execution_count": 20,
   "metadata": {},
   "outputs": [
    {
     "name": "stdout",
     "output_type": "stream",
     "text": [
      "bindings:\n",
      "- members:\n",
      "  - serviceAccount:qwiklabs-gcp-00-008dc3c1bc37@qwiklabs-gcp-00-008dc3c1bc37.iam.gserviceaccount.com\n",
      "  - user:student-00-b4ae67740424@qwiklabs.net\n",
      "  role: roles/appengine.appAdmin\n",
      "- members:\n",
      "  - serviceAccount:service-438107741394@gae-api-prod.google.com.iam.gserviceaccount.com\n",
      "  role: roles/appengineflex.serviceAgent\n",
      "- members:\n",
      "  - serviceAccount:qwick-jupyter-notebook-sac-e@qwiklabs-gcp-00-008dc3c1bc37.iam.gserviceaccount.com\n",
      "  - serviceAccount:qwiklabs-gcp-00-008dc3c1bc37@qwiklabs-gcp-00-008dc3c1bc37.iam.gserviceaccount.com\n",
      "  - user:student-00-b4ae67740424@qwiklabs.net\n",
      "  role: roles/bigquery.admin\n",
      "- members:\n",
      "  - serviceAccount:qwiklabs-gcp-00-008dc3c1bc37@qwiklabs-gcp-00-008dc3c1bc37.iam.gserviceaccount.com\n",
      "  - user:student-00-b4ae67740424@qwiklabs.net\n",
      "  role: roles/bigquery.dataEditor\n",
      "- members:\n",
      "  - serviceAccount:qwiklabs-gcp-00-008dc3c1bc37@qwiklabs-gcp-00-008dc3c1bc37.iam.gserviceaccount.com\n",
      "  - user:student-00-b4ae67740424@qwiklabs.net\n",
      "  role: roles/bigquery.dataOwner\n",
      "- members:\n",
      "  - serviceAccount:qwiklabs-gcp-00-008dc3c1bc37@qwiklabs-gcp-00-008dc3c1bc37.iam.gserviceaccount.com\n",
      "  - user:student-00-b4ae67740424@qwiklabs.net\n",
      "  role: roles/bigquery.dataViewer\n",
      "- members:\n",
      "  - serviceAccount:qwiklabs-gcp-00-008dc3c1bc37@qwiklabs-gcp-00-008dc3c1bc37.iam.gserviceaccount.com\n",
      "  - user:student-00-b4ae67740424@qwiklabs.net\n",
      "  role: roles/bigquery.user\n",
      "- members:\n",
      "  - serviceAccount:service-438107741394@gcp-sa-bigquerydatatransfer.iam.gserviceaccount.com\n",
      "  role: roles/bigquerydatatransfer.serviceAgent\n",
      "- members:\n",
      "  - serviceAccount:qwiklabs-gcp-00-008dc3c1bc37@qwiklabs-gcp-00-008dc3c1bc37.iam.gserviceaccount.com\n",
      "  - user:student-00-b4ae67740424@qwiklabs.net\n",
      "  role: roles/browser\n",
      "- members:\n",
      "  - serviceAccount:438107741394@cloudbuild.gserviceaccount.com\n",
      "  role: roles/cloudbuild.builds.builder\n",
      "- members:\n",
      "  - serviceAccount:service-438107741394@gcp-sa-cloudbuild.iam.gserviceaccount.com\n",
      "  role: roles/cloudbuild.serviceAgent\n",
      "- members:\n",
      "  - serviceAccount:service-438107741394@gcf-admin-robot.iam.gserviceaccount.com\n",
      "  role: roles/cloudfunctions.serviceAgent\n",
      "- members:\n",
      "  - serviceAccount:service-438107741394@gcp-sa-cloudiot.iam.gserviceaccount.com\n",
      "  role: roles/cloudiot.serviceAgent\n",
      "- members:\n",
      "  - serviceAccount:service-438107741394@gcp-sa-cloudtasks.iam.gserviceaccount.com\n",
      "  role: roles/cloudtasks.serviceAgent\n",
      "- members:\n",
      "  - serviceAccount:service-438107741394@cloudcomposer-accounts.iam.gserviceaccount.com\n",
      "  role: roles/composer.serviceAgent\n",
      "- members:\n",
      "  - serviceAccount:qwiklabs-gcp-00-008dc3c1bc37@qwiklabs-gcp-00-008dc3c1bc37.iam.gserviceaccount.com\n",
      "  - user:student-00-b4ae67740424@qwiklabs.net\n",
      "  role: roles/compute.imageUser\n",
      "- members:\n",
      "  - serviceAccount:qwiklabs-gcp-00-008dc3c1bc37@qwiklabs-gcp-00-008dc3c1bc37.iam.gserviceaccount.com\n",
      "  - user:student-00-b4ae67740424@qwiklabs.net\n",
      "  role: roles/compute.instanceAdmin\n",
      "- members:\n",
      "  - serviceAccount:qwiklabs-gcp-00-008dc3c1bc37@qwiklabs-gcp-00-008dc3c1bc37.iam.gserviceaccount.com\n",
      "  - user:student-00-b4ae67740424@qwiklabs.net\n",
      "  role: roles/compute.networkAdmin\n",
      "- members:\n",
      "  - serviceAccount:qwiklabs-gcp-00-008dc3c1bc37@qwiklabs-gcp-00-008dc3c1bc37.iam.gserviceaccount.com\n",
      "  - user:student-00-b4ae67740424@qwiklabs.net\n",
      "  role: roles/compute.networkViewer\n",
      "- members:\n",
      "  - serviceAccount:qwiklabs-gcp-00-008dc3c1bc37@qwiklabs-gcp-00-008dc3c1bc37.iam.gserviceaccount.com\n",
      "  - user:student-00-b4ae67740424@qwiklabs.net\n",
      "  role: roles/compute.securityAdmin\n",
      "- members:\n",
      "  - serviceAccount:service-438107741394@compute-system.iam.gserviceaccount.com\n",
      "  role: roles/compute.serviceAgent\n",
      "- members:\n",
      "  - serviceAccount:qwiklabs-gcp-00-008dc3c1bc37@qwiklabs-gcp-00-008dc3c1bc37.iam.gserviceaccount.com\n",
      "  - user:student-00-b4ae67740424@qwiklabs.net\n",
      "  role: roles/compute.storageAdmin\n",
      "- members:\n",
      "  - serviceAccount:service-438107741394@container-engine-robot.iam.gserviceaccount.com\n",
      "  role: roles/container.serviceAgent\n",
      "- members:\n",
      "  - serviceAccount:service-438107741394@container-analysis.iam.gserviceaccount.com\n",
      "  role: roles/containeranalysis.ServiceAgent\n",
      "- members:\n",
      "  - serviceAccount:service-438107741394@gcp-sa-containerscanning.iam.gserviceaccount.com\n",
      "  role: roles/containerscanning.ServiceAgent\n",
      "- members:\n",
      "  - serviceAccount:qwiklabs-gcp-00-008dc3c1bc37@qwiklabs-gcp-00-008dc3c1bc37.iam.gserviceaccount.com\n",
      "  - user:student-00-b4ae67740424@qwiklabs.net\n",
      "  role: roles/dataflow.developer\n",
      "- members:\n",
      "  - serviceAccount:service-438107741394@dataflow-service-producer-prod.iam.gserviceaccount.com\n",
      "  role: roles/dataflow.serviceAgent\n",
      "- members:\n",
      "  - serviceAccount:qwiklabs-gcp-00-008dc3c1bc37@qwiklabs-gcp-00-008dc3c1bc37.iam.gserviceaccount.com\n",
      "  - user:student-00-b4ae67740424@qwiklabs.net\n",
      "  role: roles/dataflow.viewer\n",
      "- members:\n",
      "  - serviceAccount:qwiklabs-gcp-00-008dc3c1bc37@qwiklabs-gcp-00-008dc3c1bc37.iam.gserviceaccount.com\n",
      "  - user:student-00-b4ae67740424@qwiklabs.net\n",
      "  role: roles/dataflow.worker\n",
      "- members:\n",
      "  - serviceAccount:service-438107741394@dataproc-accounts.iam.gserviceaccount.com\n",
      "  role: roles/dataproc.serviceAgent\n",
      "- members:\n",
      "  - serviceAccount:service-438107741394@dlp-api.iam.gserviceaccount.com\n",
      "  role: roles/dlp.serviceAgent\n",
      "- members:\n",
      "  - serviceAccount:438107741394-compute@developer.gserviceaccount.com\n",
      "  - serviceAccount:438107741394@cloudservices.gserviceaccount.com\n",
      "  - serviceAccount:qwiklabs-gcp-00-008dc3c1bc37@appspot.gserviceaccount.com\n",
      "  - serviceAccount:qwiklabs-gcp-00-008dc3c1bc37@qwiklabs-gcp-00-008dc3c1bc37.iam.gserviceaccount.com\n",
      "  - serviceAccount:service-438107741394@containerregistry.iam.gserviceaccount.com\n",
      "  - user:student-00-b4ae67740424@qwiklabs.net\n",
      "  role: roles/editor\n",
      "- members:\n",
      "  - serviceAccount:service-438107741394@firebase-rules.iam.gserviceaccount.com\n",
      "  role: roles/firebaserules.system\n",
      "- members:\n",
      "  - serviceAccount:service-438107741394@genomics-api.google.com.iam.gserviceaccount.com\n",
      "  role: roles/genomics.serviceAgent\n",
      "- members:\n",
      "  - serviceAccount:qwiklabs-gcp-00-008dc3c1bc37@qwiklabs-gcp-00-008dc3c1bc37.iam.gserviceaccount.com\n",
      "  - user:student-00-b4ae67740424@qwiklabs.net\n",
      "  role: roles/iam.securityReviewer\n",
      "- members:\n",
      "  - serviceAccount:qwiklabs-gcp-00-008dc3c1bc37@qwiklabs-gcp-00-008dc3c1bc37.iam.gserviceaccount.com\n",
      "  - user:student-00-b4ae67740424@qwiklabs.net\n",
      "  role: roles/iam.serviceAccountUser\n",
      "- members:\n",
      "  - serviceAccount:qwick-jupyter-notebook-sac-e@qwiklabs-gcp-00-008dc3c1bc37.iam.gserviceaccount.com\n",
      "  role: roles/ml.admin\n",
      "- members:\n",
      "  - serviceAccount:service-438107741394@cloud-ml.google.com.iam.gserviceaccount.com\n",
      "  role: roles/ml.serviceAgent\n",
      "- members:\n",
      "  - serviceAccount:admiral@qwiklabs-services-prod.iam.gserviceaccount.com\n",
      "  - serviceAccount:qwiklabs-gcp-00-008dc3c1bc37@qwiklabs-gcp-00-008dc3c1bc37.iam.gserviceaccount.com\n",
      "  - user:student-00-b4ae67740424@qwiklabs.net\n",
      "  role: roles/owner\n",
      "- members:\n",
      "  - serviceAccount:qwick-jupyter-notebook-sac-e@qwiklabs-gcp-00-008dc3c1bc37.iam.gserviceaccount.com\n",
      "  - serviceAccount:qwiklabs-gcp-00-008dc3c1bc37@qwiklabs-gcp-00-008dc3c1bc37.iam.gserviceaccount.com\n",
      "  - user:student-00-b4ae67740424@qwiklabs.net\n",
      "  role: roles/storage.admin\n",
      "- members:\n",
      "  - serviceAccount:qwiklabs-gcp-00-008dc3c1bc37@qwiklabs-gcp-00-008dc3c1bc37.iam.gserviceaccount.com\n",
      "  - user:student-00-b4ae67740424@qwiklabs.net\n",
      "  role: roles/storage.objectAdmin\n",
      "- members:\n",
      "  - serviceAccount:qwiklabs-gcp-00-008dc3c1bc37@qwiklabs-gcp-00-008dc3c1bc37.iam.gserviceaccount.com\n",
      "  - user:student-00-b4ae67740424@qwiklabs.net\n",
      "  role: roles/storage.objectCreator\n",
      "- members:\n",
      "  - serviceAccount:qwiklabs-gcp-00-008dc3c1bc37@qwiklabs-gcp-00-008dc3c1bc37.iam.gserviceaccount.com\n",
      "  - user:student-00-b4ae67740424@qwiklabs.net\n",
      "  role: roles/storage.objectViewer\n",
      "- members:\n",
      "  - serviceAccount:qwiklabs-gcp-00-008dc3c1bc37@qwiklabs-gcp-00-008dc3c1bc37.iam.gserviceaccount.com\n",
      "  - user:student-00-b4ae67740424@qwiklabs.net\n",
      "  role: roles/viewer\n",
      "etag: BwWnBLZhNJU=\n",
      "version: 1\n"
     ]
    },
    {
     "name": "stderr",
     "output_type": "stream",
     "text": [
      "Updated IAM policy for project [qwiklabs-gcp-00-008dc3c1bc37].\n"
     ]
    }
   ],
   "source": [
    "%%bash\n",
    "gcloud projects add-iam-policy-binding $PROJECT \\\n",
    "    --member serviceAccount:$SAC@$PROJECT.iam.gserviceaccount.com \\\n",
    "    --role roles/bigquery.admin"
   ]
  },
  {
   "cell_type": "markdown",
   "metadata": {},
   "source": [
    "# Give GCS Access Permision To This Service Account"
   ]
  },
  {
   "cell_type": "code",
   "execution_count": 18,
   "metadata": {},
   "outputs": [
    {
     "name": "stdout",
     "output_type": "stream",
     "text": [
      "bindings:\n",
      "- members:\n",
      "  - serviceAccount:qwiklabs-gcp-00-008dc3c1bc37@qwiklabs-gcp-00-008dc3c1bc37.iam.gserviceaccount.com\n",
      "  - user:student-00-b4ae67740424@qwiklabs.net\n",
      "  role: roles/appengine.appAdmin\n",
      "- members:\n",
      "  - serviceAccount:service-438107741394@gae-api-prod.google.com.iam.gserviceaccount.com\n",
      "  role: roles/appengineflex.serviceAgent\n",
      "- members:\n",
      "  - serviceAccount:qwiklabs-gcp-00-008dc3c1bc37@qwiklabs-gcp-00-008dc3c1bc37.iam.gserviceaccount.com\n",
      "  - user:student-00-b4ae67740424@qwiklabs.net\n",
      "  role: roles/bigquery.admin\n",
      "- members:\n",
      "  - serviceAccount:qwiklabs-gcp-00-008dc3c1bc37@qwiklabs-gcp-00-008dc3c1bc37.iam.gserviceaccount.com\n",
      "  - user:student-00-b4ae67740424@qwiklabs.net\n",
      "  role: roles/bigquery.dataEditor\n",
      "- members:\n",
      "  - serviceAccount:qwiklabs-gcp-00-008dc3c1bc37@qwiklabs-gcp-00-008dc3c1bc37.iam.gserviceaccount.com\n",
      "  - user:student-00-b4ae67740424@qwiklabs.net\n",
      "  role: roles/bigquery.dataOwner\n",
      "- members:\n",
      "  - serviceAccount:qwiklabs-gcp-00-008dc3c1bc37@qwiklabs-gcp-00-008dc3c1bc37.iam.gserviceaccount.com\n",
      "  - user:student-00-b4ae67740424@qwiklabs.net\n",
      "  role: roles/bigquery.dataViewer\n",
      "- members:\n",
      "  - serviceAccount:qwiklabs-gcp-00-008dc3c1bc37@qwiklabs-gcp-00-008dc3c1bc37.iam.gserviceaccount.com\n",
      "  - user:student-00-b4ae67740424@qwiklabs.net\n",
      "  role: roles/bigquery.user\n",
      "- members:\n",
      "  - serviceAccount:service-438107741394@gcp-sa-bigquerydatatransfer.iam.gserviceaccount.com\n",
      "  role: roles/bigquerydatatransfer.serviceAgent\n",
      "- members:\n",
      "  - serviceAccount:qwiklabs-gcp-00-008dc3c1bc37@qwiklabs-gcp-00-008dc3c1bc37.iam.gserviceaccount.com\n",
      "  - user:student-00-b4ae67740424@qwiklabs.net\n",
      "  role: roles/browser\n",
      "- members:\n",
      "  - serviceAccount:438107741394@cloudbuild.gserviceaccount.com\n",
      "  role: roles/cloudbuild.builds.builder\n",
      "- members:\n",
      "  - serviceAccount:service-438107741394@gcp-sa-cloudbuild.iam.gserviceaccount.com\n",
      "  role: roles/cloudbuild.serviceAgent\n",
      "- members:\n",
      "  - serviceAccount:service-438107741394@gcf-admin-robot.iam.gserviceaccount.com\n",
      "  role: roles/cloudfunctions.serviceAgent\n",
      "- members:\n",
      "  - serviceAccount:service-438107741394@gcp-sa-cloudiot.iam.gserviceaccount.com\n",
      "  role: roles/cloudiot.serviceAgent\n",
      "- members:\n",
      "  - serviceAccount:service-438107741394@gcp-sa-cloudtasks.iam.gserviceaccount.com\n",
      "  role: roles/cloudtasks.serviceAgent\n",
      "- members:\n",
      "  - serviceAccount:service-438107741394@cloudcomposer-accounts.iam.gserviceaccount.com\n",
      "  role: roles/composer.serviceAgent\n",
      "- members:\n",
      "  - serviceAccount:qwiklabs-gcp-00-008dc3c1bc37@qwiklabs-gcp-00-008dc3c1bc37.iam.gserviceaccount.com\n",
      "  - user:student-00-b4ae67740424@qwiklabs.net\n",
      "  role: roles/compute.imageUser\n",
      "- members:\n",
      "  - serviceAccount:qwiklabs-gcp-00-008dc3c1bc37@qwiklabs-gcp-00-008dc3c1bc37.iam.gserviceaccount.com\n",
      "  - user:student-00-b4ae67740424@qwiklabs.net\n",
      "  role: roles/compute.instanceAdmin\n",
      "- members:\n",
      "  - serviceAccount:qwiklabs-gcp-00-008dc3c1bc37@qwiklabs-gcp-00-008dc3c1bc37.iam.gserviceaccount.com\n",
      "  - user:student-00-b4ae67740424@qwiklabs.net\n",
      "  role: roles/compute.networkAdmin\n",
      "- members:\n",
      "  - serviceAccount:qwiklabs-gcp-00-008dc3c1bc37@qwiklabs-gcp-00-008dc3c1bc37.iam.gserviceaccount.com\n",
      "  - user:student-00-b4ae67740424@qwiklabs.net\n",
      "  role: roles/compute.networkViewer\n",
      "- members:\n",
      "  - serviceAccount:qwiklabs-gcp-00-008dc3c1bc37@qwiklabs-gcp-00-008dc3c1bc37.iam.gserviceaccount.com\n",
      "  - user:student-00-b4ae67740424@qwiklabs.net\n",
      "  role: roles/compute.securityAdmin\n",
      "- members:\n",
      "  - serviceAccount:service-438107741394@compute-system.iam.gserviceaccount.com\n",
      "  role: roles/compute.serviceAgent\n",
      "- members:\n",
      "  - serviceAccount:qwiklabs-gcp-00-008dc3c1bc37@qwiklabs-gcp-00-008dc3c1bc37.iam.gserviceaccount.com\n",
      "  - user:student-00-b4ae67740424@qwiklabs.net\n",
      "  role: roles/compute.storageAdmin\n",
      "- members:\n",
      "  - serviceAccount:service-438107741394@container-engine-robot.iam.gserviceaccount.com\n",
      "  role: roles/container.serviceAgent\n",
      "- members:\n",
      "  - serviceAccount:service-438107741394@container-analysis.iam.gserviceaccount.com\n",
      "  role: roles/containeranalysis.ServiceAgent\n",
      "- members:\n",
      "  - serviceAccount:service-438107741394@gcp-sa-containerscanning.iam.gserviceaccount.com\n",
      "  role: roles/containerscanning.ServiceAgent\n",
      "- members:\n",
      "  - serviceAccount:qwiklabs-gcp-00-008dc3c1bc37@qwiklabs-gcp-00-008dc3c1bc37.iam.gserviceaccount.com\n",
      "  - user:student-00-b4ae67740424@qwiklabs.net\n",
      "  role: roles/dataflow.developer\n",
      "- members:\n",
      "  - serviceAccount:service-438107741394@dataflow-service-producer-prod.iam.gserviceaccount.com\n",
      "  role: roles/dataflow.serviceAgent\n",
      "- members:\n",
      "  - serviceAccount:qwiklabs-gcp-00-008dc3c1bc37@qwiklabs-gcp-00-008dc3c1bc37.iam.gserviceaccount.com\n",
      "  - user:student-00-b4ae67740424@qwiklabs.net\n",
      "  role: roles/dataflow.viewer\n",
      "- members:\n",
      "  - serviceAccount:qwiklabs-gcp-00-008dc3c1bc37@qwiklabs-gcp-00-008dc3c1bc37.iam.gserviceaccount.com\n",
      "  - user:student-00-b4ae67740424@qwiklabs.net\n",
      "  role: roles/dataflow.worker\n",
      "- members:\n",
      "  - serviceAccount:service-438107741394@dataproc-accounts.iam.gserviceaccount.com\n",
      "  role: roles/dataproc.serviceAgent\n",
      "- members:\n",
      "  - serviceAccount:service-438107741394@dlp-api.iam.gserviceaccount.com\n",
      "  role: roles/dlp.serviceAgent\n",
      "- members:\n",
      "  - serviceAccount:438107741394-compute@developer.gserviceaccount.com\n",
      "  - serviceAccount:438107741394@cloudservices.gserviceaccount.com\n",
      "  - serviceAccount:qwiklabs-gcp-00-008dc3c1bc37@appspot.gserviceaccount.com\n",
      "  - serviceAccount:qwiklabs-gcp-00-008dc3c1bc37@qwiklabs-gcp-00-008dc3c1bc37.iam.gserviceaccount.com\n",
      "  - serviceAccount:service-438107741394@containerregistry.iam.gserviceaccount.com\n",
      "  - user:student-00-b4ae67740424@qwiklabs.net\n",
      "  role: roles/editor\n",
      "- members:\n",
      "  - serviceAccount:service-438107741394@firebase-rules.iam.gserviceaccount.com\n",
      "  role: roles/firebaserules.system\n",
      "- members:\n",
      "  - serviceAccount:service-438107741394@genomics-api.google.com.iam.gserviceaccount.com\n",
      "  role: roles/genomics.serviceAgent\n",
      "- members:\n",
      "  - serviceAccount:qwiklabs-gcp-00-008dc3c1bc37@qwiklabs-gcp-00-008dc3c1bc37.iam.gserviceaccount.com\n",
      "  - user:student-00-b4ae67740424@qwiklabs.net\n",
      "  role: roles/iam.securityReviewer\n",
      "- members:\n",
      "  - serviceAccount:qwiklabs-gcp-00-008dc3c1bc37@qwiklabs-gcp-00-008dc3c1bc37.iam.gserviceaccount.com\n",
      "  - user:student-00-b4ae67740424@qwiklabs.net\n",
      "  role: roles/iam.serviceAccountUser\n",
      "- members:\n",
      "  - serviceAccount:service-438107741394@cloud-ml.google.com.iam.gserviceaccount.com\n",
      "  role: roles/ml.serviceAgent\n",
      "- members:\n",
      "  - serviceAccount:admiral@qwiklabs-services-prod.iam.gserviceaccount.com\n",
      "  - serviceAccount:qwiklabs-gcp-00-008dc3c1bc37@qwiklabs-gcp-00-008dc3c1bc37.iam.gserviceaccount.com\n",
      "  - user:student-00-b4ae67740424@qwiklabs.net\n",
      "  role: roles/owner\n",
      "- members:\n",
      "  - serviceAccount:qwick-jupyter-notebook-sac-e@qwiklabs-gcp-00-008dc3c1bc37.iam.gserviceaccount.com\n",
      "  - serviceAccount:qwiklabs-gcp-00-008dc3c1bc37@qwiklabs-gcp-00-008dc3c1bc37.iam.gserviceaccount.com\n",
      "  - user:student-00-b4ae67740424@qwiklabs.net\n",
      "  role: roles/storage.admin\n",
      "- members:\n",
      "  - serviceAccount:qwiklabs-gcp-00-008dc3c1bc37@qwiklabs-gcp-00-008dc3c1bc37.iam.gserviceaccount.com\n",
      "  - user:student-00-b4ae67740424@qwiklabs.net\n",
      "  role: roles/storage.objectAdmin\n",
      "- members:\n",
      "  - serviceAccount:qwiklabs-gcp-00-008dc3c1bc37@qwiklabs-gcp-00-008dc3c1bc37.iam.gserviceaccount.com\n",
      "  - user:student-00-b4ae67740424@qwiklabs.net\n",
      "  role: roles/storage.objectCreator\n",
      "- members:\n",
      "  - serviceAccount:qwiklabs-gcp-00-008dc3c1bc37@qwiklabs-gcp-00-008dc3c1bc37.iam.gserviceaccount.com\n",
      "  - user:student-00-b4ae67740424@qwiklabs.net\n",
      "  role: roles/storage.objectViewer\n",
      "- members:\n",
      "  - serviceAccount:qwiklabs-gcp-00-008dc3c1bc37@qwiklabs-gcp-00-008dc3c1bc37.iam.gserviceaccount.com\n",
      "  - user:student-00-b4ae67740424@qwiklabs.net\n",
      "  role: roles/viewer\n",
      "etag: BwWnBLXL1Go=\n",
      "version: 1\n"
     ]
    },
    {
     "name": "stderr",
     "output_type": "stream",
     "text": [
      "Updated IAM policy for project [qwiklabs-gcp-00-008dc3c1bc37].\n"
     ]
    }
   ],
   "source": [
    "%%bash\n",
    "gcloud projects add-iam-policy-binding $PROJECT \\\n",
    "    --member serviceAccount:$SAC@$PROJECT.iam.gserviceaccount.com \\\n",
    "    --role roles/storage.admin"
   ]
  },
  {
   "cell_type": "markdown",
   "metadata": {},
   "source": [
    "# Give AI Platform Access Permision To This Service Account"
   ]
  },
  {
   "cell_type": "code",
   "execution_count": 19,
   "metadata": {},
   "outputs": [
    {
     "name": "stdout",
     "output_type": "stream",
     "text": [
      "bindings:\n",
      "- members:\n",
      "  - serviceAccount:qwiklabs-gcp-00-008dc3c1bc37@qwiklabs-gcp-00-008dc3c1bc37.iam.gserviceaccount.com\n",
      "  - user:student-00-b4ae67740424@qwiklabs.net\n",
      "  role: roles/appengine.appAdmin\n",
      "- members:\n",
      "  - serviceAccount:service-438107741394@gae-api-prod.google.com.iam.gserviceaccount.com\n",
      "  role: roles/appengineflex.serviceAgent\n",
      "- members:\n",
      "  - serviceAccount:qwiklabs-gcp-00-008dc3c1bc37@qwiklabs-gcp-00-008dc3c1bc37.iam.gserviceaccount.com\n",
      "  - user:student-00-b4ae67740424@qwiklabs.net\n",
      "  role: roles/bigquery.admin\n",
      "- members:\n",
      "  - serviceAccount:qwiklabs-gcp-00-008dc3c1bc37@qwiklabs-gcp-00-008dc3c1bc37.iam.gserviceaccount.com\n",
      "  - user:student-00-b4ae67740424@qwiklabs.net\n",
      "  role: roles/bigquery.dataEditor\n",
      "- members:\n",
      "  - serviceAccount:qwiklabs-gcp-00-008dc3c1bc37@qwiklabs-gcp-00-008dc3c1bc37.iam.gserviceaccount.com\n",
      "  - user:student-00-b4ae67740424@qwiklabs.net\n",
      "  role: roles/bigquery.dataOwner\n",
      "- members:\n",
      "  - serviceAccount:qwiklabs-gcp-00-008dc3c1bc37@qwiklabs-gcp-00-008dc3c1bc37.iam.gserviceaccount.com\n",
      "  - user:student-00-b4ae67740424@qwiklabs.net\n",
      "  role: roles/bigquery.dataViewer\n",
      "- members:\n",
      "  - serviceAccount:qwiklabs-gcp-00-008dc3c1bc37@qwiklabs-gcp-00-008dc3c1bc37.iam.gserviceaccount.com\n",
      "  - user:student-00-b4ae67740424@qwiklabs.net\n",
      "  role: roles/bigquery.user\n",
      "- members:\n",
      "  - serviceAccount:service-438107741394@gcp-sa-bigquerydatatransfer.iam.gserviceaccount.com\n",
      "  role: roles/bigquerydatatransfer.serviceAgent\n",
      "- members:\n",
      "  - serviceAccount:qwiklabs-gcp-00-008dc3c1bc37@qwiklabs-gcp-00-008dc3c1bc37.iam.gserviceaccount.com\n",
      "  - user:student-00-b4ae67740424@qwiklabs.net\n",
      "  role: roles/browser\n",
      "- members:\n",
      "  - serviceAccount:438107741394@cloudbuild.gserviceaccount.com\n",
      "  role: roles/cloudbuild.builds.builder\n",
      "- members:\n",
      "  - serviceAccount:service-438107741394@gcp-sa-cloudbuild.iam.gserviceaccount.com\n",
      "  role: roles/cloudbuild.serviceAgent\n",
      "- members:\n",
      "  - serviceAccount:service-438107741394@gcf-admin-robot.iam.gserviceaccount.com\n",
      "  role: roles/cloudfunctions.serviceAgent\n",
      "- members:\n",
      "  - serviceAccount:service-438107741394@gcp-sa-cloudiot.iam.gserviceaccount.com\n",
      "  role: roles/cloudiot.serviceAgent\n",
      "- members:\n",
      "  - serviceAccount:service-438107741394@gcp-sa-cloudtasks.iam.gserviceaccount.com\n",
      "  role: roles/cloudtasks.serviceAgent\n",
      "- members:\n",
      "  - serviceAccount:service-438107741394@cloudcomposer-accounts.iam.gserviceaccount.com\n",
      "  role: roles/composer.serviceAgent\n",
      "- members:\n",
      "  - serviceAccount:qwiklabs-gcp-00-008dc3c1bc37@qwiklabs-gcp-00-008dc3c1bc37.iam.gserviceaccount.com\n",
      "  - user:student-00-b4ae67740424@qwiklabs.net\n",
      "  role: roles/compute.imageUser\n",
      "- members:\n",
      "  - serviceAccount:qwiklabs-gcp-00-008dc3c1bc37@qwiklabs-gcp-00-008dc3c1bc37.iam.gserviceaccount.com\n",
      "  - user:student-00-b4ae67740424@qwiklabs.net\n",
      "  role: roles/compute.instanceAdmin\n",
      "- members:\n",
      "  - serviceAccount:qwiklabs-gcp-00-008dc3c1bc37@qwiklabs-gcp-00-008dc3c1bc37.iam.gserviceaccount.com\n",
      "  - user:student-00-b4ae67740424@qwiklabs.net\n",
      "  role: roles/compute.networkAdmin\n",
      "- members:\n",
      "  - serviceAccount:qwiklabs-gcp-00-008dc3c1bc37@qwiklabs-gcp-00-008dc3c1bc37.iam.gserviceaccount.com\n",
      "  - user:student-00-b4ae67740424@qwiklabs.net\n",
      "  role: roles/compute.networkViewer\n",
      "- members:\n",
      "  - serviceAccount:qwiklabs-gcp-00-008dc3c1bc37@qwiklabs-gcp-00-008dc3c1bc37.iam.gserviceaccount.com\n",
      "  - user:student-00-b4ae67740424@qwiklabs.net\n",
      "  role: roles/compute.securityAdmin\n",
      "- members:\n",
      "  - serviceAccount:service-438107741394@compute-system.iam.gserviceaccount.com\n",
      "  role: roles/compute.serviceAgent\n",
      "- members:\n",
      "  - serviceAccount:qwiklabs-gcp-00-008dc3c1bc37@qwiklabs-gcp-00-008dc3c1bc37.iam.gserviceaccount.com\n",
      "  - user:student-00-b4ae67740424@qwiklabs.net\n",
      "  role: roles/compute.storageAdmin\n",
      "- members:\n",
      "  - serviceAccount:service-438107741394@container-engine-robot.iam.gserviceaccount.com\n",
      "  role: roles/container.serviceAgent\n",
      "- members:\n",
      "  - serviceAccount:service-438107741394@container-analysis.iam.gserviceaccount.com\n",
      "  role: roles/containeranalysis.ServiceAgent\n",
      "- members:\n",
      "  - serviceAccount:service-438107741394@gcp-sa-containerscanning.iam.gserviceaccount.com\n",
      "  role: roles/containerscanning.ServiceAgent\n",
      "- members:\n",
      "  - serviceAccount:qwiklabs-gcp-00-008dc3c1bc37@qwiklabs-gcp-00-008dc3c1bc37.iam.gserviceaccount.com\n",
      "  - user:student-00-b4ae67740424@qwiklabs.net\n",
      "  role: roles/dataflow.developer\n",
      "- members:\n",
      "  - serviceAccount:service-438107741394@dataflow-service-producer-prod.iam.gserviceaccount.com\n",
      "  role: roles/dataflow.serviceAgent\n",
      "- members:\n",
      "  - serviceAccount:qwiklabs-gcp-00-008dc3c1bc37@qwiklabs-gcp-00-008dc3c1bc37.iam.gserviceaccount.com\n",
      "  - user:student-00-b4ae67740424@qwiklabs.net\n",
      "  role: roles/dataflow.viewer\n",
      "- members:\n",
      "  - serviceAccount:qwiklabs-gcp-00-008dc3c1bc37@qwiklabs-gcp-00-008dc3c1bc37.iam.gserviceaccount.com\n",
      "  - user:student-00-b4ae67740424@qwiklabs.net\n",
      "  role: roles/dataflow.worker\n",
      "- members:\n",
      "  - serviceAccount:service-438107741394@dataproc-accounts.iam.gserviceaccount.com\n",
      "  role: roles/dataproc.serviceAgent\n",
      "- members:\n",
      "  - serviceAccount:service-438107741394@dlp-api.iam.gserviceaccount.com\n",
      "  role: roles/dlp.serviceAgent\n",
      "- members:\n",
      "  - serviceAccount:438107741394-compute@developer.gserviceaccount.com\n",
      "  - serviceAccount:438107741394@cloudservices.gserviceaccount.com\n",
      "  - serviceAccount:qwiklabs-gcp-00-008dc3c1bc37@appspot.gserviceaccount.com\n",
      "  - serviceAccount:qwiklabs-gcp-00-008dc3c1bc37@qwiklabs-gcp-00-008dc3c1bc37.iam.gserviceaccount.com\n",
      "  - serviceAccount:service-438107741394@containerregistry.iam.gserviceaccount.com\n",
      "  - user:student-00-b4ae67740424@qwiklabs.net\n",
      "  role: roles/editor\n",
      "- members:\n",
      "  - serviceAccount:service-438107741394@firebase-rules.iam.gserviceaccount.com\n",
      "  role: roles/firebaserules.system\n",
      "- members:\n",
      "  - serviceAccount:service-438107741394@genomics-api.google.com.iam.gserviceaccount.com\n",
      "  role: roles/genomics.serviceAgent\n",
      "- members:\n",
      "  - serviceAccount:qwiklabs-gcp-00-008dc3c1bc37@qwiklabs-gcp-00-008dc3c1bc37.iam.gserviceaccount.com\n",
      "  - user:student-00-b4ae67740424@qwiklabs.net\n",
      "  role: roles/iam.securityReviewer\n",
      "- members:\n",
      "  - serviceAccount:qwiklabs-gcp-00-008dc3c1bc37@qwiklabs-gcp-00-008dc3c1bc37.iam.gserviceaccount.com\n",
      "  - user:student-00-b4ae67740424@qwiklabs.net\n",
      "  role: roles/iam.serviceAccountUser\n",
      "- members:\n",
      "  - serviceAccount:qwick-jupyter-notebook-sac-e@qwiklabs-gcp-00-008dc3c1bc37.iam.gserviceaccount.com\n",
      "  role: roles/ml.admin\n",
      "- members:\n",
      "  - serviceAccount:service-438107741394@cloud-ml.google.com.iam.gserviceaccount.com\n",
      "  role: roles/ml.serviceAgent\n",
      "- members:\n",
      "  - serviceAccount:admiral@qwiklabs-services-prod.iam.gserviceaccount.com\n",
      "  - serviceAccount:qwiklabs-gcp-00-008dc3c1bc37@qwiklabs-gcp-00-008dc3c1bc37.iam.gserviceaccount.com\n",
      "  - user:student-00-b4ae67740424@qwiklabs.net\n",
      "  role: roles/owner\n",
      "- members:\n",
      "  - serviceAccount:qwick-jupyter-notebook-sac-e@qwiklabs-gcp-00-008dc3c1bc37.iam.gserviceaccount.com\n",
      "  - serviceAccount:qwiklabs-gcp-00-008dc3c1bc37@qwiklabs-gcp-00-008dc3c1bc37.iam.gserviceaccount.com\n",
      "  - user:student-00-b4ae67740424@qwiklabs.net\n",
      "  role: roles/storage.admin\n",
      "- members:\n",
      "  - serviceAccount:qwiklabs-gcp-00-008dc3c1bc37@qwiklabs-gcp-00-008dc3c1bc37.iam.gserviceaccount.com\n",
      "  - user:student-00-b4ae67740424@qwiklabs.net\n",
      "  role: roles/storage.objectAdmin\n",
      "- members:\n",
      "  - serviceAccount:qwiklabs-gcp-00-008dc3c1bc37@qwiklabs-gcp-00-008dc3c1bc37.iam.gserviceaccount.com\n",
      "  - user:student-00-b4ae67740424@qwiklabs.net\n",
      "  role: roles/storage.objectCreator\n",
      "- members:\n",
      "  - serviceAccount:qwiklabs-gcp-00-008dc3c1bc37@qwiklabs-gcp-00-008dc3c1bc37.iam.gserviceaccount.com\n",
      "  - user:student-00-b4ae67740424@qwiklabs.net\n",
      "  role: roles/storage.objectViewer\n",
      "- members:\n",
      "  - serviceAccount:qwiklabs-gcp-00-008dc3c1bc37@qwiklabs-gcp-00-008dc3c1bc37.iam.gserviceaccount.com\n",
      "  - user:student-00-b4ae67740424@qwiklabs.net\n",
      "  role: roles/viewer\n",
      "etag: BwWnBLYNlhw=\n",
      "version: 1\n"
     ]
    },
    {
     "name": "stderr",
     "output_type": "stream",
     "text": [
      "Updated IAM policy for project [qwiklabs-gcp-00-008dc3c1bc37].\n"
     ]
    }
   ],
   "source": [
    "%%bash\n",
    "gcloud projects add-iam-policy-binding $PROJECT \\\n",
    "    --member serviceAccount:$SAC@$PROJECT.iam.gserviceaccount.com \\\n",
    "    --role roles/ml.admin"
   ]
  },
  {
   "cell_type": "markdown",
   "metadata": {},
   "source": [
    "## Give Dataflow Access Permission To This Service Account"
   ]
  },
  {
   "cell_type": "code",
   "execution_count": 21,
   "metadata": {},
   "outputs": [
    {
     "name": "stdout",
     "output_type": "stream",
     "text": [
      "bindings:\n",
      "- members:\n",
      "  - serviceAccount:qwiklabs-gcp-00-008dc3c1bc37@qwiklabs-gcp-00-008dc3c1bc37.iam.gserviceaccount.com\n",
      "  - user:student-00-b4ae67740424@qwiklabs.net\n",
      "  role: roles/appengine.appAdmin\n",
      "- members:\n",
      "  - serviceAccount:service-438107741394@gae-api-prod.google.com.iam.gserviceaccount.com\n",
      "  role: roles/appengineflex.serviceAgent\n",
      "- members:\n",
      "  - serviceAccount:qwick-jupyter-notebook-sac-e@qwiklabs-gcp-00-008dc3c1bc37.iam.gserviceaccount.com\n",
      "  - serviceAccount:qwiklabs-gcp-00-008dc3c1bc37@qwiklabs-gcp-00-008dc3c1bc37.iam.gserviceaccount.com\n",
      "  - user:student-00-b4ae67740424@qwiklabs.net\n",
      "  role: roles/bigquery.admin\n",
      "- members:\n",
      "  - serviceAccount:qwiklabs-gcp-00-008dc3c1bc37@qwiklabs-gcp-00-008dc3c1bc37.iam.gserviceaccount.com\n",
      "  - user:student-00-b4ae67740424@qwiklabs.net\n",
      "  role: roles/bigquery.dataEditor\n",
      "- members:\n",
      "  - serviceAccount:qwiklabs-gcp-00-008dc3c1bc37@qwiklabs-gcp-00-008dc3c1bc37.iam.gserviceaccount.com\n",
      "  - user:student-00-b4ae67740424@qwiklabs.net\n",
      "  role: roles/bigquery.dataOwner\n",
      "- members:\n",
      "  - serviceAccount:qwiklabs-gcp-00-008dc3c1bc37@qwiklabs-gcp-00-008dc3c1bc37.iam.gserviceaccount.com\n",
      "  - user:student-00-b4ae67740424@qwiklabs.net\n",
      "  role: roles/bigquery.dataViewer\n",
      "- members:\n",
      "  - serviceAccount:qwiklabs-gcp-00-008dc3c1bc37@qwiklabs-gcp-00-008dc3c1bc37.iam.gserviceaccount.com\n",
      "  - user:student-00-b4ae67740424@qwiklabs.net\n",
      "  role: roles/bigquery.user\n",
      "- members:\n",
      "  - serviceAccount:service-438107741394@gcp-sa-bigquerydatatransfer.iam.gserviceaccount.com\n",
      "  role: roles/bigquerydatatransfer.serviceAgent\n",
      "- members:\n",
      "  - serviceAccount:qwiklabs-gcp-00-008dc3c1bc37@qwiklabs-gcp-00-008dc3c1bc37.iam.gserviceaccount.com\n",
      "  - user:student-00-b4ae67740424@qwiklabs.net\n",
      "  role: roles/browser\n",
      "- members:\n",
      "  - serviceAccount:438107741394@cloudbuild.gserviceaccount.com\n",
      "  role: roles/cloudbuild.builds.builder\n",
      "- members:\n",
      "  - serviceAccount:service-438107741394@gcp-sa-cloudbuild.iam.gserviceaccount.com\n",
      "  role: roles/cloudbuild.serviceAgent\n",
      "- members:\n",
      "  - serviceAccount:service-438107741394@gcf-admin-robot.iam.gserviceaccount.com\n",
      "  role: roles/cloudfunctions.serviceAgent\n",
      "- members:\n",
      "  - serviceAccount:service-438107741394@gcp-sa-cloudiot.iam.gserviceaccount.com\n",
      "  role: roles/cloudiot.serviceAgent\n",
      "- members:\n",
      "  - serviceAccount:service-438107741394@gcp-sa-cloudtasks.iam.gserviceaccount.com\n",
      "  role: roles/cloudtasks.serviceAgent\n",
      "- members:\n",
      "  - serviceAccount:service-438107741394@cloudcomposer-accounts.iam.gserviceaccount.com\n",
      "  role: roles/composer.serviceAgent\n",
      "- members:\n",
      "  - serviceAccount:qwiklabs-gcp-00-008dc3c1bc37@qwiklabs-gcp-00-008dc3c1bc37.iam.gserviceaccount.com\n",
      "  - user:student-00-b4ae67740424@qwiklabs.net\n",
      "  role: roles/compute.imageUser\n",
      "- members:\n",
      "  - serviceAccount:qwiklabs-gcp-00-008dc3c1bc37@qwiklabs-gcp-00-008dc3c1bc37.iam.gserviceaccount.com\n",
      "  - user:student-00-b4ae67740424@qwiklabs.net\n",
      "  role: roles/compute.instanceAdmin\n",
      "- members:\n",
      "  - serviceAccount:qwiklabs-gcp-00-008dc3c1bc37@qwiklabs-gcp-00-008dc3c1bc37.iam.gserviceaccount.com\n",
      "  - user:student-00-b4ae67740424@qwiklabs.net\n",
      "  role: roles/compute.networkAdmin\n",
      "- members:\n",
      "  - serviceAccount:qwiklabs-gcp-00-008dc3c1bc37@qwiklabs-gcp-00-008dc3c1bc37.iam.gserviceaccount.com\n",
      "  - user:student-00-b4ae67740424@qwiklabs.net\n",
      "  role: roles/compute.networkViewer\n",
      "- members:\n",
      "  - serviceAccount:qwiklabs-gcp-00-008dc3c1bc37@qwiklabs-gcp-00-008dc3c1bc37.iam.gserviceaccount.com\n",
      "  - user:student-00-b4ae67740424@qwiklabs.net\n",
      "  role: roles/compute.securityAdmin\n",
      "- members:\n",
      "  - serviceAccount:service-438107741394@compute-system.iam.gserviceaccount.com\n",
      "  role: roles/compute.serviceAgent\n",
      "- members:\n",
      "  - serviceAccount:qwiklabs-gcp-00-008dc3c1bc37@qwiklabs-gcp-00-008dc3c1bc37.iam.gserviceaccount.com\n",
      "  - user:student-00-b4ae67740424@qwiklabs.net\n",
      "  role: roles/compute.storageAdmin\n",
      "- members:\n",
      "  - serviceAccount:service-438107741394@container-engine-robot.iam.gserviceaccount.com\n",
      "  role: roles/container.serviceAgent\n",
      "- members:\n",
      "  - serviceAccount:service-438107741394@container-analysis.iam.gserviceaccount.com\n",
      "  role: roles/containeranalysis.ServiceAgent\n",
      "- members:\n",
      "  - serviceAccount:service-438107741394@gcp-sa-containerscanning.iam.gserviceaccount.com\n",
      "  role: roles/containerscanning.ServiceAgent\n",
      "- members:\n",
      "  - serviceAccount:qwick-jupyter-notebook-sac-e@qwiklabs-gcp-00-008dc3c1bc37.iam.gserviceaccount.com\n",
      "  role: roles/dataflow.admin\n",
      "- members:\n",
      "  - serviceAccount:qwiklabs-gcp-00-008dc3c1bc37@qwiklabs-gcp-00-008dc3c1bc37.iam.gserviceaccount.com\n",
      "  - user:student-00-b4ae67740424@qwiklabs.net\n",
      "  role: roles/dataflow.developer\n",
      "- members:\n",
      "  - serviceAccount:service-438107741394@dataflow-service-producer-prod.iam.gserviceaccount.com\n",
      "  role: roles/dataflow.serviceAgent\n",
      "- members:\n",
      "  - serviceAccount:qwiklabs-gcp-00-008dc3c1bc37@qwiklabs-gcp-00-008dc3c1bc37.iam.gserviceaccount.com\n",
      "  - user:student-00-b4ae67740424@qwiklabs.net\n",
      "  role: roles/dataflow.viewer\n",
      "- members:\n",
      "  - serviceAccount:qwiklabs-gcp-00-008dc3c1bc37@qwiklabs-gcp-00-008dc3c1bc37.iam.gserviceaccount.com\n",
      "  - user:student-00-b4ae67740424@qwiklabs.net\n",
      "  role: roles/dataflow.worker\n",
      "- members:\n",
      "  - serviceAccount:service-438107741394@dataproc-accounts.iam.gserviceaccount.com\n",
      "  role: roles/dataproc.serviceAgent\n",
      "- members:\n",
      "  - serviceAccount:service-438107741394@dlp-api.iam.gserviceaccount.com\n",
      "  role: roles/dlp.serviceAgent\n",
      "- members:\n",
      "  - serviceAccount:438107741394-compute@developer.gserviceaccount.com\n",
      "  - serviceAccount:438107741394@cloudservices.gserviceaccount.com\n",
      "  - serviceAccount:qwiklabs-gcp-00-008dc3c1bc37@appspot.gserviceaccount.com\n",
      "  - serviceAccount:qwiklabs-gcp-00-008dc3c1bc37@qwiklabs-gcp-00-008dc3c1bc37.iam.gserviceaccount.com\n",
      "  - serviceAccount:service-438107741394@containerregistry.iam.gserviceaccount.com\n",
      "  - user:student-00-b4ae67740424@qwiklabs.net\n",
      "  role: roles/editor\n",
      "- members:\n",
      "  - serviceAccount:service-438107741394@firebase-rules.iam.gserviceaccount.com\n",
      "  role: roles/firebaserules.system\n",
      "- members:\n",
      "  - serviceAccount:service-438107741394@genomics-api.google.com.iam.gserviceaccount.com\n",
      "  role: roles/genomics.serviceAgent\n",
      "- members:\n",
      "  - serviceAccount:qwiklabs-gcp-00-008dc3c1bc37@qwiklabs-gcp-00-008dc3c1bc37.iam.gserviceaccount.com\n",
      "  - user:student-00-b4ae67740424@qwiklabs.net\n",
      "  role: roles/iam.securityReviewer\n",
      "- members:\n",
      "  - serviceAccount:qwiklabs-gcp-00-008dc3c1bc37@qwiklabs-gcp-00-008dc3c1bc37.iam.gserviceaccount.com\n",
      "  - user:student-00-b4ae67740424@qwiklabs.net\n",
      "  role: roles/iam.serviceAccountUser\n",
      "- members:\n",
      "  - serviceAccount:qwick-jupyter-notebook-sac-e@qwiklabs-gcp-00-008dc3c1bc37.iam.gserviceaccount.com\n",
      "  role: roles/ml.admin\n",
      "- members:\n",
      "  - serviceAccount:service-438107741394@cloud-ml.google.com.iam.gserviceaccount.com\n",
      "  role: roles/ml.serviceAgent\n",
      "- members:\n",
      "  - serviceAccount:admiral@qwiklabs-services-prod.iam.gserviceaccount.com\n",
      "  - serviceAccount:qwiklabs-gcp-00-008dc3c1bc37@qwiklabs-gcp-00-008dc3c1bc37.iam.gserviceaccount.com\n",
      "  - user:student-00-b4ae67740424@qwiklabs.net\n",
      "  role: roles/owner\n",
      "- members:\n",
      "  - serviceAccount:qwick-jupyter-notebook-sac-e@qwiklabs-gcp-00-008dc3c1bc37.iam.gserviceaccount.com\n",
      "  - serviceAccount:qwiklabs-gcp-00-008dc3c1bc37@qwiklabs-gcp-00-008dc3c1bc37.iam.gserviceaccount.com\n",
      "  - user:student-00-b4ae67740424@qwiklabs.net\n",
      "  role: roles/storage.admin\n",
      "- members:\n",
      "  - serviceAccount:qwiklabs-gcp-00-008dc3c1bc37@qwiklabs-gcp-00-008dc3c1bc37.iam.gserviceaccount.com\n",
      "  - user:student-00-b4ae67740424@qwiklabs.net\n",
      "  role: roles/storage.objectAdmin\n",
      "- members:\n",
      "  - serviceAccount:qwiklabs-gcp-00-008dc3c1bc37@qwiklabs-gcp-00-008dc3c1bc37.iam.gserviceaccount.com\n",
      "  - user:student-00-b4ae67740424@qwiklabs.net\n",
      "  role: roles/storage.objectCreator\n",
      "- members:\n",
      "  - serviceAccount:qwiklabs-gcp-00-008dc3c1bc37@qwiklabs-gcp-00-008dc3c1bc37.iam.gserviceaccount.com\n",
      "  - user:student-00-b4ae67740424@qwiklabs.net\n",
      "  role: roles/storage.objectViewer\n",
      "- members:\n",
      "  - serviceAccount:qwiklabs-gcp-00-008dc3c1bc37@qwiklabs-gcp-00-008dc3c1bc37.iam.gserviceaccount.com\n",
      "  - user:student-00-b4ae67740424@qwiklabs.net\n",
      "  role: roles/viewer\n",
      "etag: BwWnBLjrT3w=\n",
      "version: 1\n"
     ]
    },
    {
     "name": "stderr",
     "output_type": "stream",
     "text": [
      "Updated IAM policy for project [qwiklabs-gcp-00-008dc3c1bc37].\n"
     ]
    }
   ],
   "source": [
    "%%bash\n",
    "gcloud projects add-iam-policy-binding $PROJECT \\\n",
    "    --member serviceAccount:$SAC@$PROJECT.iam.gserviceaccount.com \\\n",
    "    --role roles/dataflow.admin"
   ]
  },
  {
   "cell_type": "markdown",
   "metadata": {},
   "source": [
    "# Create GCS Bucket "
   ]
  },
  {
   "cell_type": "code",
   "execution_count": null,
   "metadata": {},
   "outputs": [],
   "source": [
    "%%bash\n",
    "if ! gsutil ls | grep -q gs://${BUCKET}/; then\n",
    "  gsutil mb -l ${REGION} -p ${PROJECT} gs://${BUCKET}\n",
    "  #gsutil mb -l us-east1 -p qwiklabs-gcp-02-3fc87b630759 gs://bucket-qwiklabs-gcp-02-3fc87b630759\n",
    "fi"
   ]
  },
  {
   "cell_type": "code",
   "execution_count": null,
   "metadata": {},
   "outputs": [],
   "source": []
  }
 ],
 "metadata": {
  "kernelspec": {
   "display_name": "Python 3",
   "language": "python",
   "name": "python3"
  },
  "language_info": {
   "codemirror_mode": {
    "name": "ipython",
    "version": 3
   },
   "file_extension": ".py",
   "mimetype": "text/x-python",
   "name": "python",
   "nbconvert_exporter": "python",
   "pygments_lexer": "ipython3",
   "version": "3.7.4"
  }
 },
 "nbformat": 4,
 "nbformat_minor": 2
}
