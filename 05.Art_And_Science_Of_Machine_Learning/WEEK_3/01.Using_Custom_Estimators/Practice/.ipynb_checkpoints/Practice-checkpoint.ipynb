{
 "cells": [
  {
   "cell_type": "markdown",
   "metadata": {},
   "source": [
    "# Enable Virtual Environment For This Notebook."
   ]
  },
  {
   "cell_type": "markdown",
   "metadata": {},
   "source": [
    "### Activate Conda Environment"
   ]
  },
  {
   "cell_type": "markdown",
   "metadata": {},
   "source": [
    "<b>`$ conda activate`</b>"
   ]
  },
  {
   "cell_type": "markdown",
   "metadata": {},
   "source": [
    "### Install Or Upgrade necessary software for virtual environment."
   ]
  },
  {
   "cell_type": "markdown",
   "metadata": {},
   "source": [
    "<b>`$ sudo apt-get install --upgrade python3-pip`</b>"
   ]
  },
  {
   "cell_type": "markdown",
   "metadata": {},
   "source": [
    "<b>`$ sudo pip3 install --upgrade virtualenv`</b>"
   ]
  },
  {
   "cell_type": "markdown",
   "metadata": {},
   "source": [
    "<b>`$ sudo pip3 install --upgrade setuptools`</b>"
   ]
  },
  {
   "cell_type": "markdown",
   "metadata": {},
   "source": [
    "Now we will go to the location of the directory, where we will create our virtual environment."
   ]
  },
  {
   "cell_type": "markdown",
   "metadata": {},
   "source": [
    "<b>`$ cd /media/mujahid7292/Data/GoogleDri\n",
    "rning/WEEK_3/01.Using_Custom_Estimatorsmujahid7292@mujahid7292-HP-ENVY-Notebook:/media/mujahid7292/Data/GoogleDriveSandCorp2014/ML_With_TensorFlow_On_GCP/05.Art_And_Science_Of_Machine_Learning/WEEK_3/01.Using_Custom_Estimat`</b>"
   ]
  },
  {
   "cell_type": "markdown",
   "metadata": {},
   "source": [
    "### Deactivate conda environment"
   ]
  },
  {
   "cell_type": "markdown",
   "metadata": {},
   "source": [
    "<b>`$ conda deactivate`</b>"
   ]
  },
  {
   "cell_type": "markdown",
   "metadata": {},
   "source": [
    "### Create Virtual Environment"
   ]
  },
  {
   "cell_type": "markdown",
   "metadata": {},
   "source": [
    "<b>`$ virtualenv Venv`</b>"
   ]
  },
  {
   "cell_type": "markdown",
   "metadata": {},
   "source": [
    "### Activate newly created virtual environment"
   ]
  },
  {
   "cell_type": "markdown",
   "metadata": {},
   "source": [
    "<b>`$ source Venv/bin/activate`</b>"
   ]
  },
  {
   "cell_type": "markdown",
   "metadata": {},
   "source": [
    "<b>`$ (Venv) which python`</b>"
   ]
  },
  {
   "cell_type": "markdown",
   "metadata": {},
   "source": [
    "<b>`$ (Venv) pip list`</b>"
   ]
  },
  {
   "cell_type": "markdown",
   "metadata": {},
   "source": [
    "<b>`$ (Venv) pip3 install jupyter`</b>"
   ]
  },
  {
   "cell_type": "code",
   "execution_count": null,
   "metadata": {},
   "outputs": [],
   "source": [
    "%%writefile requirements.txt\n",
    "numpy\n",
    "pandas\n",
    "seaborn\n",
    "tensorflow==1.8.0"
   ]
  },
  {
   "cell_type": "code",
   "execution_count": null,
   "metadata": {},
   "outputs": [],
   "source": [
    "%%bash\n",
    "pip3 install -r requirements.txt"
   ]
  },
  {
   "cell_type": "code",
   "execution_count": null,
   "metadata": {},
   "outputs": [],
   "source": [
    "%%bash\n",
    "pip3 list"
   ]
  },
  {
   "cell_type": "code",
   "execution_count": null,
   "metadata": {},
   "outputs": [],
   "source": [
    "%%bash\n",
    "which python"
   ]
  },
  {
   "cell_type": "code",
   "execution_count": null,
   "metadata": {},
   "outputs": [],
   "source": [
    "%%bash\n",
    "python --version"
   ]
  },
  {
   "cell_type": "markdown",
   "metadata": {},
   "source": [
    "<a>https://github.com/GoogleCloudPlatform/training-data-analyst/blob/master/courses/machine_learning/deepdive/05_artandscience/d_customestimator.ipynb</a>"
   ]
  },
  {
   "cell_type": "markdown",
   "metadata": {},
   "source": [
    "<h1> Time series prediction using RNNs, with TensorFlow and Cloud ML Engine </h1>\n",
    "\n",
    "This notebook illustrates:\n",
    "<ol>\n",
    "<li> Creating a Recurrent Neural Network in TensorFlow\n",
    "<li> Creating a Custom Estimator in tf.estimator\n",
    "<li> Training on Cloud ML Engine\n",
    "</ol>\n",
    "\n",
    "<p>\n",
    "\n",
    "<h3> Simulate some time-series data </h3>\n",
    "\n",
    "Essentially a set of sinusoids with random amplitudes and frequencies."
   ]
  },
  {
   "cell_type": "code",
   "execution_count": 1,
   "metadata": {},
   "outputs": [],
   "source": [
    "import os\n",
    "PROJECT = 'ml-practice-260405'\n",
    "BUCKET = 'bucket-ml-practice-260405'\n",
    "REGION = 'us-central1'\n",
    "os.environ['TFVERSION'] = '1.8'"
   ]
  },
  {
   "cell_type": "code",
   "execution_count": 2,
   "metadata": {},
   "outputs": [],
   "source": [
    "# For bash\n",
    "os.environ['PROJECT'] = PROJECT\n",
    "os.environ['BUCKET'] = BUCKET\n",
    "os.environ['REGION'] = REGION"
   ]
  },
  {
   "cell_type": "code",
   "execution_count": 3,
   "metadata": {},
   "outputs": [
    {
     "name": "stderr",
     "output_type": "stream",
     "text": [
      "Updated property [core/project].\n",
      "Updated property [compute/region].\n"
     ]
    }
   ],
   "source": [
    "%%bash\n",
    "gcloud config set project $PROJECT\n",
    "gcloud config set compute/region $REGION"
   ]
  },
  {
   "cell_type": "code",
   "execution_count": 4,
   "metadata": {},
   "outputs": [
    {
     "name": "stderr",
     "output_type": "stream",
     "text": [
      "/media/mujahid7292/Data/GoogleDriveSandCorp2014/ML_With_TensorFlow_On_GCP/05.Art_And_Science_Of_Machine_Learning/WEEK_3/01.Using_Custom_Estimators/Venv/lib/python3.6/site-packages/tensorflow/python/framework/dtypes.py:519: FutureWarning: Passing (type, 1) or '1type' as a synonym of type is deprecated; in a future version of numpy, it will be understood as (type, (1,)) / '(1,)type'.\n",
      "  _np_qint8 = np.dtype([(\"qint8\", np.int8, 1)])\n",
      "/media/mujahid7292/Data/GoogleDriveSandCorp2014/ML_With_TensorFlow_On_GCP/05.Art_And_Science_Of_Machine_Learning/WEEK_3/01.Using_Custom_Estimators/Venv/lib/python3.6/site-packages/tensorflow/python/framework/dtypes.py:520: FutureWarning: Passing (type, 1) or '1type' as a synonym of type is deprecated; in a future version of numpy, it will be understood as (type, (1,)) / '(1,)type'.\n",
      "  _np_quint8 = np.dtype([(\"quint8\", np.uint8, 1)])\n",
      "/media/mujahid7292/Data/GoogleDriveSandCorp2014/ML_With_TensorFlow_On_GCP/05.Art_And_Science_Of_Machine_Learning/WEEK_3/01.Using_Custom_Estimators/Venv/lib/python3.6/site-packages/tensorflow/python/framework/dtypes.py:521: FutureWarning: Passing (type, 1) or '1type' as a synonym of type is deprecated; in a future version of numpy, it will be understood as (type, (1,)) / '(1,)type'.\n",
      "  _np_qint16 = np.dtype([(\"qint16\", np.int16, 1)])\n",
      "/media/mujahid7292/Data/GoogleDriveSandCorp2014/ML_With_TensorFlow_On_GCP/05.Art_And_Science_Of_Machine_Learning/WEEK_3/01.Using_Custom_Estimators/Venv/lib/python3.6/site-packages/tensorflow/python/framework/dtypes.py:522: FutureWarning: Passing (type, 1) or '1type' as a synonym of type is deprecated; in a future version of numpy, it will be understood as (type, (1,)) / '(1,)type'.\n",
      "  _np_quint16 = np.dtype([(\"quint16\", np.uint16, 1)])\n",
      "/media/mujahid7292/Data/GoogleDriveSandCorp2014/ML_With_TensorFlow_On_GCP/05.Art_And_Science_Of_Machine_Learning/WEEK_3/01.Using_Custom_Estimators/Venv/lib/python3.6/site-packages/tensorflow/python/framework/dtypes.py:523: FutureWarning: Passing (type, 1) or '1type' as a synonym of type is deprecated; in a future version of numpy, it will be understood as (type, (1,)) / '(1,)type'.\n",
      "  _np_qint32 = np.dtype([(\"qint32\", np.int32, 1)])\n",
      "/media/mujahid7292/Data/GoogleDriveSandCorp2014/ML_With_TensorFlow_On_GCP/05.Art_And_Science_Of_Machine_Learning/WEEK_3/01.Using_Custom_Estimators/Venv/lib/python3.6/site-packages/tensorflow/python/framework/dtypes.py:528: FutureWarning: Passing (type, 1) or '1type' as a synonym of type is deprecated; in a future version of numpy, it will be understood as (type, (1,)) / '(1,)type'.\n",
      "  np_resource = np.dtype([(\"resource\", np.ubyte, 1)])\n"
     ]
    },
    {
     "name": "stdout",
     "output_type": "stream",
     "text": [
      "1.8.0\n"
     ]
    }
   ],
   "source": [
    "import tensorflow as tf\n",
    "print(tf.__version__)"
   ]
  },
  {
   "cell_type": "markdown",
   "metadata": {},
   "source": [
    "### Random time series generator function"
   ]
  },
  {
   "cell_type": "code",
   "execution_count": 5,
   "metadata": {},
   "outputs": [
    {
     "data": {
      "image/png": "[encoded data removed]",
      "text/plain": [
       "<Figure size 432x288 with 1 Axes>"
      ]
     },
     "metadata": {
      "needs_background": "light"
     },
     "output_type": "display_data"
    }
   ],
   "source": [
    "import numpy as np\n",
    "import pandas as pd\n",
    "import seaborn as sns\n",
    "\n",
    "SEQ_LEN = 10\n",
    "def create_timeseries():\n",
    "    \"\"\"\n",
    "    \"\"\"\n",
    "    freq = (np.random.random() *0.5) + 0.1 # 0.1 to 0.6\n",
    "    ampl = np.random.random() + 0.5 # 0.5 to 1.5\n",
    "    x = np.sin(np.arange(0, SEQ_LEN) * freq) * ampl\n",
    "    return x\n",
    "\n",
    "# Plot our time series data\n",
    "for i in range(0,5):\n",
    "    sns.lineplot(data=create_timeseries()) # 5 Series"
   ]
  },
  {
   "cell_type": "markdown",
   "metadata": {},
   "source": [
    "### Create training and evaluation dataset"
   ]
  },
  {
   "cell_type": "code",
   "execution_count": 6,
   "metadata": {},
   "outputs": [],
   "source": [
    "def to_csv(filename, N):\n",
    "    \"\"\"\n",
    "    \"\"\"\n",
    "    with open(file=filename, mode='w') as ofp:\n",
    "        for lineno in range(0, N):\n",
    "            seq = create_timeseries()\n",
    "            line = \",\".join(map(str, seq))\n",
    "            ofp.write(line + '\\n')\n",
    "            \n",
    "to_csv('train.csv', 1000) # 1000 Sequences\n",
    "to_csv('valid.csv', 50)"
   ]
  },
  {
   "cell_type": "code",
   "execution_count": 7,
   "metadata": {},
   "outputs": [
    {
     "name": "stdout",
     "output_type": "stream",
     "text": [
      "==> train.csv <==\r\n",
      "0.0,0.2846975031846363,0.5577225722601126,0.8078813362114603,1.0249174294001042,1.199932496664106,1.325751020768865,1.3972145144923407,1.411393015638284,1.3677052138034018\r\n",
      "0.0,0.08050965668107063,0.15918547506966776,0.23423538779896313,0.30394991790080883,0.3667411170456152,0.42117873561900077,0.4660228007580032,0.5002518602886573,0.5230862492282725\r\n",
      "0.0,0.4833623659951605,0.8481459271028067,1.0048617165315328,0.9150641035810628,0.6007823035451765,0.13911615469826166,-0.356678069739941,-0.7649717723858219,-0.9856020470868334\r\n",
      "0.0,0.41318310276072184,0.7067185736708541,0.795605782927576,0.6541051878963634,0.32319186957112234,-0.1013098398794529,-0.4964747193780086,-0.7478727699564935,-0.782705319058858\r\n",
      "0.0,0.5869255807640114,1.0503853041986508,1.2928856311451626,1.2634141134322987,0.9681703891751328,0.46926202487140883,-0.12836045262098728,-0.6989809832747286,-1.1225636454399242\r\n",
      "\r\n",
      "==> valid.csv <==\r\n",
      "0.0,0.44927125153099895,0.8283523059075627,1.0780188663300856,1.1592652206832053,1.0593981516495634,0.7940200135770504,0.4045911575749596,-0.04804746985219683,-0.493179582294909\r\n",
      "0.0,0.39446111533717737,0.682733552856445,0.7872145583158517,0.6797779124368845,0.38934549099258814,-0.005898485495677003,-0.3995545934930802,-0.6856508626383425,-0.7871703618121473\r\n",
      "0.0,0.0858147614328549,0.169340718988533,0.2483501145015826,0.3207356530525257,0.3845667075730047,0.4381408114636681,0.480029065842158,0.509114250344182,0.5246206210074534\r\n",
      "0.0,0.15378970116399165,0.3002616932676989,0.43244646264679487,0.5440543183974293,0.6297746720273699,0.6855287288991284,0.7086635677570546,0.6980783735359164,0.6542768169696486\r\n",
      "0.0,0.4135173344173898,0.7101767616329702,0.8061438279715571,0.6742987258719397,0.351900214336029,-0.0699435179162374,-0.47202156576850324,-0.7407087065441806,-0.8000753132366509\r\n"
     ]
    }
   ],
   "source": [
    "!head -5 train.csv valid.csv"
   ]
  },
  {
   "cell_type": "markdown",
   "metadata": {},
   "source": [
    "<h2> RNN </h2>\n",
    "\n",
    "For more info, see:\n",
    "<ol>\n",
    "<li> http://colah.github.io/posts/2015-08-Understanding-LSTMs/ for the theory\n",
    "<li> https://www.tensorflow.org/tutorials/recurrent for explanations\n",
    "<li> https://github.com/tensorflow/models/tree/master/tutorials/rnn/ptb for sample code\n",
    "</ol>\n",
    "\n",
    "Here, we are trying to predict from 9 values of a timeseries, the tenth value.\n",
    "\n",
    "<p>\n",
    "\n",
    "<h3> Imports </h3>\n",
    "\n",
    "Several tensorflow packages and shutil"
   ]
  },
  {
   "cell_type": "code",
   "execution_count": 8,
   "metadata": {},
   "outputs": [],
   "source": [
    "import tensorflow as tf\n",
    "import shutil\n",
    "import tensorflow.contrib.metrics as metrics\n",
    "import tensorflow.contrib.rnn as rnn"
   ]
  },
  {
   "cell_type": "markdown",
   "metadata": {},
   "source": [
    "<h3> Input Fn to read CSV </h3>\n",
    "\n",
    "Our CSV file structure is quite simple -- a bunch of floating point numbers (note the type of DEFAULTS). We ask for the data to be read BATCH_SIZE sequences at a time.  The Estimator API in tf.contrib.learn wants the features returned as a dict. We'll just call this timeseries column 'rawdata'.\n",
    "<p>\n",
    "Our CSV file sequences consist of 10 numbers. We'll assume that 9 of them are inputs and we need to predict the last one."
   ]
  },
  {
   "cell_type": "code",
   "execution_count": 9,
   "metadata": {},
   "outputs": [],
   "source": [
    "DEFAULTS = [[0.0] for x in range(0, SEQ_LEN)]\n",
    "BATCH_SIZE = 20\n",
    "TIMESERIES_COL = 'rawdata'\n",
    "# In each sequence, column index 0 to N_INPUTS - 1 are features, and column \n",
    "# index N_INPUTS to SEQ_LEN are labels\n",
    "N_OUTPUTS = 1\n",
    "N_INPUTS = SEQ_LEN - N_OUTPUTS"
   ]
  },
  {
   "cell_type": "markdown",
   "metadata": {},
   "source": [
    "Reading data using the Estimator API in tf.estimator requires an input_fn. This input_fn needs to return a dict of features and the corresponding labels.\n",
    "<p>\n",
    "So, we read the CSV file.  The Tensor format here will be a scalar -- entire line.  We then decode the CSV. At this point, all_data will contain a list of scalar Tensors. There will be SEQ_LEN of these tensors.\n",
    "<p>\n",
    "We split this list of SEQ_LEN tensors into a list of N_INPUTS Tensors and a list of N_OUTPUTS Tensors. We stack them along the first dimension to then get a vector Tensor for each.  We then put the inputs into a dict and call it features.  The other is the ground truth, so labels."
   ]
  },
  {
   "cell_type": "markdown",
   "metadata": {},
   "source": [
    "### Read data and convert to needed format"
   ]
  },
  {
   "cell_type": "code",
   "execution_count": 21,
   "metadata": {},
   "outputs": [],
   "source": [
    "def read_dataset(filename, mode, batch_size=512):\n",
    "    \"\"\"\n",
    "    \"\"\"\n",
    "    def _input_fn():\n",
    "        \"\"\"\n",
    "        Provide the ability to decode a CSV\n",
    "        \"\"\"\n",
    "        def decode_csv(line):\n",
    "            \"\"\"\n",
    "            \"\"\"\n",
    "            # all_data is a list of scalar tensor\n",
    "            all_data = tf.decode_csv(records=line, record_defaults=DEFAULTS)\n",
    "            inputs = all_data[:len(all_data) - N_OUTPUTS] # First N Inputs Value\n",
    "            labels = all_data[len(all_data) - N_OUTPUTS:] # Last N Outputs Value\n",
    "            \n",
    "            # Convert each list of rank R tensors to one rank R+1 tensors\n",
    "            inputs = tf.stack(values=inputs, axis=0)\n",
    "            labels = tf.stack(values=labels, axis=0)\n",
    "            \n",
    "            # Convert input R+1 tensor into a feature dictionary of one R+1 tensor\n",
    "            features = {TIMESERIES_COL: inputs}\n",
    "            \n",
    "            return features, labels\n",
    "        \n",
    "        # Create list of file that match pattern\n",
    "        file_list = tf.gfile.Glob(filename=filename)\n",
    "        \n",
    "        # Create dataset from file list\n",
    "        dataset = tf.data.TextLineDataset(filenames=file_list).map(decode_csv)\n",
    "        \n",
    "        if mode == tf.estimator.ModeKeys.TRAIN:\n",
    "            num_epochs = None # Run Indefinietly\n",
    "            dataset = dataset.shuffle(buffer_size = 10 * batch_size)\n",
    "        else:\n",
    "            num_epochs = 1 # End of input after this\n",
    "        \n",
    "        dataset = dataset.repeat(num_epochs).batch(batch_size)\n",
    "        iterator = dataset.make_one_shot_iterator()\n",
    "        \n",
    "        batch_features, batch_labels = iterator.get_next()\n",
    "        \n",
    "        return batch_features, batch_labels\n",
    "    return _input_fn"
   ]
  },
  {
   "cell_type": "markdown",
   "metadata": {},
   "source": [
    "<h3> Define RNN </h3>\n",
    "\n",
    "A recursive neural network consists of possibly stacked LSTM cells.\n",
    "<p>\n",
    "The RNN has one output per input, so it will have 8 output cells.  We use only the last output cell, but rather use it directly, we do a matrix multiplication of that cell by a set of weights to get the actual predictions. This allows for a degree of scaling between inputs and predictions if necessary (we don't really need it in this problem).\n",
    "<p>\n",
    "Finally, to supply a model function to the Estimator API, you need to return a EstimatorSpec. The rest of the function creates the necessary objects."
   ]
  },
  {
   "cell_type": "code",
   "execution_count": 22,
   "metadata": {},
   "outputs": [],
   "source": [
    "LSTM_SIZE = 3 # Number of hidden layer in each of the LSTM cells\n",
    "\n",
    "# Create the inference model\n",
    "def simple_rnn(features, labels, mode):\n",
    "    \"\"\"\n",
    "    \"\"\"\n",
    "    # 0. Reformat input shape to become a sequence\n",
    "    x = tf.split(\n",
    "        value=features[TIMESERIES_COL],\n",
    "        num_or_size_splits=N_INPUTS,\n",
    "        axis=1\n",
    "    )\n",
    "    \n",
    "    # 1. Configure the rnn\n",
    "    lstm_cell = rnn.BasicLSTMCell(\n",
    "        num_units=LSTM_SIZE,\n",
    "        forget_bias=1.0\n",
    "    )\n",
    "    outputs, _ = rnn.static_rnn(\n",
    "        cell=lstm_cell,\n",
    "        inputs=x,\n",
    "        dtype=tf.float32\n",
    "    )\n",
    "    \n",
    "    # Slice to keep only the last cell of the RNN\n",
    "    outputs = outputs[-1]\n",
    "    \n",
    "    # Output is result of linear activation of last layer of RNN\n",
    "    weight = tf.get_variable(\n",
    "        name='weight',\n",
    "        initializer=tf.initializers.random_normal,\n",
    "        shape=[LSTM_SIZE, N_OUTPUTS]\n",
    "    )\n",
    "    bias = tf.get_variable(\n",
    "        name='bias',\n",
    "        initializer=tf.initializers.random_normal,\n",
    "        shape=[N_OUTPUTS]\n",
    "    )\n",
    "\n",
    "    predictions = tf.matmul(outputs, weight) + bias\n",
    "    \n",
    "    # 2. Loss function, training/eval ops\n",
    "    if mode == tf.estimator.ModeKeys.TRAIN or mode == tf.estimator.ModeKeys.EVAL:\n",
    "        # Our loss function\n",
    "        loss = tf.losses.mean_squared_error(labels, predictions)\n",
    "        # Our training optimizer\n",
    "        train_op = tf.contrib.layers.optimize_loss(\n",
    "            loss=loss,\n",
    "            global_step=tf.train.get_global_step(),\n",
    "            learning_rate=0.01,\n",
    "            optimizer='SGD'\n",
    "        )\n",
    "        # Our evaluation metric optimizer\n",
    "        eval_metric_ops = {\n",
    "            'rmse':tf.metrics.root_mean_squared_error(labels, predictions)\n",
    "        }\n",
    "    else:\n",
    "        loss = None\n",
    "        train_op = None\n",
    "        eval_metric_ops = None\n",
    "    \n",
    "    # 3. Create predictions\n",
    "    predictions_dict = {'predicted':predictions}\n",
    "    \n",
    "    # 4. Create export output\n",
    "    export_outputs = {\n",
    "        \"predicted_export_outputs\": tf.estimator.export.PredictOutput(outputs=predictions)\n",
    "    }\n",
    "    \n",
    "    # 5. Return estimator spec\n",
    "    return tf.estimator.EstimatorSpec(\n",
    "        mode=mode,\n",
    "        predictions=predictions_dict,\n",
    "        loss = loss,\n",
    "        train_op = train_op,\n",
    "        eval_metric_ops = eval_metric_ops,\n",
    "        export_outputs = export_outputs\n",
    "    )"
   ]
  },
  {
   "cell_type": "markdown",
   "metadata": {},
   "source": [
    "<h3> Estimator </h3>\n",
    "\n",
    "Distributed training is launched off using an Estimator.  The key line here is that we use tf.estimator.Estimator rather than, say tf.estimator.DNNRegressor.  This allows us to provide a model_fn, which will be our RNN defined above.  Note also that we specify a serving_input_fn -- this is how we parse the input data provided to us at prediction time."
   ]
  },
  {
   "cell_type": "markdown",
   "metadata": {},
   "source": [
    "### Create function to read in respected dataset"
   ]
  },
  {
   "cell_type": "code",
   "execution_count": 23,
   "metadata": {},
   "outputs": [],
   "source": [
    "def get_train():\n",
    "    \"\"\"\n",
    "    \"\"\"\n",
    "    return read_dataset(\n",
    "        filename='train.csv',\n",
    "        mode=tf.estimator.ModeKeys.TRAIN,\n",
    "        batch_size=512\n",
    "    )\n",
    "\n",
    "def get_valid():\n",
    "    \"\"\"\n",
    "    \"\"\"\n",
    "    return read_dataset(\n",
    "        filename='valid.csv',\n",
    "        mode=tf.estimator.ModeKeys.EVAL,\n",
    "        batch_size=512\n",
    "    )"
   ]
  },
  {
   "cell_type": "markdown",
   "metadata": {},
   "source": [
    "### Create serving input function"
   ]
  },
  {
   "cell_type": "code",
   "execution_count": 24,
   "metadata": {},
   "outputs": [],
   "source": [
    "def serving_input_fn():\n",
    "    \"\"\"\n",
    "    \"\"\"\n",
    "    feature_placeholders = {\n",
    "        TIMESERIES_COL: tf.placeholder(dtype=tf.float32, shape=[None, N_INPUTS])\n",
    "    }\n",
    "    \n",
    "    features = {\n",
    "        key: tf.expand_dims(input=tensor, axis=-1)\n",
    "        for key, tensor in feature_placeholders.items()\n",
    "    }\n",
    "    \n",
    "    features[TIMESERIES_COL] = tf.squeeze(features[TIMESERIES_COL], axis = [2])\n",
    "    \n",
    "    return tf.estimator.export.ServingInputReceiver(features, feature_placeholders)"
   ]
  },
  {
   "cell_type": "markdown",
   "metadata": {},
   "source": [
    "## Create custom estimator's train and evaluate function"
   ]
  },
  {
   "cell_type": "code",
   "execution_count": 25,
   "metadata": {},
   "outputs": [],
   "source": [
    "def train_and_evaluate(output_dir):\n",
    "    \"\"\"\n",
    "    \"\"\"\n",
    "    estimator = tf.estimator.Estimator(\n",
    "        model_fn=simple_rnn,\n",
    "        model_dir=output_dir\n",
    "    )\n",
    "    \n",
    "    train_spec = tf.estimator.TrainSpec(\n",
    "        input_fn=get_train(),\n",
    "        max_steps=1000\n",
    "    )\n",
    "    \n",
    "    exporter = tf.estimator.LatestExporter(\n",
    "        'exporter', \n",
    "        serving_input_fn\n",
    "    )\n",
    "    \n",
    "    eval_spec = tf.estimator.EvalSpec(\n",
    "        input_fn=get_valid(),\n",
    "        steps=None,\n",
    "        exporters=exporter\n",
    "    )\n",
    "    \n",
    "    tf.estimator.train_and_evaluate(estimator, train_spec, eval_spec)"
   ]
  },
  {
   "cell_type": "markdown",
   "metadata": {},
   "source": [
    "## Run the model"
   ]
  },
  {
   "cell_type": "code",
   "execution_count": 26,
   "metadata": {},
   "outputs": [
    {
     "name": "stdout",
     "output_type": "stream",
     "text": [
      "INFO:tensorflow:Using default config.\n",
      "INFO:tensorflow:Using config: {'_model_dir': 'outputdir', '_tf_random_seed': None, '_save_summary_steps': 100, '_save_checkpoints_steps': None, '_save_checkpoints_secs': 600, '_session_config': None, '_keep_checkpoint_max': 5, '_keep_checkpoint_every_n_hours': 10000, '_log_step_count_steps': 100, '_train_distribute': None, '_service': None, '_cluster_spec': <tensorflow.python.training.server_lib.ClusterSpec object at 0x7f3043ac4160>, '_task_type': 'worker', '_task_id': 0, '_global_id_in_cluster': 0, '_master': '', '_evaluation_master': '', '_is_chief': True, '_num_ps_replicas': 0, '_num_worker_replicas': 1}\n",
      "INFO:tensorflow:Running training and evaluation locally (non-distributed).\n",
      "INFO:tensorflow:Start train and evaluate loop. The evaluate will happen after 600 secs (eval_spec.throttle_secs) or training is finished.\n",
      "INFO:tensorflow:Calling model_fn.\n",
      "INFO:tensorflow:Done calling model_fn.\n",
      "INFO:tensorflow:Create CheckpointSaverHook.\n",
      "INFO:tensorflow:Graph was finalized.\n",
      "INFO:tensorflow:Running local_init_op.\n",
      "INFO:tensorflow:Done running local_init_op.\n",
      "INFO:tensorflow:Saving checkpoints for 1 into outputdir/model.ckpt.\n",
      "INFO:tensorflow:loss = 0.47178686, step = 1\n",
      "INFO:tensorflow:global_step/sec: 33.5116\n",
      "INFO:tensorflow:loss = 0.19885325, step = 101 (2.985 sec)\n",
      "INFO:tensorflow:global_step/sec: 32.7316\n",
      "INFO:tensorflow:loss = 0.14166778, step = 201 (3.057 sec)\n",
      "INFO:tensorflow:global_step/sec: 31.7078\n",
      "INFO:tensorflow:loss = 0.10256486, step = 301 (3.153 sec)\n",
      "INFO:tensorflow:global_step/sec: 35.7591\n",
      "INFO:tensorflow:loss = 0.071880445, step = 401 (2.796 sec)\n",
      "INFO:tensorflow:global_step/sec: 36.1412\n",
      "INFO:tensorflow:loss = 0.050940257, step = 501 (2.767 sec)\n",
      "INFO:tensorflow:global_step/sec: 37.7575\n",
      "INFO:tensorflow:loss = 0.040836662, step = 601 (2.649 sec)\n",
      "INFO:tensorflow:global_step/sec: 36.1317\n",
      "INFO:tensorflow:loss = 0.033115026, step = 701 (2.767 sec)\n",
      "INFO:tensorflow:global_step/sec: 35.0473\n",
      "INFO:tensorflow:loss = 0.024454959, step = 801 (2.854 sec)\n",
      "INFO:tensorflow:global_step/sec: 34.1324\n",
      "INFO:tensorflow:loss = 0.019683708, step = 901 (2.930 sec)\n",
      "INFO:tensorflow:Saving checkpoints for 1000 into outputdir/model.ckpt.\n",
      "INFO:tensorflow:Loss for final step: 0.015037837.\n",
      "INFO:tensorflow:Calling model_fn.\n",
      "INFO:tensorflow:Done calling model_fn.\n",
      "INFO:tensorflow:Starting evaluation at 2020-04-02-05:13:44\n",
      "INFO:tensorflow:Graph was finalized.\n",
      "INFO:tensorflow:Restoring parameters from outputdir/model.ckpt-1000\n",
      "INFO:tensorflow:Running local_init_op.\n",
      "INFO:tensorflow:Done running local_init_op.\n",
      "INFO:tensorflow:Finished evaluation at 2020-04-02-05:13:45\n",
      "INFO:tensorflow:Saving dict for global step 1000: global_step = 1000, loss = 0.013999057, rmse = 0.11831761\n",
      "INFO:tensorflow:Calling model_fn.\n",
      "INFO:tensorflow:Done calling model_fn.\n",
      "INFO:tensorflow:Signatures INCLUDED in export for Classify: None\n",
      "INFO:tensorflow:Signatures INCLUDED in export for Regress: None\n",
      "INFO:tensorflow:Signatures INCLUDED in export for Predict: ['predicted_export_outputs', 'serving_default']\n",
      "INFO:tensorflow:Restoring parameters from outputdir/model.ckpt-1000\n",
      "INFO:tensorflow:Assets added to graph.\n",
      "INFO:tensorflow:No assets to write.\n",
      "INFO:tensorflow:SavedModel written to: b\"outputdir/export/exporter/temp-b'1585804425'/saved_model.pb\"\n"
     ]
    }
   ],
   "source": [
    "shutil.rmtree('outputdir', ignore_errors = True) # start fresh each time\n",
    "train_and_evaluate('outputdir')"
   ]
  },
  {
   "cell_type": "markdown",
   "metadata": {},
   "source": [
    "<h3> Standalone Python module </h3>\n",
    "\n",
    "To train this on Cloud ML Engine, we take the code in this notebook and make a standalone Python module."
   ]
  },
  {
   "cell_type": "markdown",
   "metadata": {},
   "source": [
    "# Create command line programme"
   ]
  },
  {
   "cell_type": "markdown",
   "metadata": {},
   "source": [
    "In order to submit to `Cloud AI Platform`, we need to create a distributed training programme. Let's convert our time series example to fit that paradigm, using the Estimator API."
   ]
  },
  {
   "cell_type": "code",
   "execution_count": 27,
   "metadata": {},
   "outputs": [],
   "source": [
    "%%bash\n",
    "rm -rf simple_rnn\n",
    "mkdir simple_rnn\n",
    "mkdir simple_rnn/trainer\n",
    "touch simple_rnn/trainer/__init__.py"
   ]
  },
  {
   "cell_type": "code",
   "execution_count": 28,
   "metadata": {},
   "outputs": [
    {
     "name": "stdout",
     "output_type": "stream",
     "text": [
      "Writing simple_rnn/trainer/task.py\n"
     ]
    }
   ],
   "source": [
    "%%writefile simple_rnn/trainer/task.py\n",
    "\n",
    "\"\"\"\n",
    "Example implementation of code to run on the Cloud ML service\n",
    "\"\"\"\n",
    "\n",
    "import traceback\n",
    "import argparse\n",
    "import json\n",
    "import os\n",
    "\n",
    "from .import model\n",
    "\n",
    "import shutil\n",
    "import tensorflow as tf\n",
    "\n",
    "if __name__ == '__main__':\n",
    "    \n",
    "    # Create object of ArgumentParser class\n",
    "    parser = argparse.ArgumentParser()\n",
    "    \n",
    "    # Input arguments\n",
    "    parser.add_argument(\n",
    "        '--train_data_paths',\n",
    "        help = 'GCS or local path to training data',\n",
    "        required=True\n",
    "    )\n",
    "    \n",
    "    parser.add_argument(\n",
    "        '--eval_data_paths',\n",
    "        help = 'GCS or local path to evaluation data',\n",
    "        required=True\n",
    "    )\n",
    "    \n",
    "    parser.add_argument(\n",
    "        '--output_dir',\n",
    "        help = 'GCS location to write checkpoints and export models',\n",
    "        required=True\n",
    "    )\n",
    "    \n",
    "    parser.add_argument(\n",
    "        '--job-dir',\n",
    "        help = 'This model ignore this field, but it is required by gcloud',\n",
    "        default='junk'\n",
    "    )\n",
    "    \n",
    "    parser.add_argument(\n",
    "        '--keras',\n",
    "        help = 'Use the keras variant',\n",
    "        action = 'store_true'\n",
    "    )\n",
    "    \n",
    "    # Eval arguments\n",
    "    parser.add_argument(\n",
    "        '--eval_delay_secs',\n",
    "        help = 'How long to wait before running first evaluation',\n",
    "        default = 10,\n",
    "        type = int\n",
    "    )\n",
    "    \n",
    "    parser.add_argument(\n",
    "        '--min_eval_frequency',\n",
    "        help = 'Minimum number of training steps between evaluations',\n",
    "        default = 1,\n",
    "        type = int\n",
    "    )\n",
    "    \n",
    "    # Now parse those above arguments\n",
    "    args = parser.parse_args()\n",
    "    arguments = args.__dict__\n",
    "    \n",
    "    # Unused args provided by service\n",
    "    arguments.pop('job_dir', None)\n",
    "    arguments.pop('job-dir', None)\n",
    "    \n",
    "    output_dir = arguments.pop('output_dir')\n",
    "\n",
    "    # Append trial_id to path if we are doing hptuning\n",
    "    # This code can be removed if you are not using hyperparameter tuning\n",
    "    output_dir = os.path.join(\n",
    "        output_dir,\n",
    "        json.loads(\n",
    "            os.environ.get('TF_CONFIG', '{}')\n",
    "        ).get('task', {}).get('trial', '')\n",
    "    )\n",
    "\n",
    "    # Run the training job\n",
    "    try:\n",
    "        shutil.rmtree(output_dir, ignore_errors = True) # start fresh each time\n",
    "        model.train_and_evaluate(output_dir, arguments['keras'])\n",
    "    except:\n",
    "        traceback.print_exc()"
   ]
  },
  {
   "cell_type": "code",
   "execution_count": 44,
   "metadata": {},
   "outputs": [
    {
     "name": "stdout",
     "output_type": "stream",
     "text": [
      "Overwriting simple_rnn/trainer/model.py\n"
     ]
    }
   ],
   "source": [
    "%%writefile simple_rnn/trainer/model.py\n",
    "\n",
    "import tensorflow as tf\n",
    "import tensorflow.contrib.metrics as metrics\n",
    "import tensorflow.contrib.rnn as rnn\n",
    "\n",
    "tf.logging.set_verbosity(tf.logging.INFO)\n",
    "\n",
    "SEQ_LEN = 10\n",
    "DEFAULTS = [[0.0] for x in range(0,SEQ_LEN)]\n",
    "BATCH_SIZE = 20\n",
    "TIMESERIES_INPUT_LAYER = 'rawdata'\n",
    "TIMESERIES_COL = '{}.input'.format(TIMESERIES_INPUT_LAYER)\n",
    "# In each sequence, column index 0 to (N_INPUTS - 1) are features, and \n",
    "# column index N_INPUTS to SEQ_LEN are labels. Example: here first 9 inputs\n",
    "# are features and 10th inputs are label\n",
    "N_OUTPUTS = 1\n",
    "N_INPUTS = SEQ_LEN - N_OUTPUTS # e.g: 10 - 1 = 9\n",
    "LSTM_SIZE = 3 # NUmber of hidden layer in each of the lstm cell\n",
    "\n",
    "# Read data and convert to needed format\n",
    "def read_dataset(filename, mode, batch_size):\n",
    "    \"\"\"\n",
    "    \"\"\"\n",
    "    def _input_fn():\n",
    "        \"\"\"\n",
    "        Provide the ability to decode a csv\n",
    "        \"\"\"\n",
    "        def decode_csv(line):\n",
    "            \"\"\"\n",
    "            \"\"\"\n",
    "            # all_data is a list of scalar tensor\n",
    "            all_data = tf.decode_csv(\n",
    "                records=line,\n",
    "                record_defaults=DEFAULTS\n",
    "            )\n",
    "            inputs = all_data[:len(all_data) - N_OUTPUTS]  # first N_INPUTS values\n",
    "            labels = all_data[len(all_data) - N_OUTPUTS:] # last N_OUTPUTS values\n",
    "\n",
    "            # Convert each list of rank R tensors to one rank R+1 tensor\n",
    "            inputs = tf.stack(inputs, axis = 0)\n",
    "            labels = tf.stack(labels, axis = 0)\n",
    "            \n",
    "            # Convert input R+1 tensor into a feature dictionary of one R+1 tensor\n",
    "            features = {TIMESERIES_COL: inputs}\n",
    "            \n",
    "            return features, labels\n",
    "        \n",
    "        # Create list of files that match pattern\n",
    "        file_list = tf.gfile.Glob(filename)\n",
    "\n",
    "        # Create dataset from file list\n",
    "        dataset = tf.data.TextLineDataset(file_list).map(decode_csv)\n",
    "\n",
    "        if mode == tf.estimator.ModeKeys.TRAIN:\n",
    "            num_epochs = None # indefinitely\n",
    "            dataset = dataset.shuffle(buffer_size = 10 * batch_size)\n",
    "        else:\n",
    "            num_epochs = 1 # end-of-input after this\n",
    "\n",
    "        dataset = dataset.repeat(num_epochs).batch(batch_size)\n",
    "\n",
    "        iterator = dataset.make_one_shot_iterator()\n",
    "        batch_features, batch_labels = iterator.get_next()\n",
    "        \n",
    "        return batch_features, batch_labels\n",
    "    return _input_fn\n",
    "\n",
    "# Create inference model usin keras.\n",
    "# The model here is a dnn regressor.\n",
    "def make_keras_estimator(output_dir):\n",
    "    \"\"\"\n",
    "    \"\"\"\n",
    "    from tensorflow import keras\n",
    "    \n",
    "    model = keras.models.Sequential()\n",
    "    model.add(keras.layers.Dense(\n",
    "        32, \n",
    "        input_shape=(N_INPUTS,), \n",
    "        name=TIMESERIES_INPUT_LAYER\n",
    "    ))\n",
    "    model.add(keras.layers.Activation('relu'))\n",
    "    model.add(keras.layers.Dense(1))\n",
    "    model.compile(\n",
    "        loss='mean_squared_error',\n",
    "        optimizer='adam',\n",
    "        metrics=['mae','mape'] # mean absolute [percentage] error\n",
    "    )\n",
    "    \n",
    "    return keras.estimator.model_to_estimator(model, model_dir=output_dir)\n",
    "\n",
    "# Create the inference model\n",
    "def simple_rnn(features, labels, mode):\n",
    "    # 0. Reformat input shape to become a sequence\n",
    "    x = tf.split(features[TIMESERIES_COL], N_INPUTS, 1)\n",
    "\n",
    "    # 1. Configure the RNN\n",
    "    lstm_cell = rnn.BasicLSTMCell(LSTM_SIZE, forget_bias = 1.0)\n",
    "    outputs, _ = rnn.static_rnn(lstm_cell, x, dtype = tf.float32)\n",
    "\n",
    "    # Slice to keep only the last cell of the RNN\n",
    "    outputs = outputs[-1]\n",
    "    #print('last outputs={}'.format(outputs))\n",
    "\n",
    "    # Output is result of linear activation of last layer of RNN\n",
    "    weight = tf.get_variable(\"weight\", initializer=tf.initializers.random_normal, \n",
    "\t\t\t     shape=[LSTM_SIZE, N_OUTPUTS])\n",
    "    bias = tf.get_variable(\"bias\", initializer=tf.initializers.random_normal, \n",
    "\t\t\t   shape=[N_OUTPUTS])\n",
    "    predictions = tf.matmul(outputs, weight) + bias\n",
    "    \n",
    "    # 2. Loss function, training/eval ops\n",
    "    if mode == tf.estimator.ModeKeys.TRAIN or mode == tf.estimator.ModeKeys.EVAL:\n",
    "        loss = tf.losses.mean_squared_error(labels, predictions)\n",
    "        train_op = tf.contrib.layers.optimize_loss(\n",
    "            loss = loss,\n",
    "            global_step = tf.train.get_global_step(),\n",
    "            learning_rate = 0.01,\n",
    "            optimizer = \"SGD\")\n",
    "        eval_metric_ops = {\n",
    "            \"rmse\": tf.metrics.root_mean_squared_error(labels, predictions)\n",
    "        }\n",
    "    else:\n",
    "        loss = None\n",
    "        train_op = None\n",
    "        eval_metric_ops = None\n",
    "  \n",
    "    # 3. Create predictions\n",
    "    predictions_dict = {\"predicted\": predictions}\n",
    "    \n",
    "    # 4. Create export outputs\n",
    "    export_outputs = {\"predict_export_outputs\": tf.estimator.export.PredictOutput(outputs = predictions)}\n",
    "\n",
    "    # 4. Return EstimatorSpec\n",
    "    return tf.estimator.EstimatorSpec(\n",
    "        mode = mode,\n",
    "        predictions = predictions_dict,\n",
    "        loss = loss,\n",
    "        train_op = train_op,\n",
    "        eval_metric_ops = eval_metric_ops,\n",
    "        export_outputs = export_outputs)\n",
    "\n",
    "# Create serving input function\n",
    "def serving_input_fn():\n",
    "    feature_placeholders = {\n",
    "        TIMESERIES_COL: tf.placeholder(tf.float32, [None, N_INPUTS])\n",
    "    }\n",
    "\n",
    "    features = {\n",
    "        key: tf.expand_dims(tensor, -1)\n",
    "        for key, tensor in feature_placeholders.items()\n",
    "    }\n",
    "    features[TIMESERIES_COL] = tf.squeeze(features[TIMESERIES_COL], axis = [2])\n",
    "\n",
    "    return tf.estimator.export.ServingInputReceiver(features, feature_placeholders)\n",
    "\n",
    "# Create custom estimator's train and evaluate function\n",
    "def train_and_evaluate(output_dir, use_keras):\n",
    "    if use_keras:\n",
    "       estimator = make_keras_estimator(output_dir)\n",
    "    else:\n",
    "       estimator = tf.estimator.Estimator(model_fn = simple_rnn, \n",
    "                                          model_dir = output_dir)\n",
    "    train_spec = tf.estimator.TrainSpec(read_dataset('train.csv',\n",
    "                                            tf.estimator.ModeKeys.TRAIN,\n",
    "                                            512),\n",
    "                                        max_steps = 1000)\n",
    "    exporter = tf.estimator.LatestExporter('exporter', serving_input_fn)\n",
    "    eval_spec = tf.estimator.EvalSpec(read_dataset('valid.csv',\n",
    "                                            tf.estimator.ModeKeys.EVAL,\n",
    "                                            512),\n",
    "                                      steps = None, \n",
    "                                      exporters = exporter)\n",
    "    tf.estimator.train_and_evaluate(estimator, train_spec, eval_spec)"
   ]
  },
  {
   "cell_type": "code",
   "execution_count": 45,
   "metadata": {},
   "outputs": [
    {
     "name": "stdout",
     "output_type": "stream",
     "text": [
      "/media/mujahid7292/Data/GoogleDriveSandCorp2014/ML_With_TensorFlow_On_GCP/05.Art_And_Science_Of_Machine_Learning/WEEK_3/01.Using_Custom_Estimators/Practice\n"
     ]
    },
    {
     "name": "stderr",
     "output_type": "stream",
     "text": [
      "rm: cannot remove 'outputdir/eval': Directory not empty\n",
      "/media/mujahid7292/Data/GoogleDriveSandCorp2014/ML_With_TensorFlow_On_GCP/05.Art_And_Science_Of_Machine_Learning/WEEK_3/01.Using_Custom_Estimators/Venv/lib/python3.6/site-packages/tensorflow/python/framework/dtypes.py:519: FutureWarning: Passing (type, 1) or '1type' as a synonym of type is deprecated; in a future version of numpy, it will be understood as (type, (1,)) / '(1,)type'.\n",
      "  _np_qint8 = np.dtype([(\"qint8\", np.int8, 1)])\n",
      "/media/mujahid7292/Data/GoogleDriveSandCorp2014/ML_With_TensorFlow_On_GCP/05.Art_And_Science_Of_Machine_Learning/WEEK_3/01.Using_Custom_Estimators/Venv/lib/python3.6/site-packages/tensorflow/python/framework/dtypes.py:520: FutureWarning: Passing (type, 1) or '1type' as a synonym of type is deprecated; in a future version of numpy, it will be understood as (type, (1,)) / '(1,)type'.\n",
      "  _np_quint8 = np.dtype([(\"quint8\", np.uint8, 1)])\n",
      "/media/mujahid7292/Data/GoogleDriveSandCorp2014/ML_With_TensorFlow_On_GCP/05.Art_And_Science_Of_Machine_Learning/WEEK_3/01.Using_Custom_Estimators/Venv/lib/python3.6/site-packages/tensorflow/python/framework/dtypes.py:521: FutureWarning: Passing (type, 1) or '1type' as a synonym of type is deprecated; in a future version of numpy, it will be understood as (type, (1,)) / '(1,)type'.\n",
      "  _np_qint16 = np.dtype([(\"qint16\", np.int16, 1)])\n",
      "/media/mujahid7292/Data/GoogleDriveSandCorp2014/ML_With_TensorFlow_On_GCP/05.Art_And_Science_Of_Machine_Learning/WEEK_3/01.Using_Custom_Estimators/Venv/lib/python3.6/site-packages/tensorflow/python/framework/dtypes.py:522: FutureWarning: Passing (type, 1) or '1type' as a synonym of type is deprecated; in a future version of numpy, it will be understood as (type, (1,)) / '(1,)type'.\n",
      "  _np_quint16 = np.dtype([(\"quint16\", np.uint16, 1)])\n",
      "/media/mujahid7292/Data/GoogleDriveSandCorp2014/ML_With_TensorFlow_On_GCP/05.Art_And_Science_Of_Machine_Learning/WEEK_3/01.Using_Custom_Estimators/Venv/lib/python3.6/site-packages/tensorflow/python/framework/dtypes.py:523: FutureWarning: Passing (type, 1) or '1type' as a synonym of type is deprecated; in a future version of numpy, it will be understood as (type, (1,)) / '(1,)type'.\n",
      "  _np_qint32 = np.dtype([(\"qint32\", np.int32, 1)])\n",
      "/media/mujahid7292/Data/GoogleDriveSandCorp2014/ML_With_TensorFlow_On_GCP/05.Art_And_Science_Of_Machine_Learning/WEEK_3/01.Using_Custom_Estimators/Venv/lib/python3.6/site-packages/tensorflow/python/framework/dtypes.py:528: FutureWarning: Passing (type, 1) or '1type' as a synonym of type is deprecated; in a future version of numpy, it will be understood as (type, (1,)) / '(1,)type'.\n",
      "  np_resource = np.dtype([(\"resource\", np.ubyte, 1)])\n",
      "INFO:tensorflow:Using default config.\n",
      "INFO:tensorflow:Using config: {'_model_dir': 'outputdir/', '_tf_random_seed': None, '_save_summary_steps': 100, '_save_checkpoints_steps': None, '_save_checkpoints_secs': 600, '_session_config': None, '_keep_checkpoint_max': 5, '_keep_checkpoint_every_n_hours': 10000, '_log_step_count_steps': 100, '_train_distribute': None, '_service': None, '_cluster_spec': <tensorflow.python.training.server_lib.ClusterSpec object at 0x7f2a95cde3c8>, '_task_type': 'worker', '_task_id': 0, '_global_id_in_cluster': 0, '_master': '', '_evaluation_master': '', '_is_chief': True, '_num_ps_replicas': 0, '_num_worker_replicas': 1}\n",
      "INFO:tensorflow:Running training and evaluation locally (non-distributed).\n",
      "INFO:tensorflow:Start train and evaluate loop. The evaluate will happen after 600 secs (eval_spec.throttle_secs) or training is finished.\n",
      "INFO:tensorflow:Calling model_fn.\n",
      "INFO:tensorflow:Done calling model_fn.\n",
      "INFO:tensorflow:Create CheckpointSaverHook.\n",
      "INFO:tensorflow:Graph was finalized.\n",
      "2020-04-02 16:50:46.750190: I tensorflow/core/platform/cpu_feature_guard.cc:140] Your CPU supports instructions that this TensorFlow binary was not compiled to use: AVX2 FMA\n",
      "INFO:tensorflow:Running local_init_op.\n",
      "INFO:tensorflow:Done running local_init_op.\n",
      "INFO:tensorflow:Saving checkpoints for 1 into outputdir/model.ckpt.\n",
      "INFO:tensorflow:loss = 3.5710182, step = 1\n",
      "INFO:tensorflow:global_step/sec: 34.9499\n",
      "INFO:tensorflow:loss = 0.54330266, step = 101 (2.861 sec)\n",
      "INFO:tensorflow:global_step/sec: 36.8777\n",
      "INFO:tensorflow:loss = 0.3191537, step = 201 (2.712 sec)\n",
      "INFO:tensorflow:global_step/sec: 30.9183\n",
      "INFO:tensorflow:loss = 0.198119, step = 301 (3.234 sec)\n",
      "INFO:tensorflow:global_step/sec: 37.3452\n",
      "INFO:tensorflow:loss = 0.1298959, step = 401 (2.678 sec)\n",
      "INFO:tensorflow:global_step/sec: 37.5511\n",
      "INFO:tensorflow:loss = 0.11068614, step = 501 (2.663 sec)\n",
      "INFO:tensorflow:global_step/sec: 37.5597\n",
      "INFO:tensorflow:loss = 0.09810313, step = 601 (2.663 sec)\n",
      "INFO:tensorflow:global_step/sec: 37.2639\n",
      "INFO:tensorflow:loss = 0.08241, step = 701 (2.683 sec)\n",
      "INFO:tensorflow:global_step/sec: 33.6286\n",
      "INFO:tensorflow:loss = 0.07287793, step = 801 (2.974 sec)\n",
      "INFO:tensorflow:global_step/sec: 36.5111\n",
      "INFO:tensorflow:loss = 0.06884446, step = 901 (2.739 sec)\n",
      "INFO:tensorflow:Saving checkpoints for 1000 into outputdir/model.ckpt.\n",
      "INFO:tensorflow:Loss for final step: 0.06424873.\n",
      "INFO:tensorflow:Calling model_fn.\n",
      "INFO:tensorflow:Done calling model_fn.\n",
      "INFO:tensorflow:Starting evaluation at 2020-04-02-10:51:16\n",
      "INFO:tensorflow:Graph was finalized.\n",
      "INFO:tensorflow:Restoring parameters from outputdir/model.ckpt-1000\n",
      "INFO:tensorflow:Running local_init_op.\n",
      "INFO:tensorflow:Done running local_init_op.\n",
      "INFO:tensorflow:Finished evaluation at 2020-04-02-10:51:16\n",
      "INFO:tensorflow:Saving dict for global step 1000: global_step = 1000, loss = 0.053487048, rmse = 0.23127267\n",
      "INFO:tensorflow:Calling model_fn.\n",
      "INFO:tensorflow:Done calling model_fn.\n",
      "INFO:tensorflow:Signatures INCLUDED in export for Classify: None\n",
      "INFO:tensorflow:Signatures INCLUDED in export for Regress: None\n",
      "INFO:tensorflow:Signatures INCLUDED in export for Predict: ['predict_export_outputs', 'serving_default']\n",
      "INFO:tensorflow:Restoring parameters from outputdir/model.ckpt-1000\n",
      "INFO:tensorflow:Assets added to graph.\n",
      "INFO:tensorflow:No assets to write.\n",
      "INFO:tensorflow:SavedModel written to: b\"outputdir/export/exporter/temp-b'1585824676'/saved_model.pb\"\n"
     ]
    }
   ],
   "source": [
    "%%bash\n",
    "# Run model as it is\n",
    "# First remove the outputdir\n",
    "rm -rf outputdir\n",
    "echo $PWD\n",
    "export PYTHONPATH=${PYTHONPATH}:${PWD}/simple_rnn\n",
    "python -m trainer.task \\\n",
    "    --train_data_paths=\"${PWD}/train.csv*\" \\\n",
    "    --eval_data_path=\"${PWD}/valid.csv*\" \\\n",
    "    --output_dir=outputdir \\\n",
    "    --job-dir=./tmp"
   ]
  },
  {
   "cell_type": "markdown",
   "metadata": {},
   "source": [
    "Try out online prediction.  This is how the REST API will work after you train on Cloud ML Engine"
   ]
  },
  {
   "cell_type": "code",
   "execution_count": 47,
   "metadata": {},
   "outputs": [
    {
     "name": "stdout",
     "output_type": "stream",
     "text": [
      "Writing test.json\n"
     ]
    }
   ],
   "source": [
    "%%writefile test.json\n",
    "{\"rawdata_input\": [0,0.214,0.406,0.558,0.655,0.687,0.65,0.549,0.393]}"
   ]
  },
  {
   "cell_type": "code",
   "execution_count": 51,
   "metadata": {},
   "outputs": [
    {
     "name": "stderr",
     "output_type": "stream",
     "text": [
      "WARNING: The `gcloud ml-engine` commands have been renamed and will soon be removed. Please use `gcloud ai-platform` instead.\n",
      "If the signature defined in the model is not serving_default then you must specify it via --signature-name flag, otherwise the command may fail.\n",
      "ERROR: (gcloud.ml-engine.local.predict) RuntimeError: Bad magic number in .pyc file\n",
      "\n"
     ]
    },
    {
     "ename": "CalledProcessError",
     "evalue": "Command 'b\"# local predict doesn't work with Python 3 yet.\\nMODEL_DIR=$(ls ./outputdir/export/exporter/)\\ngcloud ml-engine local predict --model-dir=./outputdir/export/exporter/$MODEL_DIR --json-instances=test.json\\n\"' returned non-zero exit status 1.",
     "output_type": "error",
     "traceback": [
      "\u001b[0;31m---------------------------------------------------------------------------\u001b[0m",
      "\u001b[0;31mCalledProcessError\u001b[0m                        Traceback (most recent call last)",
      "\u001b[0;32m<ipython-input-51-7745d80bee5e>\u001b[0m in \u001b[0;36m<module>\u001b[0;34m\u001b[0m\n\u001b[0;32m----> 1\u001b[0;31m \u001b[0mget_ipython\u001b[0m\u001b[0;34m(\u001b[0m\u001b[0;34m)\u001b[0m\u001b[0;34m.\u001b[0m\u001b[0mrun_cell_magic\u001b[0m\u001b[0;34m(\u001b[0m\u001b[0;34m'bash'\u001b[0m\u001b[0;34m,\u001b[0m \u001b[0;34m''\u001b[0m\u001b[0;34m,\u001b[0m \u001b[0;34m\"# local predict doesn't work with Python 3 yet.\\nMODEL_DIR=$(ls ./outputdir/export/exporter/)\\ngcloud ml-engine local predict --model-dir=./outputdir/export/exporter/$MODEL_DIR --json-instances=test.json\\n\"\u001b[0m\u001b[0;34m)\u001b[0m\u001b[0;34m\u001b[0m\u001b[0;34m\u001b[0m\u001b[0m\n\u001b[0m",
      "\u001b[0;32m/media/mujahid7292/Data/GoogleDriveSandCorp2014/ML_With_TensorFlow_On_GCP/05.Art_And_Science_Of_Machine_Learning/WEEK_3/01.Using_Custom_Estimators/Venv/lib/python3.6/site-packages/IPython/core/interactiveshell.py\u001b[0m in \u001b[0;36mrun_cell_magic\u001b[0;34m(self, magic_name, line, cell)\u001b[0m\n\u001b[1;32m   2360\u001b[0m             \u001b[0;32mwith\u001b[0m \u001b[0mself\u001b[0m\u001b[0;34m.\u001b[0m\u001b[0mbuiltin_trap\u001b[0m\u001b[0;34m:\u001b[0m\u001b[0;34m\u001b[0m\u001b[0;34m\u001b[0m\u001b[0m\n\u001b[1;32m   2361\u001b[0m                 \u001b[0margs\u001b[0m \u001b[0;34m=\u001b[0m \u001b[0;34m(\u001b[0m\u001b[0mmagic_arg_s\u001b[0m\u001b[0;34m,\u001b[0m \u001b[0mcell\u001b[0m\u001b[0;34m)\u001b[0m\u001b[0;34m\u001b[0m\u001b[0;34m\u001b[0m\u001b[0m\n\u001b[0;32m-> 2362\u001b[0;31m                 \u001b[0mresult\u001b[0m \u001b[0;34m=\u001b[0m \u001b[0mfn\u001b[0m\u001b[0;34m(\u001b[0m\u001b[0;34m*\u001b[0m\u001b[0margs\u001b[0m\u001b[0;34m,\u001b[0m \u001b[0;34m**\u001b[0m\u001b[0mkwargs\u001b[0m\u001b[0;34m)\u001b[0m\u001b[0;34m\u001b[0m\u001b[0;34m\u001b[0m\u001b[0m\n\u001b[0m\u001b[1;32m   2363\u001b[0m             \u001b[0;32mreturn\u001b[0m \u001b[0mresult\u001b[0m\u001b[0;34m\u001b[0m\u001b[0;34m\u001b[0m\u001b[0m\n\u001b[1;32m   2364\u001b[0m \u001b[0;34m\u001b[0m\u001b[0m\n",
      "\u001b[0;32m/media/mujahid7292/Data/GoogleDriveSandCorp2014/ML_With_TensorFlow_On_GCP/05.Art_And_Science_Of_Machine_Learning/WEEK_3/01.Using_Custom_Estimators/Venv/lib/python3.6/site-packages/IPython/core/magics/script.py\u001b[0m in \u001b[0;36mnamed_script_magic\u001b[0;34m(line, cell)\u001b[0m\n\u001b[1;32m    140\u001b[0m             \u001b[0;32melse\u001b[0m\u001b[0;34m:\u001b[0m\u001b[0;34m\u001b[0m\u001b[0;34m\u001b[0m\u001b[0m\n\u001b[1;32m    141\u001b[0m                 \u001b[0mline\u001b[0m \u001b[0;34m=\u001b[0m \u001b[0mscript\u001b[0m\u001b[0;34m\u001b[0m\u001b[0;34m\u001b[0m\u001b[0m\n\u001b[0;32m--> 142\u001b[0;31m             \u001b[0;32mreturn\u001b[0m \u001b[0mself\u001b[0m\u001b[0;34m.\u001b[0m\u001b[0mshebang\u001b[0m\u001b[0;34m(\u001b[0m\u001b[0mline\u001b[0m\u001b[0;34m,\u001b[0m \u001b[0mcell\u001b[0m\u001b[0;34m)\u001b[0m\u001b[0;34m\u001b[0m\u001b[0;34m\u001b[0m\u001b[0m\n\u001b[0m\u001b[1;32m    143\u001b[0m \u001b[0;34m\u001b[0m\u001b[0m\n\u001b[1;32m    144\u001b[0m         \u001b[0;31m# write a basic docstring:\u001b[0m\u001b[0;34m\u001b[0m\u001b[0;34m\u001b[0m\u001b[0;34m\u001b[0m\u001b[0m\n",
      "\u001b[0;32m<decorator-gen-110>\u001b[0m in \u001b[0;36mshebang\u001b[0;34m(self, line, cell)\u001b[0m\n",
      "\u001b[0;32m/media/mujahid7292/Data/GoogleDriveSandCorp2014/ML_With_TensorFlow_On_GCP/05.Art_And_Science_Of_Machine_Learning/WEEK_3/01.Using_Custom_Estimators/Venv/lib/python3.6/site-packages/IPython/core/magic.py\u001b[0m in \u001b[0;36m<lambda>\u001b[0;34m(f, *a, **k)\u001b[0m\n\u001b[1;32m    185\u001b[0m     \u001b[0;31m# but it's overkill for just that one bit of state.\u001b[0m\u001b[0;34m\u001b[0m\u001b[0;34m\u001b[0m\u001b[0;34m\u001b[0m\u001b[0m\n\u001b[1;32m    186\u001b[0m     \u001b[0;32mdef\u001b[0m \u001b[0mmagic_deco\u001b[0m\u001b[0;34m(\u001b[0m\u001b[0marg\u001b[0m\u001b[0;34m)\u001b[0m\u001b[0;34m:\u001b[0m\u001b[0;34m\u001b[0m\u001b[0;34m\u001b[0m\u001b[0m\n\u001b[0;32m--> 187\u001b[0;31m         \u001b[0mcall\u001b[0m \u001b[0;34m=\u001b[0m \u001b[0;32mlambda\u001b[0m \u001b[0mf\u001b[0m\u001b[0;34m,\u001b[0m \u001b[0;34m*\u001b[0m\u001b[0ma\u001b[0m\u001b[0;34m,\u001b[0m \u001b[0;34m**\u001b[0m\u001b[0mk\u001b[0m\u001b[0;34m:\u001b[0m \u001b[0mf\u001b[0m\u001b[0;34m(\u001b[0m\u001b[0;34m*\u001b[0m\u001b[0ma\u001b[0m\u001b[0;34m,\u001b[0m \u001b[0;34m**\u001b[0m\u001b[0mk\u001b[0m\u001b[0;34m)\u001b[0m\u001b[0;34m\u001b[0m\u001b[0;34m\u001b[0m\u001b[0m\n\u001b[0m\u001b[1;32m    188\u001b[0m \u001b[0;34m\u001b[0m\u001b[0m\n\u001b[1;32m    189\u001b[0m         \u001b[0;32mif\u001b[0m \u001b[0mcallable\u001b[0m\u001b[0;34m(\u001b[0m\u001b[0marg\u001b[0m\u001b[0;34m)\u001b[0m\u001b[0;34m:\u001b[0m\u001b[0;34m\u001b[0m\u001b[0;34m\u001b[0m\u001b[0m\n",
      "\u001b[0;32m/media/mujahid7292/Data/GoogleDriveSandCorp2014/ML_With_TensorFlow_On_GCP/05.Art_And_Science_Of_Machine_Learning/WEEK_3/01.Using_Custom_Estimators/Venv/lib/python3.6/site-packages/IPython/core/magics/script.py\u001b[0m in \u001b[0;36mshebang\u001b[0;34m(self, line, cell)\u001b[0m\n\u001b[1;32m    243\u001b[0m             \u001b[0msys\u001b[0m\u001b[0;34m.\u001b[0m\u001b[0mstderr\u001b[0m\u001b[0;34m.\u001b[0m\u001b[0mflush\u001b[0m\u001b[0;34m(\u001b[0m\u001b[0;34m)\u001b[0m\u001b[0;34m\u001b[0m\u001b[0;34m\u001b[0m\u001b[0m\n\u001b[1;32m    244\u001b[0m         \u001b[0;32mif\u001b[0m \u001b[0margs\u001b[0m\u001b[0;34m.\u001b[0m\u001b[0mraise_error\u001b[0m \u001b[0;32mand\u001b[0m \u001b[0mp\u001b[0m\u001b[0;34m.\u001b[0m\u001b[0mreturncode\u001b[0m\u001b[0;34m!=\u001b[0m\u001b[0;36m0\u001b[0m\u001b[0;34m:\u001b[0m\u001b[0;34m\u001b[0m\u001b[0;34m\u001b[0m\u001b[0m\n\u001b[0;32m--> 245\u001b[0;31m             \u001b[0;32mraise\u001b[0m \u001b[0mCalledProcessError\u001b[0m\u001b[0;34m(\u001b[0m\u001b[0mp\u001b[0m\u001b[0;34m.\u001b[0m\u001b[0mreturncode\u001b[0m\u001b[0;34m,\u001b[0m \u001b[0mcell\u001b[0m\u001b[0;34m,\u001b[0m \u001b[0moutput\u001b[0m\u001b[0;34m=\u001b[0m\u001b[0mout\u001b[0m\u001b[0;34m,\u001b[0m \u001b[0mstderr\u001b[0m\u001b[0;34m=\u001b[0m\u001b[0merr\u001b[0m\u001b[0;34m)\u001b[0m\u001b[0;34m\u001b[0m\u001b[0;34m\u001b[0m\u001b[0m\n\u001b[0m\u001b[1;32m    246\u001b[0m \u001b[0;34m\u001b[0m\u001b[0m\n\u001b[1;32m    247\u001b[0m     \u001b[0;32mdef\u001b[0m \u001b[0m_run_script\u001b[0m\u001b[0;34m(\u001b[0m\u001b[0mself\u001b[0m\u001b[0;34m,\u001b[0m \u001b[0mp\u001b[0m\u001b[0;34m,\u001b[0m \u001b[0mcell\u001b[0m\u001b[0;34m,\u001b[0m \u001b[0mto_close\u001b[0m\u001b[0;34m)\u001b[0m\u001b[0;34m:\u001b[0m\u001b[0;34m\u001b[0m\u001b[0;34m\u001b[0m\u001b[0m\n",
      "\u001b[0;31mCalledProcessError\u001b[0m: Command 'b\"# local predict doesn't work with Python 3 yet.\\nMODEL_DIR=$(ls ./outputdir/export/exporter/)\\ngcloud ml-engine local predict --model-dir=./outputdir/export/exporter/$MODEL_DIR --json-instances=test.json\\n\"' returned non-zero exit status 1."
     ]
    }
   ],
   "source": [
    "%%bash\n",
    "# local predict doesn't work with Python 3 yet.\n",
    "MODEL_DIR=$(ls ./outputdir/export/exporter/)\n",
    "gcloud ml-engine local predict --model-dir=./outputdir/export/exporter/$MODEL_DIR --json-instances=test.json"
   ]
  },
  {
   "cell_type": "markdown",
   "metadata": {},
   "source": [
    "<h3> Cloud ML Engine </h3>\n",
    "\n",
    "Now to train on Cloud ML Engine."
   ]
  },
  {
   "cell_type": "code",
   "execution_count": null,
   "metadata": {},
   "outputs": [],
   "source": [
    "%%bash\n",
    "# Run module on Cloud ML Engine\n",
    "OUTDIR=gs://${BUCKET}/simplernn/model_trained\n",
    "JOBNAME=simplernn_$(date -u +%y%m%d_%H%M%S)\n",
    "gsutil -m rm -rf $OUTDIR\n",
    "gcloud ml-engine jobs submit training $JOBNAME \\\n",
    "   --region=$REGION \\\n",
    "   --module-name=trainer.task \\\n",
    "   --package-path=${PWD}/simplernn/trainer \\\n",
    "   --job-dir=$OUTDIR \\\n",
    "   --staging-bucket=gs://$BUCKET \\\n",
    "   --scale-tier=BASIC \\\n",
    "   --runtime-version=1.4 \\\n",
    "   -- \\\n",
    "   --train_data_paths=\"gs://${BUCKET}/train.csv*\" \\\n",
    "   --eval_data_paths=\"gs://${BUCKET}/valid.csv*\"  \\\n",
    "   --output_dir=$OUTDIR"
   ]
  },
  {
   "cell_type": "markdown",
   "metadata": {},
   "source": [
    "<h2> Variant: long sequence </h2>\n",
    "\n",
    "To create short sequences from a very long sequence."
   ]
  },
  {
   "cell_type": "code",
   "execution_count": 52,
   "metadata": {},
   "outputs": [
    {
     "name": "stdout",
     "output_type": "stream",
     "text": [
      "input= [ 1.  2.  3.  4.  5.  6.  7.  8.  9. 10.]\n",
      "output= [[1. 2. 3. 4. 5.]\n",
      " [2. 3. 4. 5. 6.]\n",
      " [3. 4. 5. 6. 7.]\n",
      " [4. 5. 6. 7. 8.]\n",
      " [5. 6. 7. 8. 9.]]\n"
     ]
    }
   ],
   "source": [
    "import tensorflow as tf\n",
    "import numpy as np\n",
    "\n",
    "def breakup(sess, x, lookback_len):\n",
    "  N = sess.run(tf.size(x))\n",
    "  windows = [tf.slice(x, [b], [lookback_len]) for b in range(0, N-lookback_len)]\n",
    "  windows = tf.stack(windows)\n",
    "  return windows\n",
    "\n",
    "x = tf.constant(np.arange(1,11, dtype=np.float32))\n",
    "with tf.Session() as sess:\n",
    "    print('input=', x.eval())\n",
    "    seqx = breakup(sess, x, 5)\n",
    "    print('output=', seqx.eval())"
   ]
  },
  {
   "cell_type": "markdown",
   "metadata": {},
   "source": [
    "## Variant: Keras\n",
    "\n",
    "You can also invoke a Keras model from within the Estimator framework by creating an estimator from the compiled Keras model:"
   ]
  },
  {
   "cell_type": "code",
   "execution_count": 53,
   "metadata": {},
   "outputs": [],
   "source": [
    "def make_keras_estimator(output_dir):\n",
    "  from tensorflow import keras\n",
    "  model = keras.models.Sequential()\n",
    "  model.add(keras.layers.Dense(32, input_shape=(N_INPUTS,), name=TIMESERIES_INPUT_LAYER))\n",
    "  model.add(keras.layers.Activation('relu'))\n",
    "  model.add(keras.layers.Dense(1))\n",
    "  model.compile(loss = 'mean_squared_error',\n",
    "                optimizer = 'adam',\n",
    "                metrics = ['mae', 'mape']) # mean absolute [percentage] error\n",
    "  return keras.estimator.model_to_estimator(model)"
   ]
  },
  {
   "cell_type": "code",
   "execution_count": 56,
   "metadata": {},
   "outputs": [
    {
     "name": "stdout",
     "output_type": "stream",
     "text": [
      "/media/mujahid7292/Data/GoogleDriveSandCorp2014/ML_With_TensorFlow_On_GCP/05.Art_And_Science_Of_Machine_Learning/WEEK_3/01.Using_Custom_Estimators/Practice\n"
     ]
    },
    {
     "name": "stderr",
     "output_type": "stream",
     "text": [
      "rm: cannot remove 'outputdir/eval': Directory not empty\n",
      "/media/mujahid7292/Data/GoogleDriveSandCorp2014/ML_With_TensorFlow_On_GCP/05.Art_And_Science_Of_Machine_Learning/WEEK_3/01.Using_Custom_Estimators/Venv/lib/python3.6/site-packages/tensorflow/python/framework/dtypes.py:519: FutureWarning: Passing (type, 1) or '1type' as a synonym of type is deprecated; in a future version of numpy, it will be understood as (type, (1,)) / '(1,)type'.\n",
      "  _np_qint8 = np.dtype([(\"qint8\", np.int8, 1)])\n",
      "/media/mujahid7292/Data/GoogleDriveSandCorp2014/ML_With_TensorFlow_On_GCP/05.Art_And_Science_Of_Machine_Learning/WEEK_3/01.Using_Custom_Estimators/Venv/lib/python3.6/site-packages/tensorflow/python/framework/dtypes.py:520: FutureWarning: Passing (type, 1) or '1type' as a synonym of type is deprecated; in a future version of numpy, it will be understood as (type, (1,)) / '(1,)type'.\n",
      "  _np_quint8 = np.dtype([(\"quint8\", np.uint8, 1)])\n",
      "/media/mujahid7292/Data/GoogleDriveSandCorp2014/ML_With_TensorFlow_On_GCP/05.Art_And_Science_Of_Machine_Learning/WEEK_3/01.Using_Custom_Estimators/Venv/lib/python3.6/site-packages/tensorflow/python/framework/dtypes.py:521: FutureWarning: Passing (type, 1) or '1type' as a synonym of type is deprecated; in a future version of numpy, it will be understood as (type, (1,)) / '(1,)type'.\n",
      "  _np_qint16 = np.dtype([(\"qint16\", np.int16, 1)])\n",
      "/media/mujahid7292/Data/GoogleDriveSandCorp2014/ML_With_TensorFlow_On_GCP/05.Art_And_Science_Of_Machine_Learning/WEEK_3/01.Using_Custom_Estimators/Venv/lib/python3.6/site-packages/tensorflow/python/framework/dtypes.py:522: FutureWarning: Passing (type, 1) or '1type' as a synonym of type is deprecated; in a future version of numpy, it will be understood as (type, (1,)) / '(1,)type'.\n",
      "  _np_quint16 = np.dtype([(\"quint16\", np.uint16, 1)])\n",
      "/media/mujahid7292/Data/GoogleDriveSandCorp2014/ML_With_TensorFlow_On_GCP/05.Art_And_Science_Of_Machine_Learning/WEEK_3/01.Using_Custom_Estimators/Venv/lib/python3.6/site-packages/tensorflow/python/framework/dtypes.py:523: FutureWarning: Passing (type, 1) or '1type' as a synonym of type is deprecated; in a future version of numpy, it will be understood as (type, (1,)) / '(1,)type'.\n",
      "  _np_qint32 = np.dtype([(\"qint32\", np.int32, 1)])\n",
      "/media/mujahid7292/Data/GoogleDriveSandCorp2014/ML_With_TensorFlow_On_GCP/05.Art_And_Science_Of_Machine_Learning/WEEK_3/01.Using_Custom_Estimators/Venv/lib/python3.6/site-packages/tensorflow/python/framework/dtypes.py:528: FutureWarning: Passing (type, 1) or '1type' as a synonym of type is deprecated; in a future version of numpy, it will be understood as (type, (1,)) / '(1,)type'.\n",
      "  np_resource = np.dtype([(\"resource\", np.ubyte, 1)])\n",
      "INFO:tensorflow:Using the Keras model provided.\n",
      "INFO:tensorflow:Using default config.\n",
      "INFO:tensorflow:Using config: {'_model_dir': '/media/mujahid7292/Data/GoogleDriveSandCorp2014/ML_With_TensorFlow_On_GCP/05.Art_And_Science_Of_Machine_Learning/WEEK_3/01.Using_Custom_Estimators/Practice/outputdir/', '_tf_random_seed': None, '_save_summary_steps': 100, '_save_checkpoints_steps': None, '_save_checkpoints_secs': 600, '_session_config': None, '_keep_checkpoint_max': 5, '_keep_checkpoint_every_n_hours': 10000, '_log_step_count_steps': 100, '_train_distribute': None, '_service': None, '_cluster_spec': <tensorflow.python.training.server_lib.ClusterSpec object at 0x7f8a81c74278>, '_task_type': 'worker', '_task_id': 0, '_global_id_in_cluster': 0, '_master': '', '_evaluation_master': '', '_is_chief': True, '_num_ps_replicas': 0, '_num_worker_replicas': 1}\n",
      "2020-04-02 16:56:20.139293: I tensorflow/core/platform/cpu_feature_guard.cc:140] Your CPU supports instructions that this TensorFlow binary was not compiled to use: AVX2 FMA\n",
      "INFO:tensorflow:Running training and evaluation locally (non-distributed).\n",
      "INFO:tensorflow:Start train and evaluate loop. The evaluate will happen after 600 secs (eval_spec.throttle_secs) or training is finished.\n",
      "INFO:tensorflow:Calling model_fn.\n",
      "Traceback (most recent call last):\n",
      "  File \"/media/mujahid7292/Data/GoogleDriveSandCorp2014/ML_With_TensorFlow_On_GCP/05.Art_And_Science_Of_Machine_Learning/WEEK_3/01.Using_Custom_Estimators/Practice/simple_rnn/trainer/task.py\", line 89, in <module>\n",
      "    model.train_and_evaluate(output_dir, arguments['keras'])\n",
      "  File \"/media/mujahid7292/Data/GoogleDriveSandCorp2014/ML_With_TensorFlow_On_GCP/05.Art_And_Science_Of_Machine_Learning/WEEK_3/01.Using_Custom_Estimators/Practice/simple_rnn/trainer/model.py\", line 173, in train_and_evaluate\n",
      "    tf.estimator.train_and_evaluate(estimator, train_spec, eval_spec)\n",
      "  File \"/media/mujahid7292/Data/GoogleDriveSandCorp2014/ML_With_TensorFlow_On_GCP/05.Art_And_Science_Of_Machine_Learning/WEEK_3/01.Using_Custom_Estimators/Venv/lib/python3.6/site-packages/tensorflow/python/estimator/training.py\", line 439, in train_and_evaluate\n",
      "    executor.run()\n",
      "  File \"/media/mujahid7292/Data/GoogleDriveSandCorp2014/ML_With_TensorFlow_On_GCP/05.Art_And_Science_Of_Machine_Learning/WEEK_3/01.Using_Custom_Estimators/Venv/lib/python3.6/site-packages/tensorflow/python/estimator/training.py\", line 518, in run\n",
      "    self.run_local()\n",
      "  File \"/media/mujahid7292/Data/GoogleDriveSandCorp2014/ML_With_TensorFlow_On_GCP/05.Art_And_Science_Of_Machine_Learning/WEEK_3/01.Using_Custom_Estimators/Venv/lib/python3.6/site-packages/tensorflow/python/estimator/training.py\", line 650, in run_local\n",
      "    hooks=train_hooks)\n",
      "  File \"/media/mujahid7292/Data/GoogleDriveSandCorp2014/ML_With_TensorFlow_On_GCP/05.Art_And_Science_Of_Machine_Learning/WEEK_3/01.Using_Custom_Estimators/Venv/lib/python3.6/site-packages/tensorflow/python/estimator/estimator.py\", line 363, in train\n",
      "    loss = self._train_model(input_fn, hooks, saving_listeners)\n",
      "  File \"/media/mujahid7292/Data/GoogleDriveSandCorp2014/ML_With_TensorFlow_On_GCP/05.Art_And_Science_Of_Machine_Learning/WEEK_3/01.Using_Custom_Estimators/Venv/lib/python3.6/site-packages/tensorflow/python/estimator/estimator.py\", line 843, in _train_model\n",
      "    return self._train_model_default(input_fn, hooks, saving_listeners)\n",
      "  File \"/media/mujahid7292/Data/GoogleDriveSandCorp2014/ML_With_TensorFlow_On_GCP/05.Art_And_Science_Of_Machine_Learning/WEEK_3/01.Using_Custom_Estimators/Venv/lib/python3.6/site-packages/tensorflow/python/estimator/estimator.py\", line 856, in _train_model_default\n",
      "    features, labels, model_fn_lib.ModeKeys.TRAIN, self.config)\n",
      "  File \"/media/mujahid7292/Data/GoogleDriveSandCorp2014/ML_With_TensorFlow_On_GCP/05.Art_And_Science_Of_Machine_Learning/WEEK_3/01.Using_Custom_Estimators/Venv/lib/python3.6/site-packages/tensorflow/python/estimator/estimator.py\", line 831, in _call_model_fn\n",
      "    model_fn_results = self._model_fn(features=features, **kwargs)\n",
      "  File \"/media/mujahid7292/Data/GoogleDriveSandCorp2014/ML_With_TensorFlow_On_GCP/05.Art_And_Science_Of_Machine_Learning/WEEK_3/01.Using_Custom_Estimators/Venv/lib/python3.6/site-packages/tensorflow/python/keras/_impl/keras/estimator.py\", line 330, in model_fn\n",
      "    labels)\n",
      "  File \"/media/mujahid7292/Data/GoogleDriveSandCorp2014/ML_With_TensorFlow_On_GCP/05.Art_And_Science_Of_Machine_Learning/WEEK_3/01.Using_Custom_Estimators/Venv/lib/python3.6/site-packages/tensorflow/python/keras/_impl/keras/estimator.py\", line 267, in _clone_and_build_model\n",
      "    is_input=True)\n",
      "  File \"/media/mujahid7292/Data/GoogleDriveSandCorp2014/ML_With_TensorFlow_On_GCP/05.Art_And_Science_Of_Machine_Learning/WEEK_3/01.Using_Custom_Estimators/Venv/lib/python3.6/site-packages/tensorflow/python/keras/_impl/keras/estimator.py\", line 110, in _create_ordered_io\n",
      "    ', '.join(keras_io_names)))\n",
      "ValueError: Cannot find input with name \"rawdata.input\" in Keras Model. It needs to match one of the following: rawdata_input\n"
     ]
    }
   ],
   "source": [
    "%%bash\n",
    "# Run module as-is\n",
    "echo $PWD\n",
    "rm -rf outputdir\n",
    "export PYTHONPATH=${PYTHONPATH}:${PWD}/simple_rnn\n",
    "python -m trainer.task \\\n",
    "  --train_data_paths=\"${PWD}/train.csv*\" \\\n",
    "  --eval_data_paths=\"${PWD}/valid.csv*\"  \\\n",
    "  --output_dir=${PWD}/outputdir \\\n",
    "  --job-dir=./tmp --keras"
   ]
  },
  {
   "cell_type": "code",
   "execution_count": null,
   "metadata": {},
   "outputs": [],
   "source": []
  }
 ],
 "metadata": {
  "kernelspec": {
   "display_name": "Python 3",
   "language": "python",
   "name": "python3"
  },
  "language_info": {
   "codemirror_mode": {
    "name": "ipython",
    "version": 3
   },
   "file_extension": ".py",
   "mimetype": "text/x-python",
   "name": "python",
   "nbconvert_exporter": "python",
   "pygments_lexer": "ipython3",
   "version": "3.6.9"
  }
 },
 "nbformat": 4,
 "nbformat_minor": 2
}
