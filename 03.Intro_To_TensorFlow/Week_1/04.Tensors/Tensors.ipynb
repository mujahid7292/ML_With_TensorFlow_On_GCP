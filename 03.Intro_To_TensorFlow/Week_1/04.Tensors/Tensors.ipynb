{
 "cells": [
  {
   "cell_type": "code",
   "execution_count": 1,
   "metadata": {},
   "outputs": [],
   "source": [
    "import tensorflow as tf"
   ]
  },
  {
   "cell_type": "markdown",
   "metadata": {},
   "source": [
    "# A tensor is an N-Dimensional array of data:"
   ]
  },
  {
   "cell_type": "markdown",
   "metadata": {},
   "source": [
    "###### Scalar / Real Number"
   ]
  },
  {
   "cell_type": "code",
   "execution_count": 2,
   "metadata": {},
   "outputs": [
    {
     "name": "stdout",
     "output_type": "stream",
     "text": [
      "x = Tensor(\"Const:0\", shape=(), dtype=int32)\n"
     ]
    }
   ],
   "source": [
    "x = tf.constant(3)\n",
    "print('x = {}'.format(x))"
   ]
  },
  {
   "cell_type": "markdown",
   "metadata": {},
   "source": [
    "###### Vector / 1D Tensor"
   ]
  },
  {
   "cell_type": "code",
   "execution_count": 3,
   "metadata": {},
   "outputs": [
    {
     "name": "stdout",
     "output_type": "stream",
     "text": [
      "x = Tensor(\"Const_1:0\", shape=(3,), dtype=int32)\n"
     ]
    }
   ],
   "source": [
    "x = tf.constant([3,5,7])\n",
    "print('x = {}'.format(x))"
   ]
  },
  {
   "cell_type": "markdown",
   "metadata": {},
   "source": [
    "###### Matrix / 2D Tensor"
   ]
  },
  {
   "cell_type": "code",
   "execution_count": 4,
   "metadata": {},
   "outputs": [
    {
     "name": "stdout",
     "output_type": "stream",
     "text": [
      "x = Tensor(\"Const_2:0\", shape=(2, 3), dtype=int32)\n"
     ]
    }
   ],
   "source": [
    "x = tf.constant([\n",
    "    [3,5,7],\n",
    "    [4,6,8]\n",
    "])\n",
    "print('x = {}'.format(x))"
   ]
  },
  {
   "cell_type": "markdown",
   "metadata": {},
   "source": [
    "######  3D Tensor"
   ]
  },
  {
   "cell_type": "code",
   "execution_count": 5,
   "metadata": {},
   "outputs": [
    {
     "name": "stdout",
     "output_type": "stream",
     "text": [
      "x = Tensor(\"Const_3:0\", shape=(2, 2, 3), dtype=int32)\n"
     ]
    }
   ],
   "source": [
    "x = tf.constant([\n",
    "   [[3,5,7],[4,6,8]],\n",
    "   [[1,2,3],[4,5,6]]\n",
    "])\n",
    "print('x = {}'.format(x))"
   ]
  },
  {
   "cell_type": "markdown",
   "metadata": {},
   "source": [
    "######  nD Tensor"
   ]
  },
  {
   "cell_type": "code",
   "execution_count": 12,
   "metadata": {},
   "outputs": [
    {
     "name": "stdout",
     "output_type": "stream",
     "text": [
      "x1 = Tensor(\"Const_9:0\", shape=(3,), dtype=int32)\n",
      "x2 = Tensor(\"stack_5:0\", shape=(2, 3), dtype=int32)\n",
      "x3 = Tensor(\"stack_6:0\", shape=(4, 2, 3), dtype=int32)\n",
      "x4 = Tensor(\"stack_7:0\", shape=(2, 4, 2, 3), dtype=int32)\n"
     ]
    }
   ],
   "source": [
    "x1 = tf.constant([2,3,4])\n",
    "print('x1 = {}'.format(x1))\n",
    "\n",
    "x2 = tf.stack([x1, x1])\n",
    "print('x2 = {}'.format(x2))\n",
    "\n",
    "x3 = tf.stack([x2, x2, x2, x2])\n",
    "print('x3 = {}'.format(x3))\n",
    "\n",
    "x4 = tf.stack([x3, x3])\n",
    "print('x4 = {}'.format(x4))"
   ]
  },
  {
   "cell_type": "markdown",
   "metadata": {},
   "source": [
    "# Tensor can be sliced:"
   ]
  },
  {
   "cell_type": "code",
   "execution_count": 26,
   "metadata": {},
   "outputs": [],
   "source": [
    "x = tf.constant([\n",
    "    [3,5,7],\n",
    "    [4,6,8]\n",
    "])\n",
    "\n",
    "sliced_x = x[:, 1]\n",
    "# Above clone(:) means take all the row and 1 means take column one. As python is zero based\n",
    "# index, so 1 means columns 2. So we will get second columns all the rows.\n",
    "\n",
    "sliced_x2 = x[1, :]\n",
    "# Above 1 means, take the second row and the colone means, take all of the column. That means\n",
    "# we will end up taking all of the columns of second row\n",
    "\n",
    "sliced_x3 = x[1, 0:2]\n",
    "# As usual 1 means take the second row and 0:2 means start from zero but take upto but not including\n",
    "# index 2, that means we will take column 1 & 2 of the second row."
   ]
  },
  {
   "cell_type": "code",
   "execution_count": 27,
   "metadata": {},
   "outputs": [
    {
     "name": "stdout",
     "output_type": "stream",
     "text": [
      "x = [[3 5 7]\n",
      " [4 6 8]]\n",
      "sliced_x = [5 6]\n",
      "sliced_x2 = [4 6 8]\n",
      "sliced_x3 = [4 6]\n"
     ]
    }
   ],
   "source": [
    "with tf.Session() as sess:\n",
    "    print('x = {}'.format(x.eval()))\n",
    "    print('sliced_x = {}'.format(sliced_x.eval()))\n",
    "    print('sliced_x2 = {}'.format(sliced_x2.eval()))\n",
    "    print('sliced_x3 = {}'.format(sliced_x3.eval()))"
   ]
  },
  {
   "cell_type": "markdown",
   "metadata": {},
   "source": [
    "# Tensor can be reshaped:"
   ]
  },
  {
   "cell_type": "markdown",
   "metadata": {},
   "source": [
    "###### Example: 1"
   ]
  },
  {
   "cell_type": "code",
   "execution_count": 31,
   "metadata": {},
   "outputs": [
    {
     "name": "stdout",
     "output_type": "stream",
     "text": [
      "x = Tensor(\"x:0\", shape=(2, 3), dtype=int32)\n",
      "reshaped_x = Tensor(\"reshaped_x:0\", shape=(3, 2), dtype=int32)\n"
     ]
    }
   ],
   "source": [
    "x = tf.constant([\n",
    "    [3,5,7],\n",
    "    [4,6,8]\n",
    "], name='x')\n",
    "print('x = {}'.format(x))\n",
    "\n",
    "reshaped_x = tf.reshape(x, [3,2],name='reshaped_x')\n",
    "print('reshaped_x = {}'.format(reshaped_x))"
   ]
  },
  {
   "cell_type": "code",
   "execution_count": 32,
   "metadata": {},
   "outputs": [
    {
     "name": "stdout",
     "output_type": "stream",
     "text": [
      "x = [[3 5 7]\n",
      " [4 6 8]]\n",
      "reshaped_x = [[3 5]\n",
      " [7 4]\n",
      " [6 8]]\n"
     ]
    }
   ],
   "source": [
    "with tf.Session() as sess:\n",
    "    print('x = {}'.format(x.eval()))\n",
    "    print('reshaped_x = {}'.format(reshaped_x.eval()))"
   ]
  },
  {
   "cell_type": "markdown",
   "metadata": {},
   "source": [
    "###### Example: 2 (Reshape and Slice)"
   ]
  },
  {
   "cell_type": "code",
   "execution_count": 34,
   "metadata": {},
   "outputs": [
    {
     "name": "stdout",
     "output_type": "stream",
     "text": [
      "x = Tensor(\"x_2:0\", shape=(2, 3), dtype=int32)\n",
      "reshaped_and_sliced_x = Tensor(\"strided_slice_9:0\", shape=(2,), dtype=int32)\n"
     ]
    }
   ],
   "source": [
    "x = tf.constant([\n",
    "    [3,5,7],\n",
    "    [4,6,8]\n",
    "], name='x')\n",
    "print('x = {}'.format(x))\n",
    "\n",
    "reshaped_and_sliced_x = tf.reshape(x, [3,2],name='reshaped_and_sliced_x')[1,:]\n",
    "print('reshaped_and_sliced_x = {}'.format(reshaped_and_sliced_x))"
   ]
  },
  {
   "cell_type": "code",
   "execution_count": 35,
   "metadata": {},
   "outputs": [
    {
     "name": "stdout",
     "output_type": "stream",
     "text": [
      "x = [[3 5 7]\n",
      " [4 6 8]]\n",
      "reshaped_and_sliced_x = [7 4]\n"
     ]
    }
   ],
   "source": [
    "with tf.Session() as sess:\n",
    "    print('x = {}'.format(x.eval()))\n",
    "    print('reshaped_and_sliced_x = {}'.format(reshaped_and_sliced_x.eval()))"
   ]
  },
  {
   "cell_type": "code",
   "execution_count": null,
   "metadata": {},
   "outputs": [],
   "source": []
  }
 ],
 "metadata": {
  "kernelspec": {
   "display_name": "Python 3",
   "language": "python",
   "name": "python3"
  },
  "language_info": {
   "codemirror_mode": {
    "name": "ipython",
    "version": 3
   },
   "file_extension": ".py",
   "mimetype": "text/x-python",
   "name": "python",
   "nbconvert_exporter": "python",
   "pygments_lexer": "ipython3",
   "version": "3.6.7"
  }
 },
 "nbformat": 4,
 "nbformat_minor": 2
}
