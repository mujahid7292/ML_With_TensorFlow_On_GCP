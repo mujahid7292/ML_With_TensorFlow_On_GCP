{
 "cells": [
  {
   "cell_type": "code",
   "execution_count": 1,
   "metadata": {},
   "outputs": [],
   "source": [
    "import tensorflow as tf"
   ]
  },
  {
   "cell_type": "code",
   "execution_count": 2,
   "metadata": {},
   "outputs": [],
   "source": [
    "def forward_pass(w,x):\n",
    "    \"\"\"\n",
    "    w = weight\n",
    "    x = training data\n",
    "    \n",
    "    return:\n",
    "        wx = multiplication of w and x \n",
    "    \"\"\"\n",
    "    return tf.matmul(w,x)"
   ]
  },
  {
   "cell_type": "code",
   "execution_count": 6,
   "metadata": {},
   "outputs": [],
   "source": [
    "def train_loop(x, num_of_iter = 5):\n",
    "    \"\"\"\n",
    "    x = training data\n",
    "    num_of_iter = How many time training loop will run\n",
    "    \n",
    "    return:\n",
    "        pred = A dictionary Containing predictions\n",
    "    \"\"\"\n",
    "    with tf.variable_scope(name_or_scope='model',reuse=tf.AUTO_REUSE):\n",
    "        w = tf.get_variable(name='weights', \n",
    "                            shape=(1,2),\n",
    "                            initializer=tf.truncated_normal_initializer, \n",
    "                            trainable=True)\n",
    "    preds = []\n",
    "    \n",
    "    for k in range(num_of_iter):\n",
    "        preds.append(forward_pass(w,x))\n",
    "        w = w + 0.1 # Gradients Update\n",
    "    return preds"
   ]
  },
  {
   "cell_type": "code",
   "execution_count": 8,
   "metadata": {},
   "outputs": [
    {
     "name": "stdout",
     "output_type": "stream",
     "text": [
      "0 = [[-0.11103886 -0.2485416  -0.40051818]]\n",
      "1 = [[0.6389612 0.8814584 1.1494819]]\n",
      "2 = [[1.3889612 2.0114584 2.699482 ]]\n",
      "3 = [[2.1389613 3.1414585 4.249482 ]]\n",
      "4 = [[2.8889613 4.271458  5.799482 ]]\n"
     ]
    }
   ],
   "source": [
    "with tf.Session() as sess:\n",
    "    preds = train_loop(tf.constant([\n",
    "        [3.2, 5.1, 7.2],\n",
    "        [4.3, 6.2, 8.3]\n",
    "    ]))\n",
    "    \n",
    "    tf.global_variables_initializer().run()\n",
    "    for i in range(len(preds)):\n",
    "        print('{} = {}'.format(i, preds[i].eval()))"
   ]
  },
  {
   "cell_type": "markdown",
   "metadata": {},
   "source": [
    "# Placeholder:"
   ]
  },
  {
   "cell_type": "code",
   "execution_count": 9,
   "metadata": {},
   "outputs": [
    {
     "name": "stdout",
     "output_type": "stream",
     "text": [
      "a = Tensor(\"a:0\", dtype=float32)\n"
     ]
    }
   ],
   "source": [
    "a = tf.placeholder(dtype=tf.float32, name='a',shape=None)\n",
    "b = a * 4\n",
    "\n",
    "print('a = {}'.format(a))"
   ]
  },
  {
   "cell_type": "code",
   "execution_count": 11,
   "metadata": {},
   "outputs": [
    {
     "name": "stdout",
     "output_type": "stream",
     "text": [
      "b = [ 4.  8. 12.]\n"
     ]
    }
   ],
   "source": [
    "with tf.Session() as sess:\n",
    "    print('b = {}'.format(sess.run(b, feed_dict={a: [1,2,3]})))"
   ]
  },
  {
   "cell_type": "code",
   "execution_count": null,
   "metadata": {},
   "outputs": [],
   "source": []
  }
 ],
 "metadata": {
  "kernelspec": {
   "display_name": "Python 3",
   "language": "python",
   "name": "python3"
  },
  "language_info": {
   "codemirror_mode": {
    "name": "ipython",
    "version": 3
   },
   "file_extension": ".py",
   "mimetype": "text/x-python",
   "name": "python",
   "nbconvert_exporter": "python",
   "pygments_lexer": "ipython3",
   "version": "3.6.7"
  }
 },
 "nbformat": 4,
 "nbformat_minor": 2
}
