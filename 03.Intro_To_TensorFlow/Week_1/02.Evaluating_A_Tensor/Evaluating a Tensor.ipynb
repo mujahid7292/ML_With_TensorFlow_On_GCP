{
 "cells": [
  {
   "cell_type": "code",
   "execution_count": 1,
   "metadata": {},
   "outputs": [],
   "source": [
    "import tensorflow as tf\n",
    "import numpy as np"
   ]
  },
  {
   "cell_type": "markdown",
   "metadata": {},
   "source": [
    "# Evaluate List Of Tensor In Single Session:"
   ]
  },
  {
   "cell_type": "code",
   "execution_count": 2,
   "metadata": {},
   "outputs": [],
   "source": [
    "x = tf.constant([3,5,7], name='x')\n",
    "y = tf.constant([1,2,3], name='y')\n",
    "z1 = tf.add(x,y, name='z1')\n",
    "z2 = x * y\n",
    "z3 = z2 - z1"
   ]
  },
  {
   "cell_type": "code",
   "execution_count": 3,
   "metadata": {},
   "outputs": [
    {
     "name": "stdout",
     "output_type": "stream",
     "text": [
      "a1 = [ 4  7 10]\n",
      "a2 = [ 3 10 21]\n",
      "a3 = [-1  3 11]\n"
     ]
    }
   ],
   "source": [
    "with tf.Session() as sess:\n",
    "    a1, a2, a3 = sess.run([z1, z2, z3])\n",
    "    print('a1 = {}'.format(a1))\n",
    "    print('a2 = {}'.format(a2))\n",
    "    print('a3 = {}'.format(a3))"
   ]
  },
  {
   "cell_type": "code",
   "execution_count": null,
   "metadata": {},
   "outputs": [],
   "source": []
  }
 ],
 "metadata": {
  "kernelspec": {
   "display_name": "Python 3",
   "language": "python",
   "name": "python3"
  },
  "language_info": {
   "codemirror_mode": {
    "name": "ipython",
    "version": 3
   },
   "file_extension": ".py",
   "mimetype": "text/x-python",
   "name": "python",
   "nbconvert_exporter": "python",
   "pygments_lexer": "ipython3",
   "version": "3.6.7"
  }
 },
 "nbformat": 4,
 "nbformat_minor": 2
}
