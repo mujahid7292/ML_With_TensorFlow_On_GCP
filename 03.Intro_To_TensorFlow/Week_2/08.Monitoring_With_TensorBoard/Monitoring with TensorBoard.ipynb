{
 "cells": [
  {
   "cell_type": "code",
   "execution_count": 1,
   "metadata": {},
   "outputs": [],
   "source": [
    "import tensorflow as tf"
   ]
  },
  {
   "cell_type": "markdown",
   "metadata": {},
   "source": [
    "TensorBoard is a tool that lets you visualize the training and the evaluation metrics that your model writes to disk. TensorBoard comes as standard with your TensorFlow installation. It's a command line tool, pointed to the output directory you have specified in your `run_config` and TensorBoard dashboard appears at local host column 6006."
   ]
  },
  {
   "cell_type": "markdown",
   "metadata": {},
   "source": [
    "<img src=\"img/Snap_1.JPG\" width=\"800\" height=\"800\"/>"
   ]
  },
  {
   "cell_type": "markdown",
   "metadata": {},
   "source": [
    "Pre-made estimators come with a set of predefined standard metrics, so there is nothing else for you to configure. For example, you will see your training and evaluation loss on the same graph. This is useful to see if your model is overfitting. The dense neural network estimator, also tracks the fraction of neurons that are outputting zeros. This does happen when you use the ReLU activation function, but you should keep an eye on it. If all your neurons are outputting zeros, your neural network is dead. "
   ]
  },
  {
   "cell_type": "markdown",
   "metadata": {},
   "source": [
    "<img src=\"img/Snap_2.JPG\" width=\"800\" height=\"800\"/>"
   ]
  },
  {
   "cell_type": "markdown",
   "metadata": {},
   "source": [
    "TensorBoard is also where you can see your TensorFlow graph. This might be useful for debugging or if you want to see what graph your code has produced."
   ]
  },
  {
   "cell_type": "markdown",
   "metadata": {},
   "source": [
    "<img src=\"img/Snap_3.JPG\" width=\"800\" height=\"800\"/>"
   ]
  },
  {
   "cell_type": "markdown",
   "metadata": {},
   "source": [
    "If you're building a custom estimator, specifying your own neural network layers, you can also use tf dot summary dot something commands to log various types of data and visualize them in TensorBoard. They can be numbers, text, images, or even audio files. With the estimator API one line is really all it takes in a model to write something out. Tf dot summary dot scalar and then the name of the graph on which you want to see this in TensorBoard, and the Tensor with the values to plot. If you're not using the estimator API, there are a couple of additional steps, check them out in the documentation here."
   ]
  },
  {
   "cell_type": "markdown",
   "metadata": {},
   "source": [
    "<img src=\"img/Snap_4.JPG\" width=\"800\" height=\"800\"/>"
   ]
  },
  {
   "cell_type": "markdown",
   "metadata": {},
   "source": [
    "For example, this is a histogram plot. I find it useful to visualize bad things that can happen on neuron outputs. Here on the left, we have a histogram through time of all the values coming out of a neural network layer activated by a sigmoid. And we see a problem. There is a peak at zero, another at one and most of our neurons are saturated and probably not very useful. \n",
    "\n",
    "A regularization technique, called batch normalization can fix that. Here is the output of the same layer after batch norm, and now our neurons are producing values across the entire useful range. Whether this produces better results or not, will depend on the model, but at least I see that my batch normalization is working."
   ]
  },
  {
   "cell_type": "markdown",
   "metadata": {},
   "source": [
    "<img src=\"img/Snap_5.JPG\" width=\"800\" height=\"800\"/>"
   ]
  },
  {
   "cell_type": "markdown",
   "metadata": {},
   "source": [
    "When working with images or sounds, TensorBoard has specific dashboards where you can see and hear what is going on. You can use the summary dot image and summary dot audio functions in your code to specify that the Tensor you are logging represents an image or an audio file, and they will appear in their dedicated dashboard in TensorBoard."
   ]
  },
  {
   "cell_type": "markdown",
   "metadata": {},
   "source": [
    "<img src=\"img/Snap_6.JPG\" width=\"800\" height=\"800\"/>"
   ]
  },
  {
   "cell_type": "markdown",
   "metadata": {},
   "source": [
    "Here is for example, a visualization I was using when developing an airplane detection model."
   ]
  },
  {
   "cell_type": "markdown",
   "metadata": {},
   "source": [
    "<img src=\"img/Snap_7.JPG\" width=\"800\" height=\"800\"/>"
   ]
  },
  {
   "cell_type": "code",
   "execution_count": null,
   "metadata": {},
   "outputs": [],
   "source": []
  }
 ],
 "metadata": {
  "kernelspec": {
   "display_name": "Python 3",
   "language": "python",
   "name": "python3"
  },
  "language_info": {
   "codemirror_mode": {
    "name": "ipython",
    "version": 3
   },
   "file_extension": ".py",
   "mimetype": "text/x-python",
   "name": "python",
   "nbconvert_exporter": "python",
   "pygments_lexer": "ipython3",
   "version": "3.7.4"
  }
 },
 "nbformat": 4,
 "nbformat_minor": 2
}
