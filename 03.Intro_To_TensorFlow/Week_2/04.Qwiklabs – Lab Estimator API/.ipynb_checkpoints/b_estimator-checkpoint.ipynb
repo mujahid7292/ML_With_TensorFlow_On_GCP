{
 "cells": [
  {
   "cell_type": "markdown",
   "metadata": {},
   "source": [
    "<h1>2b. Machine Learning using tf.estimator </h1>\n",
    "\n",
    "In this notebook, we will create a machine learning model using tf.estimator and evaluate its performance.  The dataset is rather small (7700 samples), so we can do it all in-memory.  We will also simply pass the raw data in as-is. "
   ]
  },
  {
   "cell_type": "code",
   "execution_count": 1,
   "metadata": {},
   "outputs": [
    {
     "name": "stdout",
     "output_type": "stream",
     "text": [
      "1.12.0\n"
     ]
    }
   ],
   "source": [
    "import tensorflow as tf\n",
    "import pandas as pd\n",
    "import numpy as np\n",
    "import shutil\n",
    "\n",
    "print(tf.__version__)"
   ]
  },
  {
   "cell_type": "markdown",
   "metadata": {},
   "source": [
    "Read data created in the previous chapter."
   ]
  },
  {
   "cell_type": "code",
   "execution_count": 2,
   "metadata": {},
   "outputs": [],
   "source": [
    "# In CSV, label is the first column, after the features, followed by the key\n",
    "CSV_COLUMNS = ['fare_amount', 'pickuplon','pickuplat','dropofflon','dropofflat','passengers', 'key']\n",
    "FEATURES = CSV_COLUMNS[1:len(CSV_COLUMNS) - 1]\n",
    "LABEL = CSV_COLUMNS[0]\n",
    "\n",
    "df_train = pd.read_csv('./taxi-train.csv', header = None, names = CSV_COLUMNS)\n",
    "df_valid = pd.read_csv('./taxi-valid.csv', header = None, names = CSV_COLUMNS)\n",
    "df_test = pd.read_csv('./taxi-test.csv', header = None, names = CSV_COLUMNS)"
   ]
  },
  {
   "cell_type": "code",
   "execution_count": 3,
   "metadata": {},
   "outputs": [
    {
     "data": {
      "text/html": [
       "<div>\n",
       "<style scoped>\n",
       "    .dataframe tbody tr th:only-of-type {\n",
       "        vertical-align: middle;\n",
       "    }\n",
       "\n",
       "    .dataframe tbody tr th {\n",
       "        vertical-align: top;\n",
       "    }\n",
       "\n",
       "    .dataframe thead th {\n",
       "        text-align: right;\n",
       "    }\n",
       "</style>\n",
       "<table border=\"1\" class=\"dataframe\">\n",
       "  <thead>\n",
       "    <tr style=\"text-align: right;\">\n",
       "      <th></th>\n",
       "      <th>fare_amount</th>\n",
       "      <th>pickuplon</th>\n",
       "      <th>pickuplat</th>\n",
       "      <th>dropofflon</th>\n",
       "      <th>dropofflat</th>\n",
       "      <th>passengers</th>\n",
       "      <th>key</th>\n",
       "    </tr>\n",
       "  </thead>\n",
       "  <tbody>\n",
       "    <tr>\n",
       "      <th>0</th>\n",
       "      <td>11.5</td>\n",
       "      <td>-74.001350</td>\n",
       "      <td>40.746269</td>\n",
       "      <td>-73.991150</td>\n",
       "      <td>40.731724</td>\n",
       "      <td>3.0</td>\n",
       "      <td>0</td>\n",
       "    </tr>\n",
       "    <tr>\n",
       "      <th>1</th>\n",
       "      <td>33.5</td>\n",
       "      <td>-73.995203</td>\n",
       "      <td>40.727307</td>\n",
       "      <td>-73.948775</td>\n",
       "      <td>40.813487</td>\n",
       "      <td>1.0</td>\n",
       "      <td>1</td>\n",
       "    </tr>\n",
       "    <tr>\n",
       "      <th>2</th>\n",
       "      <td>5.3</td>\n",
       "      <td>-73.999021</td>\n",
       "      <td>40.723133</td>\n",
       "      <td>-74.001798</td>\n",
       "      <td>40.730641</td>\n",
       "      <td>1.0</td>\n",
       "      <td>2</td>\n",
       "    </tr>\n",
       "    <tr>\n",
       "      <th>3</th>\n",
       "      <td>5.7</td>\n",
       "      <td>-73.974796</td>\n",
       "      <td>40.750656</td>\n",
       "      <td>-73.976839</td>\n",
       "      <td>40.762860</td>\n",
       "      <td>2.0</td>\n",
       "      <td>3</td>\n",
       "    </tr>\n",
       "    <tr>\n",
       "      <th>4</th>\n",
       "      <td>6.5</td>\n",
       "      <td>-73.981565</td>\n",
       "      <td>40.732902</td>\n",
       "      <td>-73.989255</td>\n",
       "      <td>40.748087</td>\n",
       "      <td>1.0</td>\n",
       "      <td>4</td>\n",
       "    </tr>\n",
       "  </tbody>\n",
       "</table>\n",
       "</div>"
      ],
      "text/plain": [
       "   fare_amount  pickuplon  pickuplat  dropofflon  dropofflat  passengers  key\n",
       "0         11.5 -74.001350  40.746269  -73.991150   40.731724         3.0    0\n",
       "1         33.5 -73.995203  40.727307  -73.948775   40.813487         1.0    1\n",
       "2          5.3 -73.999021  40.723133  -74.001798   40.730641         1.0    2\n",
       "3          5.7 -73.974796  40.750656  -73.976839   40.762860         2.0    3\n",
       "4          6.5 -73.981565  40.732902  -73.989255   40.748087         1.0    4"
      ]
     },
     "execution_count": 3,
     "metadata": {},
     "output_type": "execute_result"
    }
   ],
   "source": [
    "df_train.head()"
   ]
  },
  {
   "cell_type": "markdown",
   "metadata": {},
   "source": [
    "<h2> Train and eval input functions to read from Pandas Dataframe </h2>"
   ]
  },
  {
   "cell_type": "code",
   "execution_count": 4,
   "metadata": {},
   "outputs": [],
   "source": [
    "# TODO: Create an appropriate input_fn to read the training data\n",
    "def make_train_input_fn(df, num_epochs):\n",
    "  return tf.estimator.inputs.pandas_input_fn(\n",
    "      x=df,\n",
    "      y=df[LABEL],\n",
    "      batch_size=128,\n",
    "      num_epochs=num_epochs,\n",
    "      shuffle=True,\n",
    "      queue_capacity=1000,\n",
    "      num_threads=1\n",
    "  )"
   ]
  },
  {
   "cell_type": "code",
   "execution_count": 5,
   "metadata": {},
   "outputs": [],
   "source": [
    "# TODO: Create an appropriate input_fn to read the validation data\n",
    "def make_eval_input_fn(df):\n",
    "  return tf.estimator.inputs.pandas_input_fn(\n",
    "      x=df,\n",
    "      y=df['fare_amount'],\n",
    "      batch_size=128,\n",
    "      num_epochs=1000,\n",
    "      shuffle=True,\n",
    "      queue_capacity=1000\n",
    "  )"
   ]
  },
  {
   "cell_type": "markdown",
   "metadata": {},
   "source": [
    "Our input function for predictions is the same except we don't provide a label"
   ]
  },
  {
   "cell_type": "code",
   "execution_count": 6,
   "metadata": {},
   "outputs": [],
   "source": [
    "# TODO: Create an appropriate prediction_input_fn\n",
    "def make_prediction_input_fn(df):\n",
    "  return tf.estimator.inputs.pandas_input_fn(\n",
    "      x=df,\n",
    "      batch_size=128,\n",
    "      num_epochs=1000,\n",
    "      shuffle=True,\n",
    "      queue_capacity=1000\n",
    "  )"
   ]
  },
  {
   "cell_type": "markdown",
   "metadata": {},
   "source": [
    "### Create feature columns for estimator"
   ]
  },
  {
   "cell_type": "code",
   "execution_count": 7,
   "metadata": {},
   "outputs": [],
   "source": [
    "# TODO: Create feature columns\n",
    "feat_cols = [\n",
    "    tf.feature_column.numeric_column(key=\"fare_amount\"),\n",
    "    tf.feature_column.numeric_column(key=\"pickuplon\"),\n",
    "    tf.feature_column.numeric_column(key=\"pickuplat\"),\n",
    "    tf.feature_column.numeric_column(key=\"dropofflon\"),\n",
    "    tf.feature_column.numeric_column(key=\"dropofflat\"),\n",
    "    tf.feature_column.numeric_column(key=\"passengers\"),\n",
    "    tf.feature_column.numeric_column(key=\"key\"),\n",
    "]"
   ]
  },
  {
   "cell_type": "markdown",
   "metadata": {},
   "source": [
    "<h3> Linear Regression with tf.Estimator framework </h3>"
   ]
  },
  {
   "cell_type": "code",
   "execution_count": 10,
   "metadata": {},
   "outputs": [
    {
     "name": "stdout",
     "output_type": "stream",
     "text": [
      "INFO:tensorflow:Using default config.\n",
      "INFO:tensorflow:Using config: {'_model_dir': 'taxi_trained_f', '_tf_random_seed': None, '_save_summary_steps': 100, '_save_checkpoints_steps': None, '_save_checkpoints_secs': 600, '_session_config': allow_soft_placement: true\n",
      "graph_options {\n",
      "  rewrite_options {\n",
      "    meta_optimizer_iterations: ONE\n",
      "  }\n",
      "}\n",
      ", '_keep_checkpoint_max': 5, '_keep_checkpoint_every_n_hours': 10000, '_log_step_count_steps': 100, '_train_distribute': None, '_device_fn': None, '_protocol': None, '_eval_distribute': None, '_experimental_distribute': None, '_service': None, '_cluster_spec': <tensorflow.python.training.server_lib.ClusterSpec object at 0x000002B91136EC88>, '_task_type': 'worker', '_task_id': 0, '_global_id_in_cluster': 0, '_master': '', '_evaluation_master': '', '_is_chief': True, '_num_ps_replicas': 0, '_num_worker_replicas': 1}\n"
     ]
    }
   ],
   "source": [
    "tf.logging.set_verbosity(tf.logging.INFO)\n",
    "\n",
    "OUTDIR = 'taxi_trained_f'\n",
    "shutil.rmtree(OUTDIR, ignore_errors = True) # start fresh each time\n",
    "\n",
    "# TODO: Train a linear regression model\n",
    "model = tf.estimator.LinearRegressor(feature_columns=feat_cols,model_dir=OUTDIR)"
   ]
  },
  {
   "cell_type": "code",
   "execution_count": 11,
   "metadata": {},
   "outputs": [
    {
     "name": "stdout",
     "output_type": "stream",
     "text": [
      "INFO:tensorflow:Calling model_fn.\n",
      "INFO:tensorflow:Done calling model_fn.\n",
      "INFO:tensorflow:Create CheckpointSaverHook.\n",
      "INFO:tensorflow:Graph was finalized.\n",
      "INFO:tensorflow:Running local_init_op.\n",
      "INFO:tensorflow:Done running local_init_op.\n",
      "INFO:tensorflow:Saving checkpoints for 0 into taxi_trained_f\\model.ckpt.\n",
      "INFO:tensorflow:loss = 32740.771, step = 1\n",
      "INFO:tensorflow:global_step/sec: 300.915\n",
      "INFO:tensorflow:loss = 10183.049, step = 101 (0.334 sec)\n",
      "INFO:tensorflow:global_step/sec: 350.023\n",
      "INFO:tensorflow:loss = 6732.3906, step = 201 (0.287 sec)\n",
      "INFO:tensorflow:global_step/sec: 345.227\n",
      "INFO:tensorflow:loss = 5985.574, step = 301 (0.289 sec)\n",
      "INFO:tensorflow:global_step/sec: 338.846\n",
      "INFO:tensorflow:loss = 3945.4373, step = 401 (0.296 sec)\n",
      "INFO:tensorflow:global_step/sec: 273.56\n",
      "INFO:tensorflow:loss = 1361.2402, step = 501 (0.368 sec)\n",
      "INFO:tensorflow:Saving checkpoints for 598 into taxi_trained_f\\model.ckpt.\n",
      "INFO:tensorflow:Loss for final step: 924.93604.\n"
     ]
    },
    {
     "data": {
      "text/plain": [
       "<tensorflow.python.estimator.canned.linear.LinearRegressor at 0x2b912a3bb70>"
      ]
     },
     "execution_count": 11,
     "metadata": {},
     "output_type": "execute_result"
    }
   ],
   "source": [
    "model.train(input_fn=make_train_input_fn(df_train,10))"
   ]
  },
  {
   "cell_type": "markdown",
   "metadata": {},
   "source": [
    "Evaluate on the validation data (we should defer using the test data to after we have selected a final model)."
   ]
  },
  {
   "cell_type": "code",
   "execution_count": 12,
   "metadata": {},
   "outputs": [
    {
     "name": "stdout",
     "output_type": "stream",
     "text": [
      "INFO:tensorflow:Calling model_fn.\n",
      "INFO:tensorflow:Done calling model_fn.\n",
      "INFO:tensorflow:Starting evaluation at 2019-09-28-05:29:54\n",
      "INFO:tensorflow:Graph was finalized.\n",
      "INFO:tensorflow:Restoring parameters from taxi_trained_f\\model.ckpt-598\n",
      "INFO:tensorflow:Running local_init_op.\n",
      "INFO:tensorflow:Done running local_init_op.\n",
      "INFO:tensorflow:Finished evaluation at 2019-09-28-05:30:31\n",
      "INFO:tensorflow:Saving dict for global step 598: average_loss = 13.75565, global_step = 598, label/mean = 11.585055, loss = 1760.7076, prediction/mean = 11.946748\n",
      "INFO:tensorflow:Saving 'checkpoint_path' summary for global step 598: taxi_trained_f\\model.ckpt-598\n",
      "RMSE on dataset = 3.7088608741760254\n"
     ]
    }
   ],
   "source": [
    "def print_rmse(model, df):\n",
    "  metrics = model.evaluate(input_fn = make_eval_input_fn(df))\n",
    "  print('RMSE on dataset = {}'.format(np.sqrt(metrics['average_loss'])))\n",
    "print_rmse(model, df_valid)"
   ]
  },
  {
   "cell_type": "markdown",
   "metadata": {},
   "source": [
    "This is nowhere near our benchmark (RMSE of $6 or so on this data), but it serves to demonstrate what TensorFlow code looks like.  Let's use this model for prediction."
   ]
  },
  {
   "cell_type": "code",
   "execution_count": 13,
   "metadata": {},
   "outputs": [],
   "source": [
    "# TODO: Predict from the estimator model we trained using test dataset\n",
    "prediction = model.predict(input_fn=make_prediction_input_fn(df_test))"
   ]
  },
  {
   "cell_type": "code",
   "execution_count": 14,
   "metadata": {},
   "outputs": [
    {
     "name": "stdout",
     "output_type": "stream",
     "text": [
      "INFO:tensorflow:Calling model_fn.\n",
      "INFO:tensorflow:Done calling model_fn.\n",
      "INFO:tensorflow:Graph was finalized.\n",
      "INFO:tensorflow:Restoring parameters from taxi_trained_f\\model.ckpt-598\n",
      "INFO:tensorflow:Running local_init_op.\n",
      "INFO:tensorflow:Done running local_init_op.\n",
      "{'predictions': array([27.341867], dtype=float32)}\n",
      "{'predictions': array([8.273954], dtype=float32)}\n",
      "{'predictions': array([7.221819], dtype=float32)}\n",
      "{'predictions': array([16.439825], dtype=float32)}\n",
      "{'predictions': array([8.461396], dtype=float32)}\n"
     ]
    }
   ],
   "source": [
    "print(next(prediction))\n",
    "print(next(prediction))\n",
    "print(next(prediction))\n",
    "print(next(prediction))\n",
    "print(next(prediction))"
   ]
  },
  {
   "cell_type": "markdown",
   "metadata": {},
   "source": [
    "This explains why the RMSE was so high -- the model essentially predicts the same amount for every trip.  Would a more complex model help? Let's try using a deep neural network.  The code to do this is quite straightforward as well."
   ]
  },
  {
   "cell_type": "markdown",
   "metadata": {},
   "source": [
    "<h3> Deep Neural Network regression </h3>"
   ]
  },
  {
   "cell_type": "code",
   "execution_count": 15,
   "metadata": {},
   "outputs": [
    {
     "name": "stdout",
     "output_type": "stream",
     "text": [
      "INFO:tensorflow:Using default config.\n",
      "INFO:tensorflow:Using config: {'_model_dir': 'taxi_trained_f', '_tf_random_seed': None, '_save_summary_steps': 100, '_save_checkpoints_steps': None, '_save_checkpoints_secs': 600, '_session_config': allow_soft_placement: true\n",
      "graph_options {\n",
      "  rewrite_options {\n",
      "    meta_optimizer_iterations: ONE\n",
      "  }\n",
      "}\n",
      ", '_keep_checkpoint_max': 5, '_keep_checkpoint_every_n_hours': 10000, '_log_step_count_steps': 100, '_train_distribute': None, '_device_fn': None, '_protocol': None, '_eval_distribute': None, '_experimental_distribute': None, '_service': None, '_cluster_spec': <tensorflow.python.training.server_lib.ClusterSpec object at 0x000002B922B176A0>, '_task_type': 'worker', '_task_id': 0, '_global_id_in_cluster': 0, '_master': '', '_evaluation_master': '', '_is_chief': True, '_num_ps_replicas': 0, '_num_worker_replicas': 1}\n"
     ]
    }
   ],
   "source": [
    "# TODO: Copy your LinearRegressor estimator and replace with DNNRegressor. \n",
    "# Remember to add a list of hidden units i.e. [32, 8, 2]\n",
    "tf.logging.set_verbosity(tf.logging.INFO)\n",
    "shutil.rmtree(path=OUTDIR, ignore_errors=True) # Start Fresh Every Time\n",
    "model = tf.estimator.DNNRegressor(hidden_units=[32, 8, 2], \n",
    "                                  feature_columns=feat_cols, \n",
    "                                  model_dir=OUTDIR)"
   ]
  },
  {
   "cell_type": "code",
   "execution_count": 16,
   "metadata": {},
   "outputs": [
    {
     "name": "stdout",
     "output_type": "stream",
     "text": [
      "INFO:tensorflow:Calling model_fn.\n",
      "INFO:tensorflow:Done calling model_fn.\n",
      "INFO:tensorflow:Create CheckpointSaverHook.\n",
      "INFO:tensorflow:Graph was finalized.\n",
      "INFO:tensorflow:Running local_init_op.\n",
      "INFO:tensorflow:Done running local_init_op.\n",
      "INFO:tensorflow:Saving checkpoints for 0 into taxi_trained_f\\model.ckpt.\n",
      "INFO:tensorflow:loss = 176640900.0, step = 1\n",
      "INFO:tensorflow:global_step/sec: 288.019\n",
      "INFO:tensorflow:loss = 31183.764, step = 101 (0.349 sec)\n",
      "INFO:tensorflow:global_step/sec: 310.174\n",
      "INFO:tensorflow:loss = 26173.816, step = 201 (0.326 sec)\n",
      "INFO:tensorflow:global_step/sec: 361.962\n",
      "INFO:tensorflow:loss = 27781.928, step = 301 (0.272 sec)\n",
      "INFO:tensorflow:global_step/sec: 358.1\n",
      "INFO:tensorflow:loss = 28427.055, step = 401 (0.281 sec)\n",
      "INFO:tensorflow:global_step/sec: 351.246\n",
      "INFO:tensorflow:loss = 22168.014, step = 501 (0.283 sec)\n",
      "INFO:tensorflow:global_step/sec: 375.444\n",
      "INFO:tensorflow:loss = 49030.375, step = 601 (0.267 sec)\n",
      "INFO:tensorflow:global_step/sec: 370.613\n",
      "INFO:tensorflow:loss = 20196.518, step = 701 (0.270 sec)\n",
      "INFO:tensorflow:global_step/sec: 347.011\n",
      "INFO:tensorflow:loss = 21386.295, step = 801 (0.288 sec)\n",
      "INFO:tensorflow:global_step/sec: 319.513\n",
      "INFO:tensorflow:loss = 28406.625, step = 901 (0.312 sec)\n",
      "INFO:tensorflow:global_step/sec: 370.613\n",
      "INFO:tensorflow:loss = 22583.465, step = 1001 (0.271 sec)\n",
      "INFO:tensorflow:global_step/sec: 377.552\n",
      "INFO:tensorflow:loss = 25426.273, step = 1101 (0.264 sec)\n",
      "INFO:tensorflow:global_step/sec: 356.208\n",
      "INFO:tensorflow:loss = 37395.21, step = 1201 (0.281 sec)\n",
      "INFO:tensorflow:global_step/sec: 363.922\n",
      "INFO:tensorflow:loss = 26493.652, step = 1301 (0.274 sec)\n",
      "INFO:tensorflow:global_step/sec: 301.361\n",
      "INFO:tensorflow:loss = 26486.36, step = 1401 (0.335 sec)\n",
      "INFO:tensorflow:global_step/sec: 260.148\n",
      "INFO:tensorflow:loss = 34169.36, step = 1501 (0.383 sec)\n",
      "INFO:tensorflow:global_step/sec: 313.065\n",
      "INFO:tensorflow:loss = 23495.664, step = 1601 (0.317 sec)\n",
      "INFO:tensorflow:global_step/sec: 344.05\n",
      "INFO:tensorflow:loss = 21101.727, step = 1701 (0.290 sec)\n",
      "INFO:tensorflow:global_step/sec: 282.767\n",
      "INFO:tensorflow:loss = 26522.27, step = 1801 (0.429 sec)\n",
      "INFO:tensorflow:global_step/sec: 238.596\n",
      "INFO:tensorflow:loss = 20187.72, step = 1901 (0.346 sec)\n",
      "INFO:tensorflow:global_step/sec: 342.297\n",
      "INFO:tensorflow:loss = 28619.516, step = 2001 (0.291 sec)\n",
      "INFO:tensorflow:global_step/sec: 268.101\n",
      "INFO:tensorflow:loss = 23069.914, step = 2101 (0.373 sec)\n",
      "INFO:tensorflow:global_step/sec: 310.176\n",
      "INFO:tensorflow:loss = 23178.432, step = 2201 (0.321 sec)\n",
      "INFO:tensorflow:global_step/sec: 365.241\n",
      "INFO:tensorflow:loss = 18748.895, step = 2301 (0.275 sec)\n",
      "INFO:tensorflow:global_step/sec: 352.471\n",
      "INFO:tensorflow:loss = 26267.494, step = 2401 (0.283 sec)\n",
      "INFO:tensorflow:global_step/sec: 354.952\n",
      "INFO:tensorflow:loss = 25828.566, step = 2501 (0.283 sec)\n",
      "INFO:tensorflow:global_step/sec: 356.206\n",
      "INFO:tensorflow:loss = 31804.89, step = 2601 (0.279 sec)\n",
      "INFO:tensorflow:global_step/sec: 376.846\n",
      "INFO:tensorflow:loss = 18029.191, step = 2701 (0.267 sec)\n",
      "INFO:tensorflow:global_step/sec: 359.384\n",
      "INFO:tensorflow:loss = 18841.355, step = 2801 (0.277 sec)\n",
      "INFO:tensorflow:global_step/sec: 344.049\n",
      "INFO:tensorflow:loss = 63572.617, step = 2901 (0.291 sec)\n",
      "INFO:tensorflow:global_step/sec: 354.95\n",
      "INFO:tensorflow:loss = 29586.68, step = 3001 (0.282 sec)\n",
      "INFO:tensorflow:global_step/sec: 362.617\n",
      "INFO:tensorflow:loss = 25918.941, step = 3101 (0.277 sec)\n",
      "INFO:tensorflow:global_step/sec: 331.056\n",
      "INFO:tensorflow:loss = 25552.217, step = 3201 (0.302 sec)\n",
      "INFO:tensorflow:global_step/sec: 315.513\n",
      "INFO:tensorflow:loss = 26706.918, step = 3301 (0.318 sec)\n",
      "INFO:tensorflow:global_step/sec: 362.614\n",
      "INFO:tensorflow:loss = 24884.824, step = 3401 (0.275 sec)\n",
      "INFO:tensorflow:global_step/sec: 356.837\n",
      "INFO:tensorflow:loss = 22245.188, step = 3501 (0.280 sec)\n",
      "INFO:tensorflow:global_step/sec: 290.506\n",
      "INFO:tensorflow:loss = 18688.021, step = 3601 (0.344 sec)\n",
      "INFO:tensorflow:global_step/sec: 341.722\n",
      "INFO:tensorflow:loss = 23139.938, step = 3701 (0.293 sec)\n",
      "INFO:tensorflow:global_step/sec: 358.104\n",
      "INFO:tensorflow:loss = 21373.79, step = 3801 (0.280 sec)\n",
      "INFO:tensorflow:global_step/sec: 331.057\n",
      "INFO:tensorflow:loss = 23925.42, step = 3901 (0.306 sec)\n",
      "INFO:tensorflow:global_step/sec: 294.756\n",
      "INFO:tensorflow:loss = 27818.895, step = 4001 (0.334 sec)\n",
      "INFO:tensorflow:global_step/sec: 311.131\n",
      "INFO:tensorflow:loss = 16196.42, step = 4101 (0.322 sec)\n",
      "INFO:tensorflow:global_step/sec: 344.046\n",
      "INFO:tensorflow:loss = 24776.518, step = 4201 (0.293 sec)\n",
      "INFO:tensorflow:global_step/sec: 324.14\n",
      "INFO:tensorflow:loss = 26852.781, step = 4301 (0.308 sec)\n",
      "INFO:tensorflow:global_step/sec: 349.417\n",
      "INFO:tensorflow:loss = 26160.117, step = 4401 (0.285 sec)\n",
      "INFO:tensorflow:global_step/sec: 366.57\n",
      "INFO:tensorflow:loss = 24517.957, step = 4501 (0.273 sec)\n",
      "INFO:tensorflow:global_step/sec: 334.351\n",
      "INFO:tensorflow:loss = 22683.215, step = 4601 (0.299 sec)\n",
      "INFO:tensorflow:global_step/sec: 358.742\n",
      "INFO:tensorflow:loss = 27377.748, step = 4701 (0.279 sec)\n",
      "INFO:tensorflow:global_step/sec: 321.552\n",
      "INFO:tensorflow:loss = 19557.996, step = 4801 (0.310 sec)\n",
      "INFO:tensorflow:global_step/sec: 372.666\n",
      "INFO:tensorflow:loss = 23690.846, step = 4901 (0.270 sec)\n",
      "INFO:tensorflow:global_step/sec: 333.797\n",
      "INFO:tensorflow:loss = 23328.63, step = 5001 (0.301 sec)\n",
      "INFO:tensorflow:global_step/sec: 350.629\n",
      "INFO:tensorflow:loss = 25934.096, step = 5101 (0.283 sec)\n",
      "INFO:tensorflow:global_step/sec: 352.473\n",
      "INFO:tensorflow:loss = 38803.062, step = 5201 (0.283 sec)\n",
      "INFO:tensorflow:global_step/sec: 343.464\n",
      "INFO:tensorflow:loss = 12391.449, step = 5301 (0.297 sec)\n",
      "INFO:tensorflow:global_step/sec: 320.529\n",
      "INFO:tensorflow:loss = 25627.11, step = 5401 (0.310 sec)\n",
      "INFO:tensorflow:global_step/sec: 344.639\n",
      "INFO:tensorflow:loss = 32481.47, step = 5501 (0.286 sec)\n",
      "INFO:tensorflow:global_step/sec: 326.234\n",
      "INFO:tensorflow:loss = 25726.102, step = 5601 (0.307 sec)\n",
      "INFO:tensorflow:global_step/sec: 293.469\n",
      "INFO:tensorflow:loss = 13050.156, step = 5701 (0.338 sec)\n",
      "INFO:tensorflow:global_step/sec: 336.022\n",
      "INFO:tensorflow:loss = 31513.465, step = 5801 (0.301 sec)\n",
      "INFO:tensorflow:global_step/sec: 340.563\n",
      "INFO:tensorflow:loss = 19273.072, step = 5901 (0.294 sec)\n",
      "INFO:tensorflow:Saving checkpoints for 5973 into taxi_trained_f\\model.ckpt.\n",
      "INFO:tensorflow:Loss for final step: 23261.762.\n"
     ]
    },
    {
     "data": {
      "text/plain": [
       "<tensorflow.python.estimator.canned.dnn.DNNRegressor at 0x2b922baa080>"
      ]
     },
     "execution_count": 16,
     "metadata": {},
     "output_type": "execute_result"
    }
   ],
   "source": [
    "model.train(input_fn=make_train_input_fn(df_train,100))"
   ]
  },
  {
   "cell_type": "code",
   "execution_count": 17,
   "metadata": {},
   "outputs": [
    {
     "name": "stdout",
     "output_type": "stream",
     "text": [
      "INFO:tensorflow:Calling model_fn.\n",
      "INFO:tensorflow:Done calling model_fn.\n",
      "INFO:tensorflow:Starting evaluation at 2019-09-28-05:55:25\n",
      "INFO:tensorflow:Graph was finalized.\n",
      "INFO:tensorflow:Restoring parameters from taxi_trained_f\\model.ckpt-5973\n",
      "INFO:tensorflow:Running local_init_op.\n",
      "INFO:tensorflow:Done running local_init_op.\n",
      "INFO:tensorflow:Finished evaluation at 2019-09-28-05:56:02\n",
      "INFO:tensorflow:Saving dict for global step 5973: average_loss = 187.309, global_step = 5973, label/mean = 11.584985, loss = 23975.34, prediction/mean = 2.370839\n",
      "INFO:tensorflow:Saving 'checkpoint_path' summary for global step 5973: taxi_trained_f\\model.ckpt-5973\n",
      "RMSE on dataset = 13.686087608337402\n"
     ]
    }
   ],
   "source": [
    "print_rmse(model,df_valid)"
   ]
  },
  {
   "cell_type": "markdown",
   "metadata": {},
   "source": [
    "We are not beating our benchmark with either model ... what's up?  Well, we may be using TensorFlow for Machine Learning, but we are not yet using it well.  That's what the rest of this course is about!\n",
    "\n",
    "But, for the record, let's say we had to choose between the two models. We'd choose the one with the lower validation error. Finally, we'd measure the RMSE on the test data with this chosen model."
   ]
  },
  {
   "cell_type": "markdown",
   "metadata": {},
   "source": [
    "<h2> Benchmark dataset </h2>\n",
    "\n",
    "Let's do this on the benchmark dataset."
   ]
  },
  {
   "cell_type": "code",
   "execution_count": 18,
   "metadata": {},
   "outputs": [
    {
     "name": "stderr",
     "output_type": "stream",
     "text": [
      "D:\\InstalledSoftware\\Anaconda\\lib\\site-packages\\google\\auth\\_default.py:66: UserWarning: Your application has authenticated using end user credentials from Google Cloud SDK. We recommend that most server applications use service accounts instead. If your application continues to use end user credentials from Cloud SDK, you might receive a \"quota exceeded\" or \"API not enabled\" error. For more information about service accounts, see https://cloud.google.com/docs/authentication/\n",
      "  warnings.warn(_CLOUD_SDK_CREDENTIALS_WARNING)\n"
     ]
    }
   ],
   "source": [
    "from google.cloud import bigquery\n",
    "import numpy as np\n",
    "import pandas as pd\n",
    "\n",
    "def create_query(phase, EVERY_N):\n",
    "  \"\"\"\n",
    "  phase: 1 = train 2 = valid\n",
    "  \"\"\"\n",
    "  base_query = \"\"\"\n",
    "SELECT\n",
    "  (tolls_amount + fare_amount) AS fare_amount,\n",
    "  EXTRACT(DAYOFWEEK FROM pickup_datetime) * 1.0 AS dayofweek,\n",
    "  EXTRACT(HOUR FROM pickup_datetime) * 1.0 AS hourofday,\n",
    "  pickup_longitude AS pickuplon,\n",
    "  pickup_latitude AS pickuplat,\n",
    "  dropoff_longitude AS dropofflon,\n",
    "  dropoff_latitude AS dropofflat,\n",
    "  passenger_count * 1.0 AS passengers,\n",
    "  CONCAT(CAST(pickup_datetime AS STRING), CAST(pickup_longitude AS STRING), CAST(pickup_latitude AS STRING), CAST(dropoff_latitude AS STRING), CAST(dropoff_longitude AS STRING)) AS key\n",
    "FROM\n",
    "  `nyc-tlc.yellow.trips`\n",
    "WHERE\n",
    "  trip_distance > 0\n",
    "  AND fare_amount >= 2.5\n",
    "  AND pickup_longitude > -78\n",
    "  AND pickup_longitude < -70\n",
    "  AND dropoff_longitude > -78\n",
    "  AND dropoff_longitude < -70\n",
    "  AND pickup_latitude > 37\n",
    "  AND pickup_latitude < 45\n",
    "  AND dropoff_latitude > 37\n",
    "  AND dropoff_latitude < 45\n",
    "  AND passenger_count > 0\n",
    "  \"\"\"\n",
    "\n",
    "  if EVERY_N == None:\n",
    "    if phase < 2:\n",
    "      # Training\n",
    "      query = \"{0} AND MOD(ABS(FARM_FINGERPRINT(CAST(pickup_datetime AS STRING))), 4) < 2\".format(base_query)\n",
    "    else:\n",
    "      # Validation\n",
    "      query = \"{0} AND MOD(ABS(FARM_FINGERPRINT(CAST(pickup_datetime AS STRING))), 4) = {1}\".format(base_query, phase)\n",
    "  else:\n",
    "    query = \"{0} AND MOD(ABS(FARM_FINGERPRINT(CAST(pickup_datetime AS STRING))), {1}) = {2}\".format(base_query, EVERY_N, phase)\n",
    "    \n",
    "  return query\n",
    "\n",
    "query = create_query(2, 100000)\n",
    "df = bigquery.Client().query(query).to_dataframe()"
   ]
  },
  {
   "cell_type": "code",
   "execution_count": 21,
   "metadata": {},
   "outputs": [
    {
     "name": "stdout",
     "output_type": "stream",
     "text": [
      "INFO:tensorflow:Calling model_fn.\n",
      "INFO:tensorflow:Done calling model_fn.\n",
      "INFO:tensorflow:Starting evaluation at 2019-09-28-05:57:05\n",
      "INFO:tensorflow:Graph was finalized.\n",
      "INFO:tensorflow:Restoring parameters from taxi_trained_f\\model.ckpt-5973\n",
      "INFO:tensorflow:Running local_init_op.\n",
      "INFO:tensorflow:Done running local_init_op.\n",
      "INFO:tensorflow:Finished evaluation at 2019-09-28-05:57:43\n",
      "INFO:tensorflow:Saving dict for global step 5973: average_loss = 187.3093, global_step = 5973, label/mean = 11.585042, loss = 23975.379, prediction/mean = 2.370839\n",
      "INFO:tensorflow:Saving 'checkpoint_path' summary for global step 5973: taxi_trained_f\\model.ckpt-5973\n",
      "RMSE on dataset = 13.6860990524292\n"
     ]
    }
   ],
   "source": [
    "print_rmse(model, df_valid)"
   ]
  },
  {
   "cell_type": "markdown",
   "metadata": {},
   "source": [
    "RMSE on benchmark dataset is <b>9.41</b> (your results will vary because of random seeds).\n",
    "\n",
    "This is not only way more than our original benchmark of 6.00, but it doesn't even beat our distance-based rule's RMSE of 8.02.\n",
    "\n",
    "Fear not -- you have learned how to write a TensorFlow model, but not to do all the things that you will have to do to your ML model performant. We will do this in the next chapters. In this chapter though, we will get our TensorFlow model ready for these improvements.\n",
    "\n",
    "In a software sense, the rest of the labs in this chapter will be about refactoring the code so that we can improve it."
   ]
  },
  {
   "cell_type": "markdown",
   "metadata": {},
   "source": [
    "## Challenge Exercise\n",
    "\n",
    "Create a neural network that is capable of finding the volume of a cylinder given the radius of its base (r) and its height (h). Assume that the radius and height of the cylinder are both in the range 0.5 to 2.0. Simulate the necessary training dataset.\n",
    "<p>\n",
    "Hint (highlight to see):\n",
    "<p style='color:white'>\n",
    "The input features will be r and h and the label will be $\\pi r^2 h$\n",
    "Create random values for r and h and compute V.\n",
    "Your dataset will consist of r, h and V.\n",
    "Then, use a DNN regressor.\n",
    "Make sure to generate enough data.\n",
    "</p>"
   ]
  },
  {
   "cell_type": "markdown",
   "metadata": {},
   "source": [
    "Copyright 2017 Google Inc. Licensed under the Apache License, Version 2.0 (the \"License\"); you may not use this file except in compliance with the License. You may obtain a copy of the License at http://www.apache.org/licenses/LICENSE-2.0 Unless required by applicable law or agreed to in writing, software distributed under the License is distributed on an \"AS IS\" BASIS, WITHOUT WARRANTIES OR CONDITIONS OF ANY KIND, either express or implied. See the License for the specific language governing permissions and limitations under the License"
   ]
  }
 ],
 "metadata": {
  "kernelspec": {
   "display_name": "Python 3",
   "language": "python",
   "name": "python3"
  },
  "language_info": {
   "codemirror_mode": {
    "name": "ipython",
    "version": 3
   },
   "file_extension": ".py",
   "mimetype": "text/x-python",
   "name": "python",
   "nbconvert_exporter": "python",
   "pygments_lexer": "ipython3",
   "version": "3.6.7"
  }
 },
 "nbformat": 4,
 "nbformat_minor": 2
}
