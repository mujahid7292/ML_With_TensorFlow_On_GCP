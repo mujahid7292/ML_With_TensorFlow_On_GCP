{
 "cells": [
  {
   "cell_type": "markdown",
   "metadata": {},
   "source": [
    "<h1> 2d. Distributed training and monitoring </h1>\n",
    "\n",
    "In this notebook, we refactor to call ```train_and_evaluate``` instead of hand-coding our ML pipeline. This allows us to carry out evaluation as part of our training loop instead of as a separate step. It also adds in failure-handling that is necessary for distributed training capabilities.\n",
    "\n",
    "We also use TensorBoard to monitor the training."
   ]
  },
  {
   "cell_type": "code",
   "execution_count": 1,
   "metadata": {},
   "outputs": [
    {
     "name": "stdout",
     "output_type": "stream",
     "text": [
      "2.0.0\n"
     ]
    }
   ],
   "source": [
    "from google.cloud import bigquery\n",
    "import tensorflow as tf\n",
    "# Load the TensorBoard notebook extension\n",
    "%load_ext tensorboard\n",
    "import numpy as np\n",
    "import shutil\n",
    "print(tf.__version__)"
   ]
  },
  {
   "cell_type": "markdown",
   "metadata": {},
   "source": [
    "<h2> Input </h2>\n",
    "\n",
    "Read data created in Lab1 a, but this time make it more general, so that we are reading in batches.  Instead of using Pandas, we will use add a filename queue to the TensorFlow graph."
   ]
  },
  {
   "cell_type": "code",
   "execution_count": 2,
   "metadata": {},
   "outputs": [],
   "source": [
    "CSV_COLUMNS = ['fare_amount', 'pickuplon','pickuplat','dropofflon','dropofflat','passengers', 'key']\n",
    "LABEL_COLUMN = 'fare_amount'\n",
    "DEFAULTS = [[0.0], [-74.0], [40.0], [-74.0], [40.7], [1.0], ['nokey']]\n",
    "\n",
    "def read_dataset(filename, mode, batch_size = 512):\n",
    "      def decode_csv(value_column):\n",
    "          columns = tf.compat.v1.decode_csv(value_column, record_defaults = DEFAULTS)\n",
    "          features = dict(zip(CSV_COLUMNS, columns))\n",
    "          label = features.pop(LABEL_COLUMN)\n",
    "          # No need to features.pop('key') since it is not specified in the INPUT_COLUMNS.\n",
    "          # The key passes through the graph unused.\n",
    "          return features, label\n",
    "\n",
    "      # Create list of file names that match \"glob\" pattern (i.e. data_file_*.csv)\n",
    "      filenames_dataset = tf.data.Dataset.list_files(filename)\n",
    "      # Read lines from text files\n",
    "      textlines_dataset = filenames_dataset.flat_map(tf.data.TextLineDataset)\n",
    "      # Parse text lines as comma-separated values (CSV)\n",
    "      dataset = textlines_dataset.map(decode_csv)\n",
    "\n",
    "      # Note:\n",
    "      # use tf.data.Dataset.flat_map to apply one to many transformations (here: filename -> text lines)\n",
    "      # use tf.data.Dataset.map      to apply one to one  transformations (here: text line -> feature list)\n",
    "\n",
    "      if mode == tf.estimator.ModeKeys.TRAIN:\n",
    "          num_epochs = None # indefinitely\n",
    "          dataset = dataset.shuffle(buffer_size = 10 * batch_size)\n",
    "      else:\n",
    "          num_epochs = 1 # end-of-input after this\n",
    "\n",
    "      dataset = dataset.repeat(num_epochs).batch(batch_size)\n",
    "      \n",
    "      return dataset"
   ]
  },
  {
   "cell_type": "markdown",
   "metadata": {},
   "source": [
    "<h2> Create features out of input data </h2>\n",
    "\n",
    "For now, pass these through.  (same as previous lab)"
   ]
  },
  {
   "cell_type": "code",
   "execution_count": 3,
   "metadata": {},
   "outputs": [],
   "source": [
    "INPUT_COLUMNS = [\n",
    "    tf.feature_column.numeric_column('pickuplon'),\n",
    "    tf.feature_column.numeric_column('pickuplat'),\n",
    "    tf.feature_column.numeric_column('dropofflat'),\n",
    "    tf.feature_column.numeric_column('dropofflon'),\n",
    "    tf.feature_column.numeric_column('passengers'),\n",
    "]\n",
    "\n",
    "def add_more_features(feats):\n",
    "    # Nothing to add (yet!)\n",
    "    return feats\n",
    "\n",
    "feature_cols = add_more_features(INPUT_COLUMNS)"
   ]
  },
  {
   "cell_type": "markdown",
   "metadata": {},
   "source": [
    "<h2> Serving input function </h2>"
   ]
  },
  {
   "cell_type": "code",
   "execution_count": 4,
   "metadata": {},
   "outputs": [],
   "source": [
    "# Defines the expected shape of the JSON feed that the model\n",
    "# will receive once deployed behind a REST API in production.\n",
    "def serving_input_fn():\n",
    "    json_feature_placeholders = {\n",
    "        'pickuplon' : tf.compat.v1.placeholder(tf.float32, [None]),\n",
    "        'pickuplat' : tf.compat.v1.placeholder(tf.float32, [None]),\n",
    "        'dropofflat' : tf.compat.v1.placeholder(tf.float32, [None]),\n",
    "        'dropofflon' : tf.compat.v1.placeholder(tf.float32, [None]),\n",
    "        'passengers' : tf.compat.v1.placeholder(tf.float32, [None]),\n",
    "    }\n",
    "    # You can transforma data here from the input format to the format expected by your model.\n",
    "    features = json_feature_placeholders # no transformation needed\n",
    "    return tf.estimator.export.ServingInputReceiver(features, json_feature_placeholders)"
   ]
  },
  {
   "cell_type": "markdown",
   "metadata": {},
   "source": [
    "<h2> tf.estimator.train_and_evaluate </h2>"
   ]
  },
  {
   "cell_type": "code",
   "execution_count": 5,
   "metadata": {},
   "outputs": [],
   "source": [
    "def train_and_evaluate(output_dir, num_train_steps):\n",
    "    estimator = tf.estimator.LinearRegressor(\n",
    "                       model_dir = output_dir,\n",
    "                       feature_columns = feature_cols)\n",
    "    \n",
    "    train_spec=tf.estimator.TrainSpec(\n",
    "                       input_fn = lambda: read_dataset('./taxi-train.csv', mode = tf.estimator.ModeKeys.TRAIN),\n",
    "                       max_steps = num_train_steps)\n",
    "\n",
    "    exporter = tf.estimator.LatestExporter('exporter', serving_input_fn)\n",
    "\n",
    "    eval_spec=tf.estimator.EvalSpec(\n",
    "                       input_fn = lambda: read_dataset('./taxi-valid.csv', mode = tf.estimator.ModeKeys.EVAL),\n",
    "                       steps = None,\n",
    "                       start_delay_secs = 1, # start evaluating after N seconds\n",
    "                       throttle_secs = 10,  # evaluate every N seconds\n",
    "                       exporters = exporter)\n",
    "    \n",
    "    tf.estimator.train_and_evaluate(estimator, train_spec, eval_spec)"
   ]
  },
  {
   "cell_type": "markdown",
   "metadata": {},
   "source": [
    "<h2> Monitoring with TensorBoard </h2>\n",
    "Start the TensorBoard by opening up a new Launcher (File > New Launcher) and selecting TensorBoard."
   ]
  },
  {
   "cell_type": "code",
   "execution_count": 22,
   "metadata": {},
   "outputs": [],
   "source": [
    "OUTDIR = \"./taxi_trained\""
   ]
  },
  {
   "cell_type": "code",
   "execution_count": 24,
   "metadata": {},
   "outputs": [
    {
     "data": {
      "text/plain": [
       "Reusing TensorBoard on port 6007 (pid 4614), started 1:13:51 ago. (Use '!kill 4614' to kill it.)"
      ]
     },
     "metadata": {},
     "output_type": "display_data"
    },
    {
     "data": {
      "text/html": [
       "\n",
       "      <iframe id=\"tensorboard-frame-ceeda5524bce3647\" width=\"100%\" height=\"800\" frameborder=\"0\">\n",
       "      </iframe>\n",
       "      <script>\n",
       "        (function() {\n",
       "          const frame = document.getElementById(\"tensorboard-frame-ceeda5524bce3647\");\n",
       "          const url = new URL(\"/\", window.location);\n",
       "          url.port = 6007;\n",
       "          frame.src = url;\n",
       "        })();\n",
       "      </script>\n",
       "  "
      ],
      "text/plain": [
       "<IPython.core.display.HTML object>"
      ]
     },
     "metadata": {},
     "output_type": "display_data"
    }
   ],
   "source": [
    "%tensorboard --logdir OUTDIR"
   ]
  },
  {
   "cell_type": "code",
   "execution_count": 26,
   "metadata": {},
   "outputs": [
    {
     "data": {
      "text/plain": [
       "ERROR: Failed to launch TensorBoard (exited with 0).\n",
       "Contents of stdout:\n",
       "======================================================================\n",
       "Processing event files... (this can take a few minutes)\n",
       "======================================================================\n",
       "\n",
       "No event files found within logdir OUTDIR"
      ]
     },
     "metadata": {},
     "output_type": "display_data"
    }
   ],
   "source": [
    "tensorboard --inspect --logdir OUTDIR"
   ]
  },
  {
   "cell_type": "code",
   "execution_count": 32,
   "metadata": {},
   "outputs": [
    {
     "data": {
      "text/plain": [
       "Reusing TensorBoard on port 6008 (pid 8260), started 0:03:00 ago. (Use '!kill 8260' to kill it.)"
      ]
     },
     "metadata": {},
     "output_type": "display_data"
    },
    {
     "data": {
      "text/html": [
       "\n",
       "      <iframe id=\"tensorboard-frame-efcf908fad234626\" width=\"100%\" height=\"800\" frameborder=\"0\">\n",
       "      </iframe>\n",
       "      <script>\n",
       "        (function() {\n",
       "          const frame = document.getElementById(\"tensorboard-frame-efcf908fad234626\");\n",
       "          const url = new URL(\"/\", window.location);\n",
       "          url.port = 6008;\n",
       "          frame.src = url;\n",
       "        })();\n",
       "      </script>\n",
       "  "
      ],
      "text/plain": [
       "<IPython.core.display.HTML object>"
      ]
     },
     "metadata": {},
     "output_type": "display_data"
    }
   ],
   "source": [
    "%tensorboard --logdir ./taxi_trained"
   ]
  },
  {
   "cell_type": "code",
   "execution_count": 30,
   "metadata": {},
   "outputs": [
    {
     "data": {
      "text/plain": [
       "ERROR: Failed to launch TensorBoard (exited with 0).\n",
       "Contents of stdout:\n",
       "======================================================================\n",
       "Processing event files... (this can take a few minutes)\n",
       "======================================================================\n",
       "\n",
       "Found event files in:\n",
       "./taxi_trained\n",
       "./taxi_trained/eval\n",
       "\n",
       "These tags are in ./taxi_trained:\n",
       "audio -\n",
       "histograms -\n",
       "images -\n",
       "scalars\n",
       "   bias\n",
       "   fraction_of_zero_weights\n",
       "   global_step/sec\n",
       "   loss\n",
       "tensor -\n",
       "======================================================================\n",
       "\n",
       "Event statistics for ./taxi_trained:\n",
       "audio -\n",
       "graph\n",
       "   first_step           0\n",
       "   last_step            0\n",
       "   max_step             0\n",
       "   min_step             0\n",
       "   num_steps            1\n",
       "   outoforder_steps     []\n",
       "histograms -\n",
       "images -\n",
       "scalars\n",
       "   first_step           1\n",
       "   last_step            401\n",
       "   max_step             401\n",
       "   min_step             1\n",
       "   num_steps            5\n",
       "   outoforder_steps     []\n",
       "sessionlog:checkpoint\n",
       "   first_step           0\n",
       "   last_step            500\n",
       "   max_step             500\n",
       "   min_step             0\n",
       "   num_steps            2\n",
       "   outoforder_steps     []\n",
       "sessionlog:start\n",
       "   outoforder_steps     []\n",
       "   steps                [1]\n",
       "sessionlog:stop -\n",
       "tensor -\n",
       "======================================================================\n",
       "\n",
       "These tags are in ./taxi_trained/eval:\n",
       "audio -\n",
       "histograms -\n",
       "images -\n",
       "scalars\n",
       "   average_loss\n",
       "   label/mean\n",
       "   loss\n",
       "   prediction/mean\n",
       "tensor\n",
       "   checkpoint_path\n",
       "======================================================================\n",
       "\n",
       "Event statistics for ./taxi_trained/eval:\n",
       "audio -\n",
       "graph\n",
       "   first_step           0\n",
       "   last_step            0\n",
       "   max_step             0\n",
       "   min_step             0\n",
       "   num_steps            1\n",
       "   outoforder_steps     []\n",
       "histograms -\n",
       "images -\n",
       "scalars\n",
       "   first_step           500\n",
       "   last_step            500\n",
       "   max_step             500\n",
       "   min_step             500\n",
       "   num_steps            1\n",
       "   outoforder_steps     []\n",
       "sessionlog:checkpoint -\n",
       "sessionlog:start -\n",
       "sessionlog:stop -\n",
       "tensor\n",
       "   first_step           500\n",
       "   last_step            500\n",
       "   max_step             500\n",
       "   min_step             500\n",
       "   num_steps            1\n",
       "   outoforder_steps     []\n",
       "======================================================================"
      ]
     },
     "metadata": {},
     "output_type": "display_data"
    }
   ],
   "source": [
    "tensorboard --inspect --logdir ./taxi_trained"
   ]
  },
  {
   "cell_type": "markdown",
   "metadata": {},
   "source": [
    "<h2>Run training</h2>"
   ]
  },
  {
   "cell_type": "code",
   "execution_count": 31,
   "metadata": {},
   "outputs": [
    {
     "name": "stdout",
     "output_type": "stream",
     "text": [
      "INFO:tensorflow:Using default config.\n",
      "INFO:tensorflow:Using config: {'_model_dir': './taxi_trained', '_tf_random_seed': None, '_save_summary_steps': 100, '_save_checkpoints_steps': None, '_save_checkpoints_secs': 600, '_session_config': allow_soft_placement: true\n",
      "graph_options {\n",
      "  rewrite_options {\n",
      "    meta_optimizer_iterations: ONE\n",
      "  }\n",
      "}\n",
      ", '_keep_checkpoint_max': 5, '_keep_checkpoint_every_n_hours': 10000, '_log_step_count_steps': 100, '_train_distribute': None, '_device_fn': None, '_protocol': None, '_eval_distribute': None, '_experimental_distribute': None, '_experimental_max_worker_delay_secs': None, '_session_creation_timeout_secs': 7200, '_service': None, '_cluster_spec': <tensorflow.python.training.server_lib.ClusterSpec object at 0x7fab71acaf10>, '_task_type': 'worker', '_task_id': 0, '_global_id_in_cluster': 0, '_master': '', '_evaluation_master': '', '_is_chief': True, '_num_ps_replicas': 0, '_num_worker_replicas': 1}\n",
      "INFO:tensorflow:Not using Distribute Coordinator.\n",
      "INFO:tensorflow:Running training and evaluation locally (non-distributed).\n",
      "INFO:tensorflow:Start train and evaluate loop. The evaluate will happen after every checkpoint. Checkpoint frequency is determined based on RunConfig arguments: save_checkpoints_steps None or save_checkpoints_secs 600.\n",
      "INFO:tensorflow:Calling model_fn.\n",
      "INFO:tensorflow:Done calling model_fn.\n",
      "INFO:tensorflow:Create CheckpointSaverHook.\n",
      "INFO:tensorflow:Graph was finalized.\n",
      "INFO:tensorflow:Running local_init_op.\n",
      "INFO:tensorflow:Done running local_init_op.\n",
      "INFO:tensorflow:Saving checkpoints for 0 into ./taxi_trained/model.ckpt.\n",
      "INFO:tensorflow:loss = 199.37985, step = 0\n",
      "INFO:tensorflow:global_step/sec: 30.3369\n",
      "INFO:tensorflow:loss = 103.866516, step = 100 (3.297 sec)\n",
      "INFO:tensorflow:global_step/sec: 36.3118\n",
      "INFO:tensorflow:loss = 99.46561, step = 200 (2.754 sec)\n",
      "INFO:tensorflow:global_step/sec: 27.7514\n",
      "INFO:tensorflow:loss = 95.42021, step = 300 (3.605 sec)\n",
      "INFO:tensorflow:global_step/sec: 42.3074\n",
      "INFO:tensorflow:loss = 82.834496, step = 400 (2.364 sec)\n",
      "INFO:tensorflow:Saving checkpoints for 500 into ./taxi_trained/model.ckpt.\n",
      "INFO:tensorflow:Calling model_fn.\n",
      "INFO:tensorflow:Done calling model_fn.\n",
      "INFO:tensorflow:Starting evaluation at 2019-12-03T11:12:50Z\n",
      "INFO:tensorflow:Graph was finalized.\n",
      "INFO:tensorflow:Restoring parameters from ./taxi_trained/model.ckpt-500\n",
      "INFO:tensorflow:Running local_init_op.\n",
      "INFO:tensorflow:Done running local_init_op.\n",
      "INFO:tensorflow:Finished evaluation at 2019-12-03-11:12:51\n",
      "INFO:tensorflow:Saving dict for global step 500: average_loss = 102.40243, global_step = 500, label/mean = 11.585005, loss = 106.65054, prediction/mean = 11.493204\n",
      "INFO:tensorflow:Saving 'checkpoint_path' summary for global step 500: ./taxi_trained/model.ckpt-500\n",
      "INFO:tensorflow:Calling model_fn.\n",
      "INFO:tensorflow:Done calling model_fn.\n",
      "INFO:tensorflow:Signatures INCLUDED in export for Classify: None\n",
      "INFO:tensorflow:Signatures INCLUDED in export for Regress: None\n",
      "INFO:tensorflow:Signatures INCLUDED in export for Predict: ['predict']\n",
      "INFO:tensorflow:Signatures INCLUDED in export for Train: None\n",
      "INFO:tensorflow:Signatures INCLUDED in export for Eval: None\n",
      "INFO:tensorflow:Signatures EXCLUDED from export because they cannot be be served via TensorFlow Serving APIs:\n",
      "INFO:tensorflow:'serving_default' : Regression input must be a single string Tensor; got {'pickuplon': <tf.Tensor 'Placeholder:0' shape=(None,) dtype=float32>, 'pickuplat': <tf.Tensor 'Placeholder_1:0' shape=(None,) dtype=float32>, 'dropofflat': <tf.Tensor 'Placeholder_2:0' shape=(None,) dtype=float32>, 'dropofflon': <tf.Tensor 'Placeholder_3:0' shape=(None,) dtype=float32>, 'passengers': <tf.Tensor 'Placeholder_4:0' shape=(None,) dtype=float32>}\n",
      "INFO:tensorflow:'regression' : Regression input must be a single string Tensor; got {'pickuplon': <tf.Tensor 'Placeholder:0' shape=(None,) dtype=float32>, 'pickuplat': <tf.Tensor 'Placeholder_1:0' shape=(None,) dtype=float32>, 'dropofflat': <tf.Tensor 'Placeholder_2:0' shape=(None,) dtype=float32>, 'dropofflon': <tf.Tensor 'Placeholder_3:0' shape=(None,) dtype=float32>, 'passengers': <tf.Tensor 'Placeholder_4:0' shape=(None,) dtype=float32>}\n",
      "WARNING:tensorflow:Export includes no default signature!\n",
      "INFO:tensorflow:Restoring parameters from ./taxi_trained/model.ckpt-500\n",
      "INFO:tensorflow:Assets added to graph.\n",
      "INFO:tensorflow:No assets to write.\n",
      "INFO:tensorflow:SavedModel written to: ./taxi_trained/export/exporter/temp-b'1575349971'/saved_model.pb\n",
      "INFO:tensorflow:Loss for final step: 82.45181.\n"
     ]
    }
   ],
   "source": [
    "# Run training    \n",
    "shutil.rmtree(OUTDIR, ignore_errors = True) # start fresh each time\n",
    "tf.summary.SummaryWriter.close # ensure filewriter cache is clear for TensorBoard events file\n",
    "train_and_evaluate(OUTDIR, num_train_steps = 500)"
   ]
  },
  {
   "cell_type": "markdown",
   "metadata": {},
   "source": [
    "<h4> You can now shut Tensorboard down </h4>"
   ]
  },
  {
   "cell_type": "markdown",
   "metadata": {},
   "source": [
    "## Challenge Exercise\n",
    "\n",
    "Modify your solution to the challenge exercise in c_dataset.ipynb appropriately."
   ]
  },
  {
   "cell_type": "markdown",
   "metadata": {},
   "source": [
    "Copyright 2017 Google Inc. Licensed under the Apache License, Version 2.0 (the \"License\"); you may not use this file except in compliance with the License. You may obtain a copy of the License at http://www.apache.org/licenses/LICENSE-2.0 Unless required by applicable law or agreed to in writing, software distributed under the License is distributed on an \"AS IS\" BASIS, WITHOUT WARRANTIES OR CONDITIONS OF ANY KIND, either express or implied. See the License for the specific language governing permissions and limitations under the License"
   ]
  }
 ],
 "metadata": {
  "kernelspec": {
   "display_name": "Python 3",
   "language": "python",
   "name": "python3"
  },
  "language_info": {
   "codemirror_mode": {
    "name": "ipython",
    "version": 3
   },
   "file_extension": ".py",
   "mimetype": "text/x-python",
   "name": "python",
   "nbconvert_exporter": "python",
   "pygments_lexer": "ipython3",
   "version": "3.7.4"
  }
 },
 "nbformat": 4,
 "nbformat_minor": 2
}
