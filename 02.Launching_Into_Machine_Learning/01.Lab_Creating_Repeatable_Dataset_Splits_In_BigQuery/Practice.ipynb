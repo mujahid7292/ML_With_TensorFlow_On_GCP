{
 "cells": [
  {
   "cell_type": "code",
   "execution_count": 3,
   "metadata": {},
   "outputs": [],
   "source": [
    "import os\n",
    "from google.cloud import bigquery\n",
    "import seaborn as sns\n",
    "import pandas as pd\n",
    "import numpy as np\n",
    "import shutil"
   ]
  },
  {
   "cell_type": "markdown",
   "metadata": {},
   "source": [
    "# Authenticate With Bigquery:"
   ]
  },
  {
   "cell_type": "code",
   "execution_count": 2,
   "metadata": {},
   "outputs": [],
   "source": [
    "os.environ['GOOGLE_APPLICATION_CREDENTIALS'] = \\\n",
    "'D:/GoogleDrive/GoogleCloudServiceAccountsKey/BigQueryServiceAccountForJupyter/api-7223922200765231820-28682-14f1efc35761.json'"
   ]
  },
  {
   "cell_type": "code",
   "execution_count": 6,
   "metadata": {},
   "outputs": [],
   "source": [
    "query = \"\"\"\n",
    "SELECT\n",
    "    date,\n",
    "    airline,\n",
    "    airline_code,\n",
    "    departure_airport,\n",
    "    departure_state,\n",
    "    departure_lat,\n",
    "    departure_lon,\n",
    "    arrival_airport,\n",
    "    arrival_state,\n",
    "    arrival_lat,\n",
    "    arrival_lon,\n",
    "    departure_schedule,\n",
    "    departure_actual,\n",
    "    departure_delay,\n",
    "    arrival_schedule,\n",
    "    arrival_actual,\n",
    "    arrival_delay\n",
    "FROM\n",
    "  `bigquery-samples.airline_ontime_data.flights`\n",
    "LIMIT 10\n",
    "\"\"\""
   ]
  },
  {
   "cell_type": "code",
   "execution_count": 7,
   "metadata": {},
   "outputs": [],
   "source": [
    "airlineDF = bigquery.Client().query(query).to_dataframe()"
   ]
  },
  {
   "cell_type": "code",
   "execution_count": 9,
   "metadata": {},
   "outputs": [
    {
     "data": {
      "text/html": [
       "<div>\n",
       "<style scoped>\n",
       "    .dataframe tbody tr th:only-of-type {\n",
       "        vertical-align: middle;\n",
       "    }\n",
       "\n",
       "    .dataframe tbody tr th {\n",
       "        vertical-align: top;\n",
       "    }\n",
       "\n",
       "    .dataframe thead th {\n",
       "        text-align: right;\n",
       "    }\n",
       "</style>\n",
       "<table border=\"1\" class=\"dataframe\">\n",
       "  <thead>\n",
       "    <tr style=\"text-align: right;\">\n",
       "      <th></th>\n",
       "      <th>date</th>\n",
       "      <th>airline</th>\n",
       "      <th>airline_code</th>\n",
       "      <th>departure_airport</th>\n",
       "      <th>departure_state</th>\n",
       "      <th>departure_lat</th>\n",
       "      <th>departure_lon</th>\n",
       "      <th>arrival_airport</th>\n",
       "      <th>arrival_state</th>\n",
       "      <th>arrival_lat</th>\n",
       "      <th>arrival_lon</th>\n",
       "      <th>departure_schedule</th>\n",
       "      <th>departure_actual</th>\n",
       "      <th>departure_delay</th>\n",
       "      <th>arrival_schedule</th>\n",
       "      <th>arrival_actual</th>\n",
       "      <th>arrival_delay</th>\n",
       "    </tr>\n",
       "  </thead>\n",
       "  <tbody>\n",
       "    <tr>\n",
       "      <th>0</th>\n",
       "      <td>2007-10-30</td>\n",
       "      <td>OO</td>\n",
       "      <td>20304</td>\n",
       "      <td>ATL</td>\n",
       "      <td>GA</td>\n",
       "      <td>33.63</td>\n",
       "      <td>-84.42</td>\n",
       "      <td>HOU</td>\n",
       "      <td>TX</td>\n",
       "      <td>29.64</td>\n",
       "      <td>-95.27</td>\n",
       "      <td>941</td>\n",
       "      <td>936</td>\n",
       "      <td>-5.0</td>\n",
       "      <td>1050</td>\n",
       "      <td>1043</td>\n",
       "      <td>-7.0</td>\n",
       "    </tr>\n",
       "    <tr>\n",
       "      <th>1</th>\n",
       "      <td>2009-02-27</td>\n",
       "      <td>OO</td>\n",
       "      <td>20304</td>\n",
       "      <td>ATL</td>\n",
       "      <td>GA</td>\n",
       "      <td>33.63</td>\n",
       "      <td>-84.42</td>\n",
       "      <td>HOU</td>\n",
       "      <td>TX</td>\n",
       "      <td>29.64</td>\n",
       "      <td>-95.27</td>\n",
       "      <td>1050</td>\n",
       "      <td>1103</td>\n",
       "      <td>13.0</td>\n",
       "      <td>1210</td>\n",
       "      <td>1233</td>\n",
       "      <td>23.0</td>\n",
       "    </tr>\n",
       "    <tr>\n",
       "      <th>2</th>\n",
       "      <td>2009-02-23</td>\n",
       "      <td>OO</td>\n",
       "      <td>20304</td>\n",
       "      <td>ATL</td>\n",
       "      <td>GA</td>\n",
       "      <td>33.63</td>\n",
       "      <td>-84.42</td>\n",
       "      <td>HOU</td>\n",
       "      <td>TX</td>\n",
       "      <td>29.64</td>\n",
       "      <td>-95.27</td>\n",
       "      <td>1050</td>\n",
       "      <td>1047</td>\n",
       "      <td>-3.0</td>\n",
       "      <td>1210</td>\n",
       "      <td>1207</td>\n",
       "      <td>-3.0</td>\n",
       "    </tr>\n",
       "    <tr>\n",
       "      <th>3</th>\n",
       "      <td>2009-02-24</td>\n",
       "      <td>OO</td>\n",
       "      <td>20304</td>\n",
       "      <td>ATL</td>\n",
       "      <td>GA</td>\n",
       "      <td>33.63</td>\n",
       "      <td>-84.42</td>\n",
       "      <td>HOU</td>\n",
       "      <td>TX</td>\n",
       "      <td>29.64</td>\n",
       "      <td>-95.27</td>\n",
       "      <td>1050</td>\n",
       "      <td>1057</td>\n",
       "      <td>7.0</td>\n",
       "      <td>1210</td>\n",
       "      <td>1234</td>\n",
       "      <td>24.0</td>\n",
       "    </tr>\n",
       "    <tr>\n",
       "      <th>4</th>\n",
       "      <td>2007-10-08</td>\n",
       "      <td>OO</td>\n",
       "      <td>20304</td>\n",
       "      <td>ATL</td>\n",
       "      <td>GA</td>\n",
       "      <td>33.63</td>\n",
       "      <td>-84.42</td>\n",
       "      <td>HOU</td>\n",
       "      <td>TX</td>\n",
       "      <td>29.64</td>\n",
       "      <td>-95.27</td>\n",
       "      <td>941</td>\n",
       "      <td>1029</td>\n",
       "      <td>48.0</td>\n",
       "      <td>1050</td>\n",
       "      <td>1242</td>\n",
       "      <td>112.0</td>\n",
       "    </tr>\n",
       "  </tbody>\n",
       "</table>\n",
       "</div>"
      ],
      "text/plain": [
       "         date airline airline_code departure_airport departure_state  \\\n",
       "0  2007-10-30      OO        20304               ATL              GA   \n",
       "1  2009-02-27      OO        20304               ATL              GA   \n",
       "2  2009-02-23      OO        20304               ATL              GA   \n",
       "3  2009-02-24      OO        20304               ATL              GA   \n",
       "4  2007-10-08      OO        20304               ATL              GA   \n",
       "\n",
       "   departure_lat  departure_lon arrival_airport arrival_state  arrival_lat  \\\n",
       "0          33.63         -84.42             HOU            TX        29.64   \n",
       "1          33.63         -84.42             HOU            TX        29.64   \n",
       "2          33.63         -84.42             HOU            TX        29.64   \n",
       "3          33.63         -84.42             HOU            TX        29.64   \n",
       "4          33.63         -84.42             HOU            TX        29.64   \n",
       "\n",
       "   arrival_lon  departure_schedule  departure_actual  departure_delay  \\\n",
       "0       -95.27                 941               936             -5.0   \n",
       "1       -95.27                1050              1103             13.0   \n",
       "2       -95.27                1050              1047             -3.0   \n",
       "3       -95.27                1050              1057              7.0   \n",
       "4       -95.27                 941              1029             48.0   \n",
       "\n",
       "   arrival_schedule  arrival_actual  arrival_delay  \n",
       "0              1050            1043           -7.0  \n",
       "1              1210            1233           23.0  \n",
       "2              1210            1207           -3.0  \n",
       "3              1210            1234           24.0  \n",
       "4              1050            1242          112.0  "
      ]
     },
     "execution_count": 9,
     "metadata": {},
     "output_type": "execute_result"
    }
   ],
   "source": [
    "airlineDF.head()"
   ]
  },
  {
   "cell_type": "markdown",
   "metadata": {},
   "source": [
    "<h3> Create a simple machine learning model </h3>\n",
    "\n",
    "The dataset that we will use is <a href=\"https://bigquery.cloud.google.com/table/bigquery-samples:airline_ontime_data.flights\">a BigQuery public dataset</a> of airline arrival data. Click on the link, and look at the column names. Switch to the Details tab to verify that the number of records is 70 million, and then switch to the Preview tab to look at a few rows.\n",
    "<p>\n",
    "We want to predict the arrival delay of an airline based on the departure delay. The model that we will use is a zero-bias linear model:\n",
    "$$ delay_{arrival} = \\alpha * delay_{departure} $$\n",
    "<p>\n",
    "To train the model is to estimate a good value for $\\alpha$. \n",
    "<p>\n",
    "One approach to estimate alpha is to use this formula:\n",
    "$$ \\alpha = \\frac{\\sum delay_{departure} delay_{arrival} }{  \\sum delay_{departure}^2 } $$\n",
    "Because we'd like to capture the idea that this relationship is different for flights from New York to Los Angeles vs. flights from Austin to Indianapolis (shorter flight, less busy airports), we'd compute a different $alpha$ for each airport-pair.  For simplicity, we'll do this model only for flights between Denver and Los Angeles."
   ]
  },
  {
   "cell_type": "markdown",
   "metadata": {},
   "source": [
    "<h2> Naive random split (not repeatable) </h2>"
   ]
  },
  {
   "cell_type": "code",
   "execution_count": 10,
   "metadata": {},
   "outputs": [],
   "source": [
    "compute_alpha = \"\"\"\n",
    "SELECT\n",
    "    SAFE_DIVIDE(SUM(departure_delay * arrival_delay), SUM(departure_delay * departure_delay)) AS alpha\n",
    "FROM\n",
    "(\n",
    "SELECT \n",
    "    RAND() AS splitField,\n",
    "    arrival_delay,\n",
    "    departure_delay\n",
    "FROM\n",
    "    `bigquery-samples.airline_ontime_data.flights`\n",
    "WHERE\n",
    "    departure_airport = 'DEN' AND arrival_airport='LAX'\n",
    ")\n",
    "WHERE\n",
    "    splitField < 0.8\n",
    "\"\"\""
   ]
  },
  {
   "cell_type": "code",
   "execution_count": 11,
   "metadata": {},
   "outputs": [],
   "source": [
    "resultsDF = bigquery.Client().query(compute_alpha).to_dataframe()"
   ]
  },
  {
   "cell_type": "code",
   "execution_count": 12,
   "metadata": {},
   "outputs": [
    {
     "data": {
      "text/html": [
       "<div>\n",
       "<style scoped>\n",
       "    .dataframe tbody tr th:only-of-type {\n",
       "        vertical-align: middle;\n",
       "    }\n",
       "\n",
       "    .dataframe tbody tr th {\n",
       "        vertical-align: top;\n",
       "    }\n",
       "\n",
       "    .dataframe thead th {\n",
       "        text-align: right;\n",
       "    }\n",
       "</style>\n",
       "<table border=\"1\" class=\"dataframe\">\n",
       "  <thead>\n",
       "    <tr style=\"text-align: right;\">\n",
       "      <th></th>\n",
       "      <th>alpha</th>\n",
       "    </tr>\n",
       "  </thead>\n",
       "  <tbody>\n",
       "    <tr>\n",
       "      <th>0</th>\n",
       "      <td>0.974889</td>\n",
       "    </tr>\n",
       "  </tbody>\n",
       "</table>\n",
       "</div>"
      ],
      "text/plain": [
       "      alpha\n",
       "0  0.974889"
      ]
     },
     "execution_count": 12,
     "metadata": {},
     "output_type": "execute_result"
    }
   ],
   "source": [
    "resultsDF.head()"
   ]
  },
  {
   "cell_type": "code",
   "execution_count": 13,
   "metadata": {},
   "outputs": [
    {
     "name": "stdout",
     "output_type": "stream",
     "text": [
      "0.9748890625806536\n"
     ]
    }
   ],
   "source": [
    "alpha = resultsDF['alpha'][0]\n",
    "print(alpha)"
   ]
  },
  {
   "cell_type": "code",
   "execution_count": null,
   "metadata": {},
   "outputs": [],
   "source": []
  }
 ],
 "metadata": {
  "kernelspec": {
   "display_name": "Python 3",
   "language": "python",
   "name": "python3"
  },
  "language_info": {
   "codemirror_mode": {
    "name": "ipython",
    "version": 3
   },
   "file_extension": ".py",
   "mimetype": "text/x-python",
   "name": "python",
   "nbconvert_exporter": "python",
   "pygments_lexer": "ipython3",
   "version": "3.7.4"
  }
 },
 "nbformat": 4,
 "nbformat_minor": 2
}
