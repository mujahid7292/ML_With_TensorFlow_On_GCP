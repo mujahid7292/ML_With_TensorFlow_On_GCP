{
 "cells": [
  {
   "cell_type": "code",
   "execution_count": 1,
   "metadata": {},
   "outputs": [],
   "source": [
    "import os\n",
    "from google.cloud import bigquery"
   ]
  },
  {
   "cell_type": "markdown",
   "metadata": {},
   "source": [
    "# Python Variable"
   ]
  },
  {
   "cell_type": "code",
   "execution_count": 2,
   "metadata": {},
   "outputs": [],
   "source": [
    "# change these to try this notebook out\n",
    "ACCOUNT = 'sandcorp2014@gmail.com'\n",
    "SAC = 'jupyter-notebook-sac'\n",
    "SAC_KEY_DESTINATION = '/media/mujahid7292/Data/Gcloud_Tem_SAC'\n",
    "PROJECT = 'ml-practice-260405'\n",
    "BUCKET = 'bucket-ml-practice-260405'\n",
    "REGION = 'us-central1'"
   ]
  },
  {
   "cell_type": "markdown",
   "metadata": {},
   "source": [
    "# Bash Variable"
   ]
  },
  {
   "cell_type": "code",
   "execution_count": 3,
   "metadata": {},
   "outputs": [],
   "source": [
    "os.environ['ACCOUNT'] = ACCOUNT\n",
    "os.environ['SAC'] = SAC\n",
    "os.environ['SAC_KEY_DESTINATION'] = SAC_KEY_DESTINATION\n",
    "os.environ['BUCKET'] = BUCKET\n",
    "os.environ['PROJECT'] = PROJECT\n",
    "os.environ['REGION'] = REGION"
   ]
  },
  {
   "cell_type": "markdown",
   "metadata": {},
   "source": [
    "# LogIn To Google Cloud"
   ]
  },
  {
   "cell_type": "code",
   "execution_count": 4,
   "metadata": {},
   "outputs": [
    {
     "name": "stderr",
     "output_type": "stream",
     "text": [
      "WARNING: Re-using locally stored credentials for [sandcorp2014@gmail.com]. To fetch new credentials, re-run the command with the `--force` flag.\n",
      "\n",
      "You are now logged in as [sandcorp2014@gmail.com].\n",
      "Your current project is [ml-practice-260405].  You can change this setting by running:\n",
      "  $ gcloud config set project PROJECT_ID\n"
     ]
    }
   ],
   "source": [
    "%%bash\n",
    "gcloud auth login $ACCOUNT"
   ]
  },
  {
   "cell_type": "markdown",
   "metadata": {},
   "source": [
    "# Create Servic Account For Jupyter Notebook"
   ]
  },
  {
   "cell_type": "code",
   "execution_count": 5,
   "metadata": {},
   "outputs": [
    {
     "name": "stderr",
     "output_type": "stream",
     "text": [
      "Created service account [jupyter-notebook-sac].\n"
     ]
    }
   ],
   "source": [
    "%%bash\n",
    "gcloud iam service-accounts create $SAC \\\n",
    "    --description \"This service account will help us to connect local jupyter notebook with server\" \\\n",
    "    --display-name \"jupyter-sac\""
   ]
  },
  {
   "cell_type": "markdown",
   "metadata": {},
   "source": [
    "# Enabling The Service Account"
   ]
  },
  {
   "cell_type": "code",
   "execution_count": 6,
   "metadata": {},
   "outputs": [
    {
     "name": "stderr",
     "output_type": "stream",
     "text": [
      "Enabled service account [jupyter-notebook-sac@ml-practice-260405.iam.gserviceaccount.com].\n"
     ]
    }
   ],
   "source": [
    "%%bash\n",
    "gcloud iam service-accounts enable $SAC@$PROJECT.iam.gserviceaccount.com"
   ]
  },
  {
   "cell_type": "markdown",
   "metadata": {},
   "source": [
    "# Create New Key For Above Service Account"
   ]
  },
  {
   "cell_type": "code",
   "execution_count": 7,
   "metadata": {},
   "outputs": [
    {
     "name": "stderr",
     "output_type": "stream",
     "text": [
      "created key [9eea519f923554b2fabcb37b943c3e042ae66749] of type [json] as [/media/mujahid7292/Data/Gcloud_Tem_SAC/jupyter-notebook-sac.json] for [jupyter-notebook-sac@ml-practice-260405.iam.gserviceaccount.com]\n"
     ]
    }
   ],
   "source": [
    "%%bash\n",
    "gcloud iam service-accounts keys create $SAC_KEY_DESTINATION/$SAC.json \\\n",
    "  --iam-account $SAC@$PROJECT.iam.gserviceaccount.com"
   ]
  },
  {
   "cell_type": "markdown",
   "metadata": {},
   "source": [
    "It may take up to 60 seconds before a newly created key can be used for authentication. If you experience authentication failures immediately after creating a new key, ensure that 60 seconds have elapsed before trying again."
   ]
  },
  {
   "cell_type": "markdown",
   "metadata": {},
   "source": [
    "# Activate the service account with above key"
   ]
  },
  {
   "cell_type": "code",
   "execution_count": 8,
   "metadata": {},
   "outputs": [
    {
     "name": "stderr",
     "output_type": "stream",
     "text": [
      "Activated service account credentials for: [jupyter-notebook-sac@ml-practice-260405.iam.gserviceaccount.com]\n"
     ]
    }
   ],
   "source": [
    "%%bash\n",
    "gcloud auth activate-service-account \\\n",
    "--key-file=${SAC_KEY_DESTINATION}/${SAC}.json"
   ]
  },
  {
   "cell_type": "markdown",
   "metadata": {},
   "source": [
    "# Set Google Application Credentials"
   ]
  },
  {
   "cell_type": "code",
   "execution_count": 15,
   "metadata": {},
   "outputs": [],
   "source": [
    "import os\n",
    "os.environ[\"GOOGLE_APPLICATION_CREDENTIALS\"]='{}/{}.json'.format(SAC_KEY_DESTINATION,SAC)"
   ]
  },
  {
   "cell_type": "markdown",
   "metadata": {},
   "source": [
    "Check Whether Google Application Credential Was Set Successfully Outside Virtual Environment"
   ]
  },
  {
   "cell_type": "code",
   "execution_count": 16,
   "metadata": {},
   "outputs": [
    {
     "name": "stdout",
     "output_type": "stream",
     "text": [
      "GOOGLE_APPLICATION_CREDENTIALS=/media/mujahid7292/Data/Gcloud_Tem_SAC/jupyter-notebook-sac.json\n"
     ]
    }
   ],
   "source": [
    "%%bash\n",
    "set | grep GOOGLE_APPLICATION_CREDENTIALS "
   ]
  },
  {
   "cell_type": "markdown",
   "metadata": {},
   "source": [
    "# Set Default Project And Region"
   ]
  },
  {
   "cell_type": "code",
   "execution_count": 17,
   "metadata": {},
   "outputs": [
    {
     "name": "stderr",
     "output_type": "stream",
     "text": [
      "Updated property [core/account].\n",
      "Updated property [core/project].\n",
      "Updated property [compute/region].\n"
     ]
    }
   ],
   "source": [
    "%%bash\n",
    "gcloud config set account $ACCOUNT\n",
    "gcloud config set project $PROJECT\n",
    "gcloud config set compute/region $REGION"
   ]
  },
  {
   "cell_type": "markdown",
   "metadata": {},
   "source": [
    "# Give BigQuery Access Permision To This Service Account"
   ]
  },
  {
   "cell_type": "code",
   "execution_count": 21,
   "metadata": {},
   "outputs": [
    {
     "name": "stdout",
     "output_type": "stream",
     "text": [
      "bindings:\n",
      "- members:\n",
      "  - serviceAccount:jupyter-notebook-sac@ml-practice-260405.iam.gserviceaccount.com\n",
      "  role: roles/bigquery.admin\n",
      "- members:\n",
      "  - serviceAccount:service-229327834475@compute-system.iam.gserviceaccount.com\n",
      "  role: roles/compute.serviceAgent\n",
      "- members:\n",
      "  - serviceAccount:service-229327834475@container-engine-robot.iam.gserviceaccount.com\n",
      "  role: roles/container.serviceAgent\n",
      "- members:\n",
      "  - serviceAccount:service-229327834475@dataflow-service-producer-prod.iam.gserviceaccount.com\n",
      "  role: roles/dataflow.serviceAgent\n",
      "- members:\n",
      "  - serviceAccount:service-229327834475@trifacta-gcloud-prod.iam.gserviceaccount.com\n",
      "  role: roles/dataprep.serviceAgent\n",
      "- members:\n",
      "  - serviceAccount:229327834475-compute@developer.gserviceaccount.com\n",
      "  - serviceAccount:229327834475@cloudservices.gserviceaccount.com\n",
      "  - serviceAccount:service-229327834475@containerregistry.iam.gserviceaccount.com\n",
      "  role: roles/editor\n",
      "- members:\n",
      "  - serviceAccount:service-229327834475@cloud-ml.google.com.iam.gserviceaccount.com\n",
      "  role: roles/ml.serviceAgent\n",
      "- members:\n",
      "  - serviceAccount:ml-practice@ml-practice-260405.iam.gserviceaccount.com\n",
      "  - user:sandcorp2014@gmail.com\n",
      "  role: roles/owner\n",
      "etag: BwWi2LO0HPU=\n",
      "version: 1\n"
     ]
    },
    {
     "name": "stderr",
     "output_type": "stream",
     "text": [
      "Updated IAM policy for project [ml-practice-260405].\n"
     ]
    }
   ],
   "source": [
    "%%bash\n",
    "gcloud projects add-iam-policy-binding $PROJECT \\\n",
    "    --member serviceAccount:$SAC@$PROJECT.iam.gserviceaccount.com \\\n",
    "    --role roles/bigquery.admin"
   ]
  },
  {
   "cell_type": "markdown",
   "metadata": {},
   "source": [
    "# Give GCS Access Permision To This Service Account"
   ]
  },
  {
   "cell_type": "code",
   "execution_count": 39,
   "metadata": {},
   "outputs": [
    {
     "name": "stdout",
     "output_type": "stream",
     "text": [
      "bindings:\n",
      "- members:\n",
      "  - serviceAccount:jupyter-notebook-sac@ml-practice-260405.iam.gserviceaccount.com\n",
      "  role: roles/bigquery.admin\n",
      "- members:\n",
      "  - serviceAccount:service-229327834475@compute-system.iam.gserviceaccount.com\n",
      "  role: roles/compute.serviceAgent\n",
      "- members:\n",
      "  - serviceAccount:service-229327834475@container-engine-robot.iam.gserviceaccount.com\n",
      "  role: roles/container.serviceAgent\n",
      "- members:\n",
      "  - serviceAccount:service-229327834475@dataflow-service-producer-prod.iam.gserviceaccount.com\n",
      "  role: roles/dataflow.serviceAgent\n",
      "- members:\n",
      "  - serviceAccount:service-229327834475@trifacta-gcloud-prod.iam.gserviceaccount.com\n",
      "  role: roles/dataprep.serviceAgent\n",
      "- members:\n",
      "  - serviceAccount:229327834475-compute@developer.gserviceaccount.com\n",
      "  - serviceAccount:229327834475@cloudservices.gserviceaccount.com\n",
      "  - serviceAccount:jupyter-notebook-sac@ml-practice-260405.iam.gserviceaccount.com\n",
      "  - serviceAccount:service-229327834475@containerregistry.iam.gserviceaccount.com\n",
      "  role: roles/editor\n",
      "- members:\n",
      "  - serviceAccount:service-229327834475@cloud-ml.google.com.iam.gserviceaccount.com\n",
      "  role: roles/ml.serviceAgent\n",
      "- members:\n",
      "  - serviceAccount:ml-practice@ml-practice-260405.iam.gserviceaccount.com\n",
      "  - user:sandcorp2014@gmail.com\n",
      "  role: roles/owner\n",
      "- members:\n",
      "  - serviceAccount:jupyter-notebook-sac@ml-practice-260405.iam.gserviceaccount.com\n",
      "  role: roles/storage.admin\n",
      "- members:\n",
      "  - serviceAccount:jupyter-notebook-sac@ml-practice-260405.iam.gserviceaccount.com\n",
      "  role: roles/storage.objectCreator\n",
      "etag: BwWi2gXYLCo=\n",
      "version: 1\n"
     ]
    },
    {
     "name": "stderr",
     "output_type": "stream",
     "text": [
      "Updated IAM policy for project [ml-practice-260405].\n"
     ]
    }
   ],
   "source": [
    "%%bash\n",
    "gcloud projects add-iam-policy-binding $PROJECT \\\n",
    "    --member serviceAccount:$SAC@$PROJECT.iam.gserviceaccount.com \\\n",
    "    --role roles/storage.admin"
   ]
  },
  {
   "cell_type": "markdown",
   "metadata": {},
   "source": [
    "<h1> 1. Exploring natality dataset </h1>\n",
    "\n",
    "This notebook illustrates:\n",
    "<ol>\n",
    "<li> Exploring a BigQuery dataset using AI Platform Notebooks.\n",
    "</ol>"
   ]
  },
  {
   "cell_type": "code",
   "execution_count": 40,
   "metadata": {},
   "outputs": [
    {
     "name": "stdout",
     "output_type": "stream",
     "text": [
      "Process is interrupted.\n"
     ]
    }
   ],
   "source": [
    "%%bash\n",
    "if ! gsutil ls | grep -q gs://${BUCKET}/; then\n",
    "  gsutil mb -l ${REGION} -p ${PROJECT} gs://${BUCKET}\n",
    "fi"
   ]
  },
  {
   "cell_type": "code",
   "execution_count": 43,
   "metadata": {},
   "outputs": [
    {
     "name": "stderr",
     "output_type": "stream",
     "text": [
      "Creating gs://bucket-ml-practice-260405/...\n",
      "INFO 0409 18:08:17.865500 retry_util.py] Retrying request, attempt #1...\n",
      "INFO 0409 18:09:19.769844 retry_util.py] Retrying request, attempt #2...\n",
      "INFO 0409 18:10:24.572903 retry_util.py] Retrying request, attempt #3...\n",
      "INFO 0409 18:12:13.583589 retry_util.py] Retrying request, attempt #4...\n",
      "INFO 0409 18:13:28.455015 retry_util.py] Retrying request, attempt #5...\n",
      "INFO 0409 18:14:52.875596 retry_util.py] Retrying request, attempt #6...\n",
      "INFO 0409 18:16:55.458790 retry_util.py] Retrying request, attempt #7...\n",
      "INFO 0409 18:18:27.757483 retry_util.py] Retrying request, attempt #8...\n",
      "INFO 0409 18:19:59.923771 retry_util.py] Retrying request, attempt #9...\n",
      "INFO 0409 18:22:18.259942 retry_util.py] Retrying request, attempt #10...\n",
      "INFO 0409 18:23:50.385959 retry_util.py] Retrying request, attempt #11...\n",
      "INFO 0409 18:25:22.533712 retry_util.py] Retrying request, attempt #12...\n",
      "INFO 0409 18:26:54.618428 retry_util.py] Retrying request, attempt #13...\n",
      "INFO 0409 18:28:26.714931 retry_util.py] Retrying request, attempt #14...\n",
      "INFO 0409 18:29:58.819239 retry_util.py] Retrying request, attempt #15...\n",
      "INFO 0409 18:32:10.136906 retry_util.py] Retrying request, attempt #16...\n",
      "INFO 0409 18:34:41.684892 retry_util.py] Retrying request, attempt #17...\n",
      "INFO 0409 18:36:13.798308 retry_util.py] Retrying request, attempt #18...\n",
      "INFO 0409 18:38:24.914701 retry_util.py] Retrying request, attempt #19...\n",
      "INFO 0409 18:39:57.053049 retry_util.py] Retrying request, attempt #20...\n",
      "INFO 0409 18:41:29.181977 retry_util.py] Retrying request, attempt #21...\n",
      "INFO 0409 18:43:01.330585 retry_util.py] Retrying request, attempt #22...\n",
      "Traceback (most recent call last):\n",
      "  File \"/media/mujahid7292/Data/google-cloud-sdk/platform/gsutil/gsutil\", line 21, in <module>\n",
      "    gsutil.RunMain()\n",
      "  File \"/media/mujahid7292/Data/google-cloud-sdk/platform/gsutil/gsutil.py\", line 124, in RunMain\n",
      "    sys.exit(gslib.__main__.main())\n",
      "  File \"/media/mujahid7292/Data/google-cloud-sdk/platform/gsutil/gslib/__main__.py\", line 433, in main\n",
      "    user_project=user_project)\n",
      "  File \"/media/mujahid7292/Data/google-cloud-sdk/platform/gsutil/gslib/__main__.py\", line 628, in _RunNamedCommandAndHandleExceptions\n",
      "    user_project=user_project)\n",
      "  File \"/media/mujahid7292/Data/google-cloud-sdk/platform/gsutil/gslib/command_runner.py\", line 411, in RunNamedCommand\n",
      "    return_code = command_inst.RunCommand()\n",
      "  File \"/media/mujahid7292/Data/google-cloud-sdk/platform/gsutil/gslib/commands/mb.py\", line 274, in RunCommand\n",
      "    provider=bucket_url.scheme)\n",
      "  File \"/media/mujahid7292/Data/google-cloud-sdk/platform/gsutil/gslib/cloud_api_delegator.py\", line 257, in CreateBucket\n",
      "    fields=fields)\n",
      "  File \"/media/mujahid7292/Data/google-cloud-sdk/platform/gsutil/gslib/gcs_json_api.py\", line 584, in CreateBucket\n",
      "    global_params=global_params)\n",
      "  File \"/media/mujahid7292/Data/google-cloud-sdk/platform/gsutil/gslib/third_party/storage_apitools/storage_v1_client.py\", line 346, in Insert\n",
      "    config, request, global_params=global_params)\n",
      "  File \"/media/mujahid7292/Data/google-cloud-sdk/platform/gsutil/third_party/apitools/apitools/base/py/base_api.py\", line 729, in _RunMethod\n",
      "    http, http_request, **opts)\n",
      "  File \"/media/mujahid7292/Data/google-cloud-sdk/platform/gsutil/third_party/apitools/apitools/base/py/http_wrapper.py\", line 346, in MakeRequest\n",
      "    check_response_func=check_response_func)\n",
      "  File \"/media/mujahid7292/Data/google-cloud-sdk/platform/gsutil/third_party/apitools/apitools/base/py/http_wrapper.py\", line 396, in _MakeRequestNoRetry\n",
      "    redirections=redirections, connection_type=connection_type)\n",
      "  File \"/media/mujahid7292/Data/google-cloud-sdk/platform/gsutil/third_party/oauth2client/oauth2client/transport.py\", line 175, in new_request\n",
      "    redirections, connection_type)\n",
      "  File \"/media/mujahid7292/Data/google-cloud-sdk/platform/gsutil/third_party/oauth2client/oauth2client/transport.py\", line 282, in request\n",
      "    connection_type=connection_type)\n",
      "  File \"/media/mujahid7292/Data/google-cloud-sdk/platform/gsutil/third_party/httplib2/python2/httplib2/__init__.py\", line 1694, in request\n",
      "    (response, content) = self._request(conn, authority, uri, request_uri, method, body, headers, redirections, cachekey)\n",
      "  File \"/media/mujahid7292/Data/google-cloud-sdk/platform/gsutil/third_party/httplib2/python2/httplib2/__init__.py\", line 1434, in _request\n",
      "    (response, content) = self._conn_request(conn, request_uri, method, body, headers)\n",
      "  File \"/media/mujahid7292/Data/google-cloud-sdk/platform/gsutil/third_party/httplib2/python2/httplib2/__init__.py\", line 1354, in _conn_request\n",
      "    conn.connect()\n",
      "  File \"/media/mujahid7292/Data/google-cloud-sdk/platform/gsutil/third_party/httplib2/python2/httplib2/__init__.py\", line 1104, in connect\n",
      "    self.ssl_version, self.host)\n",
      "  File \"/media/mujahid7292/Data/google-cloud-sdk/platform/gsutil/third_party/httplib2/python2/httplib2/__init__.py\", line 97, in _ssl_wrap_socket\n",
      "    return context.wrap_socket(sock, server_hostname=hostname)\n",
      "  File \"/usr/lib/python2.7/ssl.py\", line 369, in wrap_socket\n",
      "    _context=self)\n",
      "  File \"/usr/lib/python2.7/ssl.py\", line 599, in __init__\n",
      "    self.do_handshake()\n",
      "  File \"/usr/lib/python2.7/ssl.py\", line 828, in do_handshake\n",
      "    self._sslobj.do_handshake()\n",
      "ssl.SSLError: ('_ssl.c:711: The handshake operation timed out',)\n"
     ]
    },
    {
     "ename": "CalledProcessError",
     "evalue": "Command 'b'gsutil mb -l us-central1 -p ml-practice-260405 gs://bucket-ml-practice-260405\\n#gsutil mb -l ${REGION} -p ${PROJECT} gs://${BUCKET}\\n'' returned non-zero exit status 1.",
     "output_type": "error",
     "traceback": [
      "\u001b[0;31m---------------------------------------------------------------------------\u001b[0m",
      "\u001b[0;31mCalledProcessError\u001b[0m                        Traceback (most recent call last)",
      "\u001b[0;32m<ipython-input-43-9c98badaceba>\u001b[0m in \u001b[0;36m<module>\u001b[0;34m\u001b[0m\n\u001b[0;32m----> 1\u001b[0;31m \u001b[0mget_ipython\u001b[0m\u001b[0;34m(\u001b[0m\u001b[0;34m)\u001b[0m\u001b[0;34m.\u001b[0m\u001b[0mrun_cell_magic\u001b[0m\u001b[0;34m(\u001b[0m\u001b[0;34m'bash'\u001b[0m\u001b[0;34m,\u001b[0m \u001b[0;34m''\u001b[0m\u001b[0;34m,\u001b[0m \u001b[0;34m'gsutil mb -l us-central1 -p ml-practice-260405 gs://bucket-ml-practice-260405\\n#gsutil mb -l ${REGION} -p ${PROJECT} gs://${BUCKET}\\n'\u001b[0m\u001b[0;34m)\u001b[0m\u001b[0;34m\u001b[0m\u001b[0;34m\u001b[0m\u001b[0m\n\u001b[0m",
      "\u001b[0;32m~/anaconda3/lib/python3.7/site-packages/IPython/core/interactiveshell.py\u001b[0m in \u001b[0;36mrun_cell_magic\u001b[0;34m(self, magic_name, line, cell)\u001b[0m\n\u001b[1;32m   2357\u001b[0m             \u001b[0;32mwith\u001b[0m \u001b[0mself\u001b[0m\u001b[0;34m.\u001b[0m\u001b[0mbuiltin_trap\u001b[0m\u001b[0;34m:\u001b[0m\u001b[0;34m\u001b[0m\u001b[0;34m\u001b[0m\u001b[0m\n\u001b[1;32m   2358\u001b[0m                 \u001b[0margs\u001b[0m \u001b[0;34m=\u001b[0m \u001b[0;34m(\u001b[0m\u001b[0mmagic_arg_s\u001b[0m\u001b[0;34m,\u001b[0m \u001b[0mcell\u001b[0m\u001b[0;34m)\u001b[0m\u001b[0;34m\u001b[0m\u001b[0;34m\u001b[0m\u001b[0m\n\u001b[0;32m-> 2359\u001b[0;31m                 \u001b[0mresult\u001b[0m \u001b[0;34m=\u001b[0m \u001b[0mfn\u001b[0m\u001b[0;34m(\u001b[0m\u001b[0;34m*\u001b[0m\u001b[0margs\u001b[0m\u001b[0;34m,\u001b[0m \u001b[0;34m**\u001b[0m\u001b[0mkwargs\u001b[0m\u001b[0;34m)\u001b[0m\u001b[0;34m\u001b[0m\u001b[0;34m\u001b[0m\u001b[0m\n\u001b[0m\u001b[1;32m   2360\u001b[0m             \u001b[0;32mreturn\u001b[0m \u001b[0mresult\u001b[0m\u001b[0;34m\u001b[0m\u001b[0;34m\u001b[0m\u001b[0m\n\u001b[1;32m   2361\u001b[0m \u001b[0;34m\u001b[0m\u001b[0m\n",
      "\u001b[0;32m~/anaconda3/lib/python3.7/site-packages/IPython/core/magics/script.py\u001b[0m in \u001b[0;36mnamed_script_magic\u001b[0;34m(line, cell)\u001b[0m\n\u001b[1;32m    140\u001b[0m             \u001b[0;32melse\u001b[0m\u001b[0;34m:\u001b[0m\u001b[0;34m\u001b[0m\u001b[0;34m\u001b[0m\u001b[0m\n\u001b[1;32m    141\u001b[0m                 \u001b[0mline\u001b[0m \u001b[0;34m=\u001b[0m \u001b[0mscript\u001b[0m\u001b[0;34m\u001b[0m\u001b[0;34m\u001b[0m\u001b[0m\n\u001b[0;32m--> 142\u001b[0;31m             \u001b[0;32mreturn\u001b[0m \u001b[0mself\u001b[0m\u001b[0;34m.\u001b[0m\u001b[0mshebang\u001b[0m\u001b[0;34m(\u001b[0m\u001b[0mline\u001b[0m\u001b[0;34m,\u001b[0m \u001b[0mcell\u001b[0m\u001b[0;34m)\u001b[0m\u001b[0;34m\u001b[0m\u001b[0;34m\u001b[0m\u001b[0m\n\u001b[0m\u001b[1;32m    143\u001b[0m \u001b[0;34m\u001b[0m\u001b[0m\n\u001b[1;32m    144\u001b[0m         \u001b[0;31m# write a basic docstring:\u001b[0m\u001b[0;34m\u001b[0m\u001b[0;34m\u001b[0m\u001b[0;34m\u001b[0m\u001b[0m\n",
      "\u001b[0;32m</home/mujahid7292/anaconda3/lib/python3.7/site-packages/decorator.py:decorator-gen-110>\u001b[0m in \u001b[0;36mshebang\u001b[0;34m(self, line, cell)\u001b[0m\n",
      "\u001b[0;32m~/anaconda3/lib/python3.7/site-packages/IPython/core/magic.py\u001b[0m in \u001b[0;36m<lambda>\u001b[0;34m(f, *a, **k)\u001b[0m\n\u001b[1;32m    185\u001b[0m     \u001b[0;31m# but it's overkill for just that one bit of state.\u001b[0m\u001b[0;34m\u001b[0m\u001b[0;34m\u001b[0m\u001b[0;34m\u001b[0m\u001b[0m\n\u001b[1;32m    186\u001b[0m     \u001b[0;32mdef\u001b[0m \u001b[0mmagic_deco\u001b[0m\u001b[0;34m(\u001b[0m\u001b[0marg\u001b[0m\u001b[0;34m)\u001b[0m\u001b[0;34m:\u001b[0m\u001b[0;34m\u001b[0m\u001b[0;34m\u001b[0m\u001b[0m\n\u001b[0;32m--> 187\u001b[0;31m         \u001b[0mcall\u001b[0m \u001b[0;34m=\u001b[0m \u001b[0;32mlambda\u001b[0m \u001b[0mf\u001b[0m\u001b[0;34m,\u001b[0m \u001b[0;34m*\u001b[0m\u001b[0ma\u001b[0m\u001b[0;34m,\u001b[0m \u001b[0;34m**\u001b[0m\u001b[0mk\u001b[0m\u001b[0;34m:\u001b[0m \u001b[0mf\u001b[0m\u001b[0;34m(\u001b[0m\u001b[0;34m*\u001b[0m\u001b[0ma\u001b[0m\u001b[0;34m,\u001b[0m \u001b[0;34m**\u001b[0m\u001b[0mk\u001b[0m\u001b[0;34m)\u001b[0m\u001b[0;34m\u001b[0m\u001b[0;34m\u001b[0m\u001b[0m\n\u001b[0m\u001b[1;32m    188\u001b[0m \u001b[0;34m\u001b[0m\u001b[0m\n\u001b[1;32m    189\u001b[0m         \u001b[0;32mif\u001b[0m \u001b[0mcallable\u001b[0m\u001b[0;34m(\u001b[0m\u001b[0marg\u001b[0m\u001b[0;34m)\u001b[0m\u001b[0;34m:\u001b[0m\u001b[0;34m\u001b[0m\u001b[0;34m\u001b[0m\u001b[0m\n",
      "\u001b[0;32m~/anaconda3/lib/python3.7/site-packages/IPython/core/magics/script.py\u001b[0m in \u001b[0;36mshebang\u001b[0;34m(self, line, cell)\u001b[0m\n\u001b[1;32m    243\u001b[0m             \u001b[0msys\u001b[0m\u001b[0;34m.\u001b[0m\u001b[0mstderr\u001b[0m\u001b[0;34m.\u001b[0m\u001b[0mflush\u001b[0m\u001b[0;34m(\u001b[0m\u001b[0;34m)\u001b[0m\u001b[0;34m\u001b[0m\u001b[0;34m\u001b[0m\u001b[0m\n\u001b[1;32m    244\u001b[0m         \u001b[0;32mif\u001b[0m \u001b[0margs\u001b[0m\u001b[0;34m.\u001b[0m\u001b[0mraise_error\u001b[0m \u001b[0;32mand\u001b[0m \u001b[0mp\u001b[0m\u001b[0;34m.\u001b[0m\u001b[0mreturncode\u001b[0m\u001b[0;34m!=\u001b[0m\u001b[0;36m0\u001b[0m\u001b[0;34m:\u001b[0m\u001b[0;34m\u001b[0m\u001b[0;34m\u001b[0m\u001b[0m\n\u001b[0;32m--> 245\u001b[0;31m             \u001b[0;32mraise\u001b[0m \u001b[0mCalledProcessError\u001b[0m\u001b[0;34m(\u001b[0m\u001b[0mp\u001b[0m\u001b[0;34m.\u001b[0m\u001b[0mreturncode\u001b[0m\u001b[0;34m,\u001b[0m \u001b[0mcell\u001b[0m\u001b[0;34m,\u001b[0m \u001b[0moutput\u001b[0m\u001b[0;34m=\u001b[0m\u001b[0mout\u001b[0m\u001b[0;34m,\u001b[0m \u001b[0mstderr\u001b[0m\u001b[0;34m=\u001b[0m\u001b[0merr\u001b[0m\u001b[0;34m)\u001b[0m\u001b[0;34m\u001b[0m\u001b[0;34m\u001b[0m\u001b[0m\n\u001b[0m\u001b[1;32m    246\u001b[0m \u001b[0;34m\u001b[0m\u001b[0m\n\u001b[1;32m    247\u001b[0m     \u001b[0;32mdef\u001b[0m \u001b[0m_run_script\u001b[0m\u001b[0;34m(\u001b[0m\u001b[0mself\u001b[0m\u001b[0;34m,\u001b[0m \u001b[0mp\u001b[0m\u001b[0;34m,\u001b[0m \u001b[0mcell\u001b[0m\u001b[0;34m,\u001b[0m \u001b[0mto_close\u001b[0m\u001b[0;34m)\u001b[0m\u001b[0;34m:\u001b[0m\u001b[0;34m\u001b[0m\u001b[0;34m\u001b[0m\u001b[0m\n",
      "\u001b[0;31mCalledProcessError\u001b[0m: Command 'b'gsutil mb -l us-central1 -p ml-practice-260405 gs://bucket-ml-practice-260405\\n#gsutil mb -l ${REGION} -p ${PROJECT} gs://${BUCKET}\\n'' returned non-zero exit status 1."
     ]
    }
   ],
   "source": [
    "%%bash\n",
    "gsutil mb -l us-central1 -p ml-practice-260405 gs://bucket-ml-practice-260405\n",
    "#gsutil mb -l ${REGION} -p ${PROJECT} gs://${BUCKET}"
   ]
  },
  {
   "cell_type": "markdown",
   "metadata": {},
   "source": [
    "<h2> Explore data </h2>\n",
    "\n",
    "The data is  <a href='https://console.cloud.google.com/bigquery?GK=publicdata&page=table&t=natality&d=samples&p=publicdata&redirect_from_classic=true&project=corona-patient-finder&folder=&organizationId='>natality data</a> (record of births in the US). My goal is to predict the baby's weight given a number of factors about the pregnancy and the baby's mother.  Later, we will want to split the data into training and eval datasets. The hash of the year-month will be used for that -- this way, twins born on the same day won't end up in different cuts of the data."
   ]
  },
  {
   "cell_type": "code",
   "execution_count": 22,
   "metadata": {},
   "outputs": [],
   "source": [
    "# Create SQL query using natality data after the year 2000\n",
    "query = \"\"\"\n",
    "SELECT\n",
    "  weight_pounds,\n",
    "  is_male,\n",
    "  mother_age,\n",
    "  plurality,\n",
    "  gestation_weeks,\n",
    "  FARM_FINGERPRINT(CONCAT(CAST(YEAR AS STRING), CAST(month AS STRING))) AS hashmonth\n",
    "FROM\n",
    "  publicdata.samples.natality\n",
    "WHERE year > 2000\n",
    "\"\"\""
   ]
  },
  {
   "cell_type": "code",
   "execution_count": 23,
   "metadata": {
    "jupyter": {
     "outputs_hidden": false
    }
   },
   "outputs": [
    {
     "data": {
      "text/html": [
       "<div>\n",
       "<style scoped>\n",
       "    .dataframe tbody tr th:only-of-type {\n",
       "        vertical-align: middle;\n",
       "    }\n",
       "\n",
       "    .dataframe tbody tr th {\n",
       "        vertical-align: top;\n",
       "    }\n",
       "\n",
       "    .dataframe thead th {\n",
       "        text-align: right;\n",
       "    }\n",
       "</style>\n",
       "<table border=\"1\" class=\"dataframe\">\n",
       "  <thead>\n",
       "    <tr style=\"text-align: right;\">\n",
       "      <th></th>\n",
       "      <th>weight_pounds</th>\n",
       "      <th>is_male</th>\n",
       "      <th>mother_age</th>\n",
       "      <th>plurality</th>\n",
       "      <th>gestation_weeks</th>\n",
       "      <th>hashmonth</th>\n",
       "    </tr>\n",
       "  </thead>\n",
       "  <tbody>\n",
       "    <tr>\n",
       "      <td>0</td>\n",
       "      <td>7.109908</td>\n",
       "      <td>False</td>\n",
       "      <td>25</td>\n",
       "      <td>1</td>\n",
       "      <td>38.0</td>\n",
       "      <td>1088037545023002395</td>\n",
       "    </tr>\n",
       "    <tr>\n",
       "      <td>1</td>\n",
       "      <td>7.588311</td>\n",
       "      <td>False</td>\n",
       "      <td>19</td>\n",
       "      <td>1</td>\n",
       "      <td>40.0</td>\n",
       "      <td>-2126480030009879160</td>\n",
       "    </tr>\n",
       "    <tr>\n",
       "      <td>2</td>\n",
       "      <td>4.812691</td>\n",
       "      <td>True</td>\n",
       "      <td>35</td>\n",
       "      <td>1</td>\n",
       "      <td>33.0</td>\n",
       "      <td>3408502330831153141</td>\n",
       "    </tr>\n",
       "    <tr>\n",
       "      <td>3</td>\n",
       "      <td>7.251004</td>\n",
       "      <td>True</td>\n",
       "      <td>30</td>\n",
       "      <td>2</td>\n",
       "      <td>38.0</td>\n",
       "      <td>6691862025345277042</td>\n",
       "    </tr>\n",
       "    <tr>\n",
       "      <td>4</td>\n",
       "      <td>6.206013</td>\n",
       "      <td>False</td>\n",
       "      <td>21</td>\n",
       "      <td>1</td>\n",
       "      <td>36.0</td>\n",
       "      <td>6392072535155213407</td>\n",
       "    </tr>\n",
       "  </tbody>\n",
       "</table>\n",
       "</div>"
      ],
      "text/plain": [
       "   weight_pounds  is_male  mother_age  plurality  gestation_weeks  \\\n",
       "0       7.109908    False          25          1             38.0   \n",
       "1       7.588311    False          19          1             40.0   \n",
       "2       4.812691     True          35          1             33.0   \n",
       "3       7.251004     True          30          2             38.0   \n",
       "4       6.206013    False          21          1             36.0   \n",
       "\n",
       "             hashmonth  \n",
       "0  1088037545023002395  \n",
       "1 -2126480030009879160  \n",
       "2  3408502330831153141  \n",
       "3  6691862025345277042  \n",
       "4  6392072535155213407  "
      ]
     },
     "execution_count": 23,
     "metadata": {},
     "output_type": "execute_result"
    }
   ],
   "source": [
    "# Call BigQuery and examine in dataframe\n",
    "df = bigquery.Client().query(query + \" LIMIT 100\").to_dataframe()\n",
    "df.head()"
   ]
  },
  {
   "cell_type": "markdown",
   "metadata": {},
   "source": [
    "Let's write a query to find the unique values for each of the columns and the count of those values.\n",
    "This is important to ensure that we have enough examples of each data value, and to verify our hunch that the parameter has predictive value."
   ]
  },
  {
   "cell_type": "code",
   "execution_count": 28,
   "metadata": {
    "jupyter": {
     "outputs_hidden": true
    }
   },
   "outputs": [],
   "source": [
    "# Create function that finds the number of records and the average weight for each value of the chosen column\n",
    "def get_distinct_values(column_name):\n",
    "  sql = \"\"\"\n",
    "SELECT\n",
    "  {0},\n",
    "  COUNT(1) AS num_babies,\n",
    "  AVG(weight_pounds) AS avg_wt\n",
    "FROM\n",
    "  publicdata.samples.natality\n",
    "WHERE\n",
    "  year > 2000\n",
    "GROUP BY\n",
    "  {0}\n",
    "  \"\"\".format(column_name)\n",
    "  return bigquery.Client().query(sql).to_dataframe()"
   ]
  },
  {
   "cell_type": "code",
   "execution_count": 29,
   "metadata": {
    "jupyter": {
     "outputs_hidden": false
    }
   },
   "outputs": [
    {
     "data": {
      "image/png": "[encoded data removed]",
      "text/plain": [
       "<Figure size 432x288 with 1 Axes>"
      ]
     },
     "metadata": {
      "needs_background": "light"
     },
     "output_type": "display_data"
    },
    {
     "data": {
      "image/png": "[encoded data removed]",
      "text/plain": [
       "<Figure size 432x288 with 1 Axes>"
      ]
     },
     "metadata": {
      "needs_background": "light"
     },
     "output_type": "display_data"
    }
   ],
   "source": [
    "# Bar plot to see is_male with avg_wt linear and num_babies logarithmic\n",
    "df = get_distinct_values('is_male')\n",
    "df.plot(x='is_male', y='num_babies', kind='bar');\n",
    "df.plot(x='is_male', y='avg_wt', kind='bar');"
   ]
  },
  {
   "cell_type": "code",
   "execution_count": 30,
   "metadata": {
    "jupyter": {
     "outputs_hidden": false
    }
   },
   "outputs": [
    {
     "data": {
      "image/png": "[encoded data removed]",
      "text/plain": [
       "<Figure size 432x288 with 1 Axes>"
      ]
     },
     "metadata": {
      "needs_background": "light"
     },
     "output_type": "display_data"
    },
    {
     "data": {
      "image/png": "[encoded data removed]",
      "text/plain": [
       "<Figure size 432x288 with 1 Axes>"
      ]
     },
     "metadata": {
      "needs_background": "light"
     },
     "output_type": "display_data"
    }
   ],
   "source": [
    "# Line plots to see mother_age with avg_wt linear and num_babies logarithmic\n",
    "df = get_distinct_values('mother_age')\n",
    "df = df.sort_values('mother_age')\n",
    "df.plot(x='mother_age', y='num_babies');\n",
    "df.plot(x='mother_age', y='avg_wt');"
   ]
  },
  {
   "cell_type": "code",
   "execution_count": 31,
   "metadata": {
    "jupyter": {
     "outputs_hidden": false
    }
   },
   "outputs": [
    {
     "data": {
      "image/png": "[encoded data removed]",
      "text/plain": [
       "<Figure size 432x288 with 1 Axes>"
      ]
     },
     "metadata": {
      "needs_background": "light"
     },
     "output_type": "display_data"
    },
    {
     "data": {
      "image/png": "[encoded data removed]",
      "text/plain": [
       "<Figure size 432x288 with 1 Axes>"
      ]
     },
     "metadata": {
      "needs_background": "light"
     },
     "output_type": "display_data"
    }
   ],
   "source": [
    "# Bar plot to see plurality(singleton, twins, etc.) with avg_wt linear and num_babies logarithmic\n",
    "df = get_distinct_values('plurality')\n",
    "df = df.sort_values('plurality')\n",
    "df.plot(x='plurality', y='num_babies', logy=True, kind='bar');\n",
    "df.plot(x='plurality', y='avg_wt', kind='bar');"
   ]
  },
  {
   "cell_type": "code",
   "execution_count": 32,
   "metadata": {
    "jupyter": {
     "outputs_hidden": false
    }
   },
   "outputs": [
    {
     "data": {
      "image/png": "[encoded data removed]",
      "text/plain": [
       "<Figure size 432x288 with 1 Axes>"
      ]
     },
     "metadata": {
      "needs_background": "light"
     },
     "output_type": "display_data"
    },
    {
     "data": {
      "image/png": "[encoded data removed]",
      "text/plain": [
       "<Figure size 432x288 with 1 Axes>"
      ]
     },
     "metadata": {
      "needs_background": "light"
     },
     "output_type": "display_data"
    }
   ],
   "source": [
    "# Bar plot to see gestation_weeks with avg_wt linear and num_babies logarithmic\n",
    "df = get_distinct_values('gestation_weeks')\n",
    "df = df.sort_values('gestation_weeks')\n",
    "df.plot(x='gestation_weeks', y='num_babies', logy=True, kind='bar');\n",
    "df.plot(x='gestation_weeks', y='avg_wt', kind='bar');"
   ]
  },
  {
   "cell_type": "markdown",
   "metadata": {},
   "source": [
    "All these factors seem to play a part in the baby's weight. Male babies are heavier on average than female babies. Teenaged and older moms tend to have lower-weight babies. Twins, triplets, etc. are lower weight than single births. Preemies weigh in lower as do babies born to single moms. In addition, it is important to check whether you have enough data (number of babies) for each input value. Otherwise, the model prediction against input values that doesn't have enough data may not be reliable.\n",
    "<p>\n",
    "In the next notebook, I will develop a machine learning model to combine all of these factors to come up with a prediction of a baby's weight."
   ]
  },
  {
   "cell_type": "markdown",
   "metadata": {},
   "source": [
    "Copyright 2017-2018 Google Inc. Licensed under the Apache License, Version 2.0 (the \"License\"); you may not use this file except in compliance with the License. You may obtain a copy of the License at http://www.apache.org/licenses/LICENSE-2.0 Unless required by applicable law or agreed to in writing, software distributed under the License is distributed on an \"AS IS\" BASIS, WITHOUT WARRANTIES OR CONDITIONS OF ANY KIND, either express or implied. See the License for the specific language governing permissions and limitations under the License"
   ]
  }
 ],
 "metadata": {
  "kernelspec": {
   "display_name": "Python 3",
   "language": "python",
   "name": "python3"
  },
  "language_info": {
   "codemirror_mode": {
    "name": "ipython",
    "version": 3
   },
   "file_extension": ".py",
   "mimetype": "text/x-python",
   "name": "python",
   "nbconvert_exporter": "python",
   "pygments_lexer": "ipython3",
   "version": "3.7.4"
  }
 },
 "nbformat": 4,
 "nbformat_minor": 4
}
