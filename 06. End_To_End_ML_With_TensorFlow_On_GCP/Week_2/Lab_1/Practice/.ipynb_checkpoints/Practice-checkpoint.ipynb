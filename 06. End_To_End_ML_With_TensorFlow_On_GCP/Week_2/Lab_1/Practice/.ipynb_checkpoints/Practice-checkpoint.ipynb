{
 "cells": [
  {
   "cell_type": "markdown",
   "metadata": {},
   "source": [
    "# Necessary import of python package"
   ]
  },
  {
   "cell_type": "code",
   "execution_count": 1,
   "metadata": {},
   "outputs": [],
   "source": [
    "import os\n",
    "from google.cloud import bigquery"
   ]
  },
  {
   "cell_type": "markdown",
   "metadata": {},
   "source": [
    "# Python Variable"
   ]
  },
  {
   "cell_type": "code",
   "execution_count": 2,
   "metadata": {},
   "outputs": [],
   "source": [
    "# change these to try this notebook out\n",
    "ACCOUNT = 'student-04-388b8af7a4bd@qwiklabs.net'\n",
    "SAC = 'jupyter-notebook-sac-b' # Change If Permission Error\n",
    "SAC_KEY_DESTINATION = '/media/mujahid7292/Data/Gcloud_Tem_SAC'\n",
    "PROJECT = 'qwiklabs-gcp-04-988d5d3d27fe'\n",
    "BUCKET = 'bucket-qwiklabs-gcp-04-988d5d3d27fe'\n",
    "REGION = 'us-central1'"
   ]
  },
  {
   "cell_type": "markdown",
   "metadata": {},
   "source": [
    "# Bash Variable"
   ]
  },
  {
   "cell_type": "code",
   "execution_count": 3,
   "metadata": {},
   "outputs": [],
   "source": [
    "os.environ['ACCOUNT'] = ACCOUNT\n",
    "os.environ['SAC'] = SAC\n",
    "os.environ['SAC_KEY_DESTINATION'] = SAC_KEY_DESTINATION\n",
    "os.environ['BUCKET'] = BUCKET\n",
    "os.environ['PROJECT'] = PROJECT\n",
    "os.environ['REGION'] = REGION"
   ]
  },
  {
   "cell_type": "markdown",
   "metadata": {},
   "source": [
    "# LogIn To Google Cloud"
   ]
  },
  {
   "cell_type": "code",
   "execution_count": 4,
   "metadata": {},
   "outputs": [
    {
     "name": "stdout",
     "output_type": "stream",
     "text": [
      "Opening in existing browser session.\n"
     ]
    },
    {
     "name": "stderr",
     "output_type": "stream",
     "text": [
      "Your browser has been opened to visit:\n",
      "\n",
      "    https://accounts.google.com/o/oauth2/auth?code_challenge=wVppRF3yrlPsfjgoOfJGXudkIL44CnKEbViDP7WjDM4&prompt=select_account&code_challenge_method=S256&access_type=offline&redirect_uri=http%3A%2F%2Flocalhost%3A8085%2F&response_type=code&client_id=32555940559.apps.googleusercontent.com&scope=openid+https%3A%2F%2Fwww.googleapis.com%2Fauth%2Fuserinfo.email+https%3A%2F%2Fwww.googleapis.com%2Fauth%2Fcloud-platform+https%3A%2F%2Fwww.googleapis.com%2Fauth%2Fappengine.admin+https%3A%2F%2Fwww.googleapis.com%2Fauth%2Fcompute+https%3A%2F%2Fwww.googleapis.com%2Fauth%2Faccounts.reauth\n",
      "\n",
      "\n",
      "\n",
      "You are now logged in as [student-04-388b8af7a4bd@qwiklabs.net].\n",
      "Your current project is [ml-practice-260405].  You can change this setting by running:\n",
      "  $ gcloud config set project PROJECT_ID\n"
     ]
    }
   ],
   "source": [
    "%%bash\n",
    "gcloud auth login $ACCOUNT --force"
   ]
  },
  {
   "cell_type": "markdown",
   "metadata": {},
   "source": [
    "# Set Current Project"
   ]
  },
  {
   "cell_type": "code",
   "execution_count": 5,
   "metadata": {},
   "outputs": [
    {
     "name": "stderr",
     "output_type": "stream",
     "text": [
      "Updated property [core/project].\n"
     ]
    }
   ],
   "source": [
    "%%bash\n",
    "gcloud config set project $PROJECT"
   ]
  },
  {
   "cell_type": "markdown",
   "metadata": {},
   "source": [
    "# Create Servic Account For Jupyter Notebook"
   ]
  },
  {
   "cell_type": "code",
   "execution_count": 6,
   "metadata": {},
   "outputs": [
    {
     "name": "stderr",
     "output_type": "stream",
     "text": [
      "Created service account [jupyter-notebook-sac-b].\n"
     ]
    }
   ],
   "source": [
    "%%bash\n",
    "gcloud iam service-accounts create $SAC \\\n",
    "    --description \"This service account will help us to connect local jupyter notebook with server\" \\\n",
    "    --display-name \"jupyter-sac\""
   ]
  },
  {
   "cell_type": "markdown",
   "metadata": {},
   "source": [
    "# See the list of service account"
   ]
  },
  {
   "cell_type": "code",
   "execution_count": 7,
   "metadata": {},
   "outputs": [
    {
     "name": "stdout",
     "output_type": "stream",
     "text": [
      "NAME                                    EMAIL                                                                              DISABLED\n",
      "Compute Engine default service account  41023211916-compute@developer.gserviceaccount.com                                  False\n",
      "App Engine default service account      qwiklabs-gcp-04-988d5d3d27fe@appspot.gserviceaccount.com                           False\n",
      "Qwiklabs User Service Account           qwiklabs-gcp-04-988d5d3d27fe@qwiklabs-gcp-04-988d5d3d27fe.iam.gserviceaccount.com  False\n",
      "jupyter-sac                             jupyter-notebook-sac-b@qwiklabs-gcp-04-988d5d3d27fe.iam.gserviceaccount.com        False\n"
     ]
    }
   ],
   "source": [
    "%%bash\n",
    "gcloud iam service-accounts list"
   ]
  },
  {
   "cell_type": "markdown",
   "metadata": {},
   "source": [
    "# Enabling The Service Account"
   ]
  },
  {
   "cell_type": "code",
   "execution_count": 8,
   "metadata": {},
   "outputs": [
    {
     "name": "stderr",
     "output_type": "stream",
     "text": [
      "Enabled service account [jupyter-notebook-sac-b@qwiklabs-gcp-04-988d5d3d27fe.iam.gserviceaccount.com].\n"
     ]
    }
   ],
   "source": [
    "%%bash\n",
    "gcloud iam service-accounts enable $SAC@$PROJECT.iam.gserviceaccount.com --project $PROJECT"
   ]
  },
  {
   "cell_type": "markdown",
   "metadata": {},
   "source": [
    "# Create New Key For Above Service Account"
   ]
  },
  {
   "cell_type": "code",
   "execution_count": 9,
   "metadata": {},
   "outputs": [
    {
     "name": "stderr",
     "output_type": "stream",
     "text": [
      "created key [b7ff4f9a5ccd29cee336fb77d5ced9ad31d1a26e] of type [json] as [/media/mujahid7292/Data/Gcloud_Tem_SAC/jupyter-notebook-sac-b.json] for [jupyter-notebook-sac-b@qwiklabs-gcp-04-988d5d3d27fe.iam.gserviceaccount.com]\n"
     ]
    }
   ],
   "source": [
    "%%bash\n",
    "gcloud iam service-accounts keys create $SAC_KEY_DESTINATION/$SAC.json \\\n",
    "  --iam-account $SAC@$PROJECT.iam.gserviceaccount.com \\\n",
    "  --project $PROJECT"
   ]
  },
  {
   "cell_type": "markdown",
   "metadata": {},
   "source": [
    "It may take up to 60 seconds before a newly created key can be used for authentication. If you experience authentication failures immediately after creating a new key, ensure that 60 seconds have elapsed before trying again."
   ]
  },
  {
   "cell_type": "markdown",
   "metadata": {},
   "source": [
    "# Activate the service account with above key"
   ]
  },
  {
   "cell_type": "code",
   "execution_count": 10,
   "metadata": {},
   "outputs": [
    {
     "name": "stderr",
     "output_type": "stream",
     "text": [
      "Activated service account credentials for: [jupyter-notebook-sac-b@qwiklabs-gcp-04-988d5d3d27fe.iam.gserviceaccount.com]\n"
     ]
    }
   ],
   "source": [
    "%%bash\n",
    "gcloud auth activate-service-account \\\n",
    "--key-file=${SAC_KEY_DESTINATION}/${SAC}.json"
   ]
  },
  {
   "cell_type": "markdown",
   "metadata": {},
   "source": [
    "# Set Google Application Credentials"
   ]
  },
  {
   "cell_type": "code",
   "execution_count": 11,
   "metadata": {},
   "outputs": [],
   "source": [
    "import os\n",
    "os.environ[\"GOOGLE_APPLICATION_CREDENTIALS\"]='{}/{}.json'.format(SAC_KEY_DESTINATION,SAC)"
   ]
  },
  {
   "cell_type": "markdown",
   "metadata": {},
   "source": [
    "Check Whether Google Application Credential Was Set Successfully Outside Virtual Environment"
   ]
  },
  {
   "cell_type": "code",
   "execution_count": 12,
   "metadata": {},
   "outputs": [
    {
     "name": "stdout",
     "output_type": "stream",
     "text": [
      "GOOGLE_APPLICATION_CREDENTIALS=/media/mujahid7292/Data/Gcloud_Tem_SAC/jupyter-notebook-sac-b.json\n"
     ]
    }
   ],
   "source": [
    "%%bash\n",
    "set | grep GOOGLE_APPLICATION_CREDENTIALS "
   ]
  },
  {
   "cell_type": "markdown",
   "metadata": {},
   "source": [
    "# Set Default Project And Region"
   ]
  },
  {
   "cell_type": "code",
   "execution_count": 13,
   "metadata": {},
   "outputs": [
    {
     "name": "stderr",
     "output_type": "stream",
     "text": [
      "Updated property [core/account].\n",
      "Updated property [core/project].\n",
      "Updated property [compute/region].\n"
     ]
    }
   ],
   "source": [
    "%%bash\n",
    "gcloud config set account $ACCOUNT\n",
    "gcloud config set project $PROJECT\n",
    "gcloud config set compute/region $REGION"
   ]
  },
  {
   "cell_type": "markdown",
   "metadata": {},
   "source": [
    "# Give BigQuery Access Permision To This Service Account"
   ]
  },
  {
   "cell_type": "code",
   "execution_count": 14,
   "metadata": {},
   "outputs": [
    {
     "name": "stdout",
     "output_type": "stream",
     "text": [
      "bindings:\n",
      "- members:\n",
      "  - serviceAccount:qwiklabs-gcp-04-988d5d3d27fe@qwiklabs-gcp-04-988d5d3d27fe.iam.gserviceaccount.com\n",
      "  - user:student-04-388b8af7a4bd@qwiklabs.net\n",
      "  role: roles/appengine.appAdmin\n",
      "- members:\n",
      "  - serviceAccount:service-41023211916@gae-api-prod.google.com.iam.gserviceaccount.com\n",
      "  role: roles/appengineflex.serviceAgent\n",
      "- members:\n",
      "  - serviceAccount:jupyter-notebook-sac-b@qwiklabs-gcp-04-988d5d3d27fe.iam.gserviceaccount.com\n",
      "  - serviceAccount:qwiklabs-gcp-04-988d5d3d27fe@qwiklabs-gcp-04-988d5d3d27fe.iam.gserviceaccount.com\n",
      "  - user:student-04-388b8af7a4bd@qwiklabs.net\n",
      "  role: roles/bigquery.admin\n",
      "- members:\n",
      "  - serviceAccount:service-41023211916@gcp-sa-bigquerydatatransfer.iam.gserviceaccount.com\n",
      "  role: roles/bigquerydatatransfer.serviceAgent\n",
      "- members:\n",
      "  - serviceAccount:41023211916@cloudbuild.gserviceaccount.com\n",
      "  role: roles/cloudbuild.builds.builder\n",
      "- members:\n",
      "  - serviceAccount:service-41023211916@gcp-sa-cloudbuild.iam.gserviceaccount.com\n",
      "  role: roles/cloudbuild.serviceAgent\n",
      "- members:\n",
      "  - serviceAccount:service-41023211916@gcf-admin-robot.iam.gserviceaccount.com\n",
      "  role: roles/cloudfunctions.serviceAgent\n",
      "- members:\n",
      "  - serviceAccount:service-41023211916@gcp-sa-cloudiot.iam.gserviceaccount.com\n",
      "  role: roles/cloudiot.serviceAgent\n",
      "- members:\n",
      "  - serviceAccount:service-41023211916@gcp-sa-cloudtasks.iam.gserviceaccount.com\n",
      "  role: roles/cloudtasks.serviceAgent\n",
      "- members:\n",
      "  - serviceAccount:service-41023211916@cloudcomposer-accounts.iam.gserviceaccount.com\n",
      "  role: roles/composer.serviceAgent\n",
      "- members:\n",
      "  - serviceAccount:qwiklabs-gcp-04-988d5d3d27fe@qwiklabs-gcp-04-988d5d3d27fe.iam.gserviceaccount.com\n",
      "  - user:student-04-388b8af7a4bd@qwiklabs.net\n",
      "  role: roles/compute.admin\n",
      "- members:\n",
      "  - serviceAccount:service-41023211916@compute-system.iam.gserviceaccount.com\n",
      "  role: roles/compute.serviceAgent\n",
      "- members:\n",
      "  - serviceAccount:service-41023211916@container-engine-robot.iam.gserviceaccount.com\n",
      "  role: roles/container.serviceAgent\n",
      "- members:\n",
      "  - serviceAccount:service-41023211916@container-analysis.iam.gserviceaccount.com\n",
      "  role: roles/containeranalysis.ServiceAgent\n",
      "- members:\n",
      "  - serviceAccount:service-41023211916@gcp-sa-containerscanning.iam.gserviceaccount.com\n",
      "  role: roles/containerscanning.ServiceAgent\n",
      "- members:\n",
      "  - serviceAccount:service-41023211916@dataflow-service-producer-prod.iam.gserviceaccount.com\n",
      "  role: roles/dataflow.serviceAgent\n",
      "- members:\n",
      "  - serviceAccount:service-41023211916@dataproc-accounts.iam.gserviceaccount.com\n",
      "  role: roles/dataproc.serviceAgent\n",
      "- members:\n",
      "  - serviceAccount:service-41023211916@dlp-api.iam.gserviceaccount.com\n",
      "  role: roles/dlp.serviceAgent\n",
      "- members:\n",
      "  - serviceAccount:41023211916-compute@developer.gserviceaccount.com\n",
      "  - serviceAccount:41023211916@cloudservices.gserviceaccount.com\n",
      "  - serviceAccount:qwiklabs-gcp-04-988d5d3d27fe@appspot.gserviceaccount.com\n",
      "  - serviceAccount:qwiklabs-gcp-04-988d5d3d27fe@qwiklabs-gcp-04-988d5d3d27fe.iam.gserviceaccount.com\n",
      "  - serviceAccount:service-41023211916@containerregistry.iam.gserviceaccount.com\n",
      "  - user:student-04-388b8af7a4bd@qwiklabs.net\n",
      "  role: roles/editor\n",
      "- members:\n",
      "  - serviceAccount:service-41023211916@firebase-rules.iam.gserviceaccount.com\n",
      "  role: roles/firebaserules.system\n",
      "- members:\n",
      "  - serviceAccount:service-41023211916@genomics-api.google.com.iam.gserviceaccount.com\n",
      "  role: roles/genomics.serviceAgent\n",
      "- members:\n",
      "  - serviceAccount:qwiklabs-gcp-04-988d5d3d27fe@qwiklabs-gcp-04-988d5d3d27fe.iam.gserviceaccount.com\n",
      "  - user:student-04-388b8af7a4bd@qwiklabs.net\n",
      "  role: roles/iam.serviceAccountAdmin\n",
      "- members:\n",
      "  - serviceAccount:qwiklabs-gcp-04-988d5d3d27fe@qwiklabs-gcp-04-988d5d3d27fe.iam.gserviceaccount.com\n",
      "  - user:student-04-388b8af7a4bd@qwiklabs.net\n",
      "  role: roles/ml.admin\n",
      "- members:\n",
      "  - serviceAccount:service-41023211916@cloud-ml.google.com.iam.gserviceaccount.com\n",
      "  role: roles/ml.serviceAgent\n",
      "- members:\n",
      "  - serviceAccount:admiral@qwiklabs-services-prod.iam.gserviceaccount.com\n",
      "  - serviceAccount:qwiklabs-gcp-04-988d5d3d27fe@qwiklabs-gcp-04-988d5d3d27fe.iam.gserviceaccount.com\n",
      "  - user:student-04-388b8af7a4bd@qwiklabs.net\n",
      "  role: roles/owner\n",
      "- members:\n",
      "  - serviceAccount:qwiklabs-gcp-04-988d5d3d27fe@qwiklabs-gcp-04-988d5d3d27fe.iam.gserviceaccount.com\n",
      "  - user:student-04-388b8af7a4bd@qwiklabs.net\n",
      "  role: roles/source.admin\n",
      "- members:\n",
      "  - serviceAccount:service-41023211916@sourcerepo-service-accounts.iam.gserviceaccount.com\n",
      "  role: roles/sourcerepo.serviceAgent\n",
      "- members:\n",
      "  - serviceAccount:qwiklabs-gcp-04-988d5d3d27fe@qwiklabs-gcp-04-988d5d3d27fe.iam.gserviceaccount.com\n",
      "  - user:student-04-388b8af7a4bd@qwiklabs.net\n",
      "  role: roles/storage.admin\n",
      "- members:\n",
      "  - serviceAccount:qwiklabs-gcp-04-988d5d3d27fe@qwiklabs-gcp-04-988d5d3d27fe.iam.gserviceaccount.com\n",
      "  - user:student-04-388b8af7a4bd@qwiklabs.net\n",
      "  role: roles/viewer\n",
      "etag: BwWjJcj4bTg=\n",
      "version: 1\n"
     ]
    },
    {
     "name": "stderr",
     "output_type": "stream",
     "text": [
      "Updated IAM policy for project [qwiklabs-gcp-04-988d5d3d27fe].\n"
     ]
    }
   ],
   "source": [
    "%%bash\n",
    "gcloud projects add-iam-policy-binding $PROJECT \\\n",
    "    --member serviceAccount:$SAC@$PROJECT.iam.gserviceaccount.com \\\n",
    "    --role roles/bigquery.admin"
   ]
  },
  {
   "cell_type": "markdown",
   "metadata": {},
   "source": [
    "# Give GCS Access Permision To This Service Account"
   ]
  },
  {
   "cell_type": "code",
   "execution_count": 15,
   "metadata": {},
   "outputs": [
    {
     "name": "stdout",
     "output_type": "stream",
     "text": [
      "bindings:\n",
      "- members:\n",
      "  - serviceAccount:qwiklabs-gcp-04-988d5d3d27fe@qwiklabs-gcp-04-988d5d3d27fe.iam.gserviceaccount.com\n",
      "  - user:student-04-388b8af7a4bd@qwiklabs.net\n",
      "  role: roles/appengine.appAdmin\n",
      "- members:\n",
      "  - serviceAccount:service-41023211916@gae-api-prod.google.com.iam.gserviceaccount.com\n",
      "  role: roles/appengineflex.serviceAgent\n",
      "- members:\n",
      "  - serviceAccount:jupyter-notebook-sac-b@qwiklabs-gcp-04-988d5d3d27fe.iam.gserviceaccount.com\n",
      "  - serviceAccount:qwiklabs-gcp-04-988d5d3d27fe@qwiklabs-gcp-04-988d5d3d27fe.iam.gserviceaccount.com\n",
      "  - user:student-04-388b8af7a4bd@qwiklabs.net\n",
      "  role: roles/bigquery.admin\n",
      "- members:\n",
      "  - serviceAccount:service-41023211916@gcp-sa-bigquerydatatransfer.iam.gserviceaccount.com\n",
      "  role: roles/bigquerydatatransfer.serviceAgent\n",
      "- members:\n",
      "  - serviceAccount:41023211916@cloudbuild.gserviceaccount.com\n",
      "  role: roles/cloudbuild.builds.builder\n",
      "- members:\n",
      "  - serviceAccount:service-41023211916@gcp-sa-cloudbuild.iam.gserviceaccount.com\n",
      "  role: roles/cloudbuild.serviceAgent\n",
      "- members:\n",
      "  - serviceAccount:service-41023211916@gcf-admin-robot.iam.gserviceaccount.com\n",
      "  role: roles/cloudfunctions.serviceAgent\n",
      "- members:\n",
      "  - serviceAccount:service-41023211916@gcp-sa-cloudiot.iam.gserviceaccount.com\n",
      "  role: roles/cloudiot.serviceAgent\n",
      "- members:\n",
      "  - serviceAccount:service-41023211916@gcp-sa-cloudtasks.iam.gserviceaccount.com\n",
      "  role: roles/cloudtasks.serviceAgent\n",
      "- members:\n",
      "  - serviceAccount:service-41023211916@cloudcomposer-accounts.iam.gserviceaccount.com\n",
      "  role: roles/composer.serviceAgent\n",
      "- members:\n",
      "  - serviceAccount:qwiklabs-gcp-04-988d5d3d27fe@qwiklabs-gcp-04-988d5d3d27fe.iam.gserviceaccount.com\n",
      "  - user:student-04-388b8af7a4bd@qwiklabs.net\n",
      "  role: roles/compute.admin\n",
      "- members:\n",
      "  - serviceAccount:service-41023211916@compute-system.iam.gserviceaccount.com\n",
      "  role: roles/compute.serviceAgent\n",
      "- members:\n",
      "  - serviceAccount:service-41023211916@container-engine-robot.iam.gserviceaccount.com\n",
      "  role: roles/container.serviceAgent\n",
      "- members:\n",
      "  - serviceAccount:service-41023211916@container-analysis.iam.gserviceaccount.com\n",
      "  role: roles/containeranalysis.ServiceAgent\n",
      "- members:\n",
      "  - serviceAccount:service-41023211916@gcp-sa-containerscanning.iam.gserviceaccount.com\n",
      "  role: roles/containerscanning.ServiceAgent\n",
      "- members:\n",
      "  - serviceAccount:service-41023211916@dataflow-service-producer-prod.iam.gserviceaccount.com\n",
      "  role: roles/dataflow.serviceAgent\n",
      "- members:\n",
      "  - serviceAccount:service-41023211916@dataproc-accounts.iam.gserviceaccount.com\n",
      "  role: roles/dataproc.serviceAgent\n",
      "- members:\n",
      "  - serviceAccount:service-41023211916@dlp-api.iam.gserviceaccount.com\n",
      "  role: roles/dlp.serviceAgent\n",
      "- members:\n",
      "  - serviceAccount:41023211916-compute@developer.gserviceaccount.com\n",
      "  - serviceAccount:41023211916@cloudservices.gserviceaccount.com\n",
      "  - serviceAccount:qwiklabs-gcp-04-988d5d3d27fe@appspot.gserviceaccount.com\n",
      "  - serviceAccount:qwiklabs-gcp-04-988d5d3d27fe@qwiklabs-gcp-04-988d5d3d27fe.iam.gserviceaccount.com\n",
      "  - serviceAccount:service-41023211916@containerregistry.iam.gserviceaccount.com\n",
      "  - user:student-04-388b8af7a4bd@qwiklabs.net\n",
      "  role: roles/editor\n",
      "- members:\n",
      "  - serviceAccount:service-41023211916@firebase-rules.iam.gserviceaccount.com\n",
      "  role: roles/firebaserules.system\n",
      "- members:\n",
      "  - serviceAccount:service-41023211916@genomics-api.google.com.iam.gserviceaccount.com\n",
      "  role: roles/genomics.serviceAgent\n",
      "- members:\n",
      "  - serviceAccount:qwiklabs-gcp-04-988d5d3d27fe@qwiklabs-gcp-04-988d5d3d27fe.iam.gserviceaccount.com\n",
      "  - user:student-04-388b8af7a4bd@qwiklabs.net\n",
      "  role: roles/iam.serviceAccountAdmin\n",
      "- members:\n",
      "  - serviceAccount:qwiklabs-gcp-04-988d5d3d27fe@qwiklabs-gcp-04-988d5d3d27fe.iam.gserviceaccount.com\n",
      "  - user:student-04-388b8af7a4bd@qwiklabs.net\n",
      "  role: roles/ml.admin\n",
      "- members:\n",
      "  - serviceAccount:service-41023211916@cloud-ml.google.com.iam.gserviceaccount.com\n",
      "  role: roles/ml.serviceAgent\n",
      "- members:\n",
      "  - serviceAccount:admiral@qwiklabs-services-prod.iam.gserviceaccount.com\n",
      "  - serviceAccount:qwiklabs-gcp-04-988d5d3d27fe@qwiklabs-gcp-04-988d5d3d27fe.iam.gserviceaccount.com\n",
      "  - user:student-04-388b8af7a4bd@qwiklabs.net\n",
      "  role: roles/owner\n",
      "- members:\n",
      "  - serviceAccount:qwiklabs-gcp-04-988d5d3d27fe@qwiklabs-gcp-04-988d5d3d27fe.iam.gserviceaccount.com\n",
      "  - user:student-04-388b8af7a4bd@qwiklabs.net\n",
      "  role: roles/source.admin\n",
      "- members:\n",
      "  - serviceAccount:service-41023211916@sourcerepo-service-accounts.iam.gserviceaccount.com\n",
      "  role: roles/sourcerepo.serviceAgent\n",
      "- members:\n",
      "  - serviceAccount:jupyter-notebook-sac-b@qwiklabs-gcp-04-988d5d3d27fe.iam.gserviceaccount.com\n",
      "  - serviceAccount:qwiklabs-gcp-04-988d5d3d27fe@qwiklabs-gcp-04-988d5d3d27fe.iam.gserviceaccount.com\n",
      "  - user:student-04-388b8af7a4bd@qwiklabs.net\n",
      "  role: roles/storage.admin\n",
      "- members:\n",
      "  - serviceAccount:qwiklabs-gcp-04-988d5d3d27fe@qwiklabs-gcp-04-988d5d3d27fe.iam.gserviceaccount.com\n",
      "  - user:student-04-388b8af7a4bd@qwiklabs.net\n",
      "  role: roles/viewer\n",
      "etag: BwWjJefqis0=\n",
      "version: 1\n"
     ]
    },
    {
     "name": "stderr",
     "output_type": "stream",
     "text": [
      "Updated IAM policy for project [qwiklabs-gcp-04-988d5d3d27fe].\n"
     ]
    }
   ],
   "source": [
    "%%bash\n",
    "gcloud projects add-iam-policy-binding $PROJECT \\\n",
    "    --member serviceAccount:$SAC@$PROJECT.iam.gserviceaccount.com \\\n",
    "    --role roles/storage.admin"
   ]
  },
  {
   "cell_type": "markdown",
   "metadata": {},
   "source": [
    "<h2> Explore data </h2>\n",
    "\n",
    "The data is  <a href='https://console.cloud.google.com/bigquery?GK=publicdata&page=table&t=natality&d=samples&p=publicdata&redirect_from_classic=true&project=corona-patient-finder&folder=&organizationId='>natality data</a> (record of births in the US). My goal is to predict the baby's weight given a number of factors about the pregnancy and the baby's mother.  Later, we will want to split the data into training and eval datasets. The hash of the year-month will be used for that -- this way, twins born on the same day won't end up in different cuts of the data."
   ]
  },
  {
   "cell_type": "markdown",
   "metadata": {},
   "source": [
    "<h1> 2. Creating a sampled dataset </h1>\n",
    "\n",
    "This notebook illustrates:\n",
    "<ol>\n",
    "<li> Sampling a BigQuery dataset to create datasets for ML\n",
    "<li> Preprocessing with Pandas\n",
    "</ol>"
   ]
  },
  {
   "cell_type": "markdown",
   "metadata": {},
   "source": [
    "<h2> Create ML dataset by sampling using BigQuery </h2>\n",
    "<p>\n",
    "Let's sample the BigQuery data to create smaller datasets.\n",
    "</p>"
   ]
  },
  {
   "cell_type": "code",
   "execution_count": 16,
   "metadata": {},
   "outputs": [],
   "source": [
    "# Create SQL query using natality data after the year 2000\n",
    "base_query=\"\"\"\n",
    "SELECT\n",
    "    weight_pounds,\n",
    "    is_male,\n",
    "    mother_age,\n",
    "    plurality,\n",
    "    gestation_weeks,\n",
    "    FARM_FINGERPRINT(CONCAT(CAST(YEAR AS STRING), CAST(MONTH AS STRING))) AS hashmonth\n",
    "FROM\n",
    "    publicdata.samples.natality\n",
    "WHERE year > 2000\n",
    "\"\"\""
   ]
  },
  {
   "cell_type": "markdown",
   "metadata": {},
   "source": [
    "First we will run a query to calculate how many rows of data this above query will return."
   ]
  },
  {
   "cell_type": "code",
   "execution_count": 17,
   "metadata": {},
   "outputs": [
    {
     "name": "stdout",
     "output_type": "stream",
     "text": [
      "SELECT COUNT(weight_pounds) FROM (\n",
      "SELECT\n",
      "    weight_pounds,\n",
      "    is_male,\n",
      "    mother_age,\n",
      "    plurality,\n",
      "    gestation_weeks,\n",
      "    FARM_FINGERPRINT(CONCAT(CAST(YEAR AS STRING), CAST(MONTH AS STRING))) AS hashmonth\n",
      "FROM\n",
      "    publicdata.samples.natality\n",
      "WHERE year > 2000\n",
      ")\n"
     ]
    }
   ],
   "source": [
    "count_num_rows_in_query = \"SELECT COUNT(weight_pounds) FROM (\" +base_query + \")\"\n",
    "print(count_num_rows_in_query)"
   ]
  },
  {
   "cell_type": "code",
   "execution_count": 18,
   "metadata": {},
   "outputs": [
    {
     "data": {
      "text/html": [
       "<div>\n",
       "<style scoped>\n",
       "    .dataframe tbody tr th:only-of-type {\n",
       "        vertical-align: middle;\n",
       "    }\n",
       "\n",
       "    .dataframe tbody tr th {\n",
       "        vertical-align: top;\n",
       "    }\n",
       "\n",
       "    .dataframe thead th {\n",
       "        text-align: right;\n",
       "    }\n",
       "</style>\n",
       "<table border=\"1\" class=\"dataframe\">\n",
       "  <thead>\n",
       "    <tr style=\"text-align: right;\">\n",
       "      <th></th>\n",
       "      <th>f0_</th>\n",
       "    </tr>\n",
       "  </thead>\n",
       "  <tbody>\n",
       "    <tr>\n",
       "      <td>0</td>\n",
       "      <td>33240602</td>\n",
       "    </tr>\n",
       "  </tbody>\n",
       "</table>\n",
       "</div>"
      ],
      "text/plain": [
       "        f0_\n",
       "0  33240602"
      ]
     },
     "execution_count": 18,
     "metadata": {},
     "output_type": "execute_result"
    }
   ],
   "source": [
    "df_num_rows = bigquery.Client().query(count_num_rows_in_query).to_dataframe()\n",
    "df_num_rows"
   ]
  },
  {
   "cell_type": "markdown",
   "metadata": {},
   "source": [
    "## <b><font color=\"red\">If the service account was deleted and recreated it with the same name it could lead to unexpected behavior.</font></b>"
   ]
  },
  {
   "cell_type": "markdown",
   "metadata": {},
   "source": [
    "So, This above query will return 3 core 32 laks rows of data."
   ]
  },
  {
   "cell_type": "markdown",
   "metadata": {},
   "source": [
    "## Count Number Of Unique hasmonth In The DataSet "
   ]
  },
  {
   "cell_type": "markdown",
   "metadata": {},
   "source": [
    "There are only a limited number of years and months in the dataset. Let's see what the hashmonths are."
   ]
  },
  {
   "cell_type": "code",
   "execution_count": 19,
   "metadata": {},
   "outputs": [
    {
     "name": "stdout",
     "output_type": "stream",
     "text": [
      "SELECT hashmonth, COUNT(weight_pounds) AS num_babies FROM (\n",
      "SELECT\n",
      "    weight_pounds,\n",
      "    is_male,\n",
      "    mother_age,\n",
      "    plurality,\n",
      "    gestation_weeks,\n",
      "    FARM_FINGERPRINT(CONCAT(CAST(YEAR AS STRING), CAST(MONTH AS STRING))) AS hashmonth\n",
      "FROM\n",
      "    publicdata.samples.natality\n",
      "WHERE year > 2000\n",
      ") GROUP BY hashmonth\n"
     ]
    }
   ],
   "source": [
    "query_num_of_unique_hashmonth = \"SELECT hashmonth, COUNT(weight_pounds) AS num_babies FROM (\" + base_query +\") GROUP BY hashmonth\"\n",
    "print(query_num_of_unique_hashmonth)"
   ]
  },
  {
   "cell_type": "code",
   "execution_count": 20,
   "metadata": {},
   "outputs": [
    {
     "data": {
      "text/html": [
       "<div>\n",
       "<style scoped>\n",
       "    .dataframe tbody tr th:only-of-type {\n",
       "        vertical-align: middle;\n",
       "    }\n",
       "\n",
       "    .dataframe tbody tr th {\n",
       "        vertical-align: top;\n",
       "    }\n",
       "\n",
       "    .dataframe thead th {\n",
       "        text-align: right;\n",
       "    }\n",
       "</style>\n",
       "<table border=\"1\" class=\"dataframe\">\n",
       "  <thead>\n",
       "    <tr style=\"text-align: right;\">\n",
       "      <th></th>\n",
       "      <th>hashmonth</th>\n",
       "      <th>num_babies</th>\n",
       "    </tr>\n",
       "  </thead>\n",
       "  <tbody>\n",
       "    <tr>\n",
       "      <td>0</td>\n",
       "      <td>-2126480030009879160</td>\n",
       "      <td>344357</td>\n",
       "    </tr>\n",
       "    <tr>\n",
       "      <td>1</td>\n",
       "      <td>8904940584331855459</td>\n",
       "      <td>344191</td>\n",
       "    </tr>\n",
       "    <tr>\n",
       "      <td>2</td>\n",
       "      <td>6691862025345277042</td>\n",
       "      <td>338820</td>\n",
       "    </tr>\n",
       "    <tr>\n",
       "      <td>3</td>\n",
       "      <td>-1525201076796226340</td>\n",
       "      <td>303664</td>\n",
       "    </tr>\n",
       "    <tr>\n",
       "      <td>4</td>\n",
       "      <td>5934265245228309013</td>\n",
       "      <td>324598</td>\n",
       "    </tr>\n",
       "    <tr>\n",
       "      <td>...</td>\n",
       "      <td>...</td>\n",
       "      <td>...</td>\n",
       "    </tr>\n",
       "    <tr>\n",
       "      <td>91</td>\n",
       "      <td>-6141045177192779423</td>\n",
       "      <td>374942</td>\n",
       "    </tr>\n",
       "    <tr>\n",
       "      <td>92</td>\n",
       "      <td>6063032531463074125</td>\n",
       "      <td>319497</td>\n",
       "    </tr>\n",
       "    <tr>\n",
       "      <td>93</td>\n",
       "      <td>-7420272703711713305</td>\n",
       "      <td>367608</td>\n",
       "    </tr>\n",
       "    <tr>\n",
       "      <td>94</td>\n",
       "      <td>-5960947298512945432</td>\n",
       "      <td>355100</td>\n",
       "    </tr>\n",
       "    <tr>\n",
       "      <td>95</td>\n",
       "      <td>-6086613178753042412</td>\n",
       "      <td>346616</td>\n",
       "    </tr>\n",
       "  </tbody>\n",
       "</table>\n",
       "<p>96 rows × 2 columns</p>\n",
       "</div>"
      ],
      "text/plain": [
       "              hashmonth  num_babies\n",
       "0  -2126480030009879160      344357\n",
       "1   8904940584331855459      344191\n",
       "2   6691862025345277042      338820\n",
       "3  -1525201076796226340      303664\n",
       "4   5934265245228309013      324598\n",
       "..                  ...         ...\n",
       "91 -6141045177192779423      374942\n",
       "92  6063032531463074125      319497\n",
       "93 -7420272703711713305      367608\n",
       "94 -5960947298512945432      355100\n",
       "95 -6086613178753042412      346616\n",
       "\n",
       "[96 rows x 2 columns]"
      ]
     },
     "execution_count": 20,
     "metadata": {},
     "output_type": "execute_result"
    }
   ],
   "source": [
    "df_num_of_unique_hashmonth = bigquery.Client().query(query_num_of_unique_hashmonth).to_dataframe()\n",
    "df_num_of_unique_hashmonth"
   ]
  },
  {
   "cell_type": "markdown",
   "metadata": {},
   "source": [
    "So our data set hash 96 unique hashmonth."
   ]
  },
  {
   "cell_type": "markdown",
   "metadata": {},
   "source": [
    "## Create Sampled Training Dataset"
   ]
  },
  {
   "cell_type": "markdown",
   "metadata": {},
   "source": [
    "But i will create a sample training dataset with 13,500 rows only. So first create a query to select 80% of our data set.(As we will spilt our data into 80% train and 20% evaluation)"
   ]
  },
  {
   "cell_type": "code",
   "execution_count": 21,
   "metadata": {},
   "outputs": [
    {
     "name": "stdout",
     "output_type": "stream",
     "text": [
      "SELECT COUNT(weight_pounds) FROM (\n",
      "SELECT\n",
      "    weight_pounds,\n",
      "    is_male,\n",
      "    mother_age,\n",
      "    plurality,\n",
      "    gestation_weeks,\n",
      "    FARM_FINGERPRINT(CONCAT(CAST(YEAR AS STRING), CAST(MONTH AS STRING))) AS hashmonth\n",
      "FROM\n",
      "    publicdata.samples.natality\n",
      "WHERE year > 2000\n",
      ") WHERE MOD(ABS(hashmonth),10) < 8\n"
     ]
    }
   ],
   "source": [
    "query_80_percent_training = \"SELECT COUNT(weight_pounds) FROM (\"+ base_query +\") WHERE MOD(ABS(hashmonth),10) < 8\"\n",
    "print(query_80_percent_training)"
   ]
  },
  {
   "cell_type": "code",
   "execution_count": 22,
   "metadata": {},
   "outputs": [
    {
     "data": {
      "text/html": [
       "<div>\n",
       "<style scoped>\n",
       "    .dataframe tbody tr th:only-of-type {\n",
       "        vertical-align: middle;\n",
       "    }\n",
       "\n",
       "    .dataframe tbody tr th {\n",
       "        vertical-align: top;\n",
       "    }\n",
       "\n",
       "    .dataframe thead th {\n",
       "        text-align: right;\n",
       "    }\n",
       "</style>\n",
       "<table border=\"1\" class=\"dataframe\">\n",
       "  <thead>\n",
       "    <tr style=\"text-align: right;\">\n",
       "      <th></th>\n",
       "      <th>f0_</th>\n",
       "    </tr>\n",
       "  </thead>\n",
       "  <tbody>\n",
       "    <tr>\n",
       "      <td>0</td>\n",
       "      <td>27023608</td>\n",
       "    </tr>\n",
       "  </tbody>\n",
       "</table>\n",
       "</div>"
      ],
      "text/plain": [
       "        f0_\n",
       "0  27023608"
      ]
     },
     "execution_count": 22,
     "metadata": {},
     "output_type": "execute_result"
    }
   ],
   "source": [
    "df_train_80_percent_quantity = bigquery.Client().query(query_80_percent_training).to_dataframe()\n",
    "df_train_80_percent_quantity"
   ]
  },
  {
   "cell_type": "markdown",
   "metadata": {},
   "source": [
    "So we have selected 80% of our data and 80% of the data is equal to 2 core 70 laks rows. But we want 13,500 rows for our training dataset.\n",
    "\n",
    "So if we multiply 27,023,608 this with 0.0005 we will get 13,511 rows of data for our training dataset. (This 0.0005 means we will take 5 example from every 10,000 examples) "
   ]
  },
  {
   "cell_type": "code",
   "execution_count": 23,
   "metadata": {},
   "outputs": [
    {
     "name": "stdout",
     "output_type": "stream",
     "text": [
      "SELECT COUNT(weight_pounds) FROM (\n",
      "SELECT\n",
      "    weight_pounds,\n",
      "    is_male,\n",
      "    mother_age,\n",
      "    plurality,\n",
      "    gestation_weeks,\n",
      "    FARM_FINGERPRINT(CONCAT(CAST(YEAR AS STRING), CAST(MONTH AS STRING))) AS hashmonth\n",
      "FROM\n",
      "    publicdata.samples.natality\n",
      "WHERE year > 2000\n",
      ") WHERE MOD(ABS(hashmonth),10) < 8 AND RAND() < 0.0005\n"
     ]
    }
   ],
   "source": [
    "query_sampled_train_quantity = \"SELECT COUNT(weight_pounds) FROM (\" + base_query + \") WHERE MOD(ABS(hashmonth),10) < 8 AND RAND() < 0.0005\"\n",
    "print(query_sampled_train_quantity)"
   ]
  },
  {
   "cell_type": "code",
   "execution_count": 24,
   "metadata": {},
   "outputs": [
    {
     "data": {
      "text/html": [
       "<div>\n",
       "<style scoped>\n",
       "    .dataframe tbody tr th:only-of-type {\n",
       "        vertical-align: middle;\n",
       "    }\n",
       "\n",
       "    .dataframe tbody tr th {\n",
       "        vertical-align: top;\n",
       "    }\n",
       "\n",
       "    .dataframe thead th {\n",
       "        text-align: right;\n",
       "    }\n",
       "</style>\n",
       "<table border=\"1\" class=\"dataframe\">\n",
       "  <thead>\n",
       "    <tr style=\"text-align: right;\">\n",
       "      <th></th>\n",
       "      <th>f0_</th>\n",
       "    </tr>\n",
       "  </thead>\n",
       "  <tbody>\n",
       "    <tr>\n",
       "      <td>0</td>\n",
       "      <td>13470</td>\n",
       "    </tr>\n",
       "  </tbody>\n",
       "</table>\n",
       "</div>"
      ],
      "text/plain": [
       "     f0_\n",
       "0  13470"
      ]
     },
     "execution_count": 24,
     "metadata": {},
     "output_type": "execute_result"
    }
   ],
   "source": [
    "df_train_quantity = bigquery.Client().query(query_sampled_train_quantity).to_dataframe()\n",
    "df_train_quantity"
   ]
  },
  {
   "cell_type": "markdown",
   "metadata": {},
   "source": [
    "So our training quantity is 13,532"
   ]
  },
  {
   "cell_type": "code",
   "execution_count": 25,
   "metadata": {},
   "outputs": [],
   "source": [
    "query_sample_train_data = \"\"\"\n",
    "SELECT * FROM (\n",
    "SELECT\n",
    "    weight_pounds,\n",
    "    is_male,\n",
    "    mother_age,\n",
    "    plurality,\n",
    "    gestation_weeks,\n",
    "    FARM_FINGERPRINT(CONCAT(CAST(YEAR AS STRING), CAST(MONTH AS STRING))) AS hashmonth\n",
    "FROM\n",
    "    publicdata.samples.natality\n",
    "WHERE year > 2000\n",
    ") WHERE MOD(ABS(hashmonth),10) < 8 AND RAND() < 0.0005\n",
    "\"\"\""
   ]
  },
  {
   "cell_type": "code",
   "execution_count": 26,
   "metadata": {},
   "outputs": [
    {
     "data": {
      "text/html": [
       "<div>\n",
       "<style scoped>\n",
       "    .dataframe tbody tr th:only-of-type {\n",
       "        vertical-align: middle;\n",
       "    }\n",
       "\n",
       "    .dataframe tbody tr th {\n",
       "        vertical-align: top;\n",
       "    }\n",
       "\n",
       "    .dataframe thead th {\n",
       "        text-align: right;\n",
       "    }\n",
       "</style>\n",
       "<table border=\"1\" class=\"dataframe\">\n",
       "  <thead>\n",
       "    <tr style=\"text-align: right;\">\n",
       "      <th></th>\n",
       "      <th>weight_pounds</th>\n",
       "      <th>is_male</th>\n",
       "      <th>mother_age</th>\n",
       "      <th>plurality</th>\n",
       "      <th>gestation_weeks</th>\n",
       "      <th>hashmonth</th>\n",
       "    </tr>\n",
       "  </thead>\n",
       "  <tbody>\n",
       "    <tr>\n",
       "      <td>0</td>\n",
       "      <td>8.390794</td>\n",
       "      <td>True</td>\n",
       "      <td>19</td>\n",
       "      <td>1</td>\n",
       "      <td>39.0</td>\n",
       "      <td>3095933535584005890</td>\n",
       "    </tr>\n",
       "    <tr>\n",
       "      <td>1</td>\n",
       "      <td>8.311427</td>\n",
       "      <td>True</td>\n",
       "      <td>34</td>\n",
       "      <td>1</td>\n",
       "      <td>38.0</td>\n",
       "      <td>3095933535584005890</td>\n",
       "    </tr>\n",
       "    <tr>\n",
       "      <td>2</td>\n",
       "      <td>8.734715</td>\n",
       "      <td>False</td>\n",
       "      <td>18</td>\n",
       "      <td>1</td>\n",
       "      <td>39.0</td>\n",
       "      <td>3095933535584005890</td>\n",
       "    </tr>\n",
       "    <tr>\n",
       "      <td>3</td>\n",
       "      <td>6.437498</td>\n",
       "      <td>False</td>\n",
       "      <td>37</td>\n",
       "      <td>1</td>\n",
       "      <td>39.0</td>\n",
       "      <td>3095933535584005890</td>\n",
       "    </tr>\n",
       "    <tr>\n",
       "      <td>4</td>\n",
       "      <td>6.999677</td>\n",
       "      <td>True</td>\n",
       "      <td>31</td>\n",
       "      <td>1</td>\n",
       "      <td>36.0</td>\n",
       "      <td>3095933535584005890</td>\n",
       "    </tr>\n",
       "  </tbody>\n",
       "</table>\n",
       "</div>"
      ],
      "text/plain": [
       "   weight_pounds  is_male  mother_age  plurality  gestation_weeks  \\\n",
       "0       8.390794     True          19          1             39.0   \n",
       "1       8.311427     True          34          1             38.0   \n",
       "2       8.734715    False          18          1             39.0   \n",
       "3       6.437498    False          37          1             39.0   \n",
       "4       6.999677     True          31          1             36.0   \n",
       "\n",
       "             hashmonth  \n",
       "0  3095933535584005890  \n",
       "1  3095933535584005890  \n",
       "2  3095933535584005890  \n",
       "3  3095933535584005890  \n",
       "4  3095933535584005890  "
      ]
     },
     "execution_count": 26,
     "metadata": {},
     "output_type": "execute_result"
    }
   ],
   "source": [
    "df_train = bigquery.Client().query(query_sample_train_data).to_dataframe()\n",
    "df_train.head()"
   ]
  },
  {
   "cell_type": "code",
   "execution_count": 27,
   "metadata": {},
   "outputs": [
    {
     "name": "stdout",
     "output_type": "stream",
     "text": [
      "Training Data Size: 13367\n"
     ]
    }
   ],
   "source": [
    "print('Training Data Size: {}'.format(len(df_train)))"
   ]
  },
  {
   "cell_type": "markdown",
   "metadata": {},
   "source": [
    "Training Data Size 13,623"
   ]
  },
  {
   "cell_type": "code",
   "execution_count": 28,
   "metadata": {},
   "outputs": [
    {
     "data": {
      "text/html": [
       "<div>\n",
       "<style scoped>\n",
       "    .dataframe tbody tr th:only-of-type {\n",
       "        vertical-align: middle;\n",
       "    }\n",
       "\n",
       "    .dataframe tbody tr th {\n",
       "        vertical-align: top;\n",
       "    }\n",
       "\n",
       "    .dataframe thead th {\n",
       "        text-align: right;\n",
       "    }\n",
       "</style>\n",
       "<table border=\"1\" class=\"dataframe\">\n",
       "  <thead>\n",
       "    <tr style=\"text-align: right;\">\n",
       "      <th></th>\n",
       "      <th>weight_pounds</th>\n",
       "      <th>mother_age</th>\n",
       "      <th>plurality</th>\n",
       "      <th>gestation_weeks</th>\n",
       "      <th>hashmonth</th>\n",
       "    </tr>\n",
       "  </thead>\n",
       "  <tbody>\n",
       "    <tr>\n",
       "      <td>count</td>\n",
       "      <td>13353.000000</td>\n",
       "      <td>13367.000000</td>\n",
       "      <td>13367.000000</td>\n",
       "      <td>13275.000000</td>\n",
       "      <td>1.336700e+04</td>\n",
       "    </tr>\n",
       "    <tr>\n",
       "      <td>mean</td>\n",
       "      <td>7.239658</td>\n",
       "      <td>27.388195</td>\n",
       "      <td>1.035086</td>\n",
       "      <td>38.589002</td>\n",
       "      <td>1.678095e+16</td>\n",
       "    </tr>\n",
       "    <tr>\n",
       "      <td>std</td>\n",
       "      <td>1.309502</td>\n",
       "      <td>6.158675</td>\n",
       "      <td>0.192743</td>\n",
       "      <td>2.558162</td>\n",
       "      <td>5.165510e+18</td>\n",
       "    </tr>\n",
       "    <tr>\n",
       "      <td>min</td>\n",
       "      <td>0.518086</td>\n",
       "      <td>11.000000</td>\n",
       "      <td>1.000000</td>\n",
       "      <td>18.000000</td>\n",
       "      <td>-9.183606e+18</td>\n",
       "    </tr>\n",
       "    <tr>\n",
       "      <td>25%</td>\n",
       "      <td>6.602845</td>\n",
       "      <td>23.000000</td>\n",
       "      <td>1.000000</td>\n",
       "      <td>38.000000</td>\n",
       "      <td>-4.701948e+18</td>\n",
       "    </tr>\n",
       "    <tr>\n",
       "      <td>50%</td>\n",
       "      <td>7.312733</td>\n",
       "      <td>27.000000</td>\n",
       "      <td>1.000000</td>\n",
       "      <td>39.000000</td>\n",
       "      <td>-5.245312e+17</td>\n",
       "    </tr>\n",
       "    <tr>\n",
       "      <td>75%</td>\n",
       "      <td>8.046873</td>\n",
       "      <td>32.000000</td>\n",
       "      <td>1.000000</td>\n",
       "      <td>40.000000</td>\n",
       "      <td>3.765901e+18</td>\n",
       "    </tr>\n",
       "    <tr>\n",
       "      <td>max</td>\n",
       "      <td>11.876302</td>\n",
       "      <td>50.000000</td>\n",
       "      <td>4.000000</td>\n",
       "      <td>47.000000</td>\n",
       "      <td>8.599690e+18</td>\n",
       "    </tr>\n",
       "  </tbody>\n",
       "</table>\n",
       "</div>"
      ],
      "text/plain": [
       "       weight_pounds    mother_age     plurality  gestation_weeks  \\\n",
       "count   13353.000000  13367.000000  13367.000000     13275.000000   \n",
       "mean        7.239658     27.388195      1.035086        38.589002   \n",
       "std         1.309502      6.158675      0.192743         2.558162   \n",
       "min         0.518086     11.000000      1.000000        18.000000   \n",
       "25%         6.602845     23.000000      1.000000        38.000000   \n",
       "50%         7.312733     27.000000      1.000000        39.000000   \n",
       "75%         8.046873     32.000000      1.000000        40.000000   \n",
       "max        11.876302     50.000000      4.000000        47.000000   \n",
       "\n",
       "          hashmonth  \n",
       "count  1.336700e+04  \n",
       "mean   1.678095e+16  \n",
       "std    5.165510e+18  \n",
       "min   -9.183606e+18  \n",
       "25%   -4.701948e+18  \n",
       "50%   -5.245312e+17  \n",
       "75%    3.765901e+18  \n",
       "max    8.599690e+18  "
      ]
     },
     "execution_count": 28,
     "metadata": {},
     "output_type": "execute_result"
    }
   ],
   "source": [
    "df_train.describe()"
   ]
  },
  {
   "cell_type": "markdown",
   "metadata": {},
   "source": [
    "We can see that number of rows is different for different columns. So may be we have some missing value. So now adjust our query to remove those missing value."
   ]
  },
  {
   "cell_type": "code",
   "execution_count": 29,
   "metadata": {},
   "outputs": [
    {
     "name": "stdout",
     "output_type": "stream",
     "text": [
      "\n",
      "SELECT * FROM (\n",
      "SELECT\n",
      "    weight_pounds,\n",
      "    is_male,\n",
      "    mother_age,\n",
      "    plurality,\n",
      "    gestation_weeks,\n",
      "    FARM_FINGERPRINT(CONCAT(CAST(YEAR AS STRING), CAST(MONTH AS STRING))) AS hashmonth\n",
      "FROM\n",
      "    publicdata.samples.natality\n",
      "WHERE year > 2000 AND weight_pounds IS NOT NULL AND mother_age IS NOT NULL AND plurality IS NOT NULL AND gestation_weeks IS NOT NULL\n",
      ") WHERE MOD(ABS(hashmonth),10) < 8 AND RAND() < 0.0005\n",
      "\n",
      "\n"
     ]
    }
   ],
   "source": [
    "query_train_adjust_missing_value=\"\"\"\n",
    "SELECT * FROM (\n",
    "SELECT\n",
    "    weight_pounds,\n",
    "    is_male,\n",
    "    mother_age,\n",
    "    plurality,\n",
    "    gestation_weeks,\n",
    "    FARM_FINGERPRINT(CONCAT(CAST(YEAR AS STRING), CAST(MONTH AS STRING))) AS hashmonth\n",
    "FROM\n",
    "    publicdata.samples.natality\n",
    "WHERE year > 2000 AND weight_pounds IS NOT NULL AND mother_age IS NOT NULL AND plurality IS NOT NULL AND gestation_weeks IS NOT NULL\n",
    ") WHERE MOD(ABS(hashmonth),10) < 8 AND RAND() < 0.0005\n",
    "\n",
    "\"\"\"\n",
    "print(query_train_adjust_missing_value)"
   ]
  },
  {
   "cell_type": "code",
   "execution_count": 30,
   "metadata": {},
   "outputs": [
    {
     "data": {
      "text/html": [
       "<div>\n",
       "<style scoped>\n",
       "    .dataframe tbody tr th:only-of-type {\n",
       "        vertical-align: middle;\n",
       "    }\n",
       "\n",
       "    .dataframe tbody tr th {\n",
       "        vertical-align: top;\n",
       "    }\n",
       "\n",
       "    .dataframe thead th {\n",
       "        text-align: right;\n",
       "    }\n",
       "</style>\n",
       "<table border=\"1\" class=\"dataframe\">\n",
       "  <thead>\n",
       "    <tr style=\"text-align: right;\">\n",
       "      <th></th>\n",
       "      <th>weight_pounds</th>\n",
       "      <th>mother_age</th>\n",
       "      <th>plurality</th>\n",
       "      <th>gestation_weeks</th>\n",
       "      <th>hashmonth</th>\n",
       "    </tr>\n",
       "  </thead>\n",
       "  <tbody>\n",
       "    <tr>\n",
       "      <td>count</td>\n",
       "      <td>13425.000000</td>\n",
       "      <td>13425.000000</td>\n",
       "      <td>13425.000000</td>\n",
       "      <td>13425.000000</td>\n",
       "      <td>1.342500e+04</td>\n",
       "    </tr>\n",
       "    <tr>\n",
       "      <td>mean</td>\n",
       "      <td>7.221967</td>\n",
       "      <td>27.416760</td>\n",
       "      <td>1.035233</td>\n",
       "      <td>38.597765</td>\n",
       "      <td>8.154937e+16</td>\n",
       "    </tr>\n",
       "    <tr>\n",
       "      <td>std</td>\n",
       "      <td>1.320949</td>\n",
       "      <td>6.173852</td>\n",
       "      <td>0.194213</td>\n",
       "      <td>2.575093</td>\n",
       "      <td>5.229074e+18</td>\n",
       "    </tr>\n",
       "    <tr>\n",
       "      <td>min</td>\n",
       "      <td>0.533519</td>\n",
       "      <td>13.000000</td>\n",
       "      <td>1.000000</td>\n",
       "      <td>18.000000</td>\n",
       "      <td>-9.183606e+18</td>\n",
       "    </tr>\n",
       "    <tr>\n",
       "      <td>25%</td>\n",
       "      <td>6.563162</td>\n",
       "      <td>22.000000</td>\n",
       "      <td>1.000000</td>\n",
       "      <td>38.000000</td>\n",
       "      <td>-4.701948e+18</td>\n",
       "    </tr>\n",
       "    <tr>\n",
       "      <td>50%</td>\n",
       "      <td>7.312733</td>\n",
       "      <td>27.000000</td>\n",
       "      <td>1.000000</td>\n",
       "      <td>39.000000</td>\n",
       "      <td>-4.110670e+17</td>\n",
       "    </tr>\n",
       "    <tr>\n",
       "      <td>75%</td>\n",
       "      <td>8.062305</td>\n",
       "      <td>32.000000</td>\n",
       "      <td>1.000000</td>\n",
       "      <td>40.000000</td>\n",
       "      <td>3.765901e+18</td>\n",
       "    </tr>\n",
       "    <tr>\n",
       "      <td>max</td>\n",
       "      <td>12.200382</td>\n",
       "      <td>48.000000</td>\n",
       "      <td>5.000000</td>\n",
       "      <td>47.000000</td>\n",
       "      <td>8.599690e+18</td>\n",
       "    </tr>\n",
       "  </tbody>\n",
       "</table>\n",
       "</div>"
      ],
      "text/plain": [
       "       weight_pounds    mother_age     plurality  gestation_weeks  \\\n",
       "count   13425.000000  13425.000000  13425.000000     13425.000000   \n",
       "mean        7.221967     27.416760      1.035233        38.597765   \n",
       "std         1.320949      6.173852      0.194213         2.575093   \n",
       "min         0.533519     13.000000      1.000000        18.000000   \n",
       "25%         6.563162     22.000000      1.000000        38.000000   \n",
       "50%         7.312733     27.000000      1.000000        39.000000   \n",
       "75%         8.062305     32.000000      1.000000        40.000000   \n",
       "max        12.200382     48.000000      5.000000        47.000000   \n",
       "\n",
       "          hashmonth  \n",
       "count  1.342500e+04  \n",
       "mean   8.154937e+16  \n",
       "std    5.229074e+18  \n",
       "min   -9.183606e+18  \n",
       "25%   -4.701948e+18  \n",
       "50%   -4.110670e+17  \n",
       "75%    3.765901e+18  \n",
       "max    8.599690e+18  "
      ]
     },
     "execution_count": 30,
     "metadata": {},
     "output_type": "execute_result"
    }
   ],
   "source": [
    "df_train_missing_value_adjusted = bigquery.Client().query(query_train_adjust_missing_value).to_dataframe()\n",
    "df_train_missing_value_adjusted.describe()"
   ]
  },
  {
   "cell_type": "code",
   "execution_count": 31,
   "metadata": {},
   "outputs": [
    {
     "data": {
      "text/html": [
       "<div>\n",
       "<style scoped>\n",
       "    .dataframe tbody tr th:only-of-type {\n",
       "        vertical-align: middle;\n",
       "    }\n",
       "\n",
       "    .dataframe tbody tr th {\n",
       "        vertical-align: top;\n",
       "    }\n",
       "\n",
       "    .dataframe thead th {\n",
       "        text-align: right;\n",
       "    }\n",
       "</style>\n",
       "<table border=\"1\" class=\"dataframe\">\n",
       "  <thead>\n",
       "    <tr style=\"text-align: right;\">\n",
       "      <th></th>\n",
       "      <th>weight_pounds</th>\n",
       "      <th>is_male</th>\n",
       "      <th>mother_age</th>\n",
       "      <th>plurality</th>\n",
       "      <th>gestation_weeks</th>\n",
       "      <th>hashmonth</th>\n",
       "    </tr>\n",
       "  </thead>\n",
       "  <tbody>\n",
       "    <tr>\n",
       "      <td>0</td>\n",
       "      <td>7.749249</td>\n",
       "      <td>True</td>\n",
       "      <td>22</td>\n",
       "      <td>1</td>\n",
       "      <td>39</td>\n",
       "      <td>3095933535584005890</td>\n",
       "    </tr>\n",
       "    <tr>\n",
       "      <td>1</td>\n",
       "      <td>7.374463</td>\n",
       "      <td>True</td>\n",
       "      <td>34</td>\n",
       "      <td>1</td>\n",
       "      <td>37</td>\n",
       "      <td>3095933535584005890</td>\n",
       "    </tr>\n",
       "    <tr>\n",
       "      <td>2</td>\n",
       "      <td>8.249698</td>\n",
       "      <td>False</td>\n",
       "      <td>27</td>\n",
       "      <td>1</td>\n",
       "      <td>38</td>\n",
       "      <td>3095933535584005890</td>\n",
       "    </tr>\n",
       "    <tr>\n",
       "      <td>3</td>\n",
       "      <td>10.211812</td>\n",
       "      <td>True</td>\n",
       "      <td>23</td>\n",
       "      <td>1</td>\n",
       "      <td>39</td>\n",
       "      <td>3095933535584005890</td>\n",
       "    </tr>\n",
       "    <tr>\n",
       "      <td>4</td>\n",
       "      <td>9.076431</td>\n",
       "      <td>False</td>\n",
       "      <td>22</td>\n",
       "      <td>1</td>\n",
       "      <td>39</td>\n",
       "      <td>3095933535584005890</td>\n",
       "    </tr>\n",
       "  </tbody>\n",
       "</table>\n",
       "</div>"
      ],
      "text/plain": [
       "   weight_pounds  is_male  mother_age  plurality  gestation_weeks  \\\n",
       "0       7.749249     True          22          1               39   \n",
       "1       7.374463     True          34          1               37   \n",
       "2       8.249698    False          27          1               38   \n",
       "3      10.211812     True          23          1               39   \n",
       "4       9.076431    False          22          1               39   \n",
       "\n",
       "             hashmonth  \n",
       "0  3095933535584005890  \n",
       "1  3095933535584005890  \n",
       "2  3095933535584005890  \n",
       "3  3095933535584005890  \n",
       "4  3095933535584005890  "
      ]
     },
     "execution_count": 31,
     "metadata": {},
     "output_type": "execute_result"
    }
   ],
   "source": [
    "df_train_missing_value_adjusted.head()"
   ]
  },
  {
   "cell_type": "markdown",
   "metadata": {},
   "source": [
    "## Create Sampled Evaluation Dataset"
   ]
  },
  {
   "cell_type": "markdown",
   "metadata": {},
   "source": [
    "Now we will create our evaluation dataset from the rest of the 20% data."
   ]
  },
  {
   "cell_type": "code",
   "execution_count": 32,
   "metadata": {},
   "outputs": [
    {
     "name": "stdout",
     "output_type": "stream",
     "text": [
      "SELECT COUNT(weight_pounds) FROM (\n",
      "SELECT\n",
      "    weight_pounds,\n",
      "    is_male,\n",
      "    mother_age,\n",
      "    plurality,\n",
      "    gestation_weeks,\n",
      "    FARM_FINGERPRINT(CONCAT(CAST(YEAR AS STRING), CAST(MONTH AS STRING))) AS hashmonth\n",
      "FROM\n",
      "    publicdata.samples.natality\n",
      "WHERE year > 2000\n",
      ") WHERE MOD(ABS(hashmonth),10) >= 8\n"
     ]
    }
   ],
   "source": [
    "query_20_percent_evaluation = \"SELECT COUNT(weight_pounds) FROM (\"+ base_query +\") WHERE MOD(ABS(hashmonth),10) >= 8\"\n",
    "print(query_20_percent_evaluation)"
   ]
  },
  {
   "cell_type": "code",
   "execution_count": 33,
   "metadata": {},
   "outputs": [
    {
     "data": {
      "text/html": [
       "<div>\n",
       "<style scoped>\n",
       "    .dataframe tbody tr th:only-of-type {\n",
       "        vertical-align: middle;\n",
       "    }\n",
       "\n",
       "    .dataframe tbody tr th {\n",
       "        vertical-align: top;\n",
       "    }\n",
       "\n",
       "    .dataframe thead th {\n",
       "        text-align: right;\n",
       "    }\n",
       "</style>\n",
       "<table border=\"1\" class=\"dataframe\">\n",
       "  <thead>\n",
       "    <tr style=\"text-align: right;\">\n",
       "      <th></th>\n",
       "      <th>f0_</th>\n",
       "    </tr>\n",
       "  </thead>\n",
       "  <tbody>\n",
       "    <tr>\n",
       "      <td>0</td>\n",
       "      <td>6216994</td>\n",
       "    </tr>\n",
       "  </tbody>\n",
       "</table>\n",
       "</div>"
      ],
      "text/plain": [
       "       f0_\n",
       "0  6216994"
      ]
     },
     "execution_count": 33,
     "metadata": {},
     "output_type": "execute_result"
    }
   ],
   "source": [
    "df_eval_quantity = bigquery.Client().query(query_20_percent_evaluation).to_dataframe()\n",
    "df_eval_quantity"
   ]
  },
  {
   "cell_type": "markdown",
   "metadata": {},
   "source": [
    "Our evaluation data set has 62 laks rows of data"
   ]
  },
  {
   "cell_type": "code",
   "execution_count": 34,
   "metadata": {},
   "outputs": [],
   "source": [
    "query_sample_eval_data = \"\"\"\n",
    "SELECT * FROM (\n",
    "SELECT\n",
    "    weight_pounds,\n",
    "    is_male,\n",
    "    mother_age,\n",
    "    plurality,\n",
    "    gestation_weeks,\n",
    "    FARM_FINGERPRINT(CONCAT(CAST(YEAR AS STRING), CAST(MONTH AS STRING))) AS hashmonth\n",
    "FROM\n",
    "    publicdata.samples.natality\n",
    "WHERE year > 2000\n",
    ") WHERE MOD(ABS(hashmonth),10) >= 8 AND RAND() < 0.0005\n",
    "\"\"\""
   ]
  },
  {
   "cell_type": "code",
   "execution_count": 35,
   "metadata": {},
   "outputs": [
    {
     "name": "stdout",
     "output_type": "stream",
     "text": [
      "Length Of Evaluation Dataset: 3111\n"
     ]
    },
    {
     "data": {
      "text/html": [
       "<div>\n",
       "<style scoped>\n",
       "    .dataframe tbody tr th:only-of-type {\n",
       "        vertical-align: middle;\n",
       "    }\n",
       "\n",
       "    .dataframe tbody tr th {\n",
       "        vertical-align: top;\n",
       "    }\n",
       "\n",
       "    .dataframe thead th {\n",
       "        text-align: right;\n",
       "    }\n",
       "</style>\n",
       "<table border=\"1\" class=\"dataframe\">\n",
       "  <thead>\n",
       "    <tr style=\"text-align: right;\">\n",
       "      <th></th>\n",
       "      <th>weight_pounds</th>\n",
       "      <th>is_male</th>\n",
       "      <th>mother_age</th>\n",
       "      <th>plurality</th>\n",
       "      <th>gestation_weeks</th>\n",
       "      <th>hashmonth</th>\n",
       "    </tr>\n",
       "  </thead>\n",
       "  <tbody>\n",
       "    <tr>\n",
       "      <td>0</td>\n",
       "      <td>6.000983</td>\n",
       "      <td>False</td>\n",
       "      <td>23</td>\n",
       "      <td>1</td>\n",
       "      <td>37.0</td>\n",
       "      <td>8904940584331855459</td>\n",
       "    </tr>\n",
       "    <tr>\n",
       "      <td>1</td>\n",
       "      <td>9.149184</td>\n",
       "      <td>False</td>\n",
       "      <td>31</td>\n",
       "      <td>1</td>\n",
       "      <td>41.0</td>\n",
       "      <td>8904940584331855459</td>\n",
       "    </tr>\n",
       "    <tr>\n",
       "      <td>2</td>\n",
       "      <td>6.188376</td>\n",
       "      <td>False</td>\n",
       "      <td>28</td>\n",
       "      <td>1</td>\n",
       "      <td>38.0</td>\n",
       "      <td>-7361509899869211058</td>\n",
       "    </tr>\n",
       "    <tr>\n",
       "      <td>3</td>\n",
       "      <td>6.000983</td>\n",
       "      <td>False</td>\n",
       "      <td>17</td>\n",
       "      <td>1</td>\n",
       "      <td>40.0</td>\n",
       "      <td>-7146494315947640619</td>\n",
       "    </tr>\n",
       "    <tr>\n",
       "      <td>4</td>\n",
       "      <td>6.999677</td>\n",
       "      <td>True</td>\n",
       "      <td>20</td>\n",
       "      <td>1</td>\n",
       "      <td>40.0</td>\n",
       "      <td>-7146494315947640619</td>\n",
       "    </tr>\n",
       "  </tbody>\n",
       "</table>\n",
       "</div>"
      ],
      "text/plain": [
       "   weight_pounds  is_male  mother_age  plurality  gestation_weeks  \\\n",
       "0       6.000983    False          23          1             37.0   \n",
       "1       9.149184    False          31          1             41.0   \n",
       "2       6.188376    False          28          1             38.0   \n",
       "3       6.000983    False          17          1             40.0   \n",
       "4       6.999677     True          20          1             40.0   \n",
       "\n",
       "             hashmonth  \n",
       "0  8904940584331855459  \n",
       "1  8904940584331855459  \n",
       "2 -7361509899869211058  \n",
       "3 -7146494315947640619  \n",
       "4 -7146494315947640619  "
      ]
     },
     "execution_count": 35,
     "metadata": {},
     "output_type": "execute_result"
    }
   ],
   "source": [
    "df_eval = bigquery.Client().query(query_sample_eval_data).to_dataframe()\n",
    "print('Length Of Evaluation Dataset: {}'.format(len(df_eval)))\n",
    "df_eval.head()"
   ]
  },
  {
   "cell_type": "markdown",
   "metadata": {},
   "source": [
    "Length of our evaluation data set is 3,112 rows."
   ]
  },
  {
   "cell_type": "code",
   "execution_count": 36,
   "metadata": {},
   "outputs": [
    {
     "data": {
      "text/html": [
       "<div>\n",
       "<style scoped>\n",
       "    .dataframe tbody tr th:only-of-type {\n",
       "        vertical-align: middle;\n",
       "    }\n",
       "\n",
       "    .dataframe tbody tr th {\n",
       "        vertical-align: top;\n",
       "    }\n",
       "\n",
       "    .dataframe thead th {\n",
       "        text-align: right;\n",
       "    }\n",
       "</style>\n",
       "<table border=\"1\" class=\"dataframe\">\n",
       "  <thead>\n",
       "    <tr style=\"text-align: right;\">\n",
       "      <th></th>\n",
       "      <th>weight_pounds</th>\n",
       "      <th>mother_age</th>\n",
       "      <th>plurality</th>\n",
       "      <th>gestation_weeks</th>\n",
       "      <th>hashmonth</th>\n",
       "    </tr>\n",
       "  </thead>\n",
       "  <tbody>\n",
       "    <tr>\n",
       "      <td>count</td>\n",
       "      <td>3110.000000</td>\n",
       "      <td>3111.000000</td>\n",
       "      <td>3111.000000</td>\n",
       "      <td>3085.000000</td>\n",
       "      <td>3.111000e+03</td>\n",
       "    </tr>\n",
       "    <tr>\n",
       "      <td>mean</td>\n",
       "      <td>7.226560</td>\n",
       "      <td>27.293153</td>\n",
       "      <td>1.038573</td>\n",
       "      <td>38.603890</td>\n",
       "      <td>-1.377319e+17</td>\n",
       "    </tr>\n",
       "    <tr>\n",
       "      <td>std</td>\n",
       "      <td>1.325286</td>\n",
       "      <td>6.226606</td>\n",
       "      <td>0.199171</td>\n",
       "      <td>2.521757</td>\n",
       "      <td>5.091533e+18</td>\n",
       "    </tr>\n",
       "    <tr>\n",
       "      <td>min</td>\n",
       "      <td>0.811301</td>\n",
       "      <td>14.000000</td>\n",
       "      <td>1.000000</td>\n",
       "      <td>21.000000</td>\n",
       "      <td>-7.773938e+18</td>\n",
       "    </tr>\n",
       "    <tr>\n",
       "      <td>25%</td>\n",
       "      <td>6.563162</td>\n",
       "      <td>22.000000</td>\n",
       "      <td>1.000000</td>\n",
       "      <td>38.000000</td>\n",
       "      <td>-4.740473e+18</td>\n",
       "    </tr>\n",
       "    <tr>\n",
       "      <td>50%</td>\n",
       "      <td>7.312733</td>\n",
       "      <td>27.000000</td>\n",
       "      <td>1.000000</td>\n",
       "      <td>39.000000</td>\n",
       "      <td>2.707927e+17</td>\n",
       "    </tr>\n",
       "    <tr>\n",
       "      <td>75%</td>\n",
       "      <td>8.062305</td>\n",
       "      <td>32.000000</td>\n",
       "      <td>1.000000</td>\n",
       "      <td>40.000000</td>\n",
       "      <td>3.572456e+18</td>\n",
       "    </tr>\n",
       "    <tr>\n",
       "      <td>max</td>\n",
       "      <td>10.908473</td>\n",
       "      <td>50.000000</td>\n",
       "      <td>3.000000</td>\n",
       "      <td>47.000000</td>\n",
       "      <td>8.904941e+18</td>\n",
       "    </tr>\n",
       "  </tbody>\n",
       "</table>\n",
       "</div>"
      ],
      "text/plain": [
       "       weight_pounds   mother_age    plurality  gestation_weeks     hashmonth\n",
       "count    3110.000000  3111.000000  3111.000000      3085.000000  3.111000e+03\n",
       "mean        7.226560    27.293153     1.038573        38.603890 -1.377319e+17\n",
       "std         1.325286     6.226606     0.199171         2.521757  5.091533e+18\n",
       "min         0.811301    14.000000     1.000000        21.000000 -7.773938e+18\n",
       "25%         6.563162    22.000000     1.000000        38.000000 -4.740473e+18\n",
       "50%         7.312733    27.000000     1.000000        39.000000  2.707927e+17\n",
       "75%         8.062305    32.000000     1.000000        40.000000  3.572456e+18\n",
       "max        10.908473    50.000000     3.000000        47.000000  8.904941e+18"
      ]
     },
     "execution_count": 36,
     "metadata": {},
     "output_type": "execute_result"
    }
   ],
   "source": [
    "df_eval.describe()"
   ]
  },
  {
   "cell_type": "markdown",
   "metadata": {},
   "source": [
    "We can see that number of rows is different for different columns. So may be we have some missing value. So now adjust our query to remove those missing value."
   ]
  },
  {
   "cell_type": "code",
   "execution_count": 37,
   "metadata": {},
   "outputs": [
    {
     "name": "stdout",
     "output_type": "stream",
     "text": [
      "\n",
      "SELECT * FROM (\n",
      "SELECT\n",
      "    weight_pounds,\n",
      "    is_male,\n",
      "    mother_age,\n",
      "    plurality,\n",
      "    gestation_weeks,\n",
      "    FARM_FINGERPRINT(CONCAT(CAST(YEAR AS STRING), CAST(MONTH AS STRING))) AS hashmonth\n",
      "FROM\n",
      "    publicdata.samples.natality\n",
      "WHERE year > 2000 AND weight_pounds IS NOT NULL AND mother_age IS NOT NULL AND plurality IS NOT NULL AND gestation_weeks IS NOT NULL\n",
      ") WHERE MOD(ABS(hashmonth),10) >= 8 AND RAND() < 0.0005\n",
      "\n"
     ]
    }
   ],
   "source": [
    "query_eval_adjust_missing_value = \"\"\"\n",
    "SELECT * FROM (\n",
    "SELECT\n",
    "    weight_pounds,\n",
    "    is_male,\n",
    "    mother_age,\n",
    "    plurality,\n",
    "    gestation_weeks,\n",
    "    FARM_FINGERPRINT(CONCAT(CAST(YEAR AS STRING), CAST(MONTH AS STRING))) AS hashmonth\n",
    "FROM\n",
    "    publicdata.samples.natality\n",
    "WHERE year > 2000 AND weight_pounds IS NOT NULL AND mother_age IS NOT NULL AND plurality IS NOT NULL AND gestation_weeks IS NOT NULL\n",
    ") WHERE MOD(ABS(hashmonth),10) >= 8 AND RAND() < 0.0005\n",
    "\"\"\"\n",
    "print(query_eval_adjust_missing_value)"
   ]
  },
  {
   "cell_type": "code",
   "execution_count": 38,
   "metadata": {},
   "outputs": [
    {
     "data": {
      "text/html": [
       "<div>\n",
       "<style scoped>\n",
       "    .dataframe tbody tr th:only-of-type {\n",
       "        vertical-align: middle;\n",
       "    }\n",
       "\n",
       "    .dataframe tbody tr th {\n",
       "        vertical-align: top;\n",
       "    }\n",
       "\n",
       "    .dataframe thead th {\n",
       "        text-align: right;\n",
       "    }\n",
       "</style>\n",
       "<table border=\"1\" class=\"dataframe\">\n",
       "  <thead>\n",
       "    <tr style=\"text-align: right;\">\n",
       "      <th></th>\n",
       "      <th>weight_pounds</th>\n",
       "      <th>mother_age</th>\n",
       "      <th>plurality</th>\n",
       "      <th>gestation_weeks</th>\n",
       "      <th>hashmonth</th>\n",
       "    </tr>\n",
       "  </thead>\n",
       "  <tbody>\n",
       "    <tr>\n",
       "      <td>count</td>\n",
       "      <td>3017.000000</td>\n",
       "      <td>3017.000000</td>\n",
       "      <td>3017.000000</td>\n",
       "      <td>3017.000000</td>\n",
       "      <td>3.017000e+03</td>\n",
       "    </tr>\n",
       "    <tr>\n",
       "      <td>mean</td>\n",
       "      <td>7.215283</td>\n",
       "      <td>27.292675</td>\n",
       "      <td>1.031157</td>\n",
       "      <td>38.598939</td>\n",
       "      <td>-5.920305e+16</td>\n",
       "    </tr>\n",
       "    <tr>\n",
       "      <td>std</td>\n",
       "      <td>1.319034</td>\n",
       "      <td>6.110786</td>\n",
       "      <td>0.179403</td>\n",
       "      <td>2.575563</td>\n",
       "      <td>5.033941e+18</td>\n",
       "    </tr>\n",
       "    <tr>\n",
       "      <td>min</td>\n",
       "      <td>0.626113</td>\n",
       "      <td>14.000000</td>\n",
       "      <td>1.000000</td>\n",
       "      <td>19.000000</td>\n",
       "      <td>-7.773938e+18</td>\n",
       "    </tr>\n",
       "    <tr>\n",
       "      <td>25%</td>\n",
       "      <td>6.563162</td>\n",
       "      <td>23.000000</td>\n",
       "      <td>1.000000</td>\n",
       "      <td>38.000000</td>\n",
       "      <td>-4.740473e+18</td>\n",
       "    </tr>\n",
       "    <tr>\n",
       "      <td>50%</td>\n",
       "      <td>7.308324</td>\n",
       "      <td>27.000000</td>\n",
       "      <td>1.000000</td>\n",
       "      <td>39.000000</td>\n",
       "      <td>2.707927e+17</td>\n",
       "    </tr>\n",
       "    <tr>\n",
       "      <td>75%</td>\n",
       "      <td>8.000575</td>\n",
       "      <td>31.000000</td>\n",
       "      <td>1.000000</td>\n",
       "      <td>40.000000</td>\n",
       "      <td>3.572456e+18</td>\n",
       "    </tr>\n",
       "    <tr>\n",
       "      <td>max</td>\n",
       "      <td>12.251088</td>\n",
       "      <td>48.000000</td>\n",
       "      <td>3.000000</td>\n",
       "      <td>47.000000</td>\n",
       "      <td>8.904941e+18</td>\n",
       "    </tr>\n",
       "  </tbody>\n",
       "</table>\n",
       "</div>"
      ],
      "text/plain": [
       "       weight_pounds   mother_age    plurality  gestation_weeks     hashmonth\n",
       "count    3017.000000  3017.000000  3017.000000      3017.000000  3.017000e+03\n",
       "mean        7.215283    27.292675     1.031157        38.598939 -5.920305e+16\n",
       "std         1.319034     6.110786     0.179403         2.575563  5.033941e+18\n",
       "min         0.626113    14.000000     1.000000        19.000000 -7.773938e+18\n",
       "25%         6.563162    23.000000     1.000000        38.000000 -4.740473e+18\n",
       "50%         7.308324    27.000000     1.000000        39.000000  2.707927e+17\n",
       "75%         8.000575    31.000000     1.000000        40.000000  3.572456e+18\n",
       "max        12.251088    48.000000     3.000000        47.000000  8.904941e+18"
      ]
     },
     "execution_count": 38,
     "metadata": {},
     "output_type": "execute_result"
    }
   ],
   "source": [
    "df_eval_missing_value_adjusted = bigquery.Client().query(query_eval_adjust_missing_value).to_dataframe()\n",
    "df_eval_missing_value_adjusted.describe()"
   ]
  },
  {
   "cell_type": "code",
   "execution_count": 39,
   "metadata": {},
   "outputs": [
    {
     "data": {
      "text/html": [
       "<div>\n",
       "<style scoped>\n",
       "    .dataframe tbody tr th:only-of-type {\n",
       "        vertical-align: middle;\n",
       "    }\n",
       "\n",
       "    .dataframe tbody tr th {\n",
       "        vertical-align: top;\n",
       "    }\n",
       "\n",
       "    .dataframe thead th {\n",
       "        text-align: right;\n",
       "    }\n",
       "</style>\n",
       "<table border=\"1\" class=\"dataframe\">\n",
       "  <thead>\n",
       "    <tr style=\"text-align: right;\">\n",
       "      <th></th>\n",
       "      <th>weight_pounds</th>\n",
       "      <th>is_male</th>\n",
       "      <th>mother_age</th>\n",
       "      <th>plurality</th>\n",
       "      <th>gestation_weeks</th>\n",
       "      <th>hashmonth</th>\n",
       "    </tr>\n",
       "  </thead>\n",
       "  <tbody>\n",
       "    <tr>\n",
       "      <td>0</td>\n",
       "      <td>8.811877</td>\n",
       "      <td>False</td>\n",
       "      <td>32</td>\n",
       "      <td>1</td>\n",
       "      <td>38</td>\n",
       "      <td>-7146494315947640619</td>\n",
       "    </tr>\n",
       "    <tr>\n",
       "      <td>1</td>\n",
       "      <td>7.561856</td>\n",
       "      <td>False</td>\n",
       "      <td>18</td>\n",
       "      <td>1</td>\n",
       "      <td>41</td>\n",
       "      <td>-4740473290291881219</td>\n",
       "    </tr>\n",
       "    <tr>\n",
       "      <td>2</td>\n",
       "      <td>6.109009</td>\n",
       "      <td>True</td>\n",
       "      <td>35</td>\n",
       "      <td>1</td>\n",
       "      <td>42</td>\n",
       "      <td>-7773938200482214258</td>\n",
       "    </tr>\n",
       "    <tr>\n",
       "      <td>3</td>\n",
       "      <td>7.202502</td>\n",
       "      <td>True</td>\n",
       "      <td>23</td>\n",
       "      <td>1</td>\n",
       "      <td>41</td>\n",
       "      <td>-4740473290291881219</td>\n",
       "    </tr>\n",
       "    <tr>\n",
       "      <td>4</td>\n",
       "      <td>7.813183</td>\n",
       "      <td>False</td>\n",
       "      <td>33</td>\n",
       "      <td>1</td>\n",
       "      <td>39</td>\n",
       "      <td>-4740473290291881219</td>\n",
       "    </tr>\n",
       "  </tbody>\n",
       "</table>\n",
       "</div>"
      ],
      "text/plain": [
       "   weight_pounds  is_male  mother_age  plurality  gestation_weeks  \\\n",
       "0       8.811877    False          32          1               38   \n",
       "1       7.561856    False          18          1               41   \n",
       "2       6.109009     True          35          1               42   \n",
       "3       7.202502     True          23          1               41   \n",
       "4       7.813183    False          33          1               39   \n",
       "\n",
       "             hashmonth  \n",
       "0 -7146494315947640619  \n",
       "1 -4740473290291881219  \n",
       "2 -7773938200482214258  \n",
       "3 -4740473290291881219  \n",
       "4 -4740473290291881219  "
      ]
     },
     "execution_count": 39,
     "metadata": {},
     "output_type": "execute_result"
    }
   ],
   "source": [
    "df_eval_missing_value_adjusted.head()"
   ]
  },
  {
   "cell_type": "markdown",
   "metadata": {},
   "source": [
    "<h2> Preprocess data using Pandas </h2>\n",
    "<p>\n",
    "Let's add extra rows to simulate the lack of ultrasound. In the process, we'll also change the plurality column to be a string."
   ]
  },
  {
   "cell_type": "code",
   "execution_count": 40,
   "metadata": {},
   "outputs": [],
   "source": [
    "# It is always crucial to clean raw data before using in ML, So we have a preprocessing \n",
    "# step\n",
    "import pandas as pd\n",
    "def preprocess(df):\n",
    "    \"\"\"\n",
    "    Clean up data that we don't want to train on. In other words user have to tell us\n",
    "    the mother_age otherwise our ML service will not work. Those features (such as \n",
    "    mother_age) was chosen because they are such a good predictors and because those\n",
    "    are easy enough to collect.\n",
    "    \"\"\"\n",
    "    df = df[df.weight_pounds > 0]\n",
    "    df = df[df.mother_age > 0]\n",
    "    df = df[df.gestation_weeks > 0]\n",
    "    df = df[df.plurality > 0]\n",
    "    \n",
    "    # Now modify plurality field to be string\n",
    "    twins_etc = dict(zip(\n",
    "        [1,2,3,4,5],\n",
    "        ['Single(1)', 'Twins(2)', 'Triplets(3)', 'Quadruplets(4)', 'Quintuplets(5)']\n",
    "    ))\n",
    "    df['plurality'].replace(twins_etc, inplace = True)\n",
    "    \n",
    "    # Now create extra rows to simulate lack of ultra sound\n",
    "    nous = df.copy(deep=True)\n",
    "    nous.loc[nous['plurality'] != 'Single(1)', 'plurality'] = 'Multiple(2+)'\n",
    "    nous['is_male'] = 'Unknown'\n",
    "    \n",
    "    return pd.concat([df, nous])"
   ]
  },
  {
   "cell_type": "markdown",
   "metadata": {},
   "source": [
    "### Apply Preprocessing On Our Training Data\n",
    "Before Preprocessing Our Training Data looked Like:"
   ]
  },
  {
   "cell_type": "code",
   "execution_count": 41,
   "metadata": {},
   "outputs": [
    {
     "data": {
      "text/html": [
       "<div>\n",
       "<style scoped>\n",
       "    .dataframe tbody tr th:only-of-type {\n",
       "        vertical-align: middle;\n",
       "    }\n",
       "\n",
       "    .dataframe tbody tr th {\n",
       "        vertical-align: top;\n",
       "    }\n",
       "\n",
       "    .dataframe thead th {\n",
       "        text-align: right;\n",
       "    }\n",
       "</style>\n",
       "<table border=\"1\" class=\"dataframe\">\n",
       "  <thead>\n",
       "    <tr style=\"text-align: right;\">\n",
       "      <th></th>\n",
       "      <th>weight_pounds</th>\n",
       "      <th>is_male</th>\n",
       "      <th>mother_age</th>\n",
       "      <th>plurality</th>\n",
       "      <th>gestation_weeks</th>\n",
       "      <th>hashmonth</th>\n",
       "    </tr>\n",
       "  </thead>\n",
       "  <tbody>\n",
       "    <tr>\n",
       "      <td>0</td>\n",
       "      <td>7.749249</td>\n",
       "      <td>True</td>\n",
       "      <td>22</td>\n",
       "      <td>1</td>\n",
       "      <td>39</td>\n",
       "      <td>3095933535584005890</td>\n",
       "    </tr>\n",
       "    <tr>\n",
       "      <td>1</td>\n",
       "      <td>7.374463</td>\n",
       "      <td>True</td>\n",
       "      <td>34</td>\n",
       "      <td>1</td>\n",
       "      <td>37</td>\n",
       "      <td>3095933535584005890</td>\n",
       "    </tr>\n",
       "    <tr>\n",
       "      <td>2</td>\n",
       "      <td>8.249698</td>\n",
       "      <td>False</td>\n",
       "      <td>27</td>\n",
       "      <td>1</td>\n",
       "      <td>38</td>\n",
       "      <td>3095933535584005890</td>\n",
       "    </tr>\n",
       "    <tr>\n",
       "      <td>3</td>\n",
       "      <td>10.211812</td>\n",
       "      <td>True</td>\n",
       "      <td>23</td>\n",
       "      <td>1</td>\n",
       "      <td>39</td>\n",
       "      <td>3095933535584005890</td>\n",
       "    </tr>\n",
       "    <tr>\n",
       "      <td>4</td>\n",
       "      <td>9.076431</td>\n",
       "      <td>False</td>\n",
       "      <td>22</td>\n",
       "      <td>1</td>\n",
       "      <td>39</td>\n",
       "      <td>3095933535584005890</td>\n",
       "    </tr>\n",
       "  </tbody>\n",
       "</table>\n",
       "</div>"
      ],
      "text/plain": [
       "   weight_pounds  is_male  mother_age  plurality  gestation_weeks  \\\n",
       "0       7.749249     True          22          1               39   \n",
       "1       7.374463     True          34          1               37   \n",
       "2       8.249698    False          27          1               38   \n",
       "3      10.211812     True          23          1               39   \n",
       "4       9.076431    False          22          1               39   \n",
       "\n",
       "             hashmonth  \n",
       "0  3095933535584005890  \n",
       "1  3095933535584005890  \n",
       "2  3095933535584005890  \n",
       "3  3095933535584005890  \n",
       "4  3095933535584005890  "
      ]
     },
     "execution_count": 41,
     "metadata": {},
     "output_type": "execute_result"
    }
   ],
   "source": [
    "df_train_missing_value_adjusted.head()"
   ]
  },
  {
   "cell_type": "code",
   "execution_count": 42,
   "metadata": {},
   "outputs": [
    {
     "data": {
      "text/html": [
       "<div>\n",
       "<style scoped>\n",
       "    .dataframe tbody tr th:only-of-type {\n",
       "        vertical-align: middle;\n",
       "    }\n",
       "\n",
       "    .dataframe tbody tr th {\n",
       "        vertical-align: top;\n",
       "    }\n",
       "\n",
       "    .dataframe thead th {\n",
       "        text-align: right;\n",
       "    }\n",
       "</style>\n",
       "<table border=\"1\" class=\"dataframe\">\n",
       "  <thead>\n",
       "    <tr style=\"text-align: right;\">\n",
       "      <th></th>\n",
       "      <th>weight_pounds</th>\n",
       "      <th>is_male</th>\n",
       "      <th>mother_age</th>\n",
       "      <th>plurality</th>\n",
       "      <th>gestation_weeks</th>\n",
       "      <th>hashmonth</th>\n",
       "    </tr>\n",
       "  </thead>\n",
       "  <tbody>\n",
       "    <tr>\n",
       "      <td>0</td>\n",
       "      <td>7.749249</td>\n",
       "      <td>True</td>\n",
       "      <td>22</td>\n",
       "      <td>Single(1)</td>\n",
       "      <td>39</td>\n",
       "      <td>3095933535584005890</td>\n",
       "    </tr>\n",
       "    <tr>\n",
       "      <td>1</td>\n",
       "      <td>7.374463</td>\n",
       "      <td>True</td>\n",
       "      <td>34</td>\n",
       "      <td>Single(1)</td>\n",
       "      <td>37</td>\n",
       "      <td>3095933535584005890</td>\n",
       "    </tr>\n",
       "    <tr>\n",
       "      <td>2</td>\n",
       "      <td>8.249698</td>\n",
       "      <td>False</td>\n",
       "      <td>27</td>\n",
       "      <td>Single(1)</td>\n",
       "      <td>38</td>\n",
       "      <td>3095933535584005890</td>\n",
       "    </tr>\n",
       "    <tr>\n",
       "      <td>3</td>\n",
       "      <td>10.211812</td>\n",
       "      <td>True</td>\n",
       "      <td>23</td>\n",
       "      <td>Single(1)</td>\n",
       "      <td>39</td>\n",
       "      <td>3095933535584005890</td>\n",
       "    </tr>\n",
       "    <tr>\n",
       "      <td>4</td>\n",
       "      <td>9.076431</td>\n",
       "      <td>False</td>\n",
       "      <td>22</td>\n",
       "      <td>Single(1)</td>\n",
       "      <td>39</td>\n",
       "      <td>3095933535584005890</td>\n",
       "    </tr>\n",
       "  </tbody>\n",
       "</table>\n",
       "</div>"
      ],
      "text/plain": [
       "   weight_pounds is_male  mother_age  plurality  gestation_weeks  \\\n",
       "0       7.749249    True          22  Single(1)               39   \n",
       "1       7.374463    True          34  Single(1)               37   \n",
       "2       8.249698   False          27  Single(1)               38   \n",
       "3      10.211812    True          23  Single(1)               39   \n",
       "4       9.076431   False          22  Single(1)               39   \n",
       "\n",
       "             hashmonth  \n",
       "0  3095933535584005890  \n",
       "1  3095933535584005890  \n",
       "2  3095933535584005890  \n",
       "3  3095933535584005890  \n",
       "4  3095933535584005890  "
      ]
     },
     "execution_count": 42,
     "metadata": {},
     "output_type": "execute_result"
    }
   ],
   "source": [
    "trainDf = df_train_missing_value_adjusted.copy(deep=True)\n",
    "trainDf = preprocess(trainDf)\n",
    "trainDf.head()"
   ]
  },
  {
   "cell_type": "code",
   "execution_count": 43,
   "metadata": {},
   "outputs": [
    {
     "data": {
      "text/html": [
       "<div>\n",
       "<style scoped>\n",
       "    .dataframe tbody tr th:only-of-type {\n",
       "        vertical-align: middle;\n",
       "    }\n",
       "\n",
       "    .dataframe tbody tr th {\n",
       "        vertical-align: top;\n",
       "    }\n",
       "\n",
       "    .dataframe thead th {\n",
       "        text-align: right;\n",
       "    }\n",
       "</style>\n",
       "<table border=\"1\" class=\"dataframe\">\n",
       "  <thead>\n",
       "    <tr style=\"text-align: right;\">\n",
       "      <th></th>\n",
       "      <th>weight_pounds</th>\n",
       "      <th>is_male</th>\n",
       "      <th>mother_age</th>\n",
       "      <th>plurality</th>\n",
       "      <th>gestation_weeks</th>\n",
       "      <th>hashmonth</th>\n",
       "    </tr>\n",
       "  </thead>\n",
       "  <tbody>\n",
       "    <tr>\n",
       "      <td>13420</td>\n",
       "      <td>6.624891</td>\n",
       "      <td>Unknown</td>\n",
       "      <td>32</td>\n",
       "      <td>Single(1)</td>\n",
       "      <td>35</td>\n",
       "      <td>74931465496927487</td>\n",
       "    </tr>\n",
       "    <tr>\n",
       "      <td>13421</td>\n",
       "      <td>8.027031</td>\n",
       "      <td>Unknown</td>\n",
       "      <td>29</td>\n",
       "      <td>Single(1)</td>\n",
       "      <td>39</td>\n",
       "      <td>74931465496927487</td>\n",
       "    </tr>\n",
       "    <tr>\n",
       "      <td>13422</td>\n",
       "      <td>6.250105</td>\n",
       "      <td>Unknown</td>\n",
       "      <td>29</td>\n",
       "      <td>Single(1)</td>\n",
       "      <td>39</td>\n",
       "      <td>74931465496927487</td>\n",
       "    </tr>\n",
       "    <tr>\n",
       "      <td>13423</td>\n",
       "      <td>7.625790</td>\n",
       "      <td>Unknown</td>\n",
       "      <td>37</td>\n",
       "      <td>Single(1)</td>\n",
       "      <td>36</td>\n",
       "      <td>74931465496927487</td>\n",
       "    </tr>\n",
       "    <tr>\n",
       "      <td>13424</td>\n",
       "      <td>7.500126</td>\n",
       "      <td>Unknown</td>\n",
       "      <td>19</td>\n",
       "      <td>Single(1)</td>\n",
       "      <td>38</td>\n",
       "      <td>74931465496927487</td>\n",
       "    </tr>\n",
       "  </tbody>\n",
       "</table>\n",
       "</div>"
      ],
      "text/plain": [
       "       weight_pounds  is_male  mother_age  plurality  gestation_weeks  \\\n",
       "13420       6.624891  Unknown          32  Single(1)               35   \n",
       "13421       8.027031  Unknown          29  Single(1)               39   \n",
       "13422       6.250105  Unknown          29  Single(1)               39   \n",
       "13423       7.625790  Unknown          37  Single(1)               36   \n",
       "13424       7.500126  Unknown          19  Single(1)               38   \n",
       "\n",
       "               hashmonth  \n",
       "13420  74931465496927487  \n",
       "13421  74931465496927487  \n",
       "13422  74931465496927487  \n",
       "13423  74931465496927487  \n",
       "13424  74931465496927487  "
      ]
     },
     "execution_count": 43,
     "metadata": {},
     "output_type": "execute_result"
    }
   ],
   "source": [
    "trainDf.tail()"
   ]
  },
  {
   "cell_type": "code",
   "execution_count": 44,
   "metadata": {},
   "outputs": [
    {
     "data": {
      "text/html": [
       "<div>\n",
       "<style scoped>\n",
       "    .dataframe tbody tr th:only-of-type {\n",
       "        vertical-align: middle;\n",
       "    }\n",
       "\n",
       "    .dataframe tbody tr th {\n",
       "        vertical-align: top;\n",
       "    }\n",
       "\n",
       "    .dataframe thead th {\n",
       "        text-align: right;\n",
       "    }\n",
       "</style>\n",
       "<table border=\"1\" class=\"dataframe\">\n",
       "  <thead>\n",
       "    <tr style=\"text-align: right;\">\n",
       "      <th></th>\n",
       "      <th>weight_pounds</th>\n",
       "      <th>mother_age</th>\n",
       "      <th>gestation_weeks</th>\n",
       "      <th>hashmonth</th>\n",
       "    </tr>\n",
       "  </thead>\n",
       "  <tbody>\n",
       "    <tr>\n",
       "      <td>count</td>\n",
       "      <td>26850.000000</td>\n",
       "      <td>26850.000000</td>\n",
       "      <td>26850.000000</td>\n",
       "      <td>2.685000e+04</td>\n",
       "    </tr>\n",
       "    <tr>\n",
       "      <td>mean</td>\n",
       "      <td>7.221967</td>\n",
       "      <td>27.416760</td>\n",
       "      <td>38.597765</td>\n",
       "      <td>8.154937e+16</td>\n",
       "    </tr>\n",
       "    <tr>\n",
       "      <td>std</td>\n",
       "      <td>1.320924</td>\n",
       "      <td>6.173737</td>\n",
       "      <td>2.575045</td>\n",
       "      <td>5.228977e+18</td>\n",
       "    </tr>\n",
       "    <tr>\n",
       "      <td>min</td>\n",
       "      <td>0.533519</td>\n",
       "      <td>13.000000</td>\n",
       "      <td>18.000000</td>\n",
       "      <td>-9.183606e+18</td>\n",
       "    </tr>\n",
       "    <tr>\n",
       "      <td>25%</td>\n",
       "      <td>6.563162</td>\n",
       "      <td>22.000000</td>\n",
       "      <td>38.000000</td>\n",
       "      <td>-4.701948e+18</td>\n",
       "    </tr>\n",
       "    <tr>\n",
       "      <td>50%</td>\n",
       "      <td>7.312733</td>\n",
       "      <td>27.000000</td>\n",
       "      <td>39.000000</td>\n",
       "      <td>-4.110670e+17</td>\n",
       "    </tr>\n",
       "    <tr>\n",
       "      <td>75%</td>\n",
       "      <td>8.062305</td>\n",
       "      <td>32.000000</td>\n",
       "      <td>40.000000</td>\n",
       "      <td>3.765901e+18</td>\n",
       "    </tr>\n",
       "    <tr>\n",
       "      <td>max</td>\n",
       "      <td>12.200382</td>\n",
       "      <td>48.000000</td>\n",
       "      <td>47.000000</td>\n",
       "      <td>8.599690e+18</td>\n",
       "    </tr>\n",
       "  </tbody>\n",
       "</table>\n",
       "</div>"
      ],
      "text/plain": [
       "       weight_pounds    mother_age  gestation_weeks     hashmonth\n",
       "count   26850.000000  26850.000000     26850.000000  2.685000e+04\n",
       "mean        7.221967     27.416760        38.597765  8.154937e+16\n",
       "std         1.320924      6.173737         2.575045  5.228977e+18\n",
       "min         0.533519     13.000000        18.000000 -9.183606e+18\n",
       "25%         6.563162     22.000000        38.000000 -4.701948e+18\n",
       "50%         7.312733     27.000000        39.000000 -4.110670e+17\n",
       "75%         8.062305     32.000000        40.000000  3.765901e+18\n",
       "max        12.200382     48.000000        47.000000  8.599690e+18"
      ]
     },
     "execution_count": 44,
     "metadata": {},
     "output_type": "execute_result"
    }
   ],
   "source": [
    "# Describe works only on numeric column\n",
    "trainDf.describe()"
   ]
  },
  {
   "cell_type": "markdown",
   "metadata": {},
   "source": [
    "### Apply Preprocessing On Our Evaluation Data\n",
    "Before Preprocessing Our Evaluation Data looked Like:"
   ]
  },
  {
   "cell_type": "code",
   "execution_count": 45,
   "metadata": {},
   "outputs": [
    {
     "data": {
      "text/html": [
       "<div>\n",
       "<style scoped>\n",
       "    .dataframe tbody tr th:only-of-type {\n",
       "        vertical-align: middle;\n",
       "    }\n",
       "\n",
       "    .dataframe tbody tr th {\n",
       "        vertical-align: top;\n",
       "    }\n",
       "\n",
       "    .dataframe thead th {\n",
       "        text-align: right;\n",
       "    }\n",
       "</style>\n",
       "<table border=\"1\" class=\"dataframe\">\n",
       "  <thead>\n",
       "    <tr style=\"text-align: right;\">\n",
       "      <th></th>\n",
       "      <th>weight_pounds</th>\n",
       "      <th>is_male</th>\n",
       "      <th>mother_age</th>\n",
       "      <th>plurality</th>\n",
       "      <th>gestation_weeks</th>\n",
       "      <th>hashmonth</th>\n",
       "    </tr>\n",
       "  </thead>\n",
       "  <tbody>\n",
       "    <tr>\n",
       "      <td>0</td>\n",
       "      <td>8.811877</td>\n",
       "      <td>False</td>\n",
       "      <td>32</td>\n",
       "      <td>1</td>\n",
       "      <td>38</td>\n",
       "      <td>-7146494315947640619</td>\n",
       "    </tr>\n",
       "    <tr>\n",
       "      <td>1</td>\n",
       "      <td>7.561856</td>\n",
       "      <td>False</td>\n",
       "      <td>18</td>\n",
       "      <td>1</td>\n",
       "      <td>41</td>\n",
       "      <td>-4740473290291881219</td>\n",
       "    </tr>\n",
       "    <tr>\n",
       "      <td>2</td>\n",
       "      <td>6.109009</td>\n",
       "      <td>True</td>\n",
       "      <td>35</td>\n",
       "      <td>1</td>\n",
       "      <td>42</td>\n",
       "      <td>-7773938200482214258</td>\n",
       "    </tr>\n",
       "    <tr>\n",
       "      <td>3</td>\n",
       "      <td>7.202502</td>\n",
       "      <td>True</td>\n",
       "      <td>23</td>\n",
       "      <td>1</td>\n",
       "      <td>41</td>\n",
       "      <td>-4740473290291881219</td>\n",
       "    </tr>\n",
       "    <tr>\n",
       "      <td>4</td>\n",
       "      <td>7.813183</td>\n",
       "      <td>False</td>\n",
       "      <td>33</td>\n",
       "      <td>1</td>\n",
       "      <td>39</td>\n",
       "      <td>-4740473290291881219</td>\n",
       "    </tr>\n",
       "  </tbody>\n",
       "</table>\n",
       "</div>"
      ],
      "text/plain": [
       "   weight_pounds  is_male  mother_age  plurality  gestation_weeks  \\\n",
       "0       8.811877    False          32          1               38   \n",
       "1       7.561856    False          18          1               41   \n",
       "2       6.109009     True          35          1               42   \n",
       "3       7.202502     True          23          1               41   \n",
       "4       7.813183    False          33          1               39   \n",
       "\n",
       "             hashmonth  \n",
       "0 -7146494315947640619  \n",
       "1 -4740473290291881219  \n",
       "2 -7773938200482214258  \n",
       "3 -4740473290291881219  \n",
       "4 -4740473290291881219  "
      ]
     },
     "execution_count": 45,
     "metadata": {},
     "output_type": "execute_result"
    }
   ],
   "source": [
    "df_eval_missing_value_adjusted.head()"
   ]
  },
  {
   "cell_type": "code",
   "execution_count": 46,
   "metadata": {},
   "outputs": [
    {
     "data": {
      "text/html": [
       "<div>\n",
       "<style scoped>\n",
       "    .dataframe tbody tr th:only-of-type {\n",
       "        vertical-align: middle;\n",
       "    }\n",
       "\n",
       "    .dataframe tbody tr th {\n",
       "        vertical-align: top;\n",
       "    }\n",
       "\n",
       "    .dataframe thead th {\n",
       "        text-align: right;\n",
       "    }\n",
       "</style>\n",
       "<table border=\"1\" class=\"dataframe\">\n",
       "  <thead>\n",
       "    <tr style=\"text-align: right;\">\n",
       "      <th></th>\n",
       "      <th>weight_pounds</th>\n",
       "      <th>is_male</th>\n",
       "      <th>mother_age</th>\n",
       "      <th>plurality</th>\n",
       "      <th>gestation_weeks</th>\n",
       "      <th>hashmonth</th>\n",
       "    </tr>\n",
       "  </thead>\n",
       "  <tbody>\n",
       "    <tr>\n",
       "      <td>0</td>\n",
       "      <td>8.811877</td>\n",
       "      <td>False</td>\n",
       "      <td>32</td>\n",
       "      <td>Single(1)</td>\n",
       "      <td>38</td>\n",
       "      <td>-7146494315947640619</td>\n",
       "    </tr>\n",
       "    <tr>\n",
       "      <td>1</td>\n",
       "      <td>7.561856</td>\n",
       "      <td>False</td>\n",
       "      <td>18</td>\n",
       "      <td>Single(1)</td>\n",
       "      <td>41</td>\n",
       "      <td>-4740473290291881219</td>\n",
       "    </tr>\n",
       "    <tr>\n",
       "      <td>2</td>\n",
       "      <td>6.109009</td>\n",
       "      <td>True</td>\n",
       "      <td>35</td>\n",
       "      <td>Single(1)</td>\n",
       "      <td>42</td>\n",
       "      <td>-7773938200482214258</td>\n",
       "    </tr>\n",
       "    <tr>\n",
       "      <td>3</td>\n",
       "      <td>7.202502</td>\n",
       "      <td>True</td>\n",
       "      <td>23</td>\n",
       "      <td>Single(1)</td>\n",
       "      <td>41</td>\n",
       "      <td>-4740473290291881219</td>\n",
       "    </tr>\n",
       "    <tr>\n",
       "      <td>4</td>\n",
       "      <td>7.813183</td>\n",
       "      <td>False</td>\n",
       "      <td>33</td>\n",
       "      <td>Single(1)</td>\n",
       "      <td>39</td>\n",
       "      <td>-4740473290291881219</td>\n",
       "    </tr>\n",
       "  </tbody>\n",
       "</table>\n",
       "</div>"
      ],
      "text/plain": [
       "   weight_pounds is_male  mother_age  plurality  gestation_weeks  \\\n",
       "0       8.811877   False          32  Single(1)               38   \n",
       "1       7.561856   False          18  Single(1)               41   \n",
       "2       6.109009    True          35  Single(1)               42   \n",
       "3       7.202502    True          23  Single(1)               41   \n",
       "4       7.813183   False          33  Single(1)               39   \n",
       "\n",
       "             hashmonth  \n",
       "0 -7146494315947640619  \n",
       "1 -4740473290291881219  \n",
       "2 -7773938200482214258  \n",
       "3 -4740473290291881219  \n",
       "4 -4740473290291881219  "
      ]
     },
     "execution_count": 46,
     "metadata": {},
     "output_type": "execute_result"
    }
   ],
   "source": [
    "evalDf = df_eval_missing_value_adjusted.copy(deep=True)\n",
    "evalDf = preprocess(evalDf)\n",
    "evalDf.head()"
   ]
  },
  {
   "cell_type": "code",
   "execution_count": 47,
   "metadata": {},
   "outputs": [
    {
     "data": {
      "text/html": [
       "<div>\n",
       "<style scoped>\n",
       "    .dataframe tbody tr th:only-of-type {\n",
       "        vertical-align: middle;\n",
       "    }\n",
       "\n",
       "    .dataframe tbody tr th {\n",
       "        vertical-align: top;\n",
       "    }\n",
       "\n",
       "    .dataframe thead th {\n",
       "        text-align: right;\n",
       "    }\n",
       "</style>\n",
       "<table border=\"1\" class=\"dataframe\">\n",
       "  <thead>\n",
       "    <tr style=\"text-align: right;\">\n",
       "      <th></th>\n",
       "      <th>weight_pounds</th>\n",
       "      <th>is_male</th>\n",
       "      <th>mother_age</th>\n",
       "      <th>plurality</th>\n",
       "      <th>gestation_weeks</th>\n",
       "      <th>hashmonth</th>\n",
       "    </tr>\n",
       "  </thead>\n",
       "  <tbody>\n",
       "    <tr>\n",
       "      <td>3012</td>\n",
       "      <td>6.750554</td>\n",
       "      <td>Unknown</td>\n",
       "      <td>21</td>\n",
       "      <td>Single(1)</td>\n",
       "      <td>39</td>\n",
       "      <td>6544754656115871769</td>\n",
       "    </tr>\n",
       "    <tr>\n",
       "      <td>3013</td>\n",
       "      <td>7.142977</td>\n",
       "      <td>Unknown</td>\n",
       "      <td>25</td>\n",
       "      <td>Single(1)</td>\n",
       "      <td>38</td>\n",
       "      <td>-2768780346491825728</td>\n",
       "    </tr>\n",
       "    <tr>\n",
       "      <td>3014</td>\n",
       "      <td>8.375361</td>\n",
       "      <td>Unknown</td>\n",
       "      <td>25</td>\n",
       "      <td>Single(1)</td>\n",
       "      <td>41</td>\n",
       "      <td>-2995620979373137889</td>\n",
       "    </tr>\n",
       "    <tr>\n",
       "      <td>3015</td>\n",
       "      <td>6.937947</td>\n",
       "      <td>Unknown</td>\n",
       "      <td>21</td>\n",
       "      <td>Single(1)</td>\n",
       "      <td>41</td>\n",
       "      <td>3572456083892950068</td>\n",
       "    </tr>\n",
       "    <tr>\n",
       "      <td>3016</td>\n",
       "      <td>6.042871</td>\n",
       "      <td>Unknown</td>\n",
       "      <td>45</td>\n",
       "      <td>Single(1)</td>\n",
       "      <td>38</td>\n",
       "      <td>-2768780346491825728</td>\n",
       "    </tr>\n",
       "  </tbody>\n",
       "</table>\n",
       "</div>"
      ],
      "text/plain": [
       "      weight_pounds  is_male  mother_age  plurality  gestation_weeks  \\\n",
       "3012       6.750554  Unknown          21  Single(1)               39   \n",
       "3013       7.142977  Unknown          25  Single(1)               38   \n",
       "3014       8.375361  Unknown          25  Single(1)               41   \n",
       "3015       6.937947  Unknown          21  Single(1)               41   \n",
       "3016       6.042871  Unknown          45  Single(1)               38   \n",
       "\n",
       "                hashmonth  \n",
       "3012  6544754656115871769  \n",
       "3013 -2768780346491825728  \n",
       "3014 -2995620979373137889  \n",
       "3015  3572456083892950068  \n",
       "3016 -2768780346491825728  "
      ]
     },
     "execution_count": 47,
     "metadata": {},
     "output_type": "execute_result"
    }
   ],
   "source": [
    "evalDf.tail()"
   ]
  },
  {
   "cell_type": "code",
   "execution_count": 48,
   "metadata": {},
   "outputs": [
    {
     "data": {
      "text/html": [
       "<div>\n",
       "<style scoped>\n",
       "    .dataframe tbody tr th:only-of-type {\n",
       "        vertical-align: middle;\n",
       "    }\n",
       "\n",
       "    .dataframe tbody tr th {\n",
       "        vertical-align: top;\n",
       "    }\n",
       "\n",
       "    .dataframe thead th {\n",
       "        text-align: right;\n",
       "    }\n",
       "</style>\n",
       "<table border=\"1\" class=\"dataframe\">\n",
       "  <thead>\n",
       "    <tr style=\"text-align: right;\">\n",
       "      <th></th>\n",
       "      <th>weight_pounds</th>\n",
       "      <th>mother_age</th>\n",
       "      <th>gestation_weeks</th>\n",
       "      <th>hashmonth</th>\n",
       "    </tr>\n",
       "  </thead>\n",
       "  <tbody>\n",
       "    <tr>\n",
       "      <td>count</td>\n",
       "      <td>6034.000000</td>\n",
       "      <td>6034.000000</td>\n",
       "      <td>6034.000000</td>\n",
       "      <td>6.034000e+03</td>\n",
       "    </tr>\n",
       "    <tr>\n",
       "      <td>mean</td>\n",
       "      <td>7.215283</td>\n",
       "      <td>27.292675</td>\n",
       "      <td>38.598939</td>\n",
       "      <td>-5.920305e+16</td>\n",
       "    </tr>\n",
       "    <tr>\n",
       "      <td>std</td>\n",
       "      <td>1.318925</td>\n",
       "      <td>6.110279</td>\n",
       "      <td>2.575350</td>\n",
       "      <td>5.033524e+18</td>\n",
       "    </tr>\n",
       "    <tr>\n",
       "      <td>min</td>\n",
       "      <td>0.626113</td>\n",
       "      <td>14.000000</td>\n",
       "      <td>19.000000</td>\n",
       "      <td>-7.773938e+18</td>\n",
       "    </tr>\n",
       "    <tr>\n",
       "      <td>25%</td>\n",
       "      <td>6.563162</td>\n",
       "      <td>23.000000</td>\n",
       "      <td>38.000000</td>\n",
       "      <td>-4.740473e+18</td>\n",
       "    </tr>\n",
       "    <tr>\n",
       "      <td>50%</td>\n",
       "      <td>7.308324</td>\n",
       "      <td>27.000000</td>\n",
       "      <td>39.000000</td>\n",
       "      <td>2.707927e+17</td>\n",
       "    </tr>\n",
       "    <tr>\n",
       "      <td>75%</td>\n",
       "      <td>8.000575</td>\n",
       "      <td>31.000000</td>\n",
       "      <td>40.000000</td>\n",
       "      <td>3.572456e+18</td>\n",
       "    </tr>\n",
       "    <tr>\n",
       "      <td>max</td>\n",
       "      <td>12.251088</td>\n",
       "      <td>48.000000</td>\n",
       "      <td>47.000000</td>\n",
       "      <td>8.904941e+18</td>\n",
       "    </tr>\n",
       "  </tbody>\n",
       "</table>\n",
       "</div>"
      ],
      "text/plain": [
       "       weight_pounds   mother_age  gestation_weeks     hashmonth\n",
       "count    6034.000000  6034.000000      6034.000000  6.034000e+03\n",
       "mean        7.215283    27.292675        38.598939 -5.920305e+16\n",
       "std         1.318925     6.110279         2.575350  5.033524e+18\n",
       "min         0.626113    14.000000        19.000000 -7.773938e+18\n",
       "25%         6.563162    23.000000        38.000000 -4.740473e+18\n",
       "50%         7.308324    27.000000        39.000000  2.707927e+17\n",
       "75%         8.000575    31.000000        40.000000  3.572456e+18\n",
       "max        12.251088    48.000000        47.000000  8.904941e+18"
      ]
     },
     "execution_count": 48,
     "metadata": {},
     "output_type": "execute_result"
    }
   ],
   "source": [
    "# Describe works only on numeric column\n",
    "evalDf.describe()"
   ]
  },
  {
   "cell_type": "markdown",
   "metadata": {},
   "source": [
    "<h2> Write out </h2>\n",
    "<p>\n",
    "In the final versions, we want to read from files, not Pandas dataframes. So, write the Pandas dataframes out as CSV files. \n",
    "Using CSV files gives us the advantage of shuffling during read. This is important for distributed training because some workers might be slower than others, and shuffling the data helps prevent the same data from being assigned to the slow workers.\n"
   ]
  },
  {
   "cell_type": "code",
   "execution_count": 49,
   "metadata": {},
   "outputs": [],
   "source": [
    "trainDf.to_csv('train.csv', index=False, header=False)\n",
    "evalDf.to_csv('eval.csv', index=False, header=False)"
   ]
  },
  {
   "cell_type": "code",
   "execution_count": 50,
   "metadata": {},
   "outputs": [
    {
     "name": "stdout",
     "output_type": "stream",
     "text": [
      "   6034 eval.csv\n",
      "  26850 train.csv\n",
      "  32884 total\n",
      "==> eval.csv <==\n",
      "8.811876612139999,False,32,Single(1),38,-7146494315947640619\n",
      "7.5618555866,False,18,Single(1),41,-4740473290291881219\n",
      "6.1090092800199995,True,35,Single(1),42,-7773938200482214258\n",
      "7.20250209954,True,23,Single(1),41,-4740473290291881219\n",
      "7.81318256528,False,33,Single(1),39,-4740473290291881219\n",
      "6.56316153974,True,29,Single(1),38,4331749811015213748\n",
      "9.81277528162,True,28,Single(1),41,-7361509899869211058\n",
      "6.6248909731,False,15,Single(1),39,1443901198490054949\n",
      "7.24879917456,True,27,Single(1),37,-2995620979373137889\n",
      "8.68841774542,False,27,Single(1),40,-4740473290291881219\n",
      "\n",
      "==> train.csv <==\n",
      "7.7492485093,True,22,Single(1),39,3095933535584005890\n",
      "7.3744626639,True,34,Single(1),37,3095933535584005890\n",
      "8.24969784404,False,27,Single(1),38,3095933535584005890\n",
      "10.21181197584,True,23,Single(1),39,3095933535584005890\n",
      "9.07643132654,False,22,Single(1),39,3095933535584005890\n",
      "6.41765644682,False,30,Single(1),37,3095933535584005890\n",
      "5.81138522632,True,20,Single(1),38,3095933535584005890\n",
      "6.0009827716399995,False,19,Single(1),40,3095933535584005890\n",
      "7.81318256528,False,27,Single(1),38,3095933535584005890\n",
      "7.3744626639,True,31,Single(1),37,3095933535584005890\n",
      "==> eval.csv <==\n",
      "5.82681758466,Unknown,22,Single(1),38,-5742197815970064689\n",
      "7.43839671988,Unknown,21,Single(1),37,-5742197815970064689\n",
      "7.68751907594,Unknown,32,Single(1),38,3572456083892950068\n",
      "7.2862777591,Unknown,26,Single(1),40,-2995620979373137889\n",
      "8.24969784404,Unknown,26,Single(1),38,4331749811015213748\n",
      "6.75055446244,Unknown,21,Single(1),39,6544754656115871769\n",
      "7.1429772888,Unknown,25,Single(1),38,-2768780346491825728\n",
      "8.375361333379999,Unknown,25,Single(1),41,-2995620979373137889\n",
      "6.93794738514,Unknown,21,Single(1),41,3572456083892950068\n",
      "6.04287060142,Unknown,45,Single(1),38,-2768780346491825728\n",
      "\n",
      "==> train.csv <==\n",
      "8.1350574678,Unknown,19,Single(1),36,74931465496927487\n",
      "6.4374980503999994,Unknown,27,Single(1),39,74931465496927487\n",
      "7.31273323054,Unknown,34,Single(1),37,74931465496927487\n",
      "5.8753192823,Unknown,23,Single(1),38,74931465496927487\n",
      "7.5728786996999995,Unknown,37,Single(1),39,74931465496927487\n",
      "6.6248909731,Unknown,32,Single(1),35,74931465496927487\n",
      "8.02703095942,Unknown,29,Single(1),39,74931465496927487\n",
      "6.2501051276999995,Unknown,29,Single(1),39,74931465496927487\n",
      "7.62578964258,Unknown,37,Single(1),36,74931465496927487\n",
      "7.50012615324,Unknown,19,Single(1),38,74931465496927487\n"
     ]
    }
   ],
   "source": [
    "%%bash\n",
    "wc -l *.csv\n",
    "head *.csv\n",
    "tail *.csv"
   ]
  },
  {
   "cell_type": "code",
   "execution_count": null,
   "metadata": {},
   "outputs": [],
   "source": []
  }
 ],
 "metadata": {
  "kernelspec": {
   "display_name": "Python 3",
   "language": "python",
   "name": "python3"
  },
  "language_info": {
   "codemirror_mode": {
    "name": "ipython",
    "version": 3
   },
   "file_extension": ".py",
   "mimetype": "text/x-python",
   "name": "python",
   "nbconvert_exporter": "python",
   "pygments_lexer": "ipython3",
   "version": "3.7.4"
  }
 },
 "nbformat": 4,
 "nbformat_minor": 2
}
