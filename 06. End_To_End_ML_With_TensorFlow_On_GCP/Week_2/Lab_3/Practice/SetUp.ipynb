{
 "cells": [
  {
   "cell_type": "markdown",
   "metadata": {},
   "source": [
    "# Enable Virtual Environment For This Notebook."
   ]
  },
  {
   "cell_type": "markdown",
   "metadata": {},
   "source": [
    "### Activate Conda Environment"
   ]
  },
  {
   "cell_type": "markdown",
   "metadata": {},
   "source": [
    "<b>`$ conda activate`</b>"
   ]
  },
  {
   "cell_type": "markdown",
   "metadata": {},
   "source": [
    "### Install Or Upgrade necessary software for virtual environment."
   ]
  },
  {
   "cell_type": "markdown",
   "metadata": {},
   "source": [
    "<b>`$ sudo apt-get install --upgrade python3-pip`</b>"
   ]
  },
  {
   "cell_type": "markdown",
   "metadata": {},
   "source": [
    "<b>`$ sudo pip3 install --upgrade virtualenv`</b>"
   ]
  },
  {
   "cell_type": "markdown",
   "metadata": {},
   "source": [
    "<b>`$ sudo pip3 install --upgrade setuptools`</b>"
   ]
  },
  {
   "cell_type": "markdown",
   "metadata": {},
   "source": [
    "Now we will go to the location of the directory, where we will create our virtual environment."
   ]
  },
  {
   "cell_type": "markdown",
   "metadata": {},
   "source": [
    "<b>`$ cd /media/mujahid7292/Data/GoogleDriveSandCorp2014/ML_With_TensorFlow_On_GCP/06. End_To_End_ML_With_TensorFlow_On_GCP/Week_2/Lab_3/Practice`</b>"
   ]
  },
  {
   "cell_type": "markdown",
   "metadata": {},
   "source": [
    "### Deactivate conda environment"
   ]
  },
  {
   "cell_type": "markdown",
   "metadata": {},
   "source": [
    "<b>`$ conda deactivate`</b>"
   ]
  },
  {
   "cell_type": "markdown",
   "metadata": {},
   "source": [
    "### Create Virtual Environment"
   ]
  },
  {
   "cell_type": "markdown",
   "metadata": {},
   "source": [
    "<b>`$ virtualenv Venv`</b>"
   ]
  },
  {
   "cell_type": "markdown",
   "metadata": {},
   "source": [
    "### Activate newly created virtual environment"
   ]
  },
  {
   "cell_type": "markdown",
   "metadata": {},
   "source": [
    "<b>`$ source Venv/bin/activate`</b>"
   ]
  },
  {
   "cell_type": "markdown",
   "metadata": {},
   "source": [
    "<b>`$ (Venv) which python`</b>"
   ]
  },
  {
   "cell_type": "markdown",
   "metadata": {},
   "source": [
    "<b>`$ (Venv) pip list`</b>"
   ]
  },
  {
   "cell_type": "markdown",
   "metadata": {},
   "source": [
    "<b>`$ (Venv) pip3 install jupyter`</b>"
   ]
  },
  {
   "cell_type": "markdown",
   "metadata": {},
   "source": [
    "## <p style='color:red'>After installing jupyter notebook in the virtual environment, open this notebook from virtual environment.</p>"
   ]
  },
  {
   "cell_type": "code",
   "execution_count": 1,
   "metadata": {},
   "outputs": [
    {
     "name": "stdout",
     "output_type": "stream",
     "text": [
      "Writing requirements.txt\n"
     ]
    }
   ],
   "source": [
    "%%writefile requirements.txt\n",
    "numpy\n",
    "tensorflow==1.8.0"
   ]
  },
  {
   "cell_type": "code",
   "execution_count": 2,
   "metadata": {},
   "outputs": [
    {
     "name": "stdout",
     "output_type": "stream",
     "text": [
      "Collecting numpy\n",
      "  Using cached numpy-1.18.2-cp36-cp36m-manylinux1_x86_64.whl (20.2 MB)\n",
      "Collecting tensorflow==1.8.0\n",
      "  Using cached tensorflow-1.8.0-cp36-cp36m-manylinux1_x86_64.whl (49.1 MB)\n",
      "Collecting tensorboard<1.9.0,>=1.8.0\n",
      "  Using cached tensorboard-1.8.0-py3-none-any.whl (3.1 MB)\n",
      "Requirement already satisfied: wheel>=0.26 in ./Venv/lib/python3.6/site-packages (from tensorflow==1.8.0->-r requirements.txt (line 2)) (0.34.2)\n",
      "Collecting astor>=0.6.0\n",
      "  Using cached astor-0.8.1-py2.py3-none-any.whl (27 kB)\n",
      "Collecting gast>=0.2.0\n",
      "  Using cached gast-0.3.3-py2.py3-none-any.whl (9.7 kB)\n",
      "Processing /home/mujahid7292/.cache/pip/wheels/c3/af/84/3962a6af7b4ab336e951b7877dcfb758cf94548bb1771e0679/absl_py-0.9.0-py3-none-any.whl\n",
      "Collecting grpcio>=1.8.6\n",
      "  Using cached grpcio-1.28.1-cp36-cp36m-manylinux2010_x86_64.whl (2.8 MB)\n",
      "Collecting protobuf>=3.4.0\n",
      "  Using cached protobuf-3.11.3-cp36-cp36m-manylinux1_x86_64.whl (1.3 MB)\n",
      "Requirement already satisfied: six>=1.10.0 in ./Venv/lib/python3.6/site-packages (from tensorflow==1.8.0->-r requirements.txt (line 2)) (1.14.0)\n",
      "Processing /home/mujahid7292/.cache/pip/wheels/93/2a/eb/e58dbcbc963549ee4f065ff80a59f274cc7210b6eab962acdc/termcolor-1.1.0-py3-none-any.whl\n",
      "Collecting markdown>=2.6.8\n",
      "  Using cached Markdown-3.2.1-py2.py3-none-any.whl (88 kB)\n",
      "Collecting werkzeug>=0.11.10\n",
      "  Using cached Werkzeug-1.0.1-py2.py3-none-any.whl (298 kB)\n",
      "Collecting bleach==1.5.0\n",
      "  Using cached bleach-1.5.0-py2.py3-none-any.whl (17 kB)\n",
      "Processing /home/mujahid7292/.cache/pip/wheels/90/1c/cb/a87fd097ff74648ecc468a703001f6c7c86d8a71d459e65c98/html5lib-0.9999999-py3-none-any.whl\n",
      "Requirement already satisfied: setuptools in ./Venv/lib/python3.6/site-packages (from protobuf>=3.4.0->tensorflow==1.8.0->-r requirements.txt (line 2)) (46.1.3)\n",
      "Installing collected packages: numpy, markdown, werkzeug, html5lib, bleach, protobuf, tensorboard, astor, gast, absl-py, grpcio, termcolor, tensorflow\n",
      "  Attempting uninstall: bleach\n",
      "    Found existing installation: bleach 3.1.4\n",
      "    Uninstalling bleach-3.1.4:\n",
      "      Successfully uninstalled bleach-3.1.4\n",
      "Successfully installed absl-py-0.9.0 astor-0.8.1 bleach-1.5.0 gast-0.3.3 grpcio-1.28.1 html5lib-0.9999999 markdown-3.2.1 numpy-1.18.2 protobuf-3.11.3 tensorboard-1.8.0 tensorflow-1.8.0 termcolor-1.1.0 werkzeug-1.0.1\n"
     ]
    }
   ],
   "source": [
    "%%bash\n",
    "pip3 install -r requirements.txt"
   ]
  },
  {
   "cell_type": "code",
   "execution_count": 3,
   "metadata": {},
   "outputs": [
    {
     "name": "stdout",
     "output_type": "stream",
     "text": [
      "Package            Version  \n",
      "------------------ ---------\n",
      "absl-py            0.9.0    \n",
      "astor              0.8.1    \n",
      "attrs              19.3.0   \n",
      "backcall           0.1.0    \n",
      "bleach             1.5.0    \n",
      "decorator          4.4.2    \n",
      "defusedxml         0.6.0    \n",
      "entrypoints        0.3      \n",
      "gast               0.3.3    \n",
      "grpcio             1.28.1   \n",
      "html5lib           0.9999999\n",
      "importlib-metadata 1.6.0    \n",
      "ipykernel          5.2.1    \n",
      "ipython            7.13.0   \n",
      "ipython-genutils   0.2.0    \n",
      "ipywidgets         7.5.1    \n",
      "jedi               0.17.0   \n",
      "Jinja2             2.11.2   \n",
      "jsonschema         3.2.0    \n",
      "jupyter            1.0.0    \n",
      "jupyter-client     6.1.3    \n",
      "jupyter-console    6.1.0    \n",
      "jupyter-core       4.6.3    \n",
      "Markdown           3.2.1    \n",
      "MarkupSafe         1.1.1    \n",
      "mistune            0.8.4    \n",
      "nbconvert          5.6.1    \n",
      "nbformat           5.0.5    \n",
      "notebook           6.0.3    \n",
      "numpy              1.18.2   \n",
      "pandocfilters      1.4.2    \n",
      "parso              0.7.0    \n",
      "pexpect            4.8.0    \n",
      "pickleshare        0.7.5    \n",
      "pip                20.0.2   \n",
      "prometheus-client  0.7.1    \n",
      "prompt-toolkit     3.0.5    \n",
      "protobuf           3.11.3   \n",
      "ptyprocess         0.6.0    \n",
      "Pygments           2.6.1    \n",
      "pyrsistent         0.16.0   \n",
      "python-dateutil    2.8.1    \n",
      "pyzmq              19.0.0   \n",
      "qtconsole          4.7.3    \n",
      "QtPy               1.9.0    \n",
      "Send2Trash         1.5.0    \n",
      "setuptools         46.1.3   \n",
      "six                1.14.0   \n",
      "tensorboard        1.8.0    \n",
      "tensorflow         1.8.0    \n",
      "termcolor          1.1.0    \n",
      "terminado          0.8.3    \n",
      "testpath           0.4.4    \n",
      "tornado            6.0.4    \n",
      "traitlets          4.3.3    \n",
      "wcwidth            0.1.9    \n",
      "webencodings       0.5.1    \n",
      "Werkzeug           1.0.1    \n",
      "wheel              0.34.2   \n",
      "widgetsnbextension 3.5.1    \n",
      "zipp               3.1.0    \n"
     ]
    }
   ],
   "source": [
    "%%bash\n",
    "pip3 list"
   ]
  },
  {
   "cell_type": "code",
   "execution_count": 4,
   "metadata": {},
   "outputs": [
    {
     "name": "stdout",
     "output_type": "stream",
     "text": [
      "/media/mujahid7292/Data/GoogleDriveSandCorp2014/ML_With_TensorFlow_On_GCP/06. End_To_End_ML_With_TensorFlow_On_GCP/Week_2/Lab_3/Practice/Venv/bin/python\n"
     ]
    }
   ],
   "source": [
    "%%bash\n",
    "which python"
   ]
  },
  {
   "cell_type": "code",
   "execution_count": 5,
   "metadata": {},
   "outputs": [
    {
     "name": "stdout",
     "output_type": "stream",
     "text": [
      "Python 3.6.9\n"
     ]
    }
   ],
   "source": [
    "%%bash\n",
    "python --version"
   ]
  },
  {
   "cell_type": "markdown",
   "metadata": {},
   "source": [
    "# Notebook <a href=\"https://github.com/GoogleCloudPlatform/training-data-analyst/blob/master/courses/machine_learning/deepdive/06_structured/\">Link</a>"
   ]
  },
  {
   "cell_type": "markdown",
   "metadata": {},
   "source": [
    "# Necessary import of python package"
   ]
  },
  {
   "cell_type": "code",
   "execution_count": 6,
   "metadata": {},
   "outputs": [],
   "source": [
    "import os"
   ]
  },
  {
   "cell_type": "markdown",
   "metadata": {},
   "source": [
    "# Python Variable"
   ]
  },
  {
   "cell_type": "code",
   "execution_count": 9,
   "metadata": {},
   "outputs": [],
   "source": [
    "# change these to try this notebook out\n",
    "ACCOUNT = 'student-03-ec074aee9d21@qwiklabs.net'\n",
    "SAC = 'jupyter-notebook-sac-d'\n",
    "SAC_KEY_DESTINATION = '/media/mujahid7292/Data/Gcloud_Tem_SAC'\n",
    "PROJECT = 'qwiklabs-gcp-03-d8cb7ba1a6f4'\n",
    "BUCKET = 'bucket-qwiklabs-gcp-03-d8cb7ba1a6f4'\n",
    "REGION = 'us-central1'"
   ]
  },
  {
   "cell_type": "markdown",
   "metadata": {},
   "source": [
    "# Bash Variable"
   ]
  },
  {
   "cell_type": "code",
   "execution_count": 10,
   "metadata": {},
   "outputs": [],
   "source": [
    "os.environ['ACCOUNT'] = ACCOUNT\n",
    "os.environ['SAC'] = SAC\n",
    "os.environ['SAC_KEY_DESTINATION'] = SAC_KEY_DESTINATION\n",
    "os.environ['BUCKET'] = BUCKET\n",
    "os.environ['PROJECT'] = PROJECT\n",
    "os.environ['REGION'] = REGION"
   ]
  },
  {
   "cell_type": "markdown",
   "metadata": {},
   "source": [
    "# LogIn To Google Cloud"
   ]
  },
  {
   "cell_type": "code",
   "execution_count": 11,
   "metadata": {},
   "outputs": [
    {
     "name": "stdout",
     "output_type": "stream",
     "text": [
      "Opening in existing browser session.\n"
     ]
    },
    {
     "name": "stderr",
     "output_type": "stream",
     "text": [
      "Your browser has been opened to visit:\n",
      "\n",
      "    https://accounts.google.com/o/oauth2/auth?code_challenge=zHVDXy9c7XN-pvNAATaXFOl60c51u7pUhC3ohwm_bfQ&prompt=select_account&code_challenge_method=S256&access_type=offline&redirect_uri=http%3A%2F%2Flocalhost%3A8085%2F&response_type=code&client_id=32555940559.apps.googleusercontent.com&scope=openid+https%3A%2F%2Fwww.googleapis.com%2Fauth%2Fuserinfo.email+https%3A%2F%2Fwww.googleapis.com%2Fauth%2Fcloud-platform+https%3A%2F%2Fwww.googleapis.com%2Fauth%2Fappengine.admin+https%3A%2F%2Fwww.googleapis.com%2Fauth%2Fcompute+https%3A%2F%2Fwww.googleapis.com%2Fauth%2Faccounts.reauth\n",
      "\n",
      "\n",
      "\n",
      "You are now logged in as [student-03-ec074aee9d21@qwiklabs.net].\n",
      "Your current project is [ml-practice-260405].  You can change this setting by running:\n",
      "  $ gcloud config set project PROJECT_ID\n"
     ]
    }
   ],
   "source": [
    "%%bash\n",
    "gcloud auth login $ACCOUNT --force"
   ]
  },
  {
   "cell_type": "markdown",
   "metadata": {},
   "source": [
    "# Set Current Project"
   ]
  },
  {
   "cell_type": "code",
   "execution_count": 12,
   "metadata": {},
   "outputs": [
    {
     "name": "stderr",
     "output_type": "stream",
     "text": [
      "Updated property [core/project].\n"
     ]
    }
   ],
   "source": [
    "%%bash\n",
    "gcloud config set project $PROJECT"
   ]
  },
  {
   "cell_type": "markdown",
   "metadata": {},
   "source": [
    "# Create Servic Account For Jupyter Notebook"
   ]
  },
  {
   "cell_type": "code",
   "execution_count": 13,
   "metadata": {},
   "outputs": [
    {
     "name": "stderr",
     "output_type": "stream",
     "text": [
      "Created service account [jupyter-notebook-sac-d].\n"
     ]
    }
   ],
   "source": [
    "%%bash\n",
    "gcloud iam service-accounts create $SAC \\\n",
    "    --description \"This service account will help us to connect local jupyter notebook with server\" \\\n",
    "    --display-name \"jupyter-sac\""
   ]
  },
  {
   "cell_type": "markdown",
   "metadata": {},
   "source": [
    "# See the list of service account"
   ]
  },
  {
   "cell_type": "code",
   "execution_count": 14,
   "metadata": {},
   "outputs": [
    {
     "name": "stdout",
     "output_type": "stream",
     "text": [
      "NAME                                    EMAIL                                                                              DISABLED\n",
      "jupyter-sac                             jupyter-notebook-sac-d@qwiklabs-gcp-03-d8cb7ba1a6f4.iam.gserviceaccount.com        False\n",
      "Compute Engine default service account  694436077552-compute@developer.gserviceaccount.com                                 False\n",
      "Qwiklabs User Service Account           qwiklabs-gcp-03-d8cb7ba1a6f4@qwiklabs-gcp-03-d8cb7ba1a6f4.iam.gserviceaccount.com  False\n",
      "App Engine default service account      qwiklabs-gcp-03-d8cb7ba1a6f4@appspot.gserviceaccount.com                           False\n"
     ]
    }
   ],
   "source": [
    "%%bash\n",
    "gcloud iam service-accounts list"
   ]
  },
  {
   "cell_type": "markdown",
   "metadata": {},
   "source": [
    "# Enabling The Service Account"
   ]
  },
  {
   "cell_type": "code",
   "execution_count": 15,
   "metadata": {},
   "outputs": [
    {
     "name": "stderr",
     "output_type": "stream",
     "text": [
      "Enabled service account [jupyter-notebook-sac-d@qwiklabs-gcp-03-d8cb7ba1a6f4.iam.gserviceaccount.com].\n"
     ]
    }
   ],
   "source": [
    "%%bash\n",
    "gcloud iam service-accounts enable $SAC@$PROJECT.iam.gserviceaccount.com --project $PROJECT"
   ]
  },
  {
   "cell_type": "markdown",
   "metadata": {},
   "source": [
    "# Create New Key For Above Service Account"
   ]
  },
  {
   "cell_type": "code",
   "execution_count": 16,
   "metadata": {},
   "outputs": [
    {
     "name": "stderr",
     "output_type": "stream",
     "text": [
      "created key [6068482299f66f8d5386f9747cb9f1c805c5cebc] of type [json] as [/media/mujahid7292/Data/Gcloud_Tem_SAC/jupyter-notebook-sac-d.json] for [jupyter-notebook-sac-d@qwiklabs-gcp-03-d8cb7ba1a6f4.iam.gserviceaccount.com]\n"
     ]
    }
   ],
   "source": [
    "%%bash\n",
    "gcloud iam service-accounts keys create $SAC_KEY_DESTINATION/$SAC.json \\\n",
    "  --iam-account $SAC@$PROJECT.iam.gserviceaccount.com \\\n",
    "  --project $PROJECT"
   ]
  },
  {
   "cell_type": "markdown",
   "metadata": {},
   "source": [
    "It may take up to 60 seconds before a newly created key can be used for authentication. If you experience authentication failures immediately after creating a new key, ensure that 60 seconds have elapsed before trying again."
   ]
  },
  {
   "cell_type": "markdown",
   "metadata": {},
   "source": [
    "# Activate the service account with above key"
   ]
  },
  {
   "cell_type": "code",
   "execution_count": 17,
   "metadata": {},
   "outputs": [
    {
     "name": "stderr",
     "output_type": "stream",
     "text": [
      "Activated service account credentials for: [jupyter-notebook-sac-d@qwiklabs-gcp-03-d8cb7ba1a6f4.iam.gserviceaccount.com]\n"
     ]
    }
   ],
   "source": [
    "%%bash\n",
    "gcloud auth activate-service-account \\\n",
    "--key-file=${SAC_KEY_DESTINATION}/${SAC}.json"
   ]
  },
  {
   "cell_type": "markdown",
   "metadata": {},
   "source": [
    "# Set Google Application Credentials"
   ]
  },
  {
   "cell_type": "code",
   "execution_count": 18,
   "metadata": {},
   "outputs": [],
   "source": [
    "os.environ[\"GOOGLE_APPLICATION_CREDENTIALS\"]='{}/{}.json'.format(SAC_KEY_DESTINATION,SAC)"
   ]
  },
  {
   "cell_type": "markdown",
   "metadata": {},
   "source": [
    "Check Whether Google Application Credential Was Set Successfully Outside Virtual Environment"
   ]
  },
  {
   "cell_type": "code",
   "execution_count": 19,
   "metadata": {},
   "outputs": [
    {
     "name": "stdout",
     "output_type": "stream",
     "text": [
      "GOOGLE_APPLICATION_CREDENTIALS=/media/mujahid7292/Data/Gcloud_Tem_SAC/jupyter-notebook-sac-d.json\n"
     ]
    }
   ],
   "source": [
    "%%bash\n",
    "set | grep GOOGLE_APPLICATION_CREDENTIALS "
   ]
  },
  {
   "cell_type": "markdown",
   "metadata": {},
   "source": [
    "# Set Default Project And Region"
   ]
  },
  {
   "cell_type": "code",
   "execution_count": 20,
   "metadata": {},
   "outputs": [
    {
     "name": "stderr",
     "output_type": "stream",
     "text": [
      "Updated property [core/account].\n",
      "Updated property [core/project].\n",
      "Updated property [compute/region].\n"
     ]
    }
   ],
   "source": [
    "%%bash\n",
    "gcloud config set account $ACCOUNT\n",
    "gcloud config set project $PROJECT\n",
    "gcloud config set compute/region $REGION"
   ]
  },
  {
   "cell_type": "markdown",
   "metadata": {},
   "source": [
    "# Give BigQuery Access Permision To This Service Account"
   ]
  },
  {
   "cell_type": "code",
   "execution_count": 21,
   "metadata": {},
   "outputs": [
    {
     "name": "stdout",
     "output_type": "stream",
     "text": [
      "bindings:\n",
      "- members:\n",
      "  - serviceAccount:qwiklabs-gcp-03-d8cb7ba1a6f4@qwiklabs-gcp-03-d8cb7ba1a6f4.iam.gserviceaccount.com\n",
      "  - user:student-03-ec074aee9d21@qwiklabs.net\n",
      "  role: roles/appengine.appAdmin\n",
      "- members:\n",
      "  - serviceAccount:service-694436077552@gae-api-prod.google.com.iam.gserviceaccount.com\n",
      "  role: roles/appengineflex.serviceAgent\n",
      "- members:\n",
      "  - serviceAccount:jupyter-notebook-sac-d@qwiklabs-gcp-03-d8cb7ba1a6f4.iam.gserviceaccount.com\n",
      "  - serviceAccount:qwiklabs-gcp-03-d8cb7ba1a6f4@qwiklabs-gcp-03-d8cb7ba1a6f4.iam.gserviceaccount.com\n",
      "  - user:student-03-ec074aee9d21@qwiklabs.net\n",
      "  role: roles/bigquery.admin\n",
      "- members:\n",
      "  - serviceAccount:service-694436077552@gcp-sa-bigquerydatatransfer.iam.gserviceaccount.com\n",
      "  role: roles/bigquerydatatransfer.serviceAgent\n",
      "- members:\n",
      "  - serviceAccount:694436077552@cloudbuild.gserviceaccount.com\n",
      "  role: roles/cloudbuild.builds.builder\n",
      "- members:\n",
      "  - serviceAccount:service-694436077552@gcp-sa-cloudbuild.iam.gserviceaccount.com\n",
      "  role: roles/cloudbuild.serviceAgent\n",
      "- members:\n",
      "  - serviceAccount:service-694436077552@gcf-admin-robot.iam.gserviceaccount.com\n",
      "  role: roles/cloudfunctions.serviceAgent\n",
      "- members:\n",
      "  - serviceAccount:service-694436077552@gcp-sa-cloudiot.iam.gserviceaccount.com\n",
      "  role: roles/cloudiot.serviceAgent\n",
      "- members:\n",
      "  - serviceAccount:service-694436077552@gcp-sa-cloudtasks.iam.gserviceaccount.com\n",
      "  role: roles/cloudtasks.serviceAgent\n",
      "- members:\n",
      "  - serviceAccount:service-694436077552@cloudcomposer-accounts.iam.gserviceaccount.com\n",
      "  role: roles/composer.serviceAgent\n",
      "- members:\n",
      "  - serviceAccount:qwiklabs-gcp-03-d8cb7ba1a6f4@qwiklabs-gcp-03-d8cb7ba1a6f4.iam.gserviceaccount.com\n",
      "  - user:student-03-ec074aee9d21@qwiklabs.net\n",
      "  role: roles/compute.admin\n",
      "- members:\n",
      "  - serviceAccount:service-694436077552@compute-system.iam.gserviceaccount.com\n",
      "  role: roles/compute.serviceAgent\n",
      "- members:\n",
      "  - serviceAccount:service-694436077552@container-engine-robot.iam.gserviceaccount.com\n",
      "  role: roles/container.serviceAgent\n",
      "- members:\n",
      "  - serviceAccount:service-694436077552@container-analysis.iam.gserviceaccount.com\n",
      "  role: roles/containeranalysis.ServiceAgent\n",
      "- members:\n",
      "  - serviceAccount:service-694436077552@gcp-sa-containerscanning.iam.gserviceaccount.com\n",
      "  role: roles/containerscanning.ServiceAgent\n",
      "- members:\n",
      "  - serviceAccount:service-694436077552@dataflow-service-producer-prod.iam.gserviceaccount.com\n",
      "  role: roles/dataflow.serviceAgent\n",
      "- members:\n",
      "  - serviceAccount:service-694436077552@dataproc-accounts.iam.gserviceaccount.com\n",
      "  role: roles/dataproc.serviceAgent\n",
      "- members:\n",
      "  - serviceAccount:service-694436077552@dlp-api.iam.gserviceaccount.com\n",
      "  role: roles/dlp.serviceAgent\n",
      "- members:\n",
      "  - serviceAccount:694436077552-compute@developer.gserviceaccount.com\n",
      "  - serviceAccount:694436077552@cloudservices.gserviceaccount.com\n",
      "  - serviceAccount:qwiklabs-gcp-03-d8cb7ba1a6f4@appspot.gserviceaccount.com\n",
      "  - serviceAccount:qwiklabs-gcp-03-d8cb7ba1a6f4@qwiklabs-gcp-03-d8cb7ba1a6f4.iam.gserviceaccount.com\n",
      "  - serviceAccount:service-694436077552@containerregistry.iam.gserviceaccount.com\n",
      "  - user:student-03-ec074aee9d21@qwiklabs.net\n",
      "  role: roles/editor\n",
      "- members:\n",
      "  - serviceAccount:service-694436077552@firebase-rules.iam.gserviceaccount.com\n",
      "  role: roles/firebaserules.system\n",
      "- members:\n",
      "  - serviceAccount:service-694436077552@genomics-api.google.com.iam.gserviceaccount.com\n",
      "  role: roles/genomics.serviceAgent\n",
      "- members:\n",
      "  - serviceAccount:qwiklabs-gcp-03-d8cb7ba1a6f4@qwiklabs-gcp-03-d8cb7ba1a6f4.iam.gserviceaccount.com\n",
      "  - user:student-03-ec074aee9d21@qwiklabs.net\n",
      "  role: roles/iam.serviceAccountAdmin\n",
      "- members:\n",
      "  - serviceAccount:qwiklabs-gcp-03-d8cb7ba1a6f4@qwiklabs-gcp-03-d8cb7ba1a6f4.iam.gserviceaccount.com\n",
      "  - user:student-03-ec074aee9d21@qwiklabs.net\n",
      "  role: roles/ml.admin\n",
      "- members:\n",
      "  - serviceAccount:service-694436077552@cloud-ml.google.com.iam.gserviceaccount.com\n",
      "  role: roles/ml.serviceAgent\n",
      "- members:\n",
      "  - serviceAccount:admiral@qwiklabs-services-prod.iam.gserviceaccount.com\n",
      "  - serviceAccount:qwiklabs-gcp-03-d8cb7ba1a6f4@qwiklabs-gcp-03-d8cb7ba1a6f4.iam.gserviceaccount.com\n",
      "  - user:student-03-ec074aee9d21@qwiklabs.net\n",
      "  role: roles/owner\n",
      "- members:\n",
      "  - serviceAccount:qwiklabs-gcp-03-d8cb7ba1a6f4@qwiklabs-gcp-03-d8cb7ba1a6f4.iam.gserviceaccount.com\n",
      "  - user:student-03-ec074aee9d21@qwiklabs.net\n",
      "  role: roles/source.admin\n",
      "- members:\n",
      "  - serviceAccount:service-694436077552@sourcerepo-service-accounts.iam.gserviceaccount.com\n",
      "  role: roles/sourcerepo.serviceAgent\n",
      "- members:\n",
      "  - serviceAccount:qwiklabs-gcp-03-d8cb7ba1a6f4@qwiklabs-gcp-03-d8cb7ba1a6f4.iam.gserviceaccount.com\n",
      "  - user:student-03-ec074aee9d21@qwiklabs.net\n",
      "  role: roles/storage.admin\n",
      "- members:\n",
      "  - serviceAccount:qwiklabs-gcp-03-d8cb7ba1a6f4@qwiklabs-gcp-03-d8cb7ba1a6f4.iam.gserviceaccount.com\n",
      "  - user:student-03-ec074aee9d21@qwiklabs.net\n",
      "  role: roles/viewer\n",
      "etag: BwWjkIog95A=\n",
      "version: 1\n"
     ]
    },
    {
     "name": "stderr",
     "output_type": "stream",
     "text": [
      "Updated IAM policy for project [qwiklabs-gcp-03-d8cb7ba1a6f4].\n"
     ]
    }
   ],
   "source": [
    "%%bash\n",
    "gcloud projects add-iam-policy-binding $PROJECT \\\n",
    "    --member serviceAccount:$SAC@$PROJECT.iam.gserviceaccount.com \\\n",
    "    --role roles/bigquery.admin"
   ]
  },
  {
   "cell_type": "markdown",
   "metadata": {},
   "source": [
    "# Give GCS Access Permision To This Service Account"
   ]
  },
  {
   "cell_type": "code",
   "execution_count": 22,
   "metadata": {},
   "outputs": [
    {
     "name": "stdout",
     "output_type": "stream",
     "text": [
      "bindings:\n",
      "- members:\n",
      "  - serviceAccount:qwiklabs-gcp-03-d8cb7ba1a6f4@qwiklabs-gcp-03-d8cb7ba1a6f4.iam.gserviceaccount.com\n",
      "  - user:student-03-ec074aee9d21@qwiklabs.net\n",
      "  role: roles/appengine.appAdmin\n",
      "- members:\n",
      "  - serviceAccount:service-694436077552@gae-api-prod.google.com.iam.gserviceaccount.com\n",
      "  role: roles/appengineflex.serviceAgent\n",
      "- members:\n",
      "  - serviceAccount:jupyter-notebook-sac-d@qwiklabs-gcp-03-d8cb7ba1a6f4.iam.gserviceaccount.com\n",
      "  - serviceAccount:qwiklabs-gcp-03-d8cb7ba1a6f4@qwiklabs-gcp-03-d8cb7ba1a6f4.iam.gserviceaccount.com\n",
      "  - user:student-03-ec074aee9d21@qwiklabs.net\n",
      "  role: roles/bigquery.admin\n",
      "- members:\n",
      "  - serviceAccount:service-694436077552@gcp-sa-bigquerydatatransfer.iam.gserviceaccount.com\n",
      "  role: roles/bigquerydatatransfer.serviceAgent\n",
      "- members:\n",
      "  - serviceAccount:694436077552@cloudbuild.gserviceaccount.com\n",
      "  role: roles/cloudbuild.builds.builder\n",
      "- members:\n",
      "  - serviceAccount:service-694436077552@gcp-sa-cloudbuild.iam.gserviceaccount.com\n",
      "  role: roles/cloudbuild.serviceAgent\n",
      "- members:\n",
      "  - serviceAccount:service-694436077552@gcf-admin-robot.iam.gserviceaccount.com\n",
      "  role: roles/cloudfunctions.serviceAgent\n",
      "- members:\n",
      "  - serviceAccount:service-694436077552@gcp-sa-cloudiot.iam.gserviceaccount.com\n",
      "  role: roles/cloudiot.serviceAgent\n",
      "- members:\n",
      "  - serviceAccount:service-694436077552@gcp-sa-cloudtasks.iam.gserviceaccount.com\n",
      "  role: roles/cloudtasks.serviceAgent\n",
      "- members:\n",
      "  - serviceAccount:service-694436077552@cloudcomposer-accounts.iam.gserviceaccount.com\n",
      "  role: roles/composer.serviceAgent\n",
      "- members:\n",
      "  - serviceAccount:qwiklabs-gcp-03-d8cb7ba1a6f4@qwiklabs-gcp-03-d8cb7ba1a6f4.iam.gserviceaccount.com\n",
      "  - user:student-03-ec074aee9d21@qwiklabs.net\n",
      "  role: roles/compute.admin\n",
      "- members:\n",
      "  - serviceAccount:service-694436077552@compute-system.iam.gserviceaccount.com\n",
      "  role: roles/compute.serviceAgent\n",
      "- members:\n",
      "  - serviceAccount:service-694436077552@container-engine-robot.iam.gserviceaccount.com\n",
      "  role: roles/container.serviceAgent\n",
      "- members:\n",
      "  - serviceAccount:service-694436077552@container-analysis.iam.gserviceaccount.com\n",
      "  role: roles/containeranalysis.ServiceAgent\n",
      "- members:\n",
      "  - serviceAccount:service-694436077552@gcp-sa-containerscanning.iam.gserviceaccount.com\n",
      "  role: roles/containerscanning.ServiceAgent\n",
      "- members:\n",
      "  - serviceAccount:service-694436077552@dataflow-service-producer-prod.iam.gserviceaccount.com\n",
      "  role: roles/dataflow.serviceAgent\n",
      "- members:\n",
      "  - serviceAccount:service-694436077552@dataproc-accounts.iam.gserviceaccount.com\n",
      "  role: roles/dataproc.serviceAgent\n",
      "- members:\n",
      "  - serviceAccount:service-694436077552@dlp-api.iam.gserviceaccount.com\n",
      "  role: roles/dlp.serviceAgent\n",
      "- members:\n",
      "  - serviceAccount:694436077552-compute@developer.gserviceaccount.com\n",
      "  - serviceAccount:694436077552@cloudservices.gserviceaccount.com\n",
      "  - serviceAccount:qwiklabs-gcp-03-d8cb7ba1a6f4@appspot.gserviceaccount.com\n",
      "  - serviceAccount:qwiklabs-gcp-03-d8cb7ba1a6f4@qwiklabs-gcp-03-d8cb7ba1a6f4.iam.gserviceaccount.com\n",
      "  - serviceAccount:service-694436077552@containerregistry.iam.gserviceaccount.com\n",
      "  - user:student-03-ec074aee9d21@qwiklabs.net\n",
      "  role: roles/editor\n",
      "- members:\n",
      "  - serviceAccount:service-694436077552@firebase-rules.iam.gserviceaccount.com\n",
      "  role: roles/firebaserules.system\n",
      "- members:\n",
      "  - serviceAccount:service-694436077552@genomics-api.google.com.iam.gserviceaccount.com\n",
      "  role: roles/genomics.serviceAgent\n",
      "- members:\n",
      "  - serviceAccount:qwiklabs-gcp-03-d8cb7ba1a6f4@qwiklabs-gcp-03-d8cb7ba1a6f4.iam.gserviceaccount.com\n",
      "  - user:student-03-ec074aee9d21@qwiklabs.net\n",
      "  role: roles/iam.serviceAccountAdmin\n",
      "- members:\n",
      "  - serviceAccount:qwiklabs-gcp-03-d8cb7ba1a6f4@qwiklabs-gcp-03-d8cb7ba1a6f4.iam.gserviceaccount.com\n",
      "  - user:student-03-ec074aee9d21@qwiklabs.net\n",
      "  role: roles/ml.admin\n",
      "- members:\n",
      "  - serviceAccount:service-694436077552@cloud-ml.google.com.iam.gserviceaccount.com\n",
      "  role: roles/ml.serviceAgent\n",
      "- members:\n",
      "  - serviceAccount:admiral@qwiklabs-services-prod.iam.gserviceaccount.com\n",
      "  - serviceAccount:qwiklabs-gcp-03-d8cb7ba1a6f4@qwiklabs-gcp-03-d8cb7ba1a6f4.iam.gserviceaccount.com\n",
      "  - user:student-03-ec074aee9d21@qwiklabs.net\n",
      "  role: roles/owner\n",
      "- members:\n",
      "  - serviceAccount:qwiklabs-gcp-03-d8cb7ba1a6f4@qwiklabs-gcp-03-d8cb7ba1a6f4.iam.gserviceaccount.com\n",
      "  - user:student-03-ec074aee9d21@qwiklabs.net\n",
      "  role: roles/source.admin\n",
      "- members:\n",
      "  - serviceAccount:service-694436077552@sourcerepo-service-accounts.iam.gserviceaccount.com\n",
      "  role: roles/sourcerepo.serviceAgent\n",
      "- members:\n",
      "  - serviceAccount:jupyter-notebook-sac-d@qwiklabs-gcp-03-d8cb7ba1a6f4.iam.gserviceaccount.com\n",
      "  - serviceAccount:qwiklabs-gcp-03-d8cb7ba1a6f4@qwiklabs-gcp-03-d8cb7ba1a6f4.iam.gserviceaccount.com\n",
      "  - user:student-03-ec074aee9d21@qwiklabs.net\n",
      "  role: roles/storage.admin\n",
      "- members:\n",
      "  - serviceAccount:qwiklabs-gcp-03-d8cb7ba1a6f4@qwiklabs-gcp-03-d8cb7ba1a6f4.iam.gserviceaccount.com\n",
      "  - user:student-03-ec074aee9d21@qwiklabs.net\n",
      "  role: roles/viewer\n",
      "etag: BwWjkIprkTc=\n",
      "version: 1\n"
     ]
    },
    {
     "name": "stderr",
     "output_type": "stream",
     "text": [
      "Updated IAM policy for project [qwiklabs-gcp-03-d8cb7ba1a6f4].\n"
     ]
    }
   ],
   "source": [
    "%%bash\n",
    "gcloud projects add-iam-policy-binding $PROJECT \\\n",
    "    --member serviceAccount:$SAC@$PROJECT.iam.gserviceaccount.com \\\n",
    "    --role roles/storage.admin"
   ]
  },
  {
   "cell_type": "markdown",
   "metadata": {},
   "source": [
    "# Give AI Platform Access Permision To This Service Account"
   ]
  },
  {
   "cell_type": "code",
   "execution_count": 23,
   "metadata": {},
   "outputs": [
    {
     "name": "stdout",
     "output_type": "stream",
     "text": [
      "bindings:\n",
      "- members:\n",
      "  - serviceAccount:qwiklabs-gcp-03-d8cb7ba1a6f4@qwiklabs-gcp-03-d8cb7ba1a6f4.iam.gserviceaccount.com\n",
      "  - user:student-03-ec074aee9d21@qwiklabs.net\n",
      "  role: roles/appengine.appAdmin\n",
      "- members:\n",
      "  - serviceAccount:service-694436077552@gae-api-prod.google.com.iam.gserviceaccount.com\n",
      "  role: roles/appengineflex.serviceAgent\n",
      "- members:\n",
      "  - serviceAccount:jupyter-notebook-sac-d@qwiklabs-gcp-03-d8cb7ba1a6f4.iam.gserviceaccount.com\n",
      "  - serviceAccount:qwiklabs-gcp-03-d8cb7ba1a6f4@qwiklabs-gcp-03-d8cb7ba1a6f4.iam.gserviceaccount.com\n",
      "  - user:student-03-ec074aee9d21@qwiklabs.net\n",
      "  role: roles/bigquery.admin\n",
      "- members:\n",
      "  - serviceAccount:service-694436077552@gcp-sa-bigquerydatatransfer.iam.gserviceaccount.com\n",
      "  role: roles/bigquerydatatransfer.serviceAgent\n",
      "- members:\n",
      "  - serviceAccount:694436077552@cloudbuild.gserviceaccount.com\n",
      "  role: roles/cloudbuild.builds.builder\n",
      "- members:\n",
      "  - serviceAccount:service-694436077552@gcp-sa-cloudbuild.iam.gserviceaccount.com\n",
      "  role: roles/cloudbuild.serviceAgent\n",
      "- members:\n",
      "  - serviceAccount:service-694436077552@gcf-admin-robot.iam.gserviceaccount.com\n",
      "  role: roles/cloudfunctions.serviceAgent\n",
      "- members:\n",
      "  - serviceAccount:service-694436077552@gcp-sa-cloudiot.iam.gserviceaccount.com\n",
      "  role: roles/cloudiot.serviceAgent\n",
      "- members:\n",
      "  - serviceAccount:service-694436077552@gcp-sa-cloudtasks.iam.gserviceaccount.com\n",
      "  role: roles/cloudtasks.serviceAgent\n",
      "- members:\n",
      "  - serviceAccount:service-694436077552@cloudcomposer-accounts.iam.gserviceaccount.com\n",
      "  role: roles/composer.serviceAgent\n",
      "- members:\n",
      "  - serviceAccount:qwiklabs-gcp-03-d8cb7ba1a6f4@qwiklabs-gcp-03-d8cb7ba1a6f4.iam.gserviceaccount.com\n",
      "  - user:student-03-ec074aee9d21@qwiklabs.net\n",
      "  role: roles/compute.admin\n",
      "- members:\n",
      "  - serviceAccount:service-694436077552@compute-system.iam.gserviceaccount.com\n",
      "  role: roles/compute.serviceAgent\n",
      "- members:\n",
      "  - serviceAccount:service-694436077552@container-engine-robot.iam.gserviceaccount.com\n",
      "  role: roles/container.serviceAgent\n",
      "- members:\n",
      "  - serviceAccount:service-694436077552@container-analysis.iam.gserviceaccount.com\n",
      "  role: roles/containeranalysis.ServiceAgent\n",
      "- members:\n",
      "  - serviceAccount:service-694436077552@gcp-sa-containerscanning.iam.gserviceaccount.com\n",
      "  role: roles/containerscanning.ServiceAgent\n",
      "- members:\n",
      "  - serviceAccount:service-694436077552@dataflow-service-producer-prod.iam.gserviceaccount.com\n",
      "  role: roles/dataflow.serviceAgent\n",
      "- members:\n",
      "  - serviceAccount:service-694436077552@dataproc-accounts.iam.gserviceaccount.com\n",
      "  role: roles/dataproc.serviceAgent\n",
      "- members:\n",
      "  - serviceAccount:service-694436077552@dlp-api.iam.gserviceaccount.com\n",
      "  role: roles/dlp.serviceAgent\n",
      "- members:\n",
      "  - serviceAccount:694436077552-compute@developer.gserviceaccount.com\n",
      "  - serviceAccount:694436077552@cloudservices.gserviceaccount.com\n",
      "  - serviceAccount:qwiklabs-gcp-03-d8cb7ba1a6f4@appspot.gserviceaccount.com\n",
      "  - serviceAccount:qwiklabs-gcp-03-d8cb7ba1a6f4@qwiklabs-gcp-03-d8cb7ba1a6f4.iam.gserviceaccount.com\n",
      "  - serviceAccount:service-694436077552@containerregistry.iam.gserviceaccount.com\n",
      "  - user:student-03-ec074aee9d21@qwiklabs.net\n",
      "  role: roles/editor\n",
      "- members:\n",
      "  - serviceAccount:service-694436077552@firebase-rules.iam.gserviceaccount.com\n",
      "  role: roles/firebaserules.system\n",
      "- members:\n",
      "  - serviceAccount:service-694436077552@genomics-api.google.com.iam.gserviceaccount.com\n",
      "  role: roles/genomics.serviceAgent\n",
      "- members:\n",
      "  - serviceAccount:qwiklabs-gcp-03-d8cb7ba1a6f4@qwiklabs-gcp-03-d8cb7ba1a6f4.iam.gserviceaccount.com\n",
      "  - user:student-03-ec074aee9d21@qwiklabs.net\n",
      "  role: roles/iam.serviceAccountAdmin\n",
      "- members:\n",
      "  - serviceAccount:jupyter-notebook-sac-d@qwiklabs-gcp-03-d8cb7ba1a6f4.iam.gserviceaccount.com\n",
      "  - serviceAccount:qwiklabs-gcp-03-d8cb7ba1a6f4@qwiklabs-gcp-03-d8cb7ba1a6f4.iam.gserviceaccount.com\n",
      "  - user:student-03-ec074aee9d21@qwiklabs.net\n",
      "  role: roles/ml.admin\n",
      "- members:\n",
      "  - serviceAccount:service-694436077552@cloud-ml.google.com.iam.gserviceaccount.com\n",
      "  role: roles/ml.serviceAgent\n",
      "- members:\n",
      "  - serviceAccount:admiral@qwiklabs-services-prod.iam.gserviceaccount.com\n",
      "  - serviceAccount:qwiklabs-gcp-03-d8cb7ba1a6f4@qwiklabs-gcp-03-d8cb7ba1a6f4.iam.gserviceaccount.com\n",
      "  - user:student-03-ec074aee9d21@qwiklabs.net\n",
      "  role: roles/owner\n",
      "- members:\n",
      "  - serviceAccount:qwiklabs-gcp-03-d8cb7ba1a6f4@qwiklabs-gcp-03-d8cb7ba1a6f4.iam.gserviceaccount.com\n",
      "  - user:student-03-ec074aee9d21@qwiklabs.net\n",
      "  role: roles/source.admin\n",
      "- members:\n",
      "  - serviceAccount:service-694436077552@sourcerepo-service-accounts.iam.gserviceaccount.com\n",
      "  role: roles/sourcerepo.serviceAgent\n",
      "- members:\n",
      "  - serviceAccount:jupyter-notebook-sac-d@qwiklabs-gcp-03-d8cb7ba1a6f4.iam.gserviceaccount.com\n",
      "  - serviceAccount:qwiklabs-gcp-03-d8cb7ba1a6f4@qwiklabs-gcp-03-d8cb7ba1a6f4.iam.gserviceaccount.com\n",
      "  - user:student-03-ec074aee9d21@qwiklabs.net\n",
      "  role: roles/storage.admin\n",
      "- members:\n",
      "  - serviceAccount:qwiklabs-gcp-03-d8cb7ba1a6f4@qwiklabs-gcp-03-d8cb7ba1a6f4.iam.gserviceaccount.com\n",
      "  - user:student-03-ec074aee9d21@qwiklabs.net\n",
      "  role: roles/viewer\n",
      "etag: BwWjkIsEGWc=\n",
      "version: 1\n"
     ]
    },
    {
     "name": "stderr",
     "output_type": "stream",
     "text": [
      "Updated IAM policy for project [qwiklabs-gcp-03-d8cb7ba1a6f4].\n"
     ]
    }
   ],
   "source": [
    "%%bash\n",
    "gcloud projects add-iam-policy-binding $PROJECT \\\n",
    "    --member serviceAccount:$SAC@$PROJECT.iam.gserviceaccount.com \\\n",
    "    --role roles/ml.admin"
   ]
  },
  {
   "cell_type": "markdown",
   "metadata": {},
   "source": [
    "# Create GCS Bucket "
   ]
  },
  {
   "cell_type": "code",
   "execution_count": 24,
   "metadata": {},
   "outputs": [
    {
     "name": "stdout",
     "output_type": "stream",
     "text": [
      "Process is terminated.\n"
     ]
    }
   ],
   "source": [
    "%%bash\n",
    "if ! gsutil ls | grep -q gs://${BUCKET}/; then\n",
    "  gsutil mb -l ${REGION} -p ${PROJECT} gs://${BUCKET}\n",
    "  #gsutil mb -l us-east1 -p qwiklabs-gcp-03-d8cb7ba1a6f4 gs://bucket-qwiklabs-gcp-03-d8cb7ba1a6f4\n",
    "fi"
   ]
  },
  {
   "cell_type": "markdown",
   "metadata": {},
   "source": [
    "# Make Sure That Training & Evaluation file are locally available"
   ]
  },
  {
   "cell_type": "code",
   "execution_count": 25,
   "metadata": {},
   "outputs": [
    {
     "name": "stdout",
     "output_type": "stream",
     "text": [
      "eval.csv\n",
      "train.csv\n"
     ]
    }
   ],
   "source": [
    "%%bash\n",
    "ls *.csv"
   ]
  },
  {
   "cell_type": "code",
   "execution_count": null,
   "metadata": {},
   "outputs": [],
   "source": []
  }
 ],
 "metadata": {
  "kernelspec": {
   "display_name": "Python 3",
   "language": "python",
   "name": "python3"
  },
  "language_info": {
   "codemirror_mode": {
    "name": "ipython",
    "version": 3
   },
   "file_extension": ".py",
   "mimetype": "text/x-python",
   "name": "python",
   "nbconvert_exporter": "python",
   "pygments_lexer": "ipython3",
   "version": "3.6.9"
  }
 },
 "nbformat": 4,
 "nbformat_minor": 2
}
