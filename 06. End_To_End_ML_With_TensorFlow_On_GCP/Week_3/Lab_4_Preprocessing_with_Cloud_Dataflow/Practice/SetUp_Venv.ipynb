{
 "cells": [
  {
   "cell_type": "markdown",
   "metadata": {},
   "source": [
    "# Enable Virtual Environment For This Notebook."
   ]
  },
  {
   "cell_type": "markdown",
   "metadata": {},
   "source": [
    "### Activate Conda Environment"
   ]
  },
  {
   "cell_type": "markdown",
   "metadata": {},
   "source": [
    "<b>`$ conda activate`</b>"
   ]
  },
  {
   "cell_type": "markdown",
   "metadata": {},
   "source": [
    "### Install Or Upgrade necessary software for virtual environment."
   ]
  },
  {
   "cell_type": "markdown",
   "metadata": {},
   "source": [
    "<b>`$ sudo apt-get install --upgrade python3-pip`</b>"
   ]
  },
  {
   "cell_type": "markdown",
   "metadata": {},
   "source": [
    "<b>`$ sudo pip3 install --upgrade virtualenv`</b>"
   ]
  },
  {
   "cell_type": "markdown",
   "metadata": {},
   "source": [
    "<b>`$ sudo pip3 install --upgrade setuptools`</b>"
   ]
  },
  {
   "cell_type": "markdown",
   "metadata": {},
   "source": [
    "Now we will go to the location of the directory, where we will create our virtual environment."
   ]
  },
  {
   "cell_type": "markdown",
   "metadata": {},
   "source": [
    "<b>`$ cd /media/mujahid7292/Data/GoogleDriveSandCorp2014/ML_With_TensorFlow_On_GCP/06. End_To_End_ML_With_TensorFlow_On_GCP/Week_3/Lab_4_Preprocessing_with_Cloud_Dataflow/Practice`</b>"
   ]
  },
  {
   "cell_type": "markdown",
   "metadata": {},
   "source": [
    "### Deactivate conda environment"
   ]
  },
  {
   "cell_type": "markdown",
   "metadata": {},
   "source": [
    "<b>`$ conda deactivate`</b>"
   ]
  },
  {
   "cell_type": "markdown",
   "metadata": {},
   "source": [
    "### Create Virtual Environment"
   ]
  },
  {
   "cell_type": "markdown",
   "metadata": {},
   "source": [
    "<b>`$ virtualenv Venv`</b>"
   ]
  },
  {
   "cell_type": "markdown",
   "metadata": {},
   "source": [
    "### Activate newly created virtual environment"
   ]
  },
  {
   "cell_type": "markdown",
   "metadata": {},
   "source": [
    "<b>`$ source Venv/bin/activate`</b>"
   ]
  },
  {
   "cell_type": "markdown",
   "metadata": {},
   "source": [
    "<b>`$ (Venv) which python`</b>"
   ]
  },
  {
   "cell_type": "markdown",
   "metadata": {},
   "source": [
    "<b>`$ (Venv) pip list`</b>"
   ]
  },
  {
   "cell_type": "markdown",
   "metadata": {},
   "source": [
    "<b>`$ (Venv) pip3 install jupyter`</b>"
   ]
  },
  {
   "cell_type": "markdown",
   "metadata": {},
   "source": [
    "## <p style='color:red'>After installing jupyter notebook in the virtual environment, open this notebook from virtual environment.</p>"
   ]
  },
  {
   "cell_type": "code",
   "execution_count": null,
   "metadata": {},
   "outputs": [],
   "source": [
    "%%writefile requirements.txt\n",
    "numpy\n",
    "pandas\n",
    "absl-py==0.7\n",
    "pyarrow==0.15.1\n",
    "absl-py==0.7\n",
    "tensorflow\n",
    "tensorflow_transform\n",
    "apache-beam[gcp]==2.20.0"
   ]
  },
  {
   "cell_type": "code",
   "execution_count": null,
   "metadata": {},
   "outputs": [],
   "source": [
    "%%bash\n",
    "pip3 install -r requirements.txt"
   ]
  },
  {
   "cell_type": "code",
   "execution_count": null,
   "metadata": {},
   "outputs": [],
   "source": [
    "%%bash\n",
    "pip3 list"
   ]
  },
  {
   "cell_type": "code",
   "execution_count": null,
   "metadata": {},
   "outputs": [],
   "source": [
    "%%bash\n",
    "which python"
   ]
  },
  {
   "cell_type": "code",
   "execution_count": null,
   "metadata": {},
   "outputs": [],
   "source": [
    "%%bash\n",
    "python --version"
   ]
  },
  {
   "cell_type": "markdown",
   "metadata": {},
   "source": [
    "# Notebook <a href=\"https://github.com/GoogleCloudPlatform/training-data-analyst/blob/master/courses/machine_learning/deepdive/06_structured/\">Link</a>"
   ]
  },
  {
   "cell_type": "markdown",
   "metadata": {},
   "source": [
    "# Necessary import of python package"
   ]
  },
  {
   "cell_type": "code",
   "execution_count": 1,
   "metadata": {},
   "outputs": [
    {
     "name": "stdout",
     "output_type": "stream",
     "text": [
      "Tensorflow: 2.1.0\n",
      "Tensorflow Transform: 0.21.2\n",
      "Apache beam: 2.20.0\n"
     ]
    }
   ],
   "source": [
    "import os\n",
    "import tensorflow as tf\n",
    "import tensorflow_transform as tft\n",
    "import apache_beam as beam\n",
    "print('Tensorflow: {}'.format(tf.__version__))\n",
    "print('Tensorflow Transform: {}'.format(tft.__version__))\n",
    "print('Apache beam: {}'.format(beam.__version__))"
   ]
  },
  {
   "cell_type": "markdown",
   "metadata": {},
   "source": [
    "Those above version which ran successfully in this notebook."
   ]
  },
  {
   "cell_type": "markdown",
   "metadata": {},
   "source": [
    "* Tensorflow: 2.1.0\n",
    "* Tensorflow Transform: 0.21.2\n",
    "* Apache beam: 2.20.0"
   ]
  },
  {
   "cell_type": "markdown",
   "metadata": {},
   "source": [
    "# Python Variable"
   ]
  },
  {
   "cell_type": "code",
   "execution_count": 2,
   "metadata": {},
   "outputs": [],
   "source": [
    "# change these to try this notebook out\n",
    "ACCOUNT = 'student-02-b97575b6b46d@qwiklabs.net'\n",
    "SAC = 'qwik-jupyter-notebook-sac-f'\n",
    "SAC_KEY_DESTINATION = '/media/mujahid7292/Data/Gcloud_Tem_SAC'\n",
    "PROJECT = 'qwiklabs-gcp-02-3fc87b630759'\n",
    "BUCKET = 'bucket-qwiklabs-gcp-02-3fc87b630759'\n",
    "REGION = 'us-central1'"
   ]
  },
  {
   "cell_type": "markdown",
   "metadata": {},
   "source": [
    "# Bash Variable"
   ]
  },
  {
   "cell_type": "code",
   "execution_count": 3,
   "metadata": {},
   "outputs": [],
   "source": [
    "os.environ['ACCOUNT'] = ACCOUNT\n",
    "os.environ['SAC'] = SAC\n",
    "os.environ['SAC_KEY_DESTINATION'] = SAC_KEY_DESTINATION\n",
    "os.environ['BUCKET'] = BUCKET\n",
    "os.environ['PROJECT'] = PROJECT\n",
    "os.environ['REGION'] = REGION"
   ]
  },
  {
   "cell_type": "markdown",
   "metadata": {},
   "source": [
    "# LogIn To Google Cloud"
   ]
  },
  {
   "cell_type": "code",
   "execution_count": 4,
   "metadata": {},
   "outputs": [
    {
     "name": "stdout",
     "output_type": "stream",
     "text": [
      "Opening in existing browser session.\n"
     ]
    },
    {
     "name": "stderr",
     "output_type": "stream",
     "text": [
      "Your browser has been opened to visit:\n",
      "\n",
      "    https://accounts.google.com/o/oauth2/auth?code_challenge=JKIv2Lj12jD7iDUFL2Ze_9WtWZiJiwhxJ2V-d7jLrBk&prompt=select_account&code_challenge_method=S256&access_type=offline&redirect_uri=http%3A%2F%2Flocalhost%3A8085%2F&response_type=code&client_id=32555940559.apps.googleusercontent.com&scope=openid+https%3A%2F%2Fwww.googleapis.com%2Fauth%2Fuserinfo.email+https%3A%2F%2Fwww.googleapis.com%2Fauth%2Fcloud-platform+https%3A%2F%2Fwww.googleapis.com%2Fauth%2Fappengine.admin+https%3A%2F%2Fwww.googleapis.com%2Fauth%2Fcompute+https%3A%2F%2Fwww.googleapis.com%2Fauth%2Faccounts.reauth\n",
      "\n",
      "\n",
      "\n",
      "You are now logged in as [student-02-b97575b6b46d@qwiklabs.net].\n",
      "Your current project is [ml-practice-260405].  You can change this setting by running:\n",
      "  $ gcloud config set project PROJECT_ID\n"
     ]
    }
   ],
   "source": [
    "%%bash\n",
    "gcloud auth login $ACCOUNT --force"
   ]
  },
  {
   "cell_type": "markdown",
   "metadata": {},
   "source": [
    "# Set Current Project"
   ]
  },
  {
   "cell_type": "code",
   "execution_count": 5,
   "metadata": {},
   "outputs": [
    {
     "name": "stderr",
     "output_type": "stream",
     "text": [
      "Updated property [core/project].\n"
     ]
    }
   ],
   "source": [
    "%%bash\n",
    "gcloud config set project $PROJECT"
   ]
  },
  {
   "cell_type": "markdown",
   "metadata": {},
   "source": [
    "# Create Servic Account For Jupyter Notebook"
   ]
  },
  {
   "cell_type": "code",
   "execution_count": 6,
   "metadata": {},
   "outputs": [
    {
     "name": "stderr",
     "output_type": "stream",
     "text": [
      "Created service account [qwik-jupyter-notebook-sac-f].\n"
     ]
    }
   ],
   "source": [
    "%%bash\n",
    "gcloud iam service-accounts create $SAC \\\n",
    "    --description \"This service account will help us to connect local jupyter notebook with server\" \\\n",
    "    --display-name \"jupyter-sac\""
   ]
  },
  {
   "cell_type": "markdown",
   "metadata": {},
   "source": [
    "# See the list of service account"
   ]
  },
  {
   "cell_type": "code",
   "execution_count": 7,
   "metadata": {},
   "outputs": [
    {
     "name": "stdout",
     "output_type": "stream",
     "text": [
      "NAME                                    EMAIL                                                                              DISABLED\n",
      "App Engine default service account      qwiklabs-gcp-02-3fc87b630759@appspot.gserviceaccount.com                           False\n",
      "Qwiklabs User Service Account           qwiklabs-gcp-02-3fc87b630759@qwiklabs-gcp-02-3fc87b630759.iam.gserviceaccount.com  False\n",
      "Compute Engine default service account  479366137344-compute@developer.gserviceaccount.com                                 False\n",
      "jupyter-sac                             qwik-jupyter-notebook-sac-f@qwiklabs-gcp-02-3fc87b630759.iam.gserviceaccount.com   False\n"
     ]
    }
   ],
   "source": [
    "%%bash\n",
    "gcloud iam service-accounts list"
   ]
  },
  {
   "cell_type": "markdown",
   "metadata": {},
   "source": [
    "# Enabling The Service Account"
   ]
  },
  {
   "cell_type": "code",
   "execution_count": 8,
   "metadata": {},
   "outputs": [
    {
     "name": "stderr",
     "output_type": "stream",
     "text": [
      "Enabled service account [qwik-jupyter-notebook-sac-f@qwiklabs-gcp-02-3fc87b630759.iam.gserviceaccount.com].\n"
     ]
    }
   ],
   "source": [
    "%%bash\n",
    "gcloud iam service-accounts enable $SAC@$PROJECT.iam.gserviceaccount.com --project $PROJECT"
   ]
  },
  {
   "cell_type": "markdown",
   "metadata": {},
   "source": [
    "# Create New Key For Above Service Account"
   ]
  },
  {
   "cell_type": "code",
   "execution_count": 9,
   "metadata": {},
   "outputs": [
    {
     "name": "stderr",
     "output_type": "stream",
     "text": [
      "created key [8fa3767f3b10e5ce7638f711d728d548b714c04e] of type [json] as [/media/mujahid7292/Data/Gcloud_Tem_SAC/qwik-jupyter-notebook-sac-f.json] for [qwik-jupyter-notebook-sac-f@qwiklabs-gcp-02-3fc87b630759.iam.gserviceaccount.com]\n"
     ]
    }
   ],
   "source": [
    "%%bash\n",
    "gcloud iam service-accounts keys create $SAC_KEY_DESTINATION/$SAC.json \\\n",
    "  --iam-account $SAC@$PROJECT.iam.gserviceaccount.com \\\n",
    "  --project $PROJECT"
   ]
  },
  {
   "cell_type": "markdown",
   "metadata": {},
   "source": [
    "It may take up to 60 seconds before a newly created key can be used for authentication. If you experience authentication failures immediately after creating a new key, ensure that 60 seconds have elapsed before trying again."
   ]
  },
  {
   "cell_type": "markdown",
   "metadata": {},
   "source": [
    "# Activate the service account with above key"
   ]
  },
  {
   "cell_type": "code",
   "execution_count": 10,
   "metadata": {},
   "outputs": [
    {
     "name": "stderr",
     "output_type": "stream",
     "text": [
      "Activated service account credentials for: [qwik-jupyter-notebook-sac-f@qwiklabs-gcp-02-3fc87b630759.iam.gserviceaccount.com]\n"
     ]
    }
   ],
   "source": [
    "%%bash\n",
    "gcloud auth activate-service-account \\\n",
    "--key-file=${SAC_KEY_DESTINATION}/${SAC}.json"
   ]
  },
  {
   "cell_type": "markdown",
   "metadata": {},
   "source": [
    "# Set Google Application Credentials"
   ]
  },
  {
   "cell_type": "code",
   "execution_count": 11,
   "metadata": {},
   "outputs": [],
   "source": [
    "os.environ[\"GOOGLE_APPLICATION_CREDENTIALS\"]='{}/{}.json'.format(SAC_KEY_DESTINATION,SAC)"
   ]
  },
  {
   "cell_type": "markdown",
   "metadata": {},
   "source": [
    "Check Whether Google Application Credential Was Set Successfully Outside Virtual Environment"
   ]
  },
  {
   "cell_type": "code",
   "execution_count": 12,
   "metadata": {},
   "outputs": [
    {
     "name": "stdout",
     "output_type": "stream",
     "text": [
      "GOOGLE_APPLICATION_CREDENTIALS=/media/mujahid7292/Data/Gcloud_Tem_SAC/qwik-jupyter-notebook-sac-f.json\n"
     ]
    }
   ],
   "source": [
    "%%bash\n",
    "set | grep GOOGLE_APPLICATION_CREDENTIALS "
   ]
  },
  {
   "cell_type": "markdown",
   "metadata": {},
   "source": [
    "# Set Default Project And Region"
   ]
  },
  {
   "cell_type": "code",
   "execution_count": 13,
   "metadata": {},
   "outputs": [
    {
     "name": "stderr",
     "output_type": "stream",
     "text": [
      "Updated property [core/account].\n",
      "Updated property [core/project].\n",
      "Updated property [compute/region].\n"
     ]
    }
   ],
   "source": [
    "%%bash\n",
    "gcloud config set account $ACCOUNT\n",
    "gcloud config set project $PROJECT\n",
    "gcloud config set compute/region $REGION"
   ]
  },
  {
   "cell_type": "markdown",
   "metadata": {},
   "source": [
    "# Give BigQuery Access Permision To This Service Account"
   ]
  },
  {
   "cell_type": "code",
   "execution_count": 14,
   "metadata": {
    "collapsed": true
   },
   "outputs": [
    {
     "name": "stdout",
     "output_type": "stream",
     "text": [
      "bindings:\n",
      "- members:\n",
      "  - serviceAccount:qwiklabs-gcp-02-3fc87b630759@qwiklabs-gcp-02-3fc87b630759.iam.gserviceaccount.com\n",
      "  - user:student-02-b97575b6b46d@qwiklabs.net\n",
      "  role: roles/appengine.appAdmin\n",
      "- members:\n",
      "  - serviceAccount:service-479366137344@gae-api-prod.google.com.iam.gserviceaccount.com\n",
      "  role: roles/appengineflex.serviceAgent\n",
      "- members:\n",
      "  - serviceAccount:qwik-jupyter-notebook-sac-f@qwiklabs-gcp-02-3fc87b630759.iam.gserviceaccount.com\n",
      "  - serviceAccount:qwiklabs-gcp-02-3fc87b630759@qwiklabs-gcp-02-3fc87b630759.iam.gserviceaccount.com\n",
      "  - user:student-02-b97575b6b46d@qwiklabs.net\n",
      "  role: roles/bigquery.admin\n",
      "- members:\n",
      "  - serviceAccount:service-479366137344@gcp-sa-bigquerydatatransfer.iam.gserviceaccount.com\n",
      "  role: roles/bigquerydatatransfer.serviceAgent\n",
      "- members:\n",
      "  - serviceAccount:479366137344@cloudbuild.gserviceaccount.com\n",
      "  role: roles/cloudbuild.builds.builder\n",
      "- members:\n",
      "  - serviceAccount:service-479366137344@gcp-sa-cloudbuild.iam.gserviceaccount.com\n",
      "  role: roles/cloudbuild.serviceAgent\n",
      "- members:\n",
      "  - serviceAccount:service-479366137344@gcf-admin-robot.iam.gserviceaccount.com\n",
      "  role: roles/cloudfunctions.serviceAgent\n",
      "- members:\n",
      "  - serviceAccount:service-479366137344@gcp-sa-cloudiot.iam.gserviceaccount.com\n",
      "  role: roles/cloudiot.serviceAgent\n",
      "- members:\n",
      "  - serviceAccount:service-479366137344@gcp-sa-cloudtasks.iam.gserviceaccount.com\n",
      "  role: roles/cloudtasks.serviceAgent\n",
      "- members:\n",
      "  - serviceAccount:service-479366137344@cloudcomposer-accounts.iam.gserviceaccount.com\n",
      "  role: roles/composer.serviceAgent\n",
      "- members:\n",
      "  - serviceAccount:qwiklabs-gcp-02-3fc87b630759@qwiklabs-gcp-02-3fc87b630759.iam.gserviceaccount.com\n",
      "  - user:student-02-b97575b6b46d@qwiklabs.net\n",
      "  role: roles/compute.admin\n",
      "- members:\n",
      "  - serviceAccount:service-479366137344@compute-system.iam.gserviceaccount.com\n",
      "  role: roles/compute.serviceAgent\n",
      "- members:\n",
      "  - serviceAccount:service-479366137344@container-engine-robot.iam.gserviceaccount.com\n",
      "  role: roles/container.serviceAgent\n",
      "- members:\n",
      "  - serviceAccount:service-479366137344@container-analysis.iam.gserviceaccount.com\n",
      "  role: roles/containeranalysis.ServiceAgent\n",
      "- members:\n",
      "  - serviceAccount:service-479366137344@gcp-sa-containerscanning.iam.gserviceaccount.com\n",
      "  role: roles/containerscanning.ServiceAgent\n",
      "- members:\n",
      "  - serviceAccount:qwiklabs-gcp-02-3fc87b630759@qwiklabs-gcp-02-3fc87b630759.iam.gserviceaccount.com\n",
      "  - user:student-02-b97575b6b46d@qwiklabs.net\n",
      "  role: roles/dataflow.admin\n",
      "- members:\n",
      "  - serviceAccount:service-479366137344@dataflow-service-producer-prod.iam.gserviceaccount.com\n",
      "  role: roles/dataflow.serviceAgent\n",
      "- members:\n",
      "  - serviceAccount:service-479366137344@dataproc-accounts.iam.gserviceaccount.com\n",
      "  role: roles/dataproc.serviceAgent\n",
      "- members:\n",
      "  - serviceAccount:service-479366137344@dlp-api.iam.gserviceaccount.com\n",
      "  role: roles/dlp.serviceAgent\n",
      "- members:\n",
      "  - serviceAccount:479366137344-compute@developer.gserviceaccount.com\n",
      "  - serviceAccount:479366137344@cloudservices.gserviceaccount.com\n",
      "  - serviceAccount:qwiklabs-gcp-02-3fc87b630759@appspot.gserviceaccount.com\n",
      "  - serviceAccount:qwiklabs-gcp-02-3fc87b630759@qwiklabs-gcp-02-3fc87b630759.iam.gserviceaccount.com\n",
      "  - serviceAccount:service-479366137344@containerregistry.iam.gserviceaccount.com\n",
      "  - user:student-02-b97575b6b46d@qwiklabs.net\n",
      "  role: roles/editor\n",
      "- members:\n",
      "  - serviceAccount:service-479366137344@firebase-rules.iam.gserviceaccount.com\n",
      "  role: roles/firebaserules.system\n",
      "- members:\n",
      "  - serviceAccount:service-479366137344@genomics-api.google.com.iam.gserviceaccount.com\n",
      "  role: roles/genomics.serviceAgent\n",
      "- members:\n",
      "  - serviceAccount:qwiklabs-gcp-02-3fc87b630759@qwiklabs-gcp-02-3fc87b630759.iam.gserviceaccount.com\n",
      "  - user:student-02-b97575b6b46d@qwiklabs.net\n",
      "  role: roles/iam.serviceAccountAdmin\n",
      "- members:\n",
      "  - serviceAccount:qwiklabs-gcp-02-3fc87b630759@qwiklabs-gcp-02-3fc87b630759.iam.gserviceaccount.com\n",
      "  - user:student-02-b97575b6b46d@qwiklabs.net\n",
      "  role: roles/ml.admin\n",
      "- members:\n",
      "  - serviceAccount:service-479366137344@cloud-ml.google.com.iam.gserviceaccount.com\n",
      "  role: roles/ml.serviceAgent\n",
      "- members:\n",
      "  - serviceAccount:admiral@qwiklabs-services-prod.iam.gserviceaccount.com\n",
      "  - serviceAccount:qwiklabs-gcp-02-3fc87b630759@qwiklabs-gcp-02-3fc87b630759.iam.gserviceaccount.com\n",
      "  - user:student-02-b97575b6b46d@qwiklabs.net\n",
      "  role: roles/owner\n",
      "- members:\n",
      "  - serviceAccount:qwiklabs-gcp-02-3fc87b630759@qwiklabs-gcp-02-3fc87b630759.iam.gserviceaccount.com\n",
      "  - user:student-02-b97575b6b46d@qwiklabs.net\n",
      "  role: roles/source.admin\n",
      "- members:\n",
      "  - serviceAccount:service-479366137344@sourcerepo-service-accounts.iam.gserviceaccount.com\n",
      "  role: roles/sourcerepo.serviceAgent\n",
      "- members:\n",
      "  - serviceAccount:qwiklabs-gcp-02-3fc87b630759@qwiklabs-gcp-02-3fc87b630759.iam.gserviceaccount.com\n",
      "  - user:student-02-b97575b6b46d@qwiklabs.net\n",
      "  role: roles/storage.admin\n",
      "- members:\n",
      "  - serviceAccount:qwiklabs-gcp-02-3fc87b630759@qwiklabs-gcp-02-3fc87b630759.iam.gserviceaccount.com\n",
      "  - user:student-02-b97575b6b46d@qwiklabs.net\n",
      "  role: roles/viewer\n",
      "etag: BwWkPvb0J4A=\n",
      "version: 1\n"
     ]
    },
    {
     "name": "stderr",
     "output_type": "stream",
     "text": [
      "Updated IAM policy for project [qwiklabs-gcp-02-3fc87b630759].\n"
     ]
    }
   ],
   "source": [
    "%%bash\n",
    "gcloud projects add-iam-policy-binding $PROJECT \\\n",
    "    --member serviceAccount:$SAC@$PROJECT.iam.gserviceaccount.com \\\n",
    "    --role roles/bigquery.admin"
   ]
  },
  {
   "cell_type": "markdown",
   "metadata": {},
   "source": [
    "# Give GCS Access Permision To This Service Account"
   ]
  },
  {
   "cell_type": "code",
   "execution_count": 15,
   "metadata": {
    "collapsed": true
   },
   "outputs": [
    {
     "name": "stdout",
     "output_type": "stream",
     "text": [
      "bindings:\n",
      "- members:\n",
      "  - serviceAccount:qwiklabs-gcp-02-3fc87b630759@qwiklabs-gcp-02-3fc87b630759.iam.gserviceaccount.com\n",
      "  - user:student-02-b97575b6b46d@qwiklabs.net\n",
      "  role: roles/appengine.appAdmin\n",
      "- members:\n",
      "  - serviceAccount:service-479366137344@gae-api-prod.google.com.iam.gserviceaccount.com\n",
      "  role: roles/appengineflex.serviceAgent\n",
      "- members:\n",
      "  - serviceAccount:qwik-jupyter-notebook-sac-f@qwiklabs-gcp-02-3fc87b630759.iam.gserviceaccount.com\n",
      "  - serviceAccount:qwiklabs-gcp-02-3fc87b630759@qwiklabs-gcp-02-3fc87b630759.iam.gserviceaccount.com\n",
      "  - user:student-02-b97575b6b46d@qwiklabs.net\n",
      "  role: roles/bigquery.admin\n",
      "- members:\n",
      "  - serviceAccount:service-479366137344@gcp-sa-bigquerydatatransfer.iam.gserviceaccount.com\n",
      "  role: roles/bigquerydatatransfer.serviceAgent\n",
      "- members:\n",
      "  - serviceAccount:479366137344@cloudbuild.gserviceaccount.com\n",
      "  role: roles/cloudbuild.builds.builder\n",
      "- members:\n",
      "  - serviceAccount:service-479366137344@gcp-sa-cloudbuild.iam.gserviceaccount.com\n",
      "  role: roles/cloudbuild.serviceAgent\n",
      "- members:\n",
      "  - serviceAccount:service-479366137344@gcf-admin-robot.iam.gserviceaccount.com\n",
      "  role: roles/cloudfunctions.serviceAgent\n",
      "- members:\n",
      "  - serviceAccount:service-479366137344@gcp-sa-cloudiot.iam.gserviceaccount.com\n",
      "  role: roles/cloudiot.serviceAgent\n",
      "- members:\n",
      "  - serviceAccount:service-479366137344@gcp-sa-cloudtasks.iam.gserviceaccount.com\n",
      "  role: roles/cloudtasks.serviceAgent\n",
      "- members:\n",
      "  - serviceAccount:service-479366137344@cloudcomposer-accounts.iam.gserviceaccount.com\n",
      "  role: roles/composer.serviceAgent\n",
      "- members:\n",
      "  - serviceAccount:qwiklabs-gcp-02-3fc87b630759@qwiklabs-gcp-02-3fc87b630759.iam.gserviceaccount.com\n",
      "  - user:student-02-b97575b6b46d@qwiklabs.net\n",
      "  role: roles/compute.admin\n",
      "- members:\n",
      "  - serviceAccount:service-479366137344@compute-system.iam.gserviceaccount.com\n",
      "  role: roles/compute.serviceAgent\n",
      "- members:\n",
      "  - serviceAccount:service-479366137344@container-engine-robot.iam.gserviceaccount.com\n",
      "  role: roles/container.serviceAgent\n",
      "- members:\n",
      "  - serviceAccount:service-479366137344@container-analysis.iam.gserviceaccount.com\n",
      "  role: roles/containeranalysis.ServiceAgent\n",
      "- members:\n",
      "  - serviceAccount:service-479366137344@gcp-sa-containerscanning.iam.gserviceaccount.com\n",
      "  role: roles/containerscanning.ServiceAgent\n",
      "- members:\n",
      "  - serviceAccount:qwiklabs-gcp-02-3fc87b630759@qwiklabs-gcp-02-3fc87b630759.iam.gserviceaccount.com\n",
      "  - user:student-02-b97575b6b46d@qwiklabs.net\n",
      "  role: roles/dataflow.admin\n",
      "- members:\n",
      "  - serviceAccount:service-479366137344@dataflow-service-producer-prod.iam.gserviceaccount.com\n",
      "  role: roles/dataflow.serviceAgent\n",
      "- members:\n",
      "  - serviceAccount:service-479366137344@dataproc-accounts.iam.gserviceaccount.com\n",
      "  role: roles/dataproc.serviceAgent\n",
      "- members:\n",
      "  - serviceAccount:service-479366137344@dlp-api.iam.gserviceaccount.com\n",
      "  role: roles/dlp.serviceAgent\n",
      "- members:\n",
      "  - serviceAccount:479366137344-compute@developer.gserviceaccount.com\n",
      "  - serviceAccount:479366137344@cloudservices.gserviceaccount.com\n",
      "  - serviceAccount:qwiklabs-gcp-02-3fc87b630759@appspot.gserviceaccount.com\n",
      "  - serviceAccount:qwiklabs-gcp-02-3fc87b630759@qwiklabs-gcp-02-3fc87b630759.iam.gserviceaccount.com\n",
      "  - serviceAccount:service-479366137344@containerregistry.iam.gserviceaccount.com\n",
      "  - user:student-02-b97575b6b46d@qwiklabs.net\n",
      "  role: roles/editor\n",
      "- members:\n",
      "  - serviceAccount:service-479366137344@firebase-rules.iam.gserviceaccount.com\n",
      "  role: roles/firebaserules.system\n",
      "- members:\n",
      "  - serviceAccount:service-479366137344@genomics-api.google.com.iam.gserviceaccount.com\n",
      "  role: roles/genomics.serviceAgent\n",
      "- members:\n",
      "  - serviceAccount:qwiklabs-gcp-02-3fc87b630759@qwiklabs-gcp-02-3fc87b630759.iam.gserviceaccount.com\n",
      "  - user:student-02-b97575b6b46d@qwiklabs.net\n",
      "  role: roles/iam.serviceAccountAdmin\n",
      "- members:\n",
      "  - serviceAccount:qwiklabs-gcp-02-3fc87b630759@qwiklabs-gcp-02-3fc87b630759.iam.gserviceaccount.com\n",
      "  - user:student-02-b97575b6b46d@qwiklabs.net\n",
      "  role: roles/ml.admin\n",
      "- members:\n",
      "  - serviceAccount:service-479366137344@cloud-ml.google.com.iam.gserviceaccount.com\n",
      "  role: roles/ml.serviceAgent\n",
      "- members:\n",
      "  - serviceAccount:admiral@qwiklabs-services-prod.iam.gserviceaccount.com\n",
      "  - serviceAccount:qwiklabs-gcp-02-3fc87b630759@qwiklabs-gcp-02-3fc87b630759.iam.gserviceaccount.com\n",
      "  - user:student-02-b97575b6b46d@qwiklabs.net\n",
      "  role: roles/owner\n",
      "- members:\n",
      "  - serviceAccount:qwiklabs-gcp-02-3fc87b630759@qwiklabs-gcp-02-3fc87b630759.iam.gserviceaccount.com\n",
      "  - user:student-02-b97575b6b46d@qwiklabs.net\n",
      "  role: roles/source.admin\n",
      "- members:\n",
      "  - serviceAccount:service-479366137344@sourcerepo-service-accounts.iam.gserviceaccount.com\n",
      "  role: roles/sourcerepo.serviceAgent\n",
      "- members:\n",
      "  - serviceAccount:qwik-jupyter-notebook-sac-f@qwiklabs-gcp-02-3fc87b630759.iam.gserviceaccount.com\n",
      "  - serviceAccount:qwiklabs-gcp-02-3fc87b630759@qwiklabs-gcp-02-3fc87b630759.iam.gserviceaccount.com\n",
      "  - user:student-02-b97575b6b46d@qwiklabs.net\n",
      "  role: roles/storage.admin\n",
      "- members:\n",
      "  - serviceAccount:qwiklabs-gcp-02-3fc87b630759@qwiklabs-gcp-02-3fc87b630759.iam.gserviceaccount.com\n",
      "  - user:student-02-b97575b6b46d@qwiklabs.net\n",
      "  role: roles/viewer\n",
      "etag: BwWkPvdb8mM=\n",
      "version: 1\n"
     ]
    },
    {
     "name": "stderr",
     "output_type": "stream",
     "text": [
      "Updated IAM policy for project [qwiklabs-gcp-02-3fc87b630759].\n"
     ]
    }
   ],
   "source": [
    "%%bash\n",
    "gcloud projects add-iam-policy-binding $PROJECT \\\n",
    "    --member serviceAccount:$SAC@$PROJECT.iam.gserviceaccount.com \\\n",
    "    --role roles/storage.admin"
   ]
  },
  {
   "cell_type": "markdown",
   "metadata": {},
   "source": [
    "# Give AI Platform Access Permision To This Service Account"
   ]
  },
  {
   "cell_type": "code",
   "execution_count": 16,
   "metadata": {
    "collapsed": true
   },
   "outputs": [
    {
     "name": "stdout",
     "output_type": "stream",
     "text": [
      "bindings:\n",
      "- members:\n",
      "  - serviceAccount:qwiklabs-gcp-02-3fc87b630759@qwiklabs-gcp-02-3fc87b630759.iam.gserviceaccount.com\n",
      "  - user:student-02-b97575b6b46d@qwiklabs.net\n",
      "  role: roles/appengine.appAdmin\n",
      "- members:\n",
      "  - serviceAccount:service-479366137344@gae-api-prod.google.com.iam.gserviceaccount.com\n",
      "  role: roles/appengineflex.serviceAgent\n",
      "- members:\n",
      "  - serviceAccount:qwik-jupyter-notebook-sac-f@qwiklabs-gcp-02-3fc87b630759.iam.gserviceaccount.com\n",
      "  - serviceAccount:qwiklabs-gcp-02-3fc87b630759@qwiklabs-gcp-02-3fc87b630759.iam.gserviceaccount.com\n",
      "  - user:student-02-b97575b6b46d@qwiklabs.net\n",
      "  role: roles/bigquery.admin\n",
      "- members:\n",
      "  - serviceAccount:service-479366137344@gcp-sa-bigquerydatatransfer.iam.gserviceaccount.com\n",
      "  role: roles/bigquerydatatransfer.serviceAgent\n",
      "- members:\n",
      "  - serviceAccount:479366137344@cloudbuild.gserviceaccount.com\n",
      "  role: roles/cloudbuild.builds.builder\n",
      "- members:\n",
      "  - serviceAccount:service-479366137344@gcp-sa-cloudbuild.iam.gserviceaccount.com\n",
      "  role: roles/cloudbuild.serviceAgent\n",
      "- members:\n",
      "  - serviceAccount:service-479366137344@gcf-admin-robot.iam.gserviceaccount.com\n",
      "  role: roles/cloudfunctions.serviceAgent\n",
      "- members:\n",
      "  - serviceAccount:service-479366137344@gcp-sa-cloudiot.iam.gserviceaccount.com\n",
      "  role: roles/cloudiot.serviceAgent\n",
      "- members:\n",
      "  - serviceAccount:service-479366137344@gcp-sa-cloudtasks.iam.gserviceaccount.com\n",
      "  role: roles/cloudtasks.serviceAgent\n",
      "- members:\n",
      "  - serviceAccount:service-479366137344@cloudcomposer-accounts.iam.gserviceaccount.com\n",
      "  role: roles/composer.serviceAgent\n",
      "- members:\n",
      "  - serviceAccount:qwiklabs-gcp-02-3fc87b630759@qwiklabs-gcp-02-3fc87b630759.iam.gserviceaccount.com\n",
      "  - user:student-02-b97575b6b46d@qwiklabs.net\n",
      "  role: roles/compute.admin\n",
      "- members:\n",
      "  - serviceAccount:service-479366137344@compute-system.iam.gserviceaccount.com\n",
      "  role: roles/compute.serviceAgent\n",
      "- members:\n",
      "  - serviceAccount:service-479366137344@container-engine-robot.iam.gserviceaccount.com\n",
      "  role: roles/container.serviceAgent\n",
      "- members:\n",
      "  - serviceAccount:service-479366137344@container-analysis.iam.gserviceaccount.com\n",
      "  role: roles/containeranalysis.ServiceAgent\n",
      "- members:\n",
      "  - serviceAccount:service-479366137344@gcp-sa-containerscanning.iam.gserviceaccount.com\n",
      "  role: roles/containerscanning.ServiceAgent\n",
      "- members:\n",
      "  - serviceAccount:qwiklabs-gcp-02-3fc87b630759@qwiklabs-gcp-02-3fc87b630759.iam.gserviceaccount.com\n",
      "  - user:student-02-b97575b6b46d@qwiklabs.net\n",
      "  role: roles/dataflow.admin\n",
      "- members:\n",
      "  - serviceAccount:service-479366137344@dataflow-service-producer-prod.iam.gserviceaccount.com\n",
      "  role: roles/dataflow.serviceAgent\n",
      "- members:\n",
      "  - serviceAccount:service-479366137344@dataproc-accounts.iam.gserviceaccount.com\n",
      "  role: roles/dataproc.serviceAgent\n",
      "- members:\n",
      "  - serviceAccount:service-479366137344@dlp-api.iam.gserviceaccount.com\n",
      "  role: roles/dlp.serviceAgent\n",
      "- members:\n",
      "  - serviceAccount:479366137344-compute@developer.gserviceaccount.com\n",
      "  - serviceAccount:479366137344@cloudservices.gserviceaccount.com\n",
      "  - serviceAccount:qwiklabs-gcp-02-3fc87b630759@appspot.gserviceaccount.com\n",
      "  - serviceAccount:qwiklabs-gcp-02-3fc87b630759@qwiklabs-gcp-02-3fc87b630759.iam.gserviceaccount.com\n",
      "  - serviceAccount:service-479366137344@containerregistry.iam.gserviceaccount.com\n",
      "  - user:student-02-b97575b6b46d@qwiklabs.net\n",
      "  role: roles/editor\n",
      "- members:\n",
      "  - serviceAccount:service-479366137344@firebase-rules.iam.gserviceaccount.com\n",
      "  role: roles/firebaserules.system\n",
      "- members:\n",
      "  - serviceAccount:service-479366137344@genomics-api.google.com.iam.gserviceaccount.com\n",
      "  role: roles/genomics.serviceAgent\n",
      "- members:\n",
      "  - serviceAccount:qwiklabs-gcp-02-3fc87b630759@qwiklabs-gcp-02-3fc87b630759.iam.gserviceaccount.com\n",
      "  - user:student-02-b97575b6b46d@qwiklabs.net\n",
      "  role: roles/iam.serviceAccountAdmin\n",
      "- members:\n",
      "  - serviceAccount:qwik-jupyter-notebook-sac-f@qwiklabs-gcp-02-3fc87b630759.iam.gserviceaccount.com\n",
      "  - serviceAccount:qwiklabs-gcp-02-3fc87b630759@qwiklabs-gcp-02-3fc87b630759.iam.gserviceaccount.com\n",
      "  - user:student-02-b97575b6b46d@qwiklabs.net\n",
      "  role: roles/ml.admin\n",
      "- members:\n",
      "  - serviceAccount:service-479366137344@cloud-ml.google.com.iam.gserviceaccount.com\n",
      "  role: roles/ml.serviceAgent\n",
      "- members:\n",
      "  - serviceAccount:admiral@qwiklabs-services-prod.iam.gserviceaccount.com\n",
      "  - serviceAccount:qwiklabs-gcp-02-3fc87b630759@qwiklabs-gcp-02-3fc87b630759.iam.gserviceaccount.com\n",
      "  - user:student-02-b97575b6b46d@qwiklabs.net\n",
      "  role: roles/owner\n",
      "- members:\n",
      "  - serviceAccount:qwiklabs-gcp-02-3fc87b630759@qwiklabs-gcp-02-3fc87b630759.iam.gserviceaccount.com\n",
      "  - user:student-02-b97575b6b46d@qwiklabs.net\n",
      "  role: roles/source.admin\n",
      "- members:\n",
      "  - serviceAccount:service-479366137344@sourcerepo-service-accounts.iam.gserviceaccount.com\n",
      "  role: roles/sourcerepo.serviceAgent\n",
      "- members:\n",
      "  - serviceAccount:qwik-jupyter-notebook-sac-f@qwiklabs-gcp-02-3fc87b630759.iam.gserviceaccount.com\n",
      "  - serviceAccount:qwiklabs-gcp-02-3fc87b630759@qwiklabs-gcp-02-3fc87b630759.iam.gserviceaccount.com\n",
      "  - user:student-02-b97575b6b46d@qwiklabs.net\n",
      "  role: roles/storage.admin\n",
      "- members:\n",
      "  - serviceAccount:qwiklabs-gcp-02-3fc87b630759@qwiklabs-gcp-02-3fc87b630759.iam.gserviceaccount.com\n",
      "  - user:student-02-b97575b6b46d@qwiklabs.net\n",
      "  role: roles/viewer\n",
      "etag: BwWkPvemovg=\n",
      "version: 1\n"
     ]
    },
    {
     "name": "stderr",
     "output_type": "stream",
     "text": [
      "Updated IAM policy for project [qwiklabs-gcp-02-3fc87b630759].\n"
     ]
    }
   ],
   "source": [
    "%%bash\n",
    "gcloud projects add-iam-policy-binding $PROJECT \\\n",
    "    --member serviceAccount:$SAC@$PROJECT.iam.gserviceaccount.com \\\n",
    "    --role roles/ml.admin"
   ]
  },
  {
   "cell_type": "markdown",
   "metadata": {},
   "source": [
    "## Give Dataflow Access Permission To This Service Account"
   ]
  },
  {
   "cell_type": "code",
   "execution_count": 17,
   "metadata": {},
   "outputs": [
    {
     "name": "stdout",
     "output_type": "stream",
     "text": [
      "bindings:\n",
      "- members:\n",
      "  - serviceAccount:qwiklabs-gcp-02-3fc87b630759@qwiklabs-gcp-02-3fc87b630759.iam.gserviceaccount.com\n",
      "  - user:student-02-b97575b6b46d@qwiklabs.net\n",
      "  role: roles/appengine.appAdmin\n",
      "- members:\n",
      "  - serviceAccount:service-479366137344@gae-api-prod.google.com.iam.gserviceaccount.com\n",
      "  role: roles/appengineflex.serviceAgent\n",
      "- members:\n",
      "  - serviceAccount:qwik-jupyter-notebook-sac-f@qwiklabs-gcp-02-3fc87b630759.iam.gserviceaccount.com\n",
      "  - serviceAccount:qwiklabs-gcp-02-3fc87b630759@qwiklabs-gcp-02-3fc87b630759.iam.gserviceaccount.com\n",
      "  - user:student-02-b97575b6b46d@qwiklabs.net\n",
      "  role: roles/bigquery.admin\n",
      "- members:\n",
      "  - serviceAccount:service-479366137344@gcp-sa-bigquerydatatransfer.iam.gserviceaccount.com\n",
      "  role: roles/bigquerydatatransfer.serviceAgent\n",
      "- members:\n",
      "  - serviceAccount:479366137344@cloudbuild.gserviceaccount.com\n",
      "  role: roles/cloudbuild.builds.builder\n",
      "- members:\n",
      "  - serviceAccount:service-479366137344@gcp-sa-cloudbuild.iam.gserviceaccount.com\n",
      "  role: roles/cloudbuild.serviceAgent\n",
      "- members:\n",
      "  - serviceAccount:service-479366137344@gcf-admin-robot.iam.gserviceaccount.com\n",
      "  role: roles/cloudfunctions.serviceAgent\n",
      "- members:\n",
      "  - serviceAccount:service-479366137344@gcp-sa-cloudiot.iam.gserviceaccount.com\n",
      "  role: roles/cloudiot.serviceAgent\n",
      "- members:\n",
      "  - serviceAccount:service-479366137344@gcp-sa-cloudtasks.iam.gserviceaccount.com\n",
      "  role: roles/cloudtasks.serviceAgent\n",
      "- members:\n",
      "  - serviceAccount:service-479366137344@cloudcomposer-accounts.iam.gserviceaccount.com\n",
      "  role: roles/composer.serviceAgent\n",
      "- members:\n",
      "  - serviceAccount:qwiklabs-gcp-02-3fc87b630759@qwiklabs-gcp-02-3fc87b630759.iam.gserviceaccount.com\n",
      "  - user:student-02-b97575b6b46d@qwiklabs.net\n",
      "  role: roles/compute.admin\n",
      "- members:\n",
      "  - serviceAccount:service-479366137344@compute-system.iam.gserviceaccount.com\n",
      "  role: roles/compute.serviceAgent\n",
      "- members:\n",
      "  - serviceAccount:service-479366137344@container-engine-robot.iam.gserviceaccount.com\n",
      "  role: roles/container.serviceAgent\n",
      "- members:\n",
      "  - serviceAccount:service-479366137344@container-analysis.iam.gserviceaccount.com\n",
      "  role: roles/containeranalysis.ServiceAgent\n",
      "- members:\n",
      "  - serviceAccount:service-479366137344@gcp-sa-containerscanning.iam.gserviceaccount.com\n",
      "  role: roles/containerscanning.ServiceAgent\n",
      "- members:\n",
      "  - serviceAccount:qwik-jupyter-notebook-sac-f@qwiklabs-gcp-02-3fc87b630759.iam.gserviceaccount.com\n",
      "  - serviceAccount:qwiklabs-gcp-02-3fc87b630759@qwiklabs-gcp-02-3fc87b630759.iam.gserviceaccount.com\n",
      "  - user:student-02-b97575b6b46d@qwiklabs.net\n",
      "  role: roles/dataflow.admin\n",
      "- members:\n",
      "  - serviceAccount:service-479366137344@dataflow-service-producer-prod.iam.gserviceaccount.com\n",
      "  role: roles/dataflow.serviceAgent\n",
      "- members:\n",
      "  - serviceAccount:service-479366137344@dataproc-accounts.iam.gserviceaccount.com\n",
      "  role: roles/dataproc.serviceAgent\n",
      "- members:\n",
      "  - serviceAccount:service-479366137344@dlp-api.iam.gserviceaccount.com\n",
      "  role: roles/dlp.serviceAgent\n",
      "- members:\n",
      "  - serviceAccount:479366137344-compute@developer.gserviceaccount.com\n",
      "  - serviceAccount:479366137344@cloudservices.gserviceaccount.com\n",
      "  - serviceAccount:qwiklabs-gcp-02-3fc87b630759@appspot.gserviceaccount.com\n",
      "  - serviceAccount:qwiklabs-gcp-02-3fc87b630759@qwiklabs-gcp-02-3fc87b630759.iam.gserviceaccount.com\n",
      "  - serviceAccount:service-479366137344@containerregistry.iam.gserviceaccount.com\n",
      "  - user:student-02-b97575b6b46d@qwiklabs.net\n",
      "  role: roles/editor\n",
      "- members:\n",
      "  - serviceAccount:service-479366137344@firebase-rules.iam.gserviceaccount.com\n",
      "  role: roles/firebaserules.system\n",
      "- members:\n",
      "  - serviceAccount:service-479366137344@genomics-api.google.com.iam.gserviceaccount.com\n",
      "  role: roles/genomics.serviceAgent\n",
      "- members:\n",
      "  - serviceAccount:qwiklabs-gcp-02-3fc87b630759@qwiklabs-gcp-02-3fc87b630759.iam.gserviceaccount.com\n",
      "  - user:student-02-b97575b6b46d@qwiklabs.net\n",
      "  role: roles/iam.serviceAccountAdmin\n",
      "- members:\n",
      "  - serviceAccount:qwik-jupyter-notebook-sac-f@qwiklabs-gcp-02-3fc87b630759.iam.gserviceaccount.com\n",
      "  - serviceAccount:qwiklabs-gcp-02-3fc87b630759@qwiklabs-gcp-02-3fc87b630759.iam.gserviceaccount.com\n",
      "  - user:student-02-b97575b6b46d@qwiklabs.net\n",
      "  role: roles/ml.admin\n",
      "- members:\n",
      "  - serviceAccount:service-479366137344@cloud-ml.google.com.iam.gserviceaccount.com\n",
      "  role: roles/ml.serviceAgent\n",
      "- members:\n",
      "  - serviceAccount:admiral@qwiklabs-services-prod.iam.gserviceaccount.com\n",
      "  - serviceAccount:qwiklabs-gcp-02-3fc87b630759@qwiklabs-gcp-02-3fc87b630759.iam.gserviceaccount.com\n",
      "  - user:student-02-b97575b6b46d@qwiklabs.net\n",
      "  role: roles/owner\n",
      "- members:\n",
      "  - serviceAccount:qwiklabs-gcp-02-3fc87b630759@qwiklabs-gcp-02-3fc87b630759.iam.gserviceaccount.com\n",
      "  - user:student-02-b97575b6b46d@qwiklabs.net\n",
      "  role: roles/source.admin\n",
      "- members:\n",
      "  - serviceAccount:service-479366137344@sourcerepo-service-accounts.iam.gserviceaccount.com\n",
      "  role: roles/sourcerepo.serviceAgent\n",
      "- members:\n",
      "  - serviceAccount:qwik-jupyter-notebook-sac-f@qwiklabs-gcp-02-3fc87b630759.iam.gserviceaccount.com\n",
      "  - serviceAccount:qwiklabs-gcp-02-3fc87b630759@qwiklabs-gcp-02-3fc87b630759.iam.gserviceaccount.com\n",
      "  - user:student-02-b97575b6b46d@qwiklabs.net\n",
      "  role: roles/storage.admin\n",
      "- members:\n",
      "  - serviceAccount:qwiklabs-gcp-02-3fc87b630759@qwiklabs-gcp-02-3fc87b630759.iam.gserviceaccount.com\n",
      "  - user:student-02-b97575b6b46d@qwiklabs.net\n",
      "  role: roles/viewer\n",
      "etag: BwWkQBO1eHY=\n",
      "version: 1\n"
     ]
    },
    {
     "name": "stderr",
     "output_type": "stream",
     "text": [
      "Updated IAM policy for project [qwiklabs-gcp-02-3fc87b630759].\n"
     ]
    }
   ],
   "source": [
    "%%bash\n",
    "gcloud projects add-iam-policy-binding $PROJECT \\\n",
    "    --member serviceAccount:$SAC@$PROJECT.iam.gserviceaccount.com \\\n",
    "    --role roles/dataflow.admin"
   ]
  },
  {
   "cell_type": "markdown",
   "metadata": {},
   "source": [
    "# Create GCS Bucket "
   ]
  },
  {
   "cell_type": "code",
   "execution_count": null,
   "metadata": {},
   "outputs": [],
   "source": [
    "%%bash\n",
    "if ! gsutil ls | grep -q gs://${BUCKET}/; then\n",
    "  gsutil mb -l ${REGION} -p ${PROJECT} gs://${BUCKET}\n",
    "  #gsutil mb -l us-east1 -p qwiklabs-gcp-02-3fc87b630759 gs://bucket-qwiklabs-gcp-02-3fc87b630759\n",
    "fi"
   ]
  },
  {
   "cell_type": "code",
   "execution_count": null,
   "metadata": {},
   "outputs": [],
   "source": []
  }
 ],
 "metadata": {
  "kernelspec": {
   "display_name": "Python 3",
   "language": "python",
   "name": "python3"
  },
  "language_info": {
   "codemirror_mode": {
    "name": "ipython",
    "version": 3
   },
   "file_extension": ".py",
   "mimetype": "text/x-python",
   "name": "python",
   "nbconvert_exporter": "python",
   "pygments_lexer": "ipython3",
   "version": "3.7.4"
  }
 },
 "nbformat": 4,
 "nbformat_minor": 2
}
