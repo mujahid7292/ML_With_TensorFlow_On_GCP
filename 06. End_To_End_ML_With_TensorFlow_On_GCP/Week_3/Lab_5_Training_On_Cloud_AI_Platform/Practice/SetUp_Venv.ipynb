{
 "cells": [
  {
   "cell_type": "markdown",
   "metadata": {},
   "source": [
    "# Enable Virtual Environment For This Notebook."
   ]
  },
  {
   "cell_type": "markdown",
   "metadata": {},
   "source": [
    "### Activate Conda Environment"
   ]
  },
  {
   "cell_type": "markdown",
   "metadata": {},
   "source": [
    "<b>`$ conda activate`</b>"
   ]
  },
  {
   "cell_type": "markdown",
   "metadata": {},
   "source": [
    "### Install Or Upgrade necessary software for virtual environment."
   ]
  },
  {
   "cell_type": "markdown",
   "metadata": {},
   "source": [
    "<b>`$ sudo apt-get install --upgrade python3-pip`</b>"
   ]
  },
  {
   "cell_type": "markdown",
   "metadata": {},
   "source": [
    "<b>`$ sudo pip3 install --upgrade virtualenv`</b>"
   ]
  },
  {
   "cell_type": "markdown",
   "metadata": {},
   "source": [
    "<b>`$ sudo pip3 install --upgrade setuptools`</b>"
   ]
  },
  {
   "cell_type": "markdown",
   "metadata": {},
   "source": [
    "Now we will go to the location of the directory, where we will create our virtual environment."
   ]
  },
  {
   "cell_type": "markdown",
   "metadata": {},
   "source": [
    "<b>`$ cd /media/mujahid7292/Data/GoogleDriveSandCorp2014/ML_With_TensorFlow_On_GCP/06. End_To_End_ML_With_TensorFlow_On_GCP/Week_3/Lab_5_Training_On_Cloud_AI_Platform/Practice`</b>"
   ]
  },
  {
   "cell_type": "markdown",
   "metadata": {},
   "source": [
    "### Deactivate conda environment"
   ]
  },
  {
   "cell_type": "markdown",
   "metadata": {},
   "source": [
    "<b>`$ conda deactivate`</b>"
   ]
  },
  {
   "cell_type": "markdown",
   "metadata": {},
   "source": [
    "### Create Virtual Environment"
   ]
  },
  {
   "cell_type": "markdown",
   "metadata": {},
   "source": [
    "<b>`$ virtualenv Venv`</b>"
   ]
  },
  {
   "cell_type": "markdown",
   "metadata": {},
   "source": [
    "### Activate newly created virtual environment"
   ]
  },
  {
   "cell_type": "markdown",
   "metadata": {},
   "source": [
    "<b>`$ source Venv/bin/activate`</b>"
   ]
  },
  {
   "cell_type": "markdown",
   "metadata": {},
   "source": [
    "<b>`$ (Venv) which python`</b>"
   ]
  },
  {
   "cell_type": "markdown",
   "metadata": {},
   "source": [
    "<b>`$ (Venv) pip list`</b>"
   ]
  },
  {
   "cell_type": "markdown",
   "metadata": {},
   "source": [
    "<b>`$ (Venv) pip3 install jupyter`</b>"
   ]
  },
  {
   "cell_type": "markdown",
   "metadata": {},
   "source": [
    "## <p style='color:red'>After installing jupyter notebook in the virtual environment, open this notebook from virtual environment.</p>"
   ]
  },
  {
   "cell_type": "code",
   "execution_count": null,
   "metadata": {},
   "outputs": [],
   "source": [
    "%%writefile requirements.txt\n",
    "numpy\n",
    "pandas\n",
    "tensorflow==1.8.0"
   ]
  },
  {
   "cell_type": "code",
   "execution_count": null,
   "metadata": {},
   "outputs": [],
   "source": [
    "%%bash\n",
    "pip3 install -r requirements.txt"
   ]
  },
  {
   "cell_type": "code",
   "execution_count": null,
   "metadata": {},
   "outputs": [],
   "source": [
    "%%bash\n",
    "pip3 list"
   ]
  },
  {
   "cell_type": "code",
   "execution_count": null,
   "metadata": {},
   "outputs": [],
   "source": [
    "%%bash\n",
    "which python"
   ]
  },
  {
   "cell_type": "code",
   "execution_count": null,
   "metadata": {},
   "outputs": [],
   "source": [
    "%%bash\n",
    "python --version"
   ]
  },
  {
   "cell_type": "markdown",
   "metadata": {},
   "source": [
    "# Notebook <a href=\"https://github.com/GoogleCloudPlatform/training-data-analyst/blob/master/courses/machine_learning/deepdive/06_structured/\">Link</a>"
   ]
  },
  {
   "cell_type": "markdown",
   "metadata": {},
   "source": [
    "# Necessary import of python package"
   ]
  },
  {
   "cell_type": "code",
   "execution_count": 3,
   "metadata": {},
   "outputs": [
    {
     "name": "stderr",
     "output_type": "stream",
     "text": [
      "/media/mujahid7292/Data/GoogleDriveSandCorp2014/ML_With_TensorFlow_On_GCP/06. End_To_End_ML_With_TensorFlow_On_GCP/Week_3/Lab_5_Training_On_Cloud_AI_Platform/Practice/Venv/lib/python3.6/site-packages/tensorflow/python/framework/dtypes.py:519: FutureWarning: Passing (type, 1) or '1type' as a synonym of type is deprecated; in a future version of numpy, it will be understood as (type, (1,)) / '(1,)type'.\n",
      "  _np_qint8 = np.dtype([(\"qint8\", np.int8, 1)])\n",
      "/media/mujahid7292/Data/GoogleDriveSandCorp2014/ML_With_TensorFlow_On_GCP/06. End_To_End_ML_With_TensorFlow_On_GCP/Week_3/Lab_5_Training_On_Cloud_AI_Platform/Practice/Venv/lib/python3.6/site-packages/tensorflow/python/framework/dtypes.py:520: FutureWarning: Passing (type, 1) or '1type' as a synonym of type is deprecated; in a future version of numpy, it will be understood as (type, (1,)) / '(1,)type'.\n",
      "  _np_quint8 = np.dtype([(\"quint8\", np.uint8, 1)])\n",
      "/media/mujahid7292/Data/GoogleDriveSandCorp2014/ML_With_TensorFlow_On_GCP/06. End_To_End_ML_With_TensorFlow_On_GCP/Week_3/Lab_5_Training_On_Cloud_AI_Platform/Practice/Venv/lib/python3.6/site-packages/tensorflow/python/framework/dtypes.py:521: FutureWarning: Passing (type, 1) or '1type' as a synonym of type is deprecated; in a future version of numpy, it will be understood as (type, (1,)) / '(1,)type'.\n",
      "  _np_qint16 = np.dtype([(\"qint16\", np.int16, 1)])\n",
      "/media/mujahid7292/Data/GoogleDriveSandCorp2014/ML_With_TensorFlow_On_GCP/06. End_To_End_ML_With_TensorFlow_On_GCP/Week_3/Lab_5_Training_On_Cloud_AI_Platform/Practice/Venv/lib/python3.6/site-packages/tensorflow/python/framework/dtypes.py:522: FutureWarning: Passing (type, 1) or '1type' as a synonym of type is deprecated; in a future version of numpy, it will be understood as (type, (1,)) / '(1,)type'.\n",
      "  _np_quint16 = np.dtype([(\"quint16\", np.uint16, 1)])\n",
      "/media/mujahid7292/Data/GoogleDriveSandCorp2014/ML_With_TensorFlow_On_GCP/06. End_To_End_ML_With_TensorFlow_On_GCP/Week_3/Lab_5_Training_On_Cloud_AI_Platform/Practice/Venv/lib/python3.6/site-packages/tensorflow/python/framework/dtypes.py:523: FutureWarning: Passing (type, 1) or '1type' as a synonym of type is deprecated; in a future version of numpy, it will be understood as (type, (1,)) / '(1,)type'.\n",
      "  _np_qint32 = np.dtype([(\"qint32\", np.int32, 1)])\n",
      "/media/mujahid7292/Data/GoogleDriveSandCorp2014/ML_With_TensorFlow_On_GCP/06. End_To_End_ML_With_TensorFlow_On_GCP/Week_3/Lab_5_Training_On_Cloud_AI_Platform/Practice/Venv/lib/python3.6/site-packages/tensorflow/python/framework/dtypes.py:528: FutureWarning: Passing (type, 1) or '1type' as a synonym of type is deprecated; in a future version of numpy, it will be understood as (type, (1,)) / '(1,)type'.\n",
      "  np_resource = np.dtype([(\"resource\", np.ubyte, 1)])\n"
     ]
    },
    {
     "name": "stdout",
     "output_type": "stream",
     "text": [
      "Tensorflow: 1.8.0\n"
     ]
    }
   ],
   "source": [
    "import os\n",
    "import tensorflow as tf\n",
    "print('Tensorflow: {}'.format(tf.__version__))"
   ]
  },
  {
   "cell_type": "markdown",
   "metadata": {},
   "source": [
    "# Python Variable"
   ]
  },
  {
   "cell_type": "code",
   "execution_count": 4,
   "metadata": {},
   "outputs": [],
   "source": [
    "# change these to try this notebook out\n",
    "ACCOUNT = 'student-04-972b7cf5493d@qwiklabs.net'\n",
    "SAC = 'jupyter-notebook-sac-e'\n",
    "SAC_KEY_DESTINATION = '/media/mujahid7292/Data/Gcloud_Tem_SAC'\n",
    "PROJECT = 'qwiklabs-gcp-04-e6818aa80ab4'\n",
    "BUCKET = 'bucket-qwiklabs-gcp-04-e6818aa80ab4'\n",
    "REGION = 'us-central1'"
   ]
  },
  {
   "cell_type": "markdown",
   "metadata": {},
   "source": [
    "# Bash Variable"
   ]
  },
  {
   "cell_type": "code",
   "execution_count": 5,
   "metadata": {},
   "outputs": [],
   "source": [
    "os.environ['ACCOUNT'] = ACCOUNT\n",
    "os.environ['SAC'] = SAC\n",
    "os.environ['SAC_KEY_DESTINATION'] = SAC_KEY_DESTINATION\n",
    "os.environ['BUCKET'] = BUCKET\n",
    "os.environ['PROJECT'] = PROJECT\n",
    "os.environ['REGION'] = REGION"
   ]
  },
  {
   "cell_type": "markdown",
   "metadata": {},
   "source": [
    "# LogIn To Google Cloud"
   ]
  },
  {
   "cell_type": "code",
   "execution_count": null,
   "metadata": {},
   "outputs": [],
   "source": [
    "%%bash\n",
    "gcloud auth login $ACCOUNT --force"
   ]
  },
  {
   "cell_type": "markdown",
   "metadata": {},
   "source": [
    "# Set Current Project"
   ]
  },
  {
   "cell_type": "code",
   "execution_count": 7,
   "metadata": {},
   "outputs": [
    {
     "name": "stderr",
     "output_type": "stream",
     "text": [
      "Updated property [core/project].\n"
     ]
    }
   ],
   "source": [
    "%%bash\n",
    "gcloud config set project $PROJECT"
   ]
  },
  {
   "cell_type": "markdown",
   "metadata": {},
   "source": [
    "# Create Servic Account For Jupyter Notebook"
   ]
  },
  {
   "cell_type": "code",
   "execution_count": 8,
   "metadata": {},
   "outputs": [
    {
     "name": "stderr",
     "output_type": "stream",
     "text": [
      "Created service account [jupyter-notebook-sac-e].\n"
     ]
    }
   ],
   "source": [
    "%%bash\n",
    "gcloud iam service-accounts create $SAC \\\n",
    "    --description \"This service account will help us to connect local jupyter notebook with server\" \\\n",
    "    --display-name \"jupyter-sac\""
   ]
  },
  {
   "cell_type": "markdown",
   "metadata": {},
   "source": [
    "# See the list of service account"
   ]
  },
  {
   "cell_type": "code",
   "execution_count": 9,
   "metadata": {},
   "outputs": [
    {
     "name": "stdout",
     "output_type": "stream",
     "text": [
      "NAME                                    EMAIL                                                                              DISABLED\n",
      "Compute Engine default service account  544686962573-compute@developer.gserviceaccount.com                                 False\n",
      "Qwiklabs User Service Account           qwiklabs-gcp-04-e6818aa80ab4@qwiklabs-gcp-04-e6818aa80ab4.iam.gserviceaccount.com  False\n",
      "App Engine default service account      qwiklabs-gcp-04-e6818aa80ab4@appspot.gserviceaccount.com                           False\n",
      "jupyter-sac                             jupyter-notebook-sac-e@qwiklabs-gcp-04-e6818aa80ab4.iam.gserviceaccount.com        False\n"
     ]
    }
   ],
   "source": [
    "%%bash\n",
    "gcloud iam service-accounts list"
   ]
  },
  {
   "cell_type": "markdown",
   "metadata": {},
   "source": [
    "# Enabling The Service Account"
   ]
  },
  {
   "cell_type": "code",
   "execution_count": 10,
   "metadata": {},
   "outputs": [
    {
     "name": "stderr",
     "output_type": "stream",
     "text": [
      "Enabled service account [jupyter-notebook-sac-e@qwiklabs-gcp-04-e6818aa80ab4.iam.gserviceaccount.com].\n"
     ]
    }
   ],
   "source": [
    "%%bash\n",
    "gcloud iam service-accounts enable $SAC@$PROJECT.iam.gserviceaccount.com --project $PROJECT"
   ]
  },
  {
   "cell_type": "markdown",
   "metadata": {},
   "source": [
    "# Create New Key For Above Service Account"
   ]
  },
  {
   "cell_type": "code",
   "execution_count": 11,
   "metadata": {},
   "outputs": [
    {
     "name": "stderr",
     "output_type": "stream",
     "text": [
      "created key [d10ccb0e0609fc9f58db5bc37c8aaafc1d197665] of type [json] as [/media/mujahid7292/Data/Gcloud_Tem_SAC/jupyter-notebook-sac-e.json] for [jupyter-notebook-sac-e@qwiklabs-gcp-04-e6818aa80ab4.iam.gserviceaccount.com]\n"
     ]
    }
   ],
   "source": [
    "%%bash\n",
    "gcloud iam service-accounts keys create $SAC_KEY_DESTINATION/$SAC.json \\\n",
    "  --iam-account $SAC@$PROJECT.iam.gserviceaccount.com \\\n",
    "  --project $PROJECT"
   ]
  },
  {
   "cell_type": "markdown",
   "metadata": {},
   "source": [
    "It may take up to 60 seconds before a newly created key can be used for authentication. If you experience authentication failures immediately after creating a new key, ensure that 60 seconds have elapsed before trying again."
   ]
  },
  {
   "cell_type": "markdown",
   "metadata": {},
   "source": [
    "# Activate the service account with above key"
   ]
  },
  {
   "cell_type": "code",
   "execution_count": 12,
   "metadata": {},
   "outputs": [
    {
     "name": "stderr",
     "output_type": "stream",
     "text": [
      "Activated service account credentials for: [jupyter-notebook-sac-e@qwiklabs-gcp-04-e6818aa80ab4.iam.gserviceaccount.com]\n"
     ]
    }
   ],
   "source": [
    "%%bash\n",
    "gcloud auth activate-service-account \\\n",
    "--key-file=${SAC_KEY_DESTINATION}/${SAC}.json"
   ]
  },
  {
   "cell_type": "markdown",
   "metadata": {},
   "source": [
    "# Set Google Application Credentials"
   ]
  },
  {
   "cell_type": "code",
   "execution_count": 13,
   "metadata": {},
   "outputs": [],
   "source": [
    "os.environ[\"GOOGLE_APPLICATION_CREDENTIALS\"]='{}/{}.json'.format(SAC_KEY_DESTINATION,SAC)"
   ]
  },
  {
   "cell_type": "markdown",
   "metadata": {},
   "source": [
    "Check Whether Google Application Credential Was Set Successfully Outside Virtual Environment"
   ]
  },
  {
   "cell_type": "code",
   "execution_count": 14,
   "metadata": {},
   "outputs": [
    {
     "name": "stdout",
     "output_type": "stream",
     "text": [
      "GOOGLE_APPLICATION_CREDENTIALS=/media/mujahid7292/Data/Gcloud_Tem_SAC/jupyter-notebook-sac-e.json\n"
     ]
    }
   ],
   "source": [
    "%%bash\n",
    "set | grep GOOGLE_APPLICATION_CREDENTIALS "
   ]
  },
  {
   "cell_type": "markdown",
   "metadata": {},
   "source": [
    "# Set Default Project And Region"
   ]
  },
  {
   "cell_type": "code",
   "execution_count": 15,
   "metadata": {},
   "outputs": [
    {
     "name": "stderr",
     "output_type": "stream",
     "text": [
      "Updated property [core/account].\n",
      "Updated property [core/project].\n",
      "Updated property [compute/region].\n"
     ]
    }
   ],
   "source": [
    "%%bash\n",
    "gcloud config set account $ACCOUNT\n",
    "gcloud config set project $PROJECT\n",
    "gcloud config set compute/region $REGION"
   ]
  },
  {
   "cell_type": "markdown",
   "metadata": {},
   "source": [
    "# Give BigQuery Access Permision To This Service Account"
   ]
  },
  {
   "cell_type": "code",
   "execution_count": 16,
   "metadata": {},
   "outputs": [
    {
     "name": "stdout",
     "output_type": "stream",
     "text": [
      "bindings:\n",
      "- members:\n",
      "  - serviceAccount:qwiklabs-gcp-04-e6818aa80ab4@qwiklabs-gcp-04-e6818aa80ab4.iam.gserviceaccount.com\n",
      "  - user:student-04-972b7cf5493d@qwiklabs.net\n",
      "  role: roles/appengine.appAdmin\n",
      "- members:\n",
      "  - serviceAccount:service-544686962573@gae-api-prod.google.com.iam.gserviceaccount.com\n",
      "  role: roles/appengineflex.serviceAgent\n",
      "- members:\n",
      "  - serviceAccount:jupyter-notebook-sac-e@qwiklabs-gcp-04-e6818aa80ab4.iam.gserviceaccount.com\n",
      "  - serviceAccount:qwiklabs-gcp-04-e6818aa80ab4@qwiklabs-gcp-04-e6818aa80ab4.iam.gserviceaccount.com\n",
      "  - user:student-04-972b7cf5493d@qwiklabs.net\n",
      "  role: roles/bigquery.admin\n",
      "- members:\n",
      "  - serviceAccount:service-544686962573@gcp-sa-bigquerydatatransfer.iam.gserviceaccount.com\n",
      "  role: roles/bigquerydatatransfer.serviceAgent\n",
      "- members:\n",
      "  - serviceAccount:544686962573@cloudbuild.gserviceaccount.com\n",
      "  role: roles/cloudbuild.builds.builder\n",
      "- members:\n",
      "  - serviceAccount:service-544686962573@gcp-sa-cloudbuild.iam.gserviceaccount.com\n",
      "  role: roles/cloudbuild.serviceAgent\n",
      "- members:\n",
      "  - serviceAccount:service-544686962573@gcf-admin-robot.iam.gserviceaccount.com\n",
      "  role: roles/cloudfunctions.serviceAgent\n",
      "- members:\n",
      "  - serviceAccount:service-544686962573@gcp-sa-cloudiot.iam.gserviceaccount.com\n",
      "  role: roles/cloudiot.serviceAgent\n",
      "- members:\n",
      "  - serviceAccount:service-544686962573@gcp-sa-cloudtasks.iam.gserviceaccount.com\n",
      "  role: roles/cloudtasks.serviceAgent\n",
      "- members:\n",
      "  - serviceAccount:service-544686962573@cloudcomposer-accounts.iam.gserviceaccount.com\n",
      "  role: roles/composer.serviceAgent\n",
      "- members:\n",
      "  - serviceAccount:qwiklabs-gcp-04-e6818aa80ab4@qwiklabs-gcp-04-e6818aa80ab4.iam.gserviceaccount.com\n",
      "  - user:student-04-972b7cf5493d@qwiklabs.net\n",
      "  role: roles/compute.admin\n",
      "- members:\n",
      "  - serviceAccount:service-544686962573@compute-system.iam.gserviceaccount.com\n",
      "  role: roles/compute.serviceAgent\n",
      "- members:\n",
      "  - serviceAccount:qwiklabs-gcp-04-e6818aa80ab4@qwiklabs-gcp-04-e6818aa80ab4.iam.gserviceaccount.com\n",
      "  - user:student-04-972b7cf5493d@qwiklabs.net\n",
      "  role: roles/compute.storageAdmin\n",
      "- members:\n",
      "  - serviceAccount:service-544686962573@container-engine-robot.iam.gserviceaccount.com\n",
      "  role: roles/container.serviceAgent\n",
      "- members:\n",
      "  - serviceAccount:service-544686962573@container-analysis.iam.gserviceaccount.com\n",
      "  role: roles/containeranalysis.ServiceAgent\n",
      "- members:\n",
      "  - serviceAccount:service-544686962573@gcp-sa-containerscanning.iam.gserviceaccount.com\n",
      "  role: roles/containerscanning.ServiceAgent\n",
      "- members:\n",
      "  - serviceAccount:qwiklabs-gcp-04-e6818aa80ab4@qwiklabs-gcp-04-e6818aa80ab4.iam.gserviceaccount.com\n",
      "  - user:student-04-972b7cf5493d@qwiklabs.net\n",
      "  role: roles/dataflow.admin\n",
      "- members:\n",
      "  - serviceAccount:service-544686962573@dataflow-service-producer-prod.iam.gserviceaccount.com\n",
      "  role: roles/dataflow.serviceAgent\n",
      "- members:\n",
      "  - serviceAccount:service-544686962573@dataproc-accounts.iam.gserviceaccount.com\n",
      "  role: roles/dataproc.serviceAgent\n",
      "- members:\n",
      "  - serviceAccount:service-544686962573@dlp-api.iam.gserviceaccount.com\n",
      "  role: roles/dlp.serviceAgent\n",
      "- members:\n",
      "  - serviceAccount:544686962573-compute@developer.gserviceaccount.com\n",
      "  - serviceAccount:544686962573@cloudservices.gserviceaccount.com\n",
      "  - serviceAccount:qwiklabs-gcp-04-e6818aa80ab4@appspot.gserviceaccount.com\n",
      "  - serviceAccount:qwiklabs-gcp-04-e6818aa80ab4@qwiklabs-gcp-04-e6818aa80ab4.iam.gserviceaccount.com\n",
      "  - serviceAccount:service-544686962573@containerregistry.iam.gserviceaccount.com\n",
      "  - user:student-04-972b7cf5493d@qwiklabs.net\n",
      "  role: roles/editor\n",
      "- members:\n",
      "  - serviceAccount:service-544686962573@firebase-rules.iam.gserviceaccount.com\n",
      "  role: roles/firebaserules.system\n",
      "- members:\n",
      "  - serviceAccount:service-544686962573@genomics-api.google.com.iam.gserviceaccount.com\n",
      "  role: roles/genomics.serviceAgent\n",
      "- members:\n",
      "  - serviceAccount:qwiklabs-gcp-04-e6818aa80ab4@qwiklabs-gcp-04-e6818aa80ab4.iam.gserviceaccount.com\n",
      "  - user:student-04-972b7cf5493d@qwiklabs.net\n",
      "  role: roles/iam.serviceAccountAdmin\n",
      "- members:\n",
      "  - serviceAccount:qwiklabs-gcp-04-e6818aa80ab4@qwiklabs-gcp-04-e6818aa80ab4.iam.gserviceaccount.com\n",
      "  - user:student-04-972b7cf5493d@qwiklabs.net\n",
      "  role: roles/ml.admin\n",
      "- members:\n",
      "  - serviceAccount:service-544686962573@cloud-ml.google.com.iam.gserviceaccount.com\n",
      "  role: roles/ml.serviceAgent\n",
      "- members:\n",
      "  - serviceAccount:admiral@qwiklabs-services-prod.iam.gserviceaccount.com\n",
      "  - serviceAccount:qwiklabs-gcp-04-e6818aa80ab4@qwiklabs-gcp-04-e6818aa80ab4.iam.gserviceaccount.com\n",
      "  - user:student-04-972b7cf5493d@qwiklabs.net\n",
      "  role: roles/owner\n",
      "- members:\n",
      "  - serviceAccount:qwiklabs-gcp-04-e6818aa80ab4@qwiklabs-gcp-04-e6818aa80ab4.iam.gserviceaccount.com\n",
      "  - user:student-04-972b7cf5493d@qwiklabs.net\n",
      "  role: roles/source.admin\n",
      "- members:\n",
      "  - serviceAccount:qwiklabs-gcp-04-e6818aa80ab4@qwiklabs-gcp-04-e6818aa80ab4.iam.gserviceaccount.com\n",
      "  - user:student-04-972b7cf5493d@qwiklabs.net\n",
      "  role: roles/storage.admin\n",
      "- members:\n",
      "  - serviceAccount:qwiklabs-gcp-04-e6818aa80ab4@qwiklabs-gcp-04-e6818aa80ab4.iam.gserviceaccount.com\n",
      "  - user:student-04-972b7cf5493d@qwiklabs.net\n",
      "  role: roles/viewer\n",
      "etag: BwWkLv3VUsA=\n",
      "version: 1\n"
     ]
    },
    {
     "name": "stderr",
     "output_type": "stream",
     "text": [
      "Updated IAM policy for project [qwiklabs-gcp-04-e6818aa80ab4].\n"
     ]
    }
   ],
   "source": [
    "%%bash\n",
    "gcloud projects add-iam-policy-binding $PROJECT \\\n",
    "    --member serviceAccount:$SAC@$PROJECT.iam.gserviceaccount.com \\\n",
    "    --role roles/bigquery.admin"
   ]
  },
  {
   "cell_type": "markdown",
   "metadata": {},
   "source": [
    "# Give GCS Access Permision To This Service Account"
   ]
  },
  {
   "cell_type": "code",
   "execution_count": 17,
   "metadata": {},
   "outputs": [
    {
     "name": "stdout",
     "output_type": "stream",
     "text": [
      "bindings:\n",
      "- members:\n",
      "  - serviceAccount:qwiklabs-gcp-04-e6818aa80ab4@qwiklabs-gcp-04-e6818aa80ab4.iam.gserviceaccount.com\n",
      "  - user:student-04-972b7cf5493d@qwiklabs.net\n",
      "  role: roles/appengine.appAdmin\n",
      "- members:\n",
      "  - serviceAccount:service-544686962573@gae-api-prod.google.com.iam.gserviceaccount.com\n",
      "  role: roles/appengineflex.serviceAgent\n",
      "- members:\n",
      "  - serviceAccount:jupyter-notebook-sac-e@qwiklabs-gcp-04-e6818aa80ab4.iam.gserviceaccount.com\n",
      "  - serviceAccount:qwiklabs-gcp-04-e6818aa80ab4@qwiklabs-gcp-04-e6818aa80ab4.iam.gserviceaccount.com\n",
      "  - user:student-04-972b7cf5493d@qwiklabs.net\n",
      "  role: roles/bigquery.admin\n",
      "- members:\n",
      "  - serviceAccount:service-544686962573@gcp-sa-bigquerydatatransfer.iam.gserviceaccount.com\n",
      "  role: roles/bigquerydatatransfer.serviceAgent\n",
      "- members:\n",
      "  - serviceAccount:544686962573@cloudbuild.gserviceaccount.com\n",
      "  role: roles/cloudbuild.builds.builder\n",
      "- members:\n",
      "  - serviceAccount:service-544686962573@gcp-sa-cloudbuild.iam.gserviceaccount.com\n",
      "  role: roles/cloudbuild.serviceAgent\n",
      "- members:\n",
      "  - serviceAccount:service-544686962573@gcf-admin-robot.iam.gserviceaccount.com\n",
      "  role: roles/cloudfunctions.serviceAgent\n",
      "- members:\n",
      "  - serviceAccount:service-544686962573@gcp-sa-cloudiot.iam.gserviceaccount.com\n",
      "  role: roles/cloudiot.serviceAgent\n",
      "- members:\n",
      "  - serviceAccount:service-544686962573@gcp-sa-cloudtasks.iam.gserviceaccount.com\n",
      "  role: roles/cloudtasks.serviceAgent\n",
      "- members:\n",
      "  - serviceAccount:service-544686962573@cloudcomposer-accounts.iam.gserviceaccount.com\n",
      "  role: roles/composer.serviceAgent\n",
      "- members:\n",
      "  - serviceAccount:qwiklabs-gcp-04-e6818aa80ab4@qwiklabs-gcp-04-e6818aa80ab4.iam.gserviceaccount.com\n",
      "  - user:student-04-972b7cf5493d@qwiklabs.net\n",
      "  role: roles/compute.admin\n",
      "- members:\n",
      "  - serviceAccount:service-544686962573@compute-system.iam.gserviceaccount.com\n",
      "  role: roles/compute.serviceAgent\n",
      "- members:\n",
      "  - serviceAccount:qwiklabs-gcp-04-e6818aa80ab4@qwiklabs-gcp-04-e6818aa80ab4.iam.gserviceaccount.com\n",
      "  - user:student-04-972b7cf5493d@qwiklabs.net\n",
      "  role: roles/compute.storageAdmin\n",
      "- members:\n",
      "  - serviceAccount:service-544686962573@container-engine-robot.iam.gserviceaccount.com\n",
      "  role: roles/container.serviceAgent\n",
      "- members:\n",
      "  - serviceAccount:service-544686962573@container-analysis.iam.gserviceaccount.com\n",
      "  role: roles/containeranalysis.ServiceAgent\n",
      "- members:\n",
      "  - serviceAccount:service-544686962573@gcp-sa-containerscanning.iam.gserviceaccount.com\n",
      "  role: roles/containerscanning.ServiceAgent\n",
      "- members:\n",
      "  - serviceAccount:qwiklabs-gcp-04-e6818aa80ab4@qwiklabs-gcp-04-e6818aa80ab4.iam.gserviceaccount.com\n",
      "  - user:student-04-972b7cf5493d@qwiklabs.net\n",
      "  role: roles/dataflow.admin\n",
      "- members:\n",
      "  - serviceAccount:service-544686962573@dataflow-service-producer-prod.iam.gserviceaccount.com\n",
      "  role: roles/dataflow.serviceAgent\n",
      "- members:\n",
      "  - serviceAccount:service-544686962573@dataproc-accounts.iam.gserviceaccount.com\n",
      "  role: roles/dataproc.serviceAgent\n",
      "- members:\n",
      "  - serviceAccount:service-544686962573@dlp-api.iam.gserviceaccount.com\n",
      "  role: roles/dlp.serviceAgent\n",
      "- members:\n",
      "  - serviceAccount:544686962573-compute@developer.gserviceaccount.com\n",
      "  - serviceAccount:544686962573@cloudservices.gserviceaccount.com\n",
      "  - serviceAccount:qwiklabs-gcp-04-e6818aa80ab4@appspot.gserviceaccount.com\n",
      "  - serviceAccount:qwiklabs-gcp-04-e6818aa80ab4@qwiklabs-gcp-04-e6818aa80ab4.iam.gserviceaccount.com\n",
      "  - serviceAccount:service-544686962573@containerregistry.iam.gserviceaccount.com\n",
      "  - user:student-04-972b7cf5493d@qwiklabs.net\n",
      "  role: roles/editor\n",
      "- members:\n",
      "  - serviceAccount:service-544686962573@firebase-rules.iam.gserviceaccount.com\n",
      "  role: roles/firebaserules.system\n",
      "- members:\n",
      "  - serviceAccount:service-544686962573@genomics-api.google.com.iam.gserviceaccount.com\n",
      "  role: roles/genomics.serviceAgent\n",
      "- members:\n",
      "  - serviceAccount:qwiklabs-gcp-04-e6818aa80ab4@qwiklabs-gcp-04-e6818aa80ab4.iam.gserviceaccount.com\n",
      "  - user:student-04-972b7cf5493d@qwiklabs.net\n",
      "  role: roles/iam.serviceAccountAdmin\n",
      "- members:\n",
      "  - serviceAccount:qwiklabs-gcp-04-e6818aa80ab4@qwiklabs-gcp-04-e6818aa80ab4.iam.gserviceaccount.com\n",
      "  - user:student-04-972b7cf5493d@qwiklabs.net\n",
      "  role: roles/ml.admin\n",
      "- members:\n",
      "  - serviceAccount:service-544686962573@cloud-ml.google.com.iam.gserviceaccount.com\n",
      "  role: roles/ml.serviceAgent\n",
      "- members:\n",
      "  - serviceAccount:admiral@qwiklabs-services-prod.iam.gserviceaccount.com\n",
      "  - serviceAccount:qwiklabs-gcp-04-e6818aa80ab4@qwiklabs-gcp-04-e6818aa80ab4.iam.gserviceaccount.com\n",
      "  - user:student-04-972b7cf5493d@qwiklabs.net\n",
      "  role: roles/owner\n",
      "- members:\n",
      "  - serviceAccount:qwiklabs-gcp-04-e6818aa80ab4@qwiklabs-gcp-04-e6818aa80ab4.iam.gserviceaccount.com\n",
      "  - user:student-04-972b7cf5493d@qwiklabs.net\n",
      "  role: roles/source.admin\n",
      "- members:\n",
      "  - serviceAccount:jupyter-notebook-sac-e@qwiklabs-gcp-04-e6818aa80ab4.iam.gserviceaccount.com\n",
      "  - serviceAccount:qwiklabs-gcp-04-e6818aa80ab4@qwiklabs-gcp-04-e6818aa80ab4.iam.gserviceaccount.com\n",
      "  - user:student-04-972b7cf5493d@qwiklabs.net\n",
      "  role: roles/storage.admin\n",
      "- members:\n",
      "  - serviceAccount:qwiklabs-gcp-04-e6818aa80ab4@qwiklabs-gcp-04-e6818aa80ab4.iam.gserviceaccount.com\n",
      "  - user:student-04-972b7cf5493d@qwiklabs.net\n",
      "  role: roles/viewer\n",
      "etag: BwWkLv404Kg=\n",
      "version: 1\n"
     ]
    },
    {
     "name": "stderr",
     "output_type": "stream",
     "text": [
      "Updated IAM policy for project [qwiklabs-gcp-04-e6818aa80ab4].\n"
     ]
    }
   ],
   "source": [
    "%%bash\n",
    "gcloud projects add-iam-policy-binding $PROJECT \\\n",
    "    --member serviceAccount:$SAC@$PROJECT.iam.gserviceaccount.com \\\n",
    "    --role roles/storage.admin"
   ]
  },
  {
   "cell_type": "markdown",
   "metadata": {},
   "source": [
    "# Give AI Platform Access Permision To This Service Account"
   ]
  },
  {
   "cell_type": "code",
   "execution_count": 18,
   "metadata": {},
   "outputs": [
    {
     "name": "stdout",
     "output_type": "stream",
     "text": [
      "bindings:\n",
      "- members:\n",
      "  - serviceAccount:qwiklabs-gcp-04-e6818aa80ab4@qwiklabs-gcp-04-e6818aa80ab4.iam.gserviceaccount.com\n",
      "  - user:student-04-972b7cf5493d@qwiklabs.net\n",
      "  role: roles/appengine.appAdmin\n",
      "- members:\n",
      "  - serviceAccount:service-544686962573@gae-api-prod.google.com.iam.gserviceaccount.com\n",
      "  role: roles/appengineflex.serviceAgent\n",
      "- members:\n",
      "  - serviceAccount:jupyter-notebook-sac-e@qwiklabs-gcp-04-e6818aa80ab4.iam.gserviceaccount.com\n",
      "  - serviceAccount:qwiklabs-gcp-04-e6818aa80ab4@qwiklabs-gcp-04-e6818aa80ab4.iam.gserviceaccount.com\n",
      "  - user:student-04-972b7cf5493d@qwiklabs.net\n",
      "  role: roles/bigquery.admin\n",
      "- members:\n",
      "  - serviceAccount:service-544686962573@gcp-sa-bigquerydatatransfer.iam.gserviceaccount.com\n",
      "  role: roles/bigquerydatatransfer.serviceAgent\n",
      "- members:\n",
      "  - serviceAccount:544686962573@cloudbuild.gserviceaccount.com\n",
      "  role: roles/cloudbuild.builds.builder\n",
      "- members:\n",
      "  - serviceAccount:service-544686962573@gcp-sa-cloudbuild.iam.gserviceaccount.com\n",
      "  role: roles/cloudbuild.serviceAgent\n",
      "- members:\n",
      "  - serviceAccount:service-544686962573@gcf-admin-robot.iam.gserviceaccount.com\n",
      "  role: roles/cloudfunctions.serviceAgent\n",
      "- members:\n",
      "  - serviceAccount:service-544686962573@gcp-sa-cloudiot.iam.gserviceaccount.com\n",
      "  role: roles/cloudiot.serviceAgent\n",
      "- members:\n",
      "  - serviceAccount:service-544686962573@gcp-sa-cloudtasks.iam.gserviceaccount.com\n",
      "  role: roles/cloudtasks.serviceAgent\n",
      "- members:\n",
      "  - serviceAccount:service-544686962573@cloudcomposer-accounts.iam.gserviceaccount.com\n",
      "  role: roles/composer.serviceAgent\n",
      "- members:\n",
      "  - serviceAccount:qwiklabs-gcp-04-e6818aa80ab4@qwiklabs-gcp-04-e6818aa80ab4.iam.gserviceaccount.com\n",
      "  - user:student-04-972b7cf5493d@qwiklabs.net\n",
      "  role: roles/compute.admin\n",
      "- members:\n",
      "  - serviceAccount:service-544686962573@compute-system.iam.gserviceaccount.com\n",
      "  role: roles/compute.serviceAgent\n",
      "- members:\n",
      "  - serviceAccount:qwiklabs-gcp-04-e6818aa80ab4@qwiklabs-gcp-04-e6818aa80ab4.iam.gserviceaccount.com\n",
      "  - user:student-04-972b7cf5493d@qwiklabs.net\n",
      "  role: roles/compute.storageAdmin\n",
      "- members:\n",
      "  - serviceAccount:service-544686962573@container-engine-robot.iam.gserviceaccount.com\n",
      "  role: roles/container.serviceAgent\n",
      "- members:\n",
      "  - serviceAccount:service-544686962573@container-analysis.iam.gserviceaccount.com\n",
      "  role: roles/containeranalysis.ServiceAgent\n",
      "- members:\n",
      "  - serviceAccount:service-544686962573@gcp-sa-containerscanning.iam.gserviceaccount.com\n",
      "  role: roles/containerscanning.ServiceAgent\n",
      "- members:\n",
      "  - serviceAccount:qwiklabs-gcp-04-e6818aa80ab4@qwiklabs-gcp-04-e6818aa80ab4.iam.gserviceaccount.com\n",
      "  - user:student-04-972b7cf5493d@qwiklabs.net\n",
      "  role: roles/dataflow.admin\n",
      "- members:\n",
      "  - serviceAccount:service-544686962573@dataflow-service-producer-prod.iam.gserviceaccount.com\n",
      "  role: roles/dataflow.serviceAgent\n",
      "- members:\n",
      "  - serviceAccount:service-544686962573@dataproc-accounts.iam.gserviceaccount.com\n",
      "  role: roles/dataproc.serviceAgent\n",
      "- members:\n",
      "  - serviceAccount:service-544686962573@dlp-api.iam.gserviceaccount.com\n",
      "  role: roles/dlp.serviceAgent\n",
      "- members:\n",
      "  - serviceAccount:544686962573-compute@developer.gserviceaccount.com\n",
      "  - serviceAccount:544686962573@cloudservices.gserviceaccount.com\n",
      "  - serviceAccount:qwiklabs-gcp-04-e6818aa80ab4@appspot.gserviceaccount.com\n",
      "  - serviceAccount:qwiklabs-gcp-04-e6818aa80ab4@qwiklabs-gcp-04-e6818aa80ab4.iam.gserviceaccount.com\n",
      "  - serviceAccount:service-544686962573@containerregistry.iam.gserviceaccount.com\n",
      "  - user:student-04-972b7cf5493d@qwiklabs.net\n",
      "  role: roles/editor\n",
      "- members:\n",
      "  - serviceAccount:service-544686962573@firebase-rules.iam.gserviceaccount.com\n",
      "  role: roles/firebaserules.system\n",
      "- members:\n",
      "  - serviceAccount:service-544686962573@genomics-api.google.com.iam.gserviceaccount.com\n",
      "  role: roles/genomics.serviceAgent\n",
      "- members:\n",
      "  - serviceAccount:qwiklabs-gcp-04-e6818aa80ab4@qwiklabs-gcp-04-e6818aa80ab4.iam.gserviceaccount.com\n",
      "  - user:student-04-972b7cf5493d@qwiklabs.net\n",
      "  role: roles/iam.serviceAccountAdmin\n",
      "- members:\n",
      "  - serviceAccount:jupyter-notebook-sac-e@qwiklabs-gcp-04-e6818aa80ab4.iam.gserviceaccount.com\n",
      "  - serviceAccount:qwiklabs-gcp-04-e6818aa80ab4@qwiklabs-gcp-04-e6818aa80ab4.iam.gserviceaccount.com\n",
      "  - user:student-04-972b7cf5493d@qwiklabs.net\n",
      "  role: roles/ml.admin\n",
      "- members:\n",
      "  - serviceAccount:service-544686962573@cloud-ml.google.com.iam.gserviceaccount.com\n",
      "  role: roles/ml.serviceAgent\n",
      "- members:\n",
      "  - serviceAccount:admiral@qwiklabs-services-prod.iam.gserviceaccount.com\n",
      "  - serviceAccount:qwiklabs-gcp-04-e6818aa80ab4@qwiklabs-gcp-04-e6818aa80ab4.iam.gserviceaccount.com\n",
      "  - user:student-04-972b7cf5493d@qwiklabs.net\n",
      "  role: roles/owner\n",
      "- members:\n",
      "  - serviceAccount:qwiklabs-gcp-04-e6818aa80ab4@qwiklabs-gcp-04-e6818aa80ab4.iam.gserviceaccount.com\n",
      "  - user:student-04-972b7cf5493d@qwiklabs.net\n",
      "  role: roles/source.admin\n",
      "- members:\n",
      "  - serviceAccount:jupyter-notebook-sac-e@qwiklabs-gcp-04-e6818aa80ab4.iam.gserviceaccount.com\n",
      "  - serviceAccount:qwiklabs-gcp-04-e6818aa80ab4@qwiklabs-gcp-04-e6818aa80ab4.iam.gserviceaccount.com\n",
      "  - user:student-04-972b7cf5493d@qwiklabs.net\n",
      "  role: roles/storage.admin\n",
      "- members:\n",
      "  - serviceAccount:qwiklabs-gcp-04-e6818aa80ab4@qwiklabs-gcp-04-e6818aa80ab4.iam.gserviceaccount.com\n",
      "  - user:student-04-972b7cf5493d@qwiklabs.net\n",
      "  role: roles/viewer\n",
      "etag: BwWkLv6EIwk=\n",
      "version: 1\n"
     ]
    },
    {
     "name": "stderr",
     "output_type": "stream",
     "text": [
      "Updated IAM policy for project [qwiklabs-gcp-04-e6818aa80ab4].\n"
     ]
    }
   ],
   "source": [
    "%%bash\n",
    "gcloud projects add-iam-policy-binding $PROJECT \\\n",
    "    --member serviceAccount:$SAC@$PROJECT.iam.gserviceaccount.com \\\n",
    "    --role roles/ml.admin"
   ]
  },
  {
   "cell_type": "markdown",
   "metadata": {},
   "source": [
    "# Create GCS Bucket "
   ]
  },
  {
   "cell_type": "code",
   "execution_count": 19,
   "metadata": {},
   "outputs": [
    {
     "name": "stdout",
     "output_type": "stream",
     "text": [
      "Process is terminated.\n"
     ]
    }
   ],
   "source": [
    "%%bash\n",
    "if ! gsutil ls | grep -q gs://${BUCKET}/; then\n",
    "  gsutil mb -l ${REGION} -p ${PROJECT} gs://${BUCKET}\n",
    "  #gsutil mb -l us-east1 -p qwiklabs-gcp-04-e6818aa80ab4 gs://bucket-qwiklabs-gcp-04-e6818aa80ab4\n",
    "fi"
   ]
  },
  {
   "cell_type": "code",
   "execution_count": null,
   "metadata": {},
   "outputs": [],
   "source": []
  }
 ],
 "metadata": {
  "kernelspec": {
   "display_name": "Python 3",
   "language": "python",
   "name": "python3"
  },
  "language_info": {
   "codemirror_mode": {
    "name": "ipython",
    "version": 3
   },
   "file_extension": ".py",
   "mimetype": "text/x-python",
   "name": "python",
   "nbconvert_exporter": "python",
   "pygments_lexer": "ipython3",
   "version": "3.7.4"
  }
 },
 "nbformat": 4,
 "nbformat_minor": 2
}
