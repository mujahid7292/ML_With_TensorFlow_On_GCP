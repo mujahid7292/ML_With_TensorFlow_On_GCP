{
 "cells": [
  {
   "cell_type": "markdown",
   "metadata": {
    "colab_type": "text",
    "id": "2NnuRIZedJmK"
   },
   "source": [
    "## Content Based Filtering by hand\n",
    "\n",
    "This lab illustrates how to implement a content based filter using low level Tensorflow operations.  \n",
    "The code here follows the technique explained in Module 2 of Recommendation Engines: Content Based Filtering.\n",
    "\n"
   ]
  },
  {
   "cell_type": "code",
   "execution_count": 1,
   "metadata": {},
   "outputs": [
    {
     "name": "stdout",
     "output_type": "stream",
     "text": [
      "2.2.0\n"
     ]
    }
   ],
   "source": [
    "import numpy as np\n",
    "import tensorflow as tf\n",
    "\n",
    "print(tf.__version__)"
   ]
  },
  {
   "cell_type": "markdown",
   "metadata": {
    "colab_type": "text",
    "id": "36uCjFhldJmR"
   },
   "source": [
    "To start, we'll create our list of users, movies and features. While the users and movies represent elements in our database, for a content-based filtering method the features of the movies are likely hand-engineered and rely on domain knowledge to provide the best embedding space. Here we use the categories of Action, Sci-Fi, Comedy, Cartoon, and Drama to describe our movies (and thus our users).\n",
    "\n",
    "In this example, we will assume our database consists of four users and six movies, listed below.  "
   ]
  },
  {
   "cell_type": "code",
   "execution_count": 2,
   "metadata": {},
   "outputs": [],
   "source": [
    "users = ['Mujahid', 'Taiaba', 'Shimo', 'Sumaiya']\n",
    "movies = ['Harry Potter', 'Dark Night', 'Shrek', 'The Incredibles', 'Bleu', 'Memento']\n",
    "features = ['Action', 'Sci-Fi', 'Comedy', 'Cartoon', 'Drama']\n",
    "\n",
    "num_users = len(users)\n",
    "num_movies = len(movies)\n",
    "num_features = len(features)\n",
    "num_recommendations = 2"
   ]
  },
  {
   "cell_type": "markdown",
   "metadata": {
    "colab_type": "text",
    "id": "s6iJCViqdJmU"
   },
   "source": [
    "### Initialize our users, movie ratings and features\n",
    "\n",
    "We'll need to enter the user's movie ratings and the k-hot encoded movie features matrix. Each row of the users_movies matrix represents a single user's rating (from 1 to 10) for each movie. A zero indicates that the user has not seen/rated that movie. The movies_feats matrix contains the features for each of the given movies. Each row represents one of the six movies, the columns represent the five categories. A one indicates that a movie fits within a given genre/category. "
   ]
  },
  {
   "cell_type": "code",
   "execution_count": 26,
   "metadata": {},
   "outputs": [],
   "source": [
    "# each row represents a user's rating for the different movies\n",
    "users_movies = tf.constant([\n",
    "#   'HP', 'DNight', 'Shrek', 'TheIncred', 'Bleu', 'Memento'\n",
    "    [7,    10,        3,         4,          6,      10   ], # Mujahid\n",
    "    [0,     0,        9,         6,          0,       0   ], # Taiaba\n",
    "    [9,     9,        7,         5,          0,       0   ], # Shimo\n",
    "    [0,     0,       10,         8,          0,       2   ], # Sumaiya\n",
    "], dtype=tf.float32)\n",
    "\n",
    "\n",
    "# features of the movies one-hot encoded\n",
    "# e.g. columns could represent \n",
    "# ['Action', 'Sci-Fi', 'Comedy', 'Cartoon', 'Drama']\n",
    "movies_feats = tf.constant([\n",
    "#   Action', 'Sci-Fi', 'Comedy', 'Cartoon', 'Drama'\n",
    "    [1,          1,       0,         0,        1 ],# 'HP'\n",
    "    [1,          1,       0,         0,        0 ],# 'DNight'\n",
    "    [0,          0,       1,         1,        0 ],# 'Shrek'\n",
    "    [1,          0,       1,         1,        0 ],# 'TheIncred'\n",
    "    [0,          0,       0,         0,        1 ],# 'Bleu'\n",
    "    [1,          0,       0,         0,        1 ] # 'Memento'\n",
    "], dtype=tf.float32)"
   ]
  },
  {
   "cell_type": "code",
   "execution_count": 27,
   "metadata": {},
   "outputs": [
    {
     "data": {
      "text/plain": [
       "<tf.Tensor: shape=(4, 6), dtype=float32, numpy=\n",
       "array([[ 7., 10.,  3.,  4.,  6., 10.],\n",
       "       [ 0.,  0.,  9.,  6.,  0.,  0.],\n",
       "       [ 9.,  9.,  7.,  5.,  0.,  0.],\n",
       "       [ 0.,  0., 10.,  8.,  0.,  2.]], dtype=float32)>"
      ]
     },
     "execution_count": 27,
     "metadata": {},
     "output_type": "execute_result"
    }
   ],
   "source": [
    "users_movies"
   ]
  },
  {
   "cell_type": "code",
   "execution_count": 6,
   "metadata": {},
   "outputs": [
    {
     "data": {
      "text/plain": [
       "<tf.Tensor: shape=(6, 5), dtype=float32, numpy=\n",
       "array([[1., 1., 0., 0., 1.],\n",
       "       [1., 1., 0., 0., 0.],\n",
       "       [0., 0., 1., 1., 0.],\n",
       "       [1., 0., 1., 1., 0.],\n",
       "       [0., 0., 0., 0., 1.],\n",
       "       [1., 0., 0., 0., 1.]], dtype=float32)>"
      ]
     },
     "execution_count": 6,
     "metadata": {},
     "output_type": "execute_result"
    }
   ],
   "source": [
    "movies_feats"
   ]
  },
  {
   "cell_type": "markdown",
   "metadata": {
    "colab_type": "text",
    "id": "aCW5BtGudJmX"
   },
   "source": [
    "### Computing the user feature matrix\n",
    "\n",
    "We will compute the user feature matrix; that is, a matrix containing each user's embedding in the five-dimensional feature space. "
   ]
  },
  {
   "cell_type": "code",
   "execution_count": 14,
   "metadata": {},
   "outputs": [
    {
     "data": {
      "text/plain": [
       "<tf.Tensor: shape=(4, 5), dtype=float32, numpy=\n",
       "array([[31., 17.,  7.,  7., 23.],\n",
       "       [ 6.,  0., 15., 15.,  0.],\n",
       "       [23., 18., 12., 12.,  9.],\n",
       "       [10.,  0., 18., 18.,  2.]], dtype=float32)>"
      ]
     },
     "execution_count": 14,
     "metadata": {},
     "output_type": "execute_result"
    }
   ],
   "source": [
    "users_feats = tf.matmul(user_movies, movies_feats)\n",
    "users_feats"
   ]
  },
  {
   "cell_type": "code",
   "execution_count": 15,
   "metadata": {},
   "outputs": [
    {
     "name": "stdout",
     "output_type": "stream",
     "text": [
      "Mujahid : [31. 17.  7.  7. 23.]\n",
      "Taiaba : [ 6.  0. 15. 15.  0.]\n",
      "Shimo : [23. 18. 12. 12.  9.]\n",
      "Sumaiya : [10.  0. 18. 18.  2.]\n"
     ]
    }
   ],
   "source": [
    "for i in range(num_users):\n",
    "    print(f\"{users[i]} : {users_feats[i]}\")"
   ]
  },
  {
   "cell_type": "markdown",
   "metadata": {
    "colab_type": "text",
    "id": "Ps7XXoYwdJmc"
   },
   "source": [
    "Next we normalize each user feature vector to sum to 1. Normalizing isn't strictly neccesary, but it makes it so that rating magnitudes will be comparable between users."
   ]
  },
  {
   "cell_type": "code",
   "execution_count": 12,
   "metadata": {},
   "outputs": [
    {
     "name": "stdout",
     "output_type": "stream",
     "text": [
      "Mujahid Row : [85.]\n",
      "Taiaba Row : [36.]\n",
      "Shimo Row : [74.]\n",
      "Sumaiya Row : [48.]\n"
     ]
    }
   ],
   "source": [
    "user_sum = tf.reduce_sum(users_feats,axis=1, keepdims=True)\n",
    "user_sum"
   ]
  },
  {
   "cell_type": "code",
   "execution_count": 17,
   "metadata": {},
   "outputs": [
    {
     "name": "stdout",
     "output_type": "stream",
     "text": [
      "Mujahid Row : [31. 17.  7.  7. 23.] = [85.]\n",
      "Taiaba Row : [ 6.  0. 15. 15.  0.] = [36.]\n",
      "Shimo Row : [23. 18. 12. 12.  9.] = [74.]\n",
      "Sumaiya Row : [10.  0. 18. 18.  2.] = [48.]\n"
     ]
    }
   ],
   "source": [
    "for i in range(num_users):\n",
    "    print(f\"{users[i]} Row : {users_feats[i]} = {user_sum[i]}\")"
   ]
  },
  {
   "cell_type": "code",
   "execution_count": 18,
   "metadata": {},
   "outputs": [
    {
     "data": {
      "text/plain": [
       "<tf.Tensor: shape=(4, 5), dtype=float32, numpy=\n",
       "array([[0.3647059 , 0.2       , 0.08235294, 0.08235294, 0.27058825],\n",
       "       [0.16666667, 0.        , 0.41666666, 0.41666666, 0.        ],\n",
       "       [0.3108108 , 0.24324325, 0.16216215, 0.16216215, 0.12162162],\n",
       "       [0.20833333, 0.        , 0.375     , 0.375     , 0.04166667]],\n",
       "      dtype=float32)>"
      ]
     },
     "execution_count": 18,
     "metadata": {},
     "output_type": "execute_result"
    }
   ],
   "source": [
    "norm_users_feats = users_feats / user_sum\n",
    "norm_users_feats"
   ]
  },
  {
   "cell_type": "code",
   "execution_count": 20,
   "metadata": {},
   "outputs": [
    {
     "name": "stdout",
     "output_type": "stream",
     "text": [
      "Mujahid Normalized : [0.3647059  0.2        0.08235294 0.08235294 0.27058825] = [1.]\n",
      "Taiaba Normalized : [0.16666667 0.         0.41666666 0.41666666 0.        ] = [1.]\n",
      "Shimo Normalized : [0.3108108  0.24324325 0.16216215 0.16216215 0.12162162] = [1.]\n",
      "Sumaiya Normalized : [0.20833333 0.         0.375      0.375      0.04166667] = [1.]\n"
     ]
    }
   ],
   "source": [
    "norm_sum = tf.reduce_sum(norm_users_feats, axis=1, keepdims=True)\n",
    "for i in range(num_users):\n",
    "    print(f\"{users[i]} Normalized : {norm_users_feats[i]} = {norm_sum[i]}\")"
   ]
  },
  {
   "cell_type": "markdown",
   "metadata": {
    "colab_type": "text",
    "id": "kqOPr51tdJmf"
   },
   "source": [
    "#### Ranking feature relevance for each user\n",
    "\n",
    "We can use the `norm_users_feats` computed above to represent the relative importance of each movie category for each user. "
   ]
  },
  {
   "cell_type": "code",
   "execution_count": 21,
   "metadata": {},
   "outputs": [
    {
     "data": {
      "text/plain": [
       "<tf.Tensor: shape=(4, 5), dtype=int32, numpy=\n",
       "array([[0, 4, 1, 2, 3],\n",
       "       [2, 3, 0, 1, 4],\n",
       "       [0, 1, 2, 3, 4],\n",
       "       [2, 3, 0, 4, 1]], dtype=int32)>"
      ]
     },
     "execution_count": 21,
     "metadata": {},
     "output_type": "execute_result"
    }
   ],
   "source": [
    "top_users_features = tf.nn.top_k(norm_users_feats, num_features)[1]\n",
    "top_users_features"
   ]
  },
  {
   "cell_type": "code",
   "execution_count": 22,
   "metadata": {},
   "outputs": [
    {
     "name": "stdout",
     "output_type": "stream",
     "text": [
      "Mujahid: ['Action', 'Drama', 'Sci-Fi', 'Comedy', 'Cartoon']\n",
      "Taiaba: ['Comedy', 'Cartoon', 'Action', 'Sci-Fi', 'Drama']\n",
      "Shimo: ['Action', 'Sci-Fi', 'Comedy', 'Cartoon', 'Drama']\n",
      "Sumaiya: ['Comedy', 'Cartoon', 'Action', 'Drama', 'Sci-Fi']\n"
     ]
    }
   ],
   "source": [
    "for i in range(num_users):\n",
    "    feature_names = [features[int(index)] for index in top_users_features[i]]\n",
    "    print('{}: {}'.format(users[i],feature_names))"
   ]
  },
  {
   "cell_type": "markdown",
   "metadata": {
    "colab_type": "text",
    "id": "Yne0CyZMdJmn"
   },
   "source": [
    "### Determining movie recommendations. \n",
    "\n",
    "We'll now use the `norm_users_feats` tensor we computed above to determine the movie ratings and recommendations for each user.\n",
    "\n",
    "To compute the projected ratings for each movie, we compute the similarity measure between the user's feature vector and the corresponding movie feature vector.  \n",
    "\n",
    "We will use the dot product as our similarity measure. In essence, this is a weighted movie average for each user."
   ]
  },
  {
   "cell_type": "code",
   "execution_count": 23,
   "metadata": {},
   "outputs": [
    {
     "data": {
      "text/plain": [
       "<tf.Tensor: shape=(4, 6), dtype=float32, numpy=\n",
       "array([[0.8352941 , 0.5647059 , 0.16470589, 0.5294118 , 0.27058825,\n",
       "        0.63529414],\n",
       "       [0.16666667, 0.16666667, 0.8333333 , 1.        , 0.        ,\n",
       "        0.16666667],\n",
       "       [0.67567563, 0.554054  , 0.3243243 , 0.6351351 , 0.12162162,\n",
       "        0.4324324 ],\n",
       "       [0.25      , 0.20833333, 0.75      , 0.9583333 , 0.04166667,\n",
       "        0.25      ]], dtype=float32)>"
      ]
     },
     "execution_count": 23,
     "metadata": {},
     "output_type": "execute_result"
    }
   ],
   "source": [
    "users_ratings = tf.matmul(norm_users_feats, tf.transpose(movies_feats))\n",
    "users_ratings"
   ]
  },
  {
   "cell_type": "markdown",
   "metadata": {
    "colab_type": "text",
    "id": "o07wODzddJmq"
   },
   "source": [
    "The computation above finds the similarity measure between each user and each movie in our database. To focus only on the ratings for new movies, we apply a mask to the all_users_ratings matrix.  \n",
    "\n",
    "If a user has already rated a movie, we ignore that rating. This way, we only focus on ratings for previously unseen/unrated movies."
   ]
  },
  {
   "cell_type": "code",
   "execution_count": 28,
   "metadata": {},
   "outputs": [
    {
     "data": {
      "text/plain": [
       "<tf.Tensor: shape=(4, 6), dtype=float32, numpy=\n",
       "array([[0.        , 0.        , 0.        , 0.        , 0.        ,\n",
       "        0.        ],\n",
       "       [0.16666667, 0.16666667, 0.        , 0.        , 0.        ,\n",
       "        0.16666667],\n",
       "       [0.        , 0.        , 0.        , 0.        , 0.12162162,\n",
       "        0.4324324 ],\n",
       "       [0.25      , 0.20833333, 0.        , 0.        , 0.04166667,\n",
       "        0.        ]], dtype=float32)>"
      ]
     },
     "execution_count": 28,
     "metadata": {},
     "output_type": "execute_result"
    }
   ],
   "source": [
    "users_ratings_new = tf.where(tf.equal(users_movies, tf.zeros_like(users_movies)),\n",
    "                                  users_ratings,\n",
    "                                  tf.zeros_like(tf.cast(users_movies, tf.float32)))\n",
    "users_ratings_new"
   ]
  },
  {
   "cell_type": "markdown",
   "metadata": {
    "colab_type": "text",
    "id": "YyNvH46zdJmu"
   },
   "source": [
    "Finally let's grab and print out the top 2 rated movies for each user"
   ]
  },
  {
   "cell_type": "code",
   "execution_count": 29,
   "metadata": {},
   "outputs": [
    {
     "data": {
      "text/plain": [
       "<tf.Tensor: shape=(4, 2), dtype=int32, numpy=\n",
       "array([[0, 1],\n",
       "       [0, 1],\n",
       "       [5, 4],\n",
       "       [0, 1]], dtype=int32)>"
      ]
     },
     "execution_count": 29,
     "metadata": {},
     "output_type": "execute_result"
    }
   ],
   "source": [
    "top_movies = tf.nn.top_k(users_ratings_new, num_recommendations)[1]\n",
    "top_movies"
   ]
  },
  {
   "cell_type": "code",
   "execution_count": 30,
   "metadata": {},
   "outputs": [
    {
     "name": "stdout",
     "output_type": "stream",
     "text": [
      "Mujahid: ['Harry Potter', 'Dark Night']\n",
      "Taiaba: ['Harry Potter', 'Dark Night']\n",
      "Shimo: ['Memento', 'Bleu']\n",
      "Sumaiya: ['Harry Potter', 'Dark Night']\n"
     ]
    }
   ],
   "source": [
    "for i in range(num_users):\n",
    "    movie_names = [movies[index] for index in top_movies[i]]\n",
    "    print('{}: {}'.format(users[i],movie_names))"
   ]
  },
  {
   "cell_type": "code",
   "execution_count": null,
   "metadata": {},
   "outputs": [],
   "source": []
  }
 ],
 "metadata": {
  "kernelspec": {
   "display_name": "Python 3",
   "language": "python",
   "name": "python3"
  },
  "language_info": {
   "codemirror_mode": {
    "name": "ipython",
    "version": 3
   },
   "file_extension": ".py",
   "mimetype": "text/x-python",
   "name": "python",
   "nbconvert_exporter": "python",
   "pygments_lexer": "ipython3",
   "version": "3.8.3"
  }
 },
 "nbformat": 4,
 "nbformat_minor": 4
}
