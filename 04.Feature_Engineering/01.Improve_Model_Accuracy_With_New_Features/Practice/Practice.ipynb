{
 "cells": [
  {
   "cell_type": "markdown",
   "metadata": {
    "colab_type": "text",
    "id": "4f3CKqFUqL2-",
    "slideshow": {
     "slide_type": "slide"
    }
   },
   "source": [
    "# Trying out features"
   ]
  },
  {
   "cell_type": "markdown",
   "metadata": {},
   "source": [
    "**Learning Objectives:**\n",
    "  * Improve the accuracy of a model by adding new features with the appropriate representation"
   ]
  },
  {
   "cell_type": "markdown",
   "metadata": {},
   "source": [
    "The data is based on 1990 census data from California. This data is at the city block level, so these features reflect the total number of rooms in that block, or the total number of people who live on that block, respectively."
   ]
  },
  {
   "cell_type": "markdown",
   "metadata": {
    "colab_type": "text",
    "id": "6TjLjL9IU80G"
   },
   "source": [
    "## Set Up\n",
    "In this first cell, we'll load the necessary libraries."
   ]
  },
  {
   "cell_type": "code",
   "execution_count": 1,
   "metadata": {},
   "outputs": [
    {
     "name": "stdout",
     "output_type": "stream",
     "text": [
      "2.0.0\n"
     ]
    }
   ],
   "source": [
    "import math\n",
    "import shutil\n",
    "import pandas as pd\n",
    "import numpy as np\n",
    "import tensorflow as tf\n",
    "print(tf.__version__)\n",
    "\n",
    "# Load the TensorBoard notebook extension\n",
    "%load_ext tensorboard\n",
    "tf.compat.v1.logging.set_verbosity(tf.compat.v1.logging.INFO)\n",
    "pd.options.display.max_rows = 10\n",
    "pd.options.display.float_format = '{:.1f}'.format"
   ]
  },
  {
   "cell_type": "markdown",
   "metadata": {},
   "source": [
    "## Load Our Dataset From Server"
   ]
  },
  {
   "cell_type": "code",
   "execution_count": 2,
   "metadata": {},
   "outputs": [],
   "source": [
    "df = pd.read_csv(filepath_or_buffer=\"https://storage.googleapis.com/ml_universities/california_housing_train.csv\", \\\n",
    "                 sep=\",\")"
   ]
  },
  {
   "cell_type": "markdown",
   "metadata": {
    "colab_type": "text",
    "id": "HzzlSs3PtTmt",
    "slideshow": {
     "slide_type": "-"
    }
   },
   "source": [
    "## Examine the data\n",
    "\n",
    "It's a good idea to get to know your data a little bit before you work with it.\n",
    "\n",
    "We'll print out a quick summary of a few useful statistics on each column.\n",
    "\n",
    "This will include things like mean, standard deviation, max, min, and various quantiles."
   ]
  },
  {
   "cell_type": "code",
   "execution_count": 3,
   "metadata": {},
   "outputs": [
    {
     "data": {
      "text/html": [
       "<div>\n",
       "<style scoped>\n",
       "    .dataframe tbody tr th:only-of-type {\n",
       "        vertical-align: middle;\n",
       "    }\n",
       "\n",
       "    .dataframe tbody tr th {\n",
       "        vertical-align: top;\n",
       "    }\n",
       "\n",
       "    .dataframe thead th {\n",
       "        text-align: right;\n",
       "    }\n",
       "</style>\n",
       "<table border=\"1\" class=\"dataframe\">\n",
       "  <thead>\n",
       "    <tr style=\"text-align: right;\">\n",
       "      <th></th>\n",
       "      <th>longitude</th>\n",
       "      <th>latitude</th>\n",
       "      <th>housing_median_age</th>\n",
       "      <th>total_rooms</th>\n",
       "      <th>total_bedrooms</th>\n",
       "      <th>population</th>\n",
       "      <th>households</th>\n",
       "      <th>median_income</th>\n",
       "      <th>median_house_value</th>\n",
       "    </tr>\n",
       "  </thead>\n",
       "  <tbody>\n",
       "    <tr>\n",
       "      <td>0</td>\n",
       "      <td>-114.3</td>\n",
       "      <td>34.2</td>\n",
       "      <td>15.0</td>\n",
       "      <td>5612.0</td>\n",
       "      <td>1283.0</td>\n",
       "      <td>1015.0</td>\n",
       "      <td>472.0</td>\n",
       "      <td>1.5</td>\n",
       "      <td>66900.0</td>\n",
       "    </tr>\n",
       "    <tr>\n",
       "      <td>1</td>\n",
       "      <td>-114.5</td>\n",
       "      <td>34.4</td>\n",
       "      <td>19.0</td>\n",
       "      <td>7650.0</td>\n",
       "      <td>1901.0</td>\n",
       "      <td>1129.0</td>\n",
       "      <td>463.0</td>\n",
       "      <td>1.8</td>\n",
       "      <td>80100.0</td>\n",
       "    </tr>\n",
       "    <tr>\n",
       "      <td>2</td>\n",
       "      <td>-114.6</td>\n",
       "      <td>33.7</td>\n",
       "      <td>17.0</td>\n",
       "      <td>720.0</td>\n",
       "      <td>174.0</td>\n",
       "      <td>333.0</td>\n",
       "      <td>117.0</td>\n",
       "      <td>1.7</td>\n",
       "      <td>85700.0</td>\n",
       "    </tr>\n",
       "    <tr>\n",
       "      <td>3</td>\n",
       "      <td>-114.6</td>\n",
       "      <td>33.6</td>\n",
       "      <td>14.0</td>\n",
       "      <td>1501.0</td>\n",
       "      <td>337.0</td>\n",
       "      <td>515.0</td>\n",
       "      <td>226.0</td>\n",
       "      <td>3.2</td>\n",
       "      <td>73400.0</td>\n",
       "    </tr>\n",
       "    <tr>\n",
       "      <td>4</td>\n",
       "      <td>-114.6</td>\n",
       "      <td>33.6</td>\n",
       "      <td>20.0</td>\n",
       "      <td>1454.0</td>\n",
       "      <td>326.0</td>\n",
       "      <td>624.0</td>\n",
       "      <td>262.0</td>\n",
       "      <td>1.9</td>\n",
       "      <td>65500.0</td>\n",
       "    </tr>\n",
       "  </tbody>\n",
       "</table>\n",
       "</div>"
      ],
      "text/plain": [
       "   longitude  latitude  housing_median_age  total_rooms  total_bedrooms  \\\n",
       "0     -114.3      34.2                15.0       5612.0          1283.0   \n",
       "1     -114.5      34.4                19.0       7650.0          1901.0   \n",
       "2     -114.6      33.7                17.0        720.0           174.0   \n",
       "3     -114.6      33.6                14.0       1501.0           337.0   \n",
       "4     -114.6      33.6                20.0       1454.0           326.0   \n",
       "\n",
       "   population  households  median_income  median_house_value  \n",
       "0      1015.0       472.0            1.5             66900.0  \n",
       "1      1129.0       463.0            1.8             80100.0  \n",
       "2       333.0       117.0            1.7             85700.0  \n",
       "3       515.0       226.0            3.2             73400.0  \n",
       "4       624.0       262.0            1.9             65500.0  "
      ]
     },
     "execution_count": 3,
     "metadata": {},
     "output_type": "execute_result"
    }
   ],
   "source": [
    "df.head()"
   ]
  },
  {
   "cell_type": "code",
   "execution_count": 4,
   "metadata": {},
   "outputs": [
    {
     "data": {
      "text/html": [
       "<div>\n",
       "<style scoped>\n",
       "    .dataframe tbody tr th:only-of-type {\n",
       "        vertical-align: middle;\n",
       "    }\n",
       "\n",
       "    .dataframe tbody tr th {\n",
       "        vertical-align: top;\n",
       "    }\n",
       "\n",
       "    .dataframe thead th {\n",
       "        text-align: right;\n",
       "    }\n",
       "</style>\n",
       "<table border=\"1\" class=\"dataframe\">\n",
       "  <thead>\n",
       "    <tr style=\"text-align: right;\">\n",
       "      <th></th>\n",
       "      <th>longitude</th>\n",
       "      <th>latitude</th>\n",
       "      <th>housing_median_age</th>\n",
       "      <th>total_rooms</th>\n",
       "      <th>total_bedrooms</th>\n",
       "      <th>population</th>\n",
       "      <th>households</th>\n",
       "      <th>median_income</th>\n",
       "      <th>median_house_value</th>\n",
       "    </tr>\n",
       "  </thead>\n",
       "  <tbody>\n",
       "    <tr>\n",
       "      <td>count</td>\n",
       "      <td>17000.0</td>\n",
       "      <td>17000.0</td>\n",
       "      <td>17000.0</td>\n",
       "      <td>17000.0</td>\n",
       "      <td>17000.0</td>\n",
       "      <td>17000.0</td>\n",
       "      <td>17000.0</td>\n",
       "      <td>17000.0</td>\n",
       "      <td>17000.0</td>\n",
       "    </tr>\n",
       "    <tr>\n",
       "      <td>mean</td>\n",
       "      <td>-119.6</td>\n",
       "      <td>35.6</td>\n",
       "      <td>28.6</td>\n",
       "      <td>2643.7</td>\n",
       "      <td>539.4</td>\n",
       "      <td>1429.6</td>\n",
       "      <td>501.2</td>\n",
       "      <td>3.9</td>\n",
       "      <td>207300.9</td>\n",
       "    </tr>\n",
       "    <tr>\n",
       "      <td>std</td>\n",
       "      <td>2.0</td>\n",
       "      <td>2.1</td>\n",
       "      <td>12.6</td>\n",
       "      <td>2179.9</td>\n",
       "      <td>421.5</td>\n",
       "      <td>1147.9</td>\n",
       "      <td>384.5</td>\n",
       "      <td>1.9</td>\n",
       "      <td>115983.8</td>\n",
       "    </tr>\n",
       "    <tr>\n",
       "      <td>min</td>\n",
       "      <td>-124.3</td>\n",
       "      <td>32.5</td>\n",
       "      <td>1.0</td>\n",
       "      <td>2.0</td>\n",
       "      <td>1.0</td>\n",
       "      <td>3.0</td>\n",
       "      <td>1.0</td>\n",
       "      <td>0.5</td>\n",
       "      <td>14999.0</td>\n",
       "    </tr>\n",
       "    <tr>\n",
       "      <td>25%</td>\n",
       "      <td>-121.8</td>\n",
       "      <td>33.9</td>\n",
       "      <td>18.0</td>\n",
       "      <td>1462.0</td>\n",
       "      <td>297.0</td>\n",
       "      <td>790.0</td>\n",
       "      <td>282.0</td>\n",
       "      <td>2.6</td>\n",
       "      <td>119400.0</td>\n",
       "    </tr>\n",
       "    <tr>\n",
       "      <td>50%</td>\n",
       "      <td>-118.5</td>\n",
       "      <td>34.2</td>\n",
       "      <td>29.0</td>\n",
       "      <td>2127.0</td>\n",
       "      <td>434.0</td>\n",
       "      <td>1167.0</td>\n",
       "      <td>409.0</td>\n",
       "      <td>3.5</td>\n",
       "      <td>180400.0</td>\n",
       "    </tr>\n",
       "    <tr>\n",
       "      <td>75%</td>\n",
       "      <td>-118.0</td>\n",
       "      <td>37.7</td>\n",
       "      <td>37.0</td>\n",
       "      <td>3151.2</td>\n",
       "      <td>648.2</td>\n",
       "      <td>1721.0</td>\n",
       "      <td>605.2</td>\n",
       "      <td>4.8</td>\n",
       "      <td>265000.0</td>\n",
       "    </tr>\n",
       "    <tr>\n",
       "      <td>max</td>\n",
       "      <td>-114.3</td>\n",
       "      <td>42.0</td>\n",
       "      <td>52.0</td>\n",
       "      <td>37937.0</td>\n",
       "      <td>6445.0</td>\n",
       "      <td>35682.0</td>\n",
       "      <td>6082.0</td>\n",
       "      <td>15.0</td>\n",
       "      <td>500001.0</td>\n",
       "    </tr>\n",
       "  </tbody>\n",
       "</table>\n",
       "</div>"
      ],
      "text/plain": [
       "       longitude  latitude  housing_median_age  total_rooms  total_bedrooms  \\\n",
       "count    17000.0   17000.0             17000.0      17000.0         17000.0   \n",
       "mean      -119.6      35.6                28.6       2643.7           539.4   \n",
       "std          2.0       2.1                12.6       2179.9           421.5   \n",
       "min       -124.3      32.5                 1.0          2.0             1.0   \n",
       "25%       -121.8      33.9                18.0       1462.0           297.0   \n",
       "50%       -118.5      34.2                29.0       2127.0           434.0   \n",
       "75%       -118.0      37.7                37.0       3151.2           648.2   \n",
       "max       -114.3      42.0                52.0      37937.0          6445.0   \n",
       "\n",
       "       population  households  median_income  median_house_value  \n",
       "count     17000.0     17000.0        17000.0             17000.0  \n",
       "mean       1429.6       501.2            3.9            207300.9  \n",
       "std        1147.9       384.5            1.9            115983.8  \n",
       "min           3.0         1.0            0.5             14999.0  \n",
       "25%         790.0       282.0            2.6            119400.0  \n",
       "50%        1167.0       409.0            3.5            180400.0  \n",
       "75%        1721.0       605.2            4.8            265000.0  \n",
       "max       35682.0      6082.0           15.0            500001.0  "
      ]
     },
     "execution_count": 4,
     "metadata": {},
     "output_type": "execute_result"
    }
   ],
   "source": [
    "df.describe()"
   ]
  },
  {
   "cell_type": "markdown",
   "metadata": {},
   "source": [
    "## Split The Data"
   ]
  },
  {
   "cell_type": "markdown",
   "metadata": {},
   "source": [
    "Now, split the data into two parts -- training and evaluation."
   ]
  },
  {
   "cell_type": "code",
   "execution_count": 5,
   "metadata": {},
   "outputs": [
    {
     "name": "stdout",
     "output_type": "stream",
     "text": [
      "Number Of Training Examples: 13612\n",
      "Number Of Evaluation Examples: 3388\n"
     ]
    }
   ],
   "source": [
    "np.random.seed(seed=1) #makes result reproducible\n",
    "msk = np.random.rand(len(df)) < 0.80\n",
    "df_train = df[msk]\n",
    "df_eval = df[~msk]\n",
    "\n",
    "print(\"Number Of Training Examples: {}\".format(len(df_train)))\n",
    "print(\"Number Of Evaluation Examples: {}\".format(len(df_eval)))"
   ]
  },
  {
   "cell_type": "markdown",
   "metadata": {},
   "source": [
    "## Training and Evaluation\n",
    "\n",
    "In this exercise, we'll be trying to predict **median_house_value** It will be our label (sometimes also called a target).\n",
    "\n",
    "We'll modify the feature_cols and input function to represent the features you want to use.\n",
    "\n",
    "Hint: Some of the features in the dataframe aren't directly correlated with median_house_value (e.g. total_rooms) but can you think of a column to divide it by that we would expect to be correlated with median_house_value?"
   ]
  },
  {
   "cell_type": "markdown",
   "metadata": {},
   "source": [
    "#### Add More Features:"
   ]
  },
  {
   "cell_type": "code",
   "execution_count": 6,
   "metadata": {},
   "outputs": [],
   "source": [
    "def add_more_features(df):\n",
    "    \"\"\"\n",
    "    This function will add more feture to our dataframe\n",
    "    \"\"\"\n",
    "    df[\"num_rooms\"] = df[\"total_rooms\"] / df[\"households\"]\n",
    "    df[\"num_bedrooms\"] = df[\"total_bedrooms\"] / df[\"households\"]\n",
    "    return df"
   ]
  },
  {
   "cell_type": "markdown",
   "metadata": {},
   "source": [
    "#### Create Feature's Columns:"
   ]
  },
  {
   "cell_type": "code",
   "execution_count": 12,
   "metadata": {},
   "outputs": [],
   "source": [
    "def create_features_cols():\n",
    "    return [\n",
    "        # As california Latitude between 32 and 42, So\n",
    "        tf.feature_column.bucketized_column(source_column=tf.feature_column.numeric_column(\"latitude\"), boundaries=np.arange(32.0, 42, 1).tolist()),\n",
    "        # As california Longitude between -124 and -114, So\n",
    "        tf.feature_column.bucketized_column(source_column=tf.feature_column.numeric_column(\"longitude\"), boundaries=np.arange(-124.0, -114, 1).tolist()),\n",
    "        tf.feature_column.numeric_column(\"housing_median_age\"),\n",
    "        tf.feature_column.numeric_column(\"num_rooms\"),\n",
    "        tf.feature_column.numeric_column(\"num_bedrooms\"),\n",
    "        tf.feature_column.numeric_column(\"median_income\")\n",
    "    ]"
   ]
  },
  {
   "cell_type": "markdown",
   "metadata": {},
   "source": [
    "#### Create Panda's Input Function:"
   ]
  },
  {
   "cell_type": "code",
   "execution_count": 8,
   "metadata": {},
   "outputs": [],
   "source": [
    "def make_input_fn(df, num_epochs):\n",
    "    return tf.compat.v1.estimator.inputs.pandas_input_fn(\n",
    "        x=add_more_features(df),\n",
    "        y=df[\"median_house_value\"] / 100000,\n",
    "        batch_size=128,\n",
    "        num_epochs=num_epochs,\n",
    "        shuffle=True,\n",
    "        queue_capacity=1000,\n",
    "        num_threads=1\n",
    "    )"
   ]
  },
  {
   "cell_type": "markdown",
   "metadata": {},
   "source": [
    "#### Create Estimator Train And Evaluate Function:"
   ]
  },
  {
   "cell_type": "code",
   "execution_count": 9,
   "metadata": {},
   "outputs": [],
   "source": [
    "def train_and_evaluate(output_dir, num_train_steps):\n",
    "    estimator = tf.compat.v1.estimator.LinearRegressor(\n",
    "        feature_columns=create_features_cols(),\n",
    "        model_dir=output_dir\n",
    "    )\n",
    "    \n",
    "    train_spec = tf.compat.v1.estimator.TrainSpec(\n",
    "        input_fn=make_input_fn(df_train, None),\n",
    "        max_steps=num_train_steps\n",
    "    )\n",
    "    \n",
    "    eval_spec =tf.compat.v1.estimator.EvalSpec(\n",
    "        input_fn=make_input_fn(df_eval, 1),\n",
    "        steps=None,\n",
    "        start_delay_secs = 1, # start evaluating after N seconds\n",
    "        throttle_secs = 5 # evaluate every N seconds\n",
    "    )\n",
    "    \n",
    "    tf.compat.v1.estimator.train_and_evaluate(\n",
    "        estimator=estimator,\n",
    "        train_spec=train_spec,\n",
    "        eval_spec=eval_spec\n",
    "    )"
   ]
  },
  {
   "cell_type": "markdown",
   "metadata": {},
   "source": [
    "## Launch Tensorboard"
   ]
  },
  {
   "cell_type": "code",
   "execution_count": 10,
   "metadata": {
    "scrolled": true
   },
   "outputs": [
    {
     "data": {
      "text/html": [
       "\n",
       "      <iframe id=\"tensorboard-frame-a7026440e1951d3a\" width=\"100%\" height=\"800\" frameborder=\"0\">\n",
       "      </iframe>\n",
       "      <script>\n",
       "        (function() {\n",
       "          const frame = document.getElementById(\"tensorboard-frame-a7026440e1951d3a\");\n",
       "          const url = new URL(\"/\", window.location);\n",
       "          url.port = 6006;\n",
       "          frame.src = url;\n",
       "        })();\n",
       "      </script>\n",
       "  "
      ],
      "text/plain": [
       "<IPython.core.display.HTML object>"
      ]
     },
     "metadata": {},
     "output_type": "display_data"
    }
   ],
   "source": [
    "OUTPUT_DIR = './trained_model'\n",
    "%tensorboard --logdir ./trained_model"
   ]
  },
  {
   "cell_type": "markdown",
   "metadata": {},
   "source": [
    "## Run The Training:"
   ]
  },
  {
   "cell_type": "code",
   "execution_count": 13,
   "metadata": {},
   "outputs": [
    {
     "name": "stdout",
     "output_type": "stream",
     "text": [
      "INFO:tensorflow:Using default config.\n",
      "INFO:tensorflow:Using config: {'_model_dir': './trained_model', '_tf_random_seed': None, '_save_summary_steps': 100, '_save_checkpoints_steps': None, '_save_checkpoints_secs': 600, '_session_config': allow_soft_placement: true\n",
      "graph_options {\n",
      "  rewrite_options {\n",
      "    meta_optimizer_iterations: ONE\n",
      "  }\n",
      "}\n",
      ", '_keep_checkpoint_max': 5, '_keep_checkpoint_every_n_hours': 10000, '_log_step_count_steps': 100, '_train_distribute': None, '_device_fn': None, '_protocol': None, '_eval_distribute': None, '_experimental_distribute': None, '_experimental_max_worker_delay_secs': None, '_session_creation_timeout_secs': 7200, '_service': None, '_cluster_spec': <tensorflow.python.training.server_lib.ClusterSpec object at 0x7fe244e30490>, '_task_type': 'worker', '_task_id': 0, '_global_id_in_cluster': 0, '_master': '', '_evaluation_master': '', '_is_chief': True, '_num_ps_replicas': 0, '_num_worker_replicas': 1}\n",
      "INFO:tensorflow:Not using Distribute Coordinator.\n",
      "INFO:tensorflow:Running training and evaluation locally (non-distributed).\n",
      "INFO:tensorflow:Start train and evaluate loop. The evaluate will happen after every checkpoint. Checkpoint frequency is determined based on RunConfig arguments: save_checkpoints_steps None or save_checkpoints_secs 600.\n",
      "INFO:tensorflow:Calling model_fn.\n",
      "WARNING:tensorflow:Layer linear_model is casting an input tensor from dtype float64 to the layer's dtype of float32, which is new behavior in TensorFlow 2.  The layer has dtype float32 because it's dtype defaults to floatx.\n",
      "\n",
      "If you intended to run this layer in float32, you can safely ignore this warning. If in doubt, this warning is likely only an issue if you are porting a TensorFlow 1.X model to TensorFlow 2.\n",
      "\n",
      "To change all layers to have dtype float64 by default, call `tf.keras.backend.set_floatx('float64')`. To change just this layer, pass dtype='float64' to the layer constructor. If you are the author of this layer, you can disable autocasting by passing autocast=False to the base Layer constructor.\n",
      "\n",
      "INFO:tensorflow:Done calling model_fn.\n",
      "INFO:tensorflow:Create CheckpointSaverHook.\n"
     ]
    },
    {
     "name": "stderr",
     "output_type": "stream",
     "text": [
      "/home/mujahid7292/anaconda3/lib/python3.7/site-packages/ipykernel_launcher.py:5: SettingWithCopyWarning: \n",
      "A value is trying to be set on a copy of a slice from a DataFrame.\n",
      "Try using .loc[row_indexer,col_indexer] = value instead\n",
      "\n",
      "See the caveats in the documentation: http://pandas.pydata.org/pandas-docs/stable/user_guide/indexing.html#returning-a-view-versus-a-copy\n",
      "  \"\"\"\n",
      "/home/mujahid7292/anaconda3/lib/python3.7/site-packages/ipykernel_launcher.py:6: SettingWithCopyWarning: \n",
      "A value is trying to be set on a copy of a slice from a DataFrame.\n",
      "Try using .loc[row_indexer,col_indexer] = value instead\n",
      "\n",
      "See the caveats in the documentation: http://pandas.pydata.org/pandas-docs/stable/user_guide/indexing.html#returning-a-view-versus-a-copy\n",
      "  \n"
     ]
    },
    {
     "name": "stdout",
     "output_type": "stream",
     "text": [
      "INFO:tensorflow:Graph was finalized.\n",
      "INFO:tensorflow:Running local_init_op.\n",
      "INFO:tensorflow:Done running local_init_op.\n",
      "INFO:tensorflow:Saving checkpoints for 0 into ./trained_model/model.ckpt.\n",
      "INFO:tensorflow:loss = 878.85846, step = 0\n",
      "INFO:tensorflow:global_step/sec: 315.187\n",
      "INFO:tensorflow:loss = 61.196854, step = 100 (0.320 sec)\n",
      "INFO:tensorflow:global_step/sec: 284.969\n",
      "INFO:tensorflow:loss = 58.887238, step = 200 (0.349 sec)\n",
      "INFO:tensorflow:global_step/sec: 274.167\n",
      "INFO:tensorflow:loss = 159.2143, step = 300 (0.366 sec)\n",
      "INFO:tensorflow:global_step/sec: 366.836\n",
      "INFO:tensorflow:loss = 265.65558, step = 400 (0.275 sec)\n",
      "INFO:tensorflow:global_step/sec: 280.202\n",
      "INFO:tensorflow:loss = 198.5219, step = 500 (0.357 sec)\n",
      "INFO:tensorflow:global_step/sec: 345.207\n",
      "INFO:tensorflow:loss = 150.45772, step = 600 (0.287 sec)\n",
      "INFO:tensorflow:global_step/sec: 294.403\n",
      "INFO:tensorflow:loss = 84.50345, step = 700 (0.339 sec)\n",
      "INFO:tensorflow:global_step/sec: 361.69\n",
      "INFO:tensorflow:loss = 102.92279, step = 800 (0.278 sec)\n",
      "INFO:tensorflow:global_step/sec: 398.459\n",
      "INFO:tensorflow:loss = 88.737076, step = 900 (0.250 sec)\n",
      "INFO:tensorflow:global_step/sec: 406.012\n",
      "INFO:tensorflow:loss = 240.36891, step = 1000 (0.247 sec)\n",
      "INFO:tensorflow:global_step/sec: 394.348\n",
      "INFO:tensorflow:loss = 158.2344, step = 1100 (0.254 sec)\n",
      "INFO:tensorflow:global_step/sec: 298.871\n",
      "INFO:tensorflow:loss = 59.46782, step = 1200 (0.334 sec)\n",
      "INFO:tensorflow:global_step/sec: 332.227\n",
      "INFO:tensorflow:loss = 209.67148, step = 1300 (0.301 sec)\n",
      "INFO:tensorflow:global_step/sec: 400.206\n",
      "INFO:tensorflow:loss = 244.09198, step = 1400 (0.249 sec)\n",
      "INFO:tensorflow:global_step/sec: 395.843\n",
      "INFO:tensorflow:loss = 266.4547, step = 1500 (0.253 sec)\n",
      "INFO:tensorflow:global_step/sec: 377.306\n",
      "INFO:tensorflow:loss = 178.20033, step = 1600 (0.267 sec)\n",
      "INFO:tensorflow:global_step/sec: 271.657\n",
      "INFO:tensorflow:loss = 102.96627, step = 1700 (0.366 sec)\n",
      "INFO:tensorflow:global_step/sec: 361.653\n",
      "INFO:tensorflow:loss = 39.50509, step = 1800 (0.277 sec)\n",
      "INFO:tensorflow:global_step/sec: 284.673\n",
      "INFO:tensorflow:loss = 67.66785, step = 1900 (0.353 sec)\n",
      "INFO:tensorflow:global_step/sec: 383.012\n",
      "INFO:tensorflow:loss = 176.1383, step = 2000 (0.261 sec)\n",
      "INFO:tensorflow:global_step/sec: 397.01\n",
      "INFO:tensorflow:loss = 182.02722, step = 2100 (0.252 sec)\n",
      "INFO:tensorflow:global_step/sec: 398.123\n",
      "INFO:tensorflow:loss = 185.83493, step = 2200 (0.251 sec)\n",
      "INFO:tensorflow:global_step/sec: 300.544\n",
      "INFO:tensorflow:loss = 75.26218, step = 2300 (0.338 sec)\n",
      "INFO:tensorflow:global_step/sec: 370.771\n",
      "INFO:tensorflow:loss = 122.96553, step = 2400 (0.265 sec)\n",
      "INFO:tensorflow:global_step/sec: 390.901\n",
      "INFO:tensorflow:loss = 114.21337, step = 2500 (0.256 sec)\n",
      "INFO:tensorflow:global_step/sec: 390.059\n",
      "INFO:tensorflow:loss = 118.72241, step = 2600 (0.256 sec)\n",
      "INFO:tensorflow:global_step/sec: 312.831\n",
      "INFO:tensorflow:loss = 135.11903, step = 2700 (0.320 sec)\n",
      "INFO:tensorflow:global_step/sec: 392.011\n",
      "INFO:tensorflow:loss = 187.75076, step = 2800 (0.255 sec)\n",
      "INFO:tensorflow:global_step/sec: 316.445\n",
      "INFO:tensorflow:loss = 75.23956, step = 2900 (0.316 sec)\n",
      "INFO:tensorflow:global_step/sec: 389.205\n",
      "INFO:tensorflow:loss = 195.2354, step = 3000 (0.258 sec)\n",
      "INFO:tensorflow:global_step/sec: 313.714\n",
      "INFO:tensorflow:loss = 225.05014, step = 3100 (0.319 sec)\n",
      "INFO:tensorflow:global_step/sec: 400.099\n",
      "INFO:tensorflow:loss = 204.33786, step = 3200 (0.249 sec)\n",
      "INFO:tensorflow:global_step/sec: 325.819\n",
      "INFO:tensorflow:loss = 174.80394, step = 3300 (0.307 sec)\n",
      "INFO:tensorflow:global_step/sec: 307.747\n",
      "INFO:tensorflow:loss = 56.936, step = 3400 (0.326 sec)\n",
      "INFO:tensorflow:global_step/sec: 391.594\n",
      "INFO:tensorflow:loss = 48.86091, step = 3500 (0.254 sec)\n",
      "INFO:tensorflow:global_step/sec: 396.185\n",
      "INFO:tensorflow:loss = 91.58917, step = 3600 (0.251 sec)\n",
      "INFO:tensorflow:global_step/sec: 316.677\n",
      "INFO:tensorflow:loss = 237.85684, step = 3700 (0.318 sec)\n",
      "INFO:tensorflow:global_step/sec: 374.603\n",
      "INFO:tensorflow:loss = 207.72908, step = 3800 (0.266 sec)\n",
      "INFO:tensorflow:global_step/sec: 369.984\n",
      "INFO:tensorflow:loss = 160.20256, step = 3900 (0.271 sec)\n",
      "INFO:tensorflow:global_step/sec: 343.112\n",
      "INFO:tensorflow:loss = 123.23587, step = 4000 (0.291 sec)\n",
      "INFO:tensorflow:global_step/sec: 300.825\n",
      "INFO:tensorflow:loss = 112.9937, step = 4100 (0.332 sec)\n",
      "INFO:tensorflow:global_step/sec: 343.327\n",
      "INFO:tensorflow:loss = 112.66257, step = 4200 (0.294 sec)\n",
      "INFO:tensorflow:global_step/sec: 308.084\n",
      "INFO:tensorflow:loss = 196.87521, step = 4300 (0.325 sec)\n",
      "INFO:tensorflow:global_step/sec: 317.959\n",
      "INFO:tensorflow:loss = 126.6016, step = 4400 (0.315 sec)\n",
      "INFO:tensorflow:global_step/sec: 329.67\n",
      "INFO:tensorflow:loss = 121.86734, step = 4500 (0.300 sec)\n",
      "INFO:tensorflow:global_step/sec: 358.357\n",
      "INFO:tensorflow:loss = 123.19597, step = 4600 (0.279 sec)\n",
      "INFO:tensorflow:global_step/sec: 300.265\n",
      "INFO:tensorflow:loss = 164.71118, step = 4700 (0.333 sec)\n",
      "INFO:tensorflow:global_step/sec: 321.519\n",
      "INFO:tensorflow:loss = 174.80853, step = 4800 (0.313 sec)\n",
      "INFO:tensorflow:global_step/sec: 376.001\n",
      "INFO:tensorflow:loss = 188.02939, step = 4900 (0.263 sec)\n",
      "INFO:tensorflow:Saving checkpoints for 5000 into ./trained_model/model.ckpt.\n",
      "INFO:tensorflow:Calling model_fn.\n",
      "WARNING:tensorflow:Layer linear_model is casting an input tensor from dtype float64 to the layer's dtype of float32, which is new behavior in TensorFlow 2.  The layer has dtype float32 because it's dtype defaults to floatx.\n",
      "\n",
      "If you intended to run this layer in float32, you can safely ignore this warning. If in doubt, this warning is likely only an issue if you are porting a TensorFlow 1.X model to TensorFlow 2.\n",
      "\n",
      "To change all layers to have dtype float64 by default, call `tf.keras.backend.set_floatx('float64')`. To change just this layer, pass dtype='float64' to the layer constructor. If you are the author of this layer, you can disable autocasting by passing autocast=False to the base Layer constructor.\n",
      "\n",
      "INFO:tensorflow:Done calling model_fn.\n",
      "INFO:tensorflow:Starting evaluation at 2019-12-13T09:53:10Z\n",
      "INFO:tensorflow:Graph was finalized.\n",
      "INFO:tensorflow:Restoring parameters from ./trained_model/model.ckpt-5000\n",
      "INFO:tensorflow:Running local_init_op.\n",
      "INFO:tensorflow:Done running local_init_op.\n",
      "INFO:tensorflow:Finished evaluation at 2019-12-13-09:53:10\n",
      "INFO:tensorflow:Saving dict for global step 5000: average_loss = 1.5078051, global_step = 5000, label/mean = 2.0454626, loss = 189.20163, prediction/mean = 1.6572627\n",
      "INFO:tensorflow:Saving 'checkpoint_path' summary for global step 5000: ./trained_model/model.ckpt-5000\n",
      "INFO:tensorflow:Loss for final step: 120.96176.\n"
     ]
    }
   ],
   "source": [
    "shutil.rmtree(path=OUTPUT_DIR,ignore_errors=True)# start fresh each time\n",
    "tf.compat.v1.summary.FileWriterCache.clear()# ensure filewriter cache is clear for TensorBoard events file\n",
    "train_and_evaluate(output_dir=OUTPUT_DIR,num_train_steps=5000)"
   ]
  },
  {
   "cell_type": "code",
   "execution_count": null,
   "metadata": {},
   "outputs": [],
   "source": []
  }
 ],
 "metadata": {
  "kernelspec": {
   "display_name": "Python 3",
   "language": "python",
   "name": "python3"
  },
  "language_info": {
   "codemirror_mode": {
    "name": "ipython",
    "version": 3
   },
   "file_extension": ".py",
   "mimetype": "text/x-python",
   "name": "python",
   "nbconvert_exporter": "python",
   "pygments_lexer": "ipython3",
   "version": "3.7.4"
  }
 },
 "nbformat": 4,
 "nbformat_minor": 2
}
