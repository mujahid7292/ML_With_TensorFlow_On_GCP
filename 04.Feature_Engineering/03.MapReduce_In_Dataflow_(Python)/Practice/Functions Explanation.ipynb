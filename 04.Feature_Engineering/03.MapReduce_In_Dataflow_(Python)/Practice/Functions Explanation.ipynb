{
 "cells": [
  {
   "cell_type": "code",
   "execution_count": 1,
   "metadata": {},
   "outputs": [],
   "source": [
    "import argparse"
   ]
  },
  {
   "cell_type": "code",
   "execution_count": 2,
   "metadata": {},
   "outputs": [],
   "source": [
    "def startswith(line, term):\n",
    "    if line.startswith(term):\n",
    "        yield line\n",
    "    else:\n",
    "        yield \"Nothing\""
   ]
  },
  {
   "cell_type": "code",
   "execution_count": 3,
   "metadata": {},
   "outputs": [
    {
     "name": "stdout",
     "output_type": "stream",
     "text": [
      "Nothing\n"
     ]
    }
   ],
   "source": [
    "line = startswith(\"org.apache.beam.sdk.options.PipelineOptionsFactory;\",\"import\")\n",
    "print(next(line))"
   ]
  },
  {
   "cell_type": "code",
   "execution_count": 4,
   "metadata": {},
   "outputs": [
    {
     "name": "stdout",
     "output_type": "stream",
     "text": [
      "import org.apache.beam.sdk.options.PipelineOptionsFactory;\n"
     ]
    }
   ],
   "source": [
    "line = startswith(\"import org.apache.beam.sdk.options.PipelineOptionsFactory;\",\"import\")\n",
    "print(next(line))"
   ]
  },
  {
   "cell_type": "code",
   "execution_count": 5,
   "metadata": {},
   "outputs": [],
   "source": [
    "def splitPackageName(packageName):\n",
    "    \"\"\"e.g. given com.example.appname.library.widgetname\n",
    "           returns com\n",
    "\t           com.example\n",
    "                   com.example.appname\n",
    "      etc.\n",
    "    \"\"\"\n",
    "    # Create A Dictionary Which Will Store Individual Word\n",
    "    results = []\n",
    "    # Now find out the number of letter before the first (.) dot in the package name\n",
    "    end = packageName.find('.')\n",
    "    print('Number Of Letter Before The First Dot In The Package Name: {}'.format(end))\n",
    "    \n",
    "    # Now run the while loop if the number of letter is more than 0\n",
    "    while end > 0:\n",
    "        results.append(packageName[0:end])\n",
    "        print(\"This name ({}) was added to the dictionary\".format(packageName[0:end]))\n",
    "        # Now find out the number of letter before next dot\n",
    "        end = packageName.find('.',end+1)\n",
    "        print('Number Of Letter From First Dot To This Dot: {}'.format(end))\n",
    "    print('Got Out From While Loop')\n",
    "    results.append(packageName)\n",
    "    return results\n",
    "    "
   ]
  },
  {
   "cell_type": "code",
   "execution_count": 6,
   "metadata": {},
   "outputs": [
    {
     "name": "stdout",
     "output_type": "stream",
     "text": [
      "Number Of Letter Before The First Dot In The Package Name: 3\n",
      "This name (com) was added to the dictionary\n",
      "Number Of Letter From First Dot To This Dot: 11\n",
      "This name (com.example) was added to the dictionary\n",
      "Number Of Letter From First Dot To This Dot: 19\n",
      "This name (com.example.appname) was added to the dictionary\n",
      "Number Of Letter From First Dot To This Dot: 27\n",
      "This name (com.example.appname.library) was added to the dictionary\n",
      "Number Of Letter From First Dot To This Dot: -1\n",
      "Got Out From While Loop\n"
     ]
    }
   ],
   "source": [
    "results = splitPackageName('com.example.appname.library.widgetname')"
   ]
  },
  {
   "cell_type": "code",
   "execution_count": 7,
   "metadata": {},
   "outputs": [
    {
     "name": "stdout",
     "output_type": "stream",
     "text": [
      "['com', 'com.example', 'com.example.appname', 'com.example.appname.library', 'com.example.appname.library.widgetname']\n"
     ]
    }
   ],
   "source": [
    "print(results)"
   ]
  },
  {
   "cell_type": "code",
   "execution_count": 8,
   "metadata": {},
   "outputs": [],
   "source": [
    "def getPackages(line, keyword):\n",
    "    \"\"\"\n",
    "    \"\"\"\n",
    "    position = line.find(keyword)\n",
    "    print('position: {}'.format(position))\n",
    "    start = line.find(keyword) + len(keyword)\n",
    "    print('start = {}'.format(start))\n",
    "    end = line.find(';',start)\n",
    "    print('end = {}'.format(end))\n",
    "    if start < end:\n",
    "        packageName = line[start:end].strip()\n",
    "        print('packageName: {}'.format(packageName))\n",
    "        return splitPackageName(packageName)\n",
    "    return []"
   ]
  },
  {
   "cell_type": "code",
   "execution_count": 9,
   "metadata": {},
   "outputs": [
    {
     "name": "stdout",
     "output_type": "stream",
     "text": [
      "position: 0\n",
      "start = 6\n",
      "end = 57\n",
      "packageName: org.apache.beam.sdk.options.PipelineOptionsFactory\n",
      "Number Of Letter Before The First Dot In The Package Name: 3\n",
      "This name (org) was added to the dictionary\n",
      "Number Of Letter From First Dot To This Dot: 10\n",
      "This name (org.apache) was added to the dictionary\n",
      "Number Of Letter From First Dot To This Dot: 15\n",
      "This name (org.apache.beam) was added to the dictionary\n",
      "Number Of Letter From First Dot To This Dot: 19\n",
      "This name (org.apache.beam.sdk) was added to the dictionary\n",
      "Number Of Letter From First Dot To This Dot: 27\n",
      "This name (org.apache.beam.sdk.options) was added to the dictionary\n",
      "Number Of Letter From First Dot To This Dot: -1\n",
      "Got Out From While Loop\n"
     ]
    },
    {
     "data": {
      "text/plain": [
       "['org',\n",
       " 'org.apache',\n",
       " 'org.apache.beam',\n",
       " 'org.apache.beam.sdk',\n",
       " 'org.apache.beam.sdk.options',\n",
       " 'org.apache.beam.sdk.options.PipelineOptionsFactory']"
      ]
     },
     "execution_count": 9,
     "metadata": {},
     "output_type": "execute_result"
    }
   ],
   "source": [
    "getPackages('import org.apache.beam.sdk.options.PipelineOptionsFactory;','import')"
   ]
  },
  {
   "cell_type": "code",
   "execution_count": 10,
   "metadata": {},
   "outputs": [],
   "source": [
    "def packageUse(line, keyword):\n",
    "    \"\"\"\n",
    "    \"\"\"\n",
    "    packages = getPackages(line, keyword)\n",
    "    print('Size of packages: {}'.format(len(packages)))\n",
    "    print('And those Packages Are: ')\n",
    "    for p in packages:\n",
    "        print('Yielded Package Name: {}'.format(p))\n",
    "        yield (p,1)  "
   ]
  },
  {
   "cell_type": "code",
   "execution_count": 11,
   "metadata": {},
   "outputs": [
    {
     "name": "stdout",
     "output_type": "stream",
     "text": [
      "position: 0\n",
      "start = 6\n",
      "end = 57\n",
      "packageName: org.apache.beam.sdk.options.PipelineOptionsFactory\n",
      "Number Of Letter Before The First Dot In The Package Name: 3\n",
      "This name (org) was added to the dictionary\n",
      "Number Of Letter From First Dot To This Dot: 10\n",
      "This name (org.apache) was added to the dictionary\n",
      "Number Of Letter From First Dot To This Dot: 15\n",
      "This name (org.apache.beam) was added to the dictionary\n",
      "Number Of Letter From First Dot To This Dot: 19\n",
      "This name (org.apache.beam.sdk) was added to the dictionary\n",
      "Number Of Letter From First Dot To This Dot: 27\n",
      "This name (org.apache.beam.sdk.options) was added to the dictionary\n",
      "Number Of Letter From First Dot To This Dot: -1\n",
      "Got Out From While Loop\n",
      "Size of packages: 6\n",
      "And those Packages Are: \n",
      "Yielded Package Name: org\n"
     ]
    },
    {
     "data": {
      "text/plain": [
       "('org', 1)"
      ]
     },
     "execution_count": 11,
     "metadata": {},
     "output_type": "execute_result"
    }
   ],
   "source": [
    "results = packageUse('import org.apache.beam.sdk.options.PipelineOptionsFactory;','import')\n",
    "next(results)"
   ]
  },
  {
   "cell_type": "code",
   "execution_count": 13,
   "metadata": {},
   "outputs": [
    {
     "name": "stdout",
     "output_type": "stream",
     "text": [
      "options = Namespace(input='./data/*java', output_prefix='./output')\n",
      "pipeline_args = ['-f', '/home/mujahid7292/.local/share/jupyter/runtime/kernel-6ab69a6b-fae3-4735-a97d-935db8638e2e.json']\n"
     ]
    }
   ],
   "source": [
    "parser = argparse.ArgumentParser(description='Find the most used java packages')\n",
    "parser.add_argument(\n",
    "    '--output_prefix',\n",
    "    default='./output',\n",
    "    help='Output Prefix'\n",
    ")\n",
    "\n",
    "parser.add_argument(\n",
    "    '--input',\n",
    "    default='./data/*java',\n",
    "     help='Input Directory'\n",
    ")\n",
    "\n",
    "options, pipeline_args = parser.parse_known_args()\n",
    "print('options = {}'.format(options))\n",
    "print('pipeline_args = {}'.format(pipeline_args))"
   ]
  },
  {
   "cell_type": "code",
   "execution_count": null,
   "metadata": {},
   "outputs": [],
   "source": []
  }
 ],
 "metadata": {
  "kernelspec": {
   "display_name": "Python 3",
   "language": "python",
   "name": "python3"
  },
  "language_info": {
   "codemirror_mode": {
    "name": "ipython",
    "version": 3
   },
   "file_extension": ".py",
   "mimetype": "text/x-python",
   "name": "python",
   "nbconvert_exporter": "python",
   "pygments_lexer": "ipython3",
   "version": "3.7.4"
  }
 },
 "nbformat": 4,
 "nbformat_minor": 2
}
