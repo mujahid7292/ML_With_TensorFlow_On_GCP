{
 "cells": [
  {
   "cell_type": "code",
   "execution_count": 1,
   "metadata": {},
   "outputs": [
    {
     "name": "stdout",
     "output_type": "stream",
     "text": [
      "Available kernels:\n",
      "  python3    /home/mujahid7292/anaconda3/share/jupyter/kernels/python3\n"
     ]
    }
   ],
   "source": [
    "%%bash\n",
    "jupyter kernelspec list"
   ]
  },
  {
   "cell_type": "code",
   "execution_count": 2,
   "metadata": {},
   "outputs": [],
   "source": [
    "import os\n",
    "PROJECT = 'ml-practice-260405'\n",
    "BUCKET = 'buck_ml-practice-260405'\n",
    "REGION = 'us-central1'"
   ]
  },
  {
   "cell_type": "code",
   "execution_count": 3,
   "metadata": {},
   "outputs": [],
   "source": [
    "# For Bash Code\n",
    "os.environ['PROJECT'] = PROJECT\n",
    "os.environ['BUCKET'] = BUCKET\n",
    "os.environ['REGION'] = REGION"
   ]
  },
  {
   "cell_type": "code",
   "execution_count": 4,
   "metadata": {},
   "outputs": [
    {
     "name": "stderr",
     "output_type": "stream",
     "text": [
      "Updated property [core/project].\n",
      "Updated property [compute/region].\n"
     ]
    }
   ],
   "source": [
    "%%bash\n",
    "gcloud config set project $PROJECT\n",
    "gcloud config set compute/region $REGION"
   ]
  },
  {
   "cell_type": "markdown",
   "metadata": {},
   "source": [
    "## Create The Bucket"
   ]
  },
  {
   "cell_type": "code",
   "execution_count": 7,
   "metadata": {},
   "outputs": [
    {
     "name": "stderr",
     "output_type": "stream",
     "text": [
      "Creating gs://buck_ml-practice-260405/...\n"
     ]
    }
   ],
   "source": [
    "%%bash\n",
    "gsutil mb -l ${REGION} -p ${PROJECT} gs://${BUCKET}"
   ]
  },
  {
   "cell_type": "markdown",
   "metadata": {},
   "source": [
    "## Move Data From Local Computer To Cloud"
   ]
  },
  {
   "cell_type": "code",
   "execution_count": 6,
   "metadata": {},
   "outputs": [
    {
     "name": "stdout",
     "output_type": "stream",
     "text": [
      "buck_ml-practice-260405\n"
     ]
    },
    {
     "name": "stderr",
     "output_type": "stream",
     "text": [
      "CommandException: 1 files/objects could not be removed.\n",
      "Copying file:///media/mujahid7292/Data/GoogleDriveSandCorp2014/ML_With_TensorFlow_On_GCP/04.Feature_Engineering/02.A_Simple_Dataflow_Pipeline_(Python)/Practice/Cloud_Pipeline/data/Grep.java [Content-Type=text/x-java]...\n",
      "Copying file:///media/mujahid7292/Data/GoogleDriveSandCorp2014/ML_With_TensorFlow_On_GCP/04.Feature_Engineering/02.A_Simple_Dataflow_Pipeline_(Python)/Practice/Cloud_Pipeline/data/JavaProjectsThatNeedHelp.java [Content-Type=text/x-java]...\n",
      "Copying file:///media/mujahid7292/Data/GoogleDriveSandCorp2014/ML_With_TensorFlow_On_GCP/04.Feature_Engineering/02.A_Simple_Dataflow_Pipeline_(Python)/Practice/Cloud_Pipeline/data/StreamDemoConsumer.java [Content-Type=text/x-java]...\n",
      "Copying file:///media/mujahid7292/Data/GoogleDriveSandCorp2014/ML_With_TensorFlow_On_GCP/04.Feature_Engineering/02.A_Simple_Dataflow_Pipeline_(Python)/Practice/Cloud_Pipeline/data/IsPopular.java [Content-Type=text/x-java]...\n",
      "/ [0/4 files][    0.0 B/ 17.2 KiB]   0% Done                                    \r",
      "/ [0/4 files][    0.0 B/ 17.2 KiB]   0% Done                                    \r",
      "/ [0/4 files][    0.0 B/ 17.2 KiB]   0% Done                                    \r",
      "/ [0/4 files][    0.0 B/ 17.2 KiB]   0% Done                                    \r",
      "-\r",
      "- [1/4 files][ 17.2 KiB/ 17.2 KiB]  99% Done                                    \r",
      "- [2/4 files][ 17.2 KiB/ 17.2 KiB]  99% Done                                    \r",
      "- [3/4 files][ 17.2 KiB/ 17.2 KiB]  99% Done                                    \r",
      "\\\r",
      "\\ [4/4 files][ 17.2 KiB/ 17.2 KiB] 100% Done                                    \r\n",
      "Operation completed over 4 objects/17.2 KiB.                                     \n"
     ]
    }
   ],
   "source": [
    "%%bash\n",
    "# Clear Cloud Storage bucket and copy the java files to Cloud Storage bucket\n",
    "echo $BUCKET\n",
    "gsutil -m rm -rf gs://${BUCKET}/data/\n",
    "gsutil -m cp ${PWD}/data/*.java gs://${BUCKET}/data/"
   ]
  },
  {
   "cell_type": "code",
   "execution_count": null,
   "metadata": {},
   "outputs": [],
   "source": []
  }
 ],
 "metadata": {
  "kernelspec": {
   "display_name": "Python 3",
   "language": "python",
   "name": "python3"
  },
  "language_info": {
   "codemirror_mode": {
    "name": "ipython",
    "version": 3
   },
   "file_extension": ".py",
   "mimetype": "text/x-python",
   "name": "python",
   "nbconvert_exporter": "python",
   "pygments_lexer": "ipython3",
   "version": "3.7.4"
  }
 },
 "nbformat": 4,
 "nbformat_minor": 2
}
