{
 "cells": [
  {
   "cell_type": "code",
   "execution_count": 8,
   "metadata": {},
   "outputs": [],
   "source": [
    "import os\n",
    "from google.cloud import bigquery\n",
    "import pandas as pd"
   ]
  },
  {
   "cell_type": "markdown",
   "metadata": {},
   "source": [
    "# Authenticate BigQuery:"
   ]
  },
  {
   "cell_type": "code",
   "execution_count": 9,
   "metadata": {},
   "outputs": [],
   "source": [
    "import os\n",
    "os.environ[\"GOOGLE_APPLICATION_CREDENTIALS\"]=\"/media/mujahid7292/Data/GOOGLE_SERVICE_ACCOUNT_SANDCORP2014/ML-Practice-0f3bae5b7b0d.json\""
   ]
  },
  {
   "cell_type": "markdown",
   "metadata": {},
   "source": [
    "# Example: 1"
   ]
  },
  {
   "cell_type": "code",
   "execution_count": 10,
   "metadata": {},
   "outputs": [],
   "source": [
    "query=\"\"\"\n",
    "SELECT\n",
    "    departure_delay,\n",
    "    COUNT(1) AS num_flights,\n",
    "    APPROX_QUANTILES(arrival_delay, 5) AS arrival_delay_deciles\n",
    "FROM\n",
    "    `bigquery-samples.airline_ontime_data.flights`\n",
    "GROUP BY\n",
    "    departure_delay\n",
    "HAVING\n",
    "    num_flights > 100\n",
    "ORDER BY\n",
    "    departure_delay ASC\n",
    "\"\"\""
   ]
  },
  {
   "cell_type": "code",
   "execution_count": 11,
   "metadata": {},
   "outputs": [
    {
     "data": {
      "text/html": [
       "<div>\n",
       "<style scoped>\n",
       "    .dataframe tbody tr th:only-of-type {\n",
       "        vertical-align: middle;\n",
       "    }\n",
       "\n",
       "    .dataframe tbody tr th {\n",
       "        vertical-align: top;\n",
       "    }\n",
       "\n",
       "    .dataframe thead th {\n",
       "        text-align: right;\n",
       "    }\n",
       "</style>\n",
       "<table border=\"1\" class=\"dataframe\">\n",
       "  <thead>\n",
       "    <tr style=\"text-align: right;\">\n",
       "      <th></th>\n",
       "      <th>departure_delay</th>\n",
       "      <th>num_flights</th>\n",
       "      <th>arrival_delay_deciles</th>\n",
       "    </tr>\n",
       "  </thead>\n",
       "  <tbody>\n",
       "    <tr>\n",
       "      <td>0</td>\n",
       "      <td>-37.0</td>\n",
       "      <td>107</td>\n",
       "      <td>[-66.0, -41.0, -30.0, -17.0, -3.0, 33.0]</td>\n",
       "    </tr>\n",
       "    <tr>\n",
       "      <td>1</td>\n",
       "      <td>-36.0</td>\n",
       "      <td>139</td>\n",
       "      <td>[-74.0, -39.0, -32.0, -18.0, -7.0, 49.0]</td>\n",
       "    </tr>\n",
       "    <tr>\n",
       "      <td>2</td>\n",
       "      <td>-35.0</td>\n",
       "      <td>191</td>\n",
       "      <td>[-68.0, -40.0, -28.0, -14.0, -4.0, 85.0]</td>\n",
       "    </tr>\n",
       "    <tr>\n",
       "      <td>3</td>\n",
       "      <td>-34.0</td>\n",
       "      <td>195</td>\n",
       "      <td>[-58.0, -40.0, -30.0, -19.0, -8.0, 39.0]</td>\n",
       "    </tr>\n",
       "    <tr>\n",
       "      <td>4</td>\n",
       "      <td>-33.0</td>\n",
       "      <td>227</td>\n",
       "      <td>[-59.0, -39.0, -32.0, -20.0, -7.0, 25.0]</td>\n",
       "    </tr>\n",
       "  </tbody>\n",
       "</table>\n",
       "</div>"
      ],
      "text/plain": [
       "   departure_delay  num_flights                     arrival_delay_deciles\n",
       "0            -37.0          107  [-66.0, -41.0, -30.0, -17.0, -3.0, 33.0]\n",
       "1            -36.0          139  [-74.0, -39.0, -32.0, -18.0, -7.0, 49.0]\n",
       "2            -35.0          191  [-68.0, -40.0, -28.0, -14.0, -4.0, 85.0]\n",
       "3            -34.0          195  [-58.0, -40.0, -30.0, -19.0, -8.0, 39.0]\n",
       "4            -33.0          227  [-59.0, -39.0, -32.0, -20.0, -7.0, 25.0]"
      ]
     },
     "execution_count": 11,
     "metadata": {},
     "output_type": "execute_result"
    }
   ],
   "source": [
    "df = bigquery.Client().query(query).to_dataframe()\n",
    "df.head()"
   ]
  },
  {
   "cell_type": "code",
   "execution_count": null,
   "metadata": {},
   "outputs": [],
   "source": [
    "percentiles = df['arrival_delay_deciles'].apply(pd.Series)\n",
    "percentiles = percentiles.rename(columns = lambda x : str(x*10) + \"%\")\n",
    "df = pd.concat([df['departure_delay'], percentiles], axis=1)\n",
    "df.head()"
   ]
  },
  {
   "cell_type": "code",
   "execution_count": null,
   "metadata": {},
   "outputs": [],
   "source": [
    "without_extremes = df.drop(['0%', '50%'], 1)\n",
    "without_extremes.plot(x='departure_delay', xlim=(-30,50), ylim=(-50,50));"
   ]
  },
  {
   "cell_type": "code",
   "execution_count": null,
   "metadata": {},
   "outputs": [],
   "source": []
  }
 ],
 "metadata": {
  "kernelspec": {
   "display_name": "Python 3",
   "language": "python",
   "name": "python3"
  },
  "language_info": {
   "codemirror_mode": {
    "name": "ipython",
    "version": 3
   },
   "file_extension": ".py",
   "mimetype": "text/x-python",
   "name": "python",
   "nbconvert_exporter": "python",
   "pygments_lexer": "ipython3",
   "version": "3.7.4"
  }
 },
 "nbformat": 4,
 "nbformat_minor": 2
}
